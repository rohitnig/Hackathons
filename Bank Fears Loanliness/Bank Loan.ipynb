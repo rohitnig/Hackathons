{
 "cells": [
  {
   "cell_type": "code",
   "execution_count": 1,
   "metadata": {},
   "outputs": [],
   "source": [
    "import pandas as pd\n",
    "import numpy as np\n",
    "import seaborn as sns\n",
    "import matplotlib.pyplot as plt"
   ]
  },
  {
   "cell_type": "code",
   "execution_count": 2,
   "metadata": {},
   "outputs": [],
   "source": [
    "from sklearn.ensemble import AdaBoostClassifier, RandomForestClassifier, GradientBoostingClassifier, VotingClassifier, ExtraTreesClassifier\n",
    "from sklearn.model_selection import train_test_split\n",
    "from sklearn.preprocessing import MinMaxScaler"
   ]
  },
  {
   "cell_type": "code",
   "execution_count": 3,
   "metadata": {},
   "outputs": [],
   "source": [
    "from sklearn.impute import KNNImputer, SimpleImputer\n",
    "from sklearn.experimental import enable_iterative_imputer  \n",
    "from sklearn.impute import IterativeImputer"
   ]
  },
  {
   "cell_type": "code",
   "execution_count": 4,
   "metadata": {},
   "outputs": [],
   "source": [
    "from sklearn.metrics import confusion_matrix, classification_report, log_loss"
   ]
  },
  {
   "cell_type": "code",
   "execution_count": 5,
   "metadata": {},
   "outputs": [],
   "source": [
    "import category_encoders as ce"
   ]
  },
  {
   "cell_type": "code",
   "execution_count": 6,
   "metadata": {},
   "outputs": [],
   "source": [
    "import warnings\n",
    "warnings.filterwarnings(\"ignore\")"
   ]
  },
  {
   "cell_type": "code",
   "execution_count": 7,
   "metadata": {},
   "outputs": [],
   "source": [
    "pd.set_option('display.max_columns', 120)"
   ]
  },
  {
   "cell_type": "code",
   "execution_count": 94,
   "metadata": {},
   "outputs": [],
   "source": [
    "def disp_null_cols(df):\n",
    "    df_nulls = pd.DataFrame(columns = ['Feature', 'NullCount', 'NullPct'])\n",
    "    for col in df.columns.to_list():        \n",
    "        nul_count = df[col].isna().sum()\n",
    "        if  nul_count > 0:\n",
    "            df_nulls.loc[len(df_nulls)] = [col, nul_count, np.round(nul_count / df.shape[0], 2)]\n",
    "            \n",
    "    return df_nulls.sort_values(by='NullPct', ascending=False)"
   ]
  },
  {
   "cell_type": "markdown",
   "metadata": {},
   "source": [
    "---"
   ]
  },
  {
   "cell_type": "code",
   "execution_count": 134,
   "metadata": {},
   "outputs": [],
   "source": [
    "tr = pd.read_csv('train_indessa.csv')"
   ]
  },
  {
   "cell_type": "code",
   "execution_count": 135,
   "metadata": {},
   "outputs": [],
   "source": [
    "nul_stats = disp_null_cols(tr)"
   ]
  },
  {
   "cell_type": "code",
   "execution_count": 136,
   "metadata": {},
   "outputs": [],
   "source": [
    "drop_list = nul_stats['Feature'].head().squeeze().to_list()\n",
    "df_train = tr.drop(drop_list, axis=1)"
   ]
  },
  {
   "cell_type": "code",
   "execution_count": 137,
   "metadata": {},
   "outputs": [
    {
     "data": {
      "text/html": [
       "<div>\n",
       "<style scoped>\n",
       "    .dataframe tbody tr th:only-of-type {\n",
       "        vertical-align: middle;\n",
       "    }\n",
       "\n",
       "    .dataframe tbody tr th {\n",
       "        vertical-align: top;\n",
       "    }\n",
       "\n",
       "    .dataframe thead th {\n",
       "        text-align: right;\n",
       "    }\n",
       "</style>\n",
       "<table border=\"1\" class=\"dataframe\">\n",
       "  <thead>\n",
       "    <tr style=\"text-align: right;\">\n",
       "      <th></th>\n",
       "      <th>Feature</th>\n",
       "      <th>NullCount</th>\n",
       "      <th>NullPct</th>\n",
       "    </tr>\n",
       "  </thead>\n",
       "  <tbody>\n",
       "    <tr>\n",
       "      <th>0</th>\n",
       "      <td>batch_enrolled</td>\n",
       "      <td>85149</td>\n",
       "      <td>0.16</td>\n",
       "    </tr>\n",
       "    <tr>\n",
       "      <th>13</th>\n",
       "      <td>tot_coll_amt</td>\n",
       "      <td>42004</td>\n",
       "      <td>0.08</td>\n",
       "    </tr>\n",
       "    <tr>\n",
       "      <th>14</th>\n",
       "      <td>tot_cur_bal</td>\n",
       "      <td>42004</td>\n",
       "      <td>0.08</td>\n",
       "    </tr>\n",
       "    <tr>\n",
       "      <th>15</th>\n",
       "      <td>total_rev_hi_lim</td>\n",
       "      <td>42004</td>\n",
       "      <td>0.08</td>\n",
       "    </tr>\n",
       "    <tr>\n",
       "      <th>1</th>\n",
       "      <td>emp_title</td>\n",
       "      <td>30833</td>\n",
       "      <td>0.06</td>\n",
       "    </tr>\n",
       "    <tr>\n",
       "      <th>2</th>\n",
       "      <td>emp_length</td>\n",
       "      <td>26891</td>\n",
       "      <td>0.05</td>\n",
       "    </tr>\n",
       "  </tbody>\n",
       "</table>\n",
       "</div>"
      ],
      "text/plain": [
       "             Feature NullCount  NullPct\n",
       "0     batch_enrolled     85149     0.16\n",
       "13      tot_coll_amt     42004     0.08\n",
       "14       tot_cur_bal     42004     0.08\n",
       "15  total_rev_hi_lim     42004     0.08\n",
       "1          emp_title     30833     0.06\n",
       "2         emp_length     26891     0.05"
      ]
     },
     "execution_count": 137,
     "metadata": {},
     "output_type": "execute_result"
    }
   ],
   "source": [
    "disp_null_cols(df_train).head(6)"
   ]
  },
  {
   "cell_type": "code",
   "execution_count": 138,
   "metadata": {},
   "outputs": [],
   "source": [
    "df_train[['batch_enrolled']].fillna(' ', inplace=True)\n",
    "df_train.loc[df_train.batch_enrolled==' ', 'batch_enrolled'] = 'BATCHX'"
   ]
  },
  {
   "cell_type": "code",
   "execution_count": 139,
   "metadata": {},
   "outputs": [],
   "source": [
    "df_train.dropna(inplace=True)"
   ]
  },
  {
   "cell_type": "code",
   "execution_count": 140,
   "metadata": {},
   "outputs": [
    {
     "data": {
      "text/html": [
       "<div>\n",
       "<style scoped>\n",
       "    .dataframe tbody tr th:only-of-type {\n",
       "        vertical-align: middle;\n",
       "    }\n",
       "\n",
       "    .dataframe tbody tr th {\n",
       "        vertical-align: top;\n",
       "    }\n",
       "\n",
       "    .dataframe thead th {\n",
       "        text-align: right;\n",
       "    }\n",
       "</style>\n",
       "<table border=\"1\" class=\"dataframe\">\n",
       "  <thead>\n",
       "    <tr style=\"text-align: right;\">\n",
       "      <th></th>\n",
       "      <th>Feature</th>\n",
       "      <th>NullCount</th>\n",
       "      <th>NullPct</th>\n",
       "    </tr>\n",
       "  </thead>\n",
       "  <tbody>\n",
       "  </tbody>\n",
       "</table>\n",
       "</div>"
      ],
      "text/plain": [
       "Empty DataFrame\n",
       "Columns: [Feature, NullCount, NullPct]\n",
       "Index: []"
      ]
     },
     "execution_count": 140,
     "metadata": {},
     "output_type": "execute_result"
    }
   ],
   "source": [
    "disp_null_cols(df_train)"
   ]
  },
  {
   "cell_type": "code",
   "execution_count": 159,
   "metadata": {},
   "outputs": [],
   "source": [
    "num_cols = df_train.select_dtypes(['int', 'float', 'int64']).columns.to_list()\n",
    "cat_cols = list( set(df_train.columns.to_list()) - set(num_cols) )\n",
    "incorrect_cols = ['tot_coll_amt', 'tot_cur_bal', 'total_rev_hi_lim', 'revol_util', \n",
    "                  'open_acc', 'total_acc', 'collections_12_mths_ex_med']"
   ]
  },
  {
   "cell_type": "code",
   "execution_count": 160,
   "metadata": {},
   "outputs": [],
   "source": [
    "for col in incorrect_cols:\n",
    "    df_train[col] = df_train[col].astype(int)\n",
    "num_cols = num_cols+incorrect_cols"
   ]
  },
  {
   "cell_type": "code",
   "execution_count": 161,
   "metadata": {},
   "outputs": [],
   "source": [
    "cat_cols = list (set(cat_cols) - set(incorrect_cols))"
   ]
  },
  {
   "cell_type": "code",
   "execution_count": 162,
   "metadata": {},
   "outputs": [
    {
     "data": {
      "text/html": [
       "<div>\n",
       "<style scoped>\n",
       "    .dataframe tbody tr th:only-of-type {\n",
       "        vertical-align: middle;\n",
       "    }\n",
       "\n",
       "    .dataframe tbody tr th {\n",
       "        vertical-align: top;\n",
       "    }\n",
       "\n",
       "    .dataframe thead th {\n",
       "        text-align: right;\n",
       "    }\n",
       "</style>\n",
       "<table border=\"1\" class=\"dataframe\">\n",
       "  <thead>\n",
       "    <tr style=\"text-align: right;\">\n",
       "      <th></th>\n",
       "      <th>application_type</th>\n",
       "      <th>home_ownership</th>\n",
       "      <th>initial_list_status</th>\n",
       "      <th>grade</th>\n",
       "      <th>term</th>\n",
       "      <th>emp_length</th>\n",
       "      <th>title</th>\n",
       "      <th>addr_state</th>\n",
       "      <th>sub_grade</th>\n",
       "      <th>last_week_pay</th>\n",
       "      <th>batch_enrolled</th>\n",
       "      <th>emp_title</th>\n",
       "      <th>purpose</th>\n",
       "      <th>verification_status</th>\n",
       "      <th>zip_code</th>\n",
       "      <th>pymnt_plan</th>\n",
       "    </tr>\n",
       "  </thead>\n",
       "  <tbody>\n",
       "    <tr>\n",
       "      <th>119572</th>\n",
       "      <td>INDIVIDUAL</td>\n",
       "      <td>MORTGAGE</td>\n",
       "      <td>w</td>\n",
       "      <td>C</td>\n",
       "      <td>60 months</td>\n",
       "      <td>8 years</td>\n",
       "      <td>Other</td>\n",
       "      <td>SC</td>\n",
       "      <td>C1</td>\n",
       "      <td>57th week</td>\n",
       "      <td>BAT2333412</td>\n",
       "      <td>Chemical Engineer</td>\n",
       "      <td>other</td>\n",
       "      <td>Verified</td>\n",
       "      <td>296xx</td>\n",
       "      <td>n</td>\n",
       "    </tr>\n",
       "    <tr>\n",
       "      <th>472100</th>\n",
       "      <td>INDIVIDUAL</td>\n",
       "      <td>RENT</td>\n",
       "      <td>f</td>\n",
       "      <td>B</td>\n",
       "      <td>36 months</td>\n",
       "      <td>6 years</td>\n",
       "      <td>Major purchase</td>\n",
       "      <td>NY</td>\n",
       "      <td>B2</td>\n",
       "      <td>144th week</td>\n",
       "      <td>BAT5341619</td>\n",
       "      <td>Working Media Group</td>\n",
       "      <td>major_purchase</td>\n",
       "      <td>Source Verified</td>\n",
       "      <td>100xx</td>\n",
       "      <td>n</td>\n",
       "    </tr>\n",
       "    <tr>\n",
       "      <th>356226</th>\n",
       "      <td>INDIVIDUAL</td>\n",
       "      <td>RENT</td>\n",
       "      <td>f</td>\n",
       "      <td>C</td>\n",
       "      <td>36 months</td>\n",
       "      <td>5 years</td>\n",
       "      <td>Pay Off Bills</td>\n",
       "      <td>TN</td>\n",
       "      <td>C1</td>\n",
       "      <td>87th week</td>\n",
       "      <td>BAT1766061</td>\n",
       "      <td>shipping &amp; recieving/ storeroom</td>\n",
       "      <td>credit_card</td>\n",
       "      <td>Verified</td>\n",
       "      <td>383xx</td>\n",
       "      <td>n</td>\n",
       "    </tr>\n",
       "    <tr>\n",
       "      <th>26114</th>\n",
       "      <td>INDIVIDUAL</td>\n",
       "      <td>RENT</td>\n",
       "      <td>w</td>\n",
       "      <td>C</td>\n",
       "      <td>36 months</td>\n",
       "      <td>6 years</td>\n",
       "      <td>Debt consolidation</td>\n",
       "      <td>RI</td>\n",
       "      <td>C5</td>\n",
       "      <td>56th week</td>\n",
       "      <td>BAT2558388</td>\n",
       "      <td>Zoo Keeper</td>\n",
       "      <td>debt_consolidation</td>\n",
       "      <td>Source Verified</td>\n",
       "      <td>029xx</td>\n",
       "      <td>n</td>\n",
       "    </tr>\n",
       "    <tr>\n",
       "      <th>235232</th>\n",
       "      <td>INDIVIDUAL</td>\n",
       "      <td>MORTGAGE</td>\n",
       "      <td>w</td>\n",
       "      <td>B</td>\n",
       "      <td>36 months</td>\n",
       "      <td>6 years</td>\n",
       "      <td>Debt consolidation</td>\n",
       "      <td>CA</td>\n",
       "      <td>B2</td>\n",
       "      <td>22th week</td>\n",
       "      <td>BAT3873588</td>\n",
       "      <td>Home Care Provider</td>\n",
       "      <td>debt_consolidation</td>\n",
       "      <td>Verified</td>\n",
       "      <td>925xx</td>\n",
       "      <td>n</td>\n",
       "    </tr>\n",
       "  </tbody>\n",
       "</table>\n",
       "</div>"
      ],
      "text/plain": [
       "       application_type home_ownership initial_list_status grade       term  \\\n",
       "119572       INDIVIDUAL       MORTGAGE                   w     C  60 months   \n",
       "472100       INDIVIDUAL           RENT                   f     B  36 months   \n",
       "356226       INDIVIDUAL           RENT                   f     C  36 months   \n",
       "26114        INDIVIDUAL           RENT                   w     C  36 months   \n",
       "235232       INDIVIDUAL       MORTGAGE                   w     B  36 months   \n",
       "\n",
       "       emp_length               title addr_state sub_grade last_week_pay  \\\n",
       "119572    8 years               Other         SC        C1     57th week   \n",
       "472100    6 years      Major purchase         NY        B2    144th week   \n",
       "356226    5 years       Pay Off Bills         TN        C1     87th week   \n",
       "26114     6 years  Debt consolidation         RI        C5     56th week   \n",
       "235232    6 years  Debt consolidation         CA        B2     22th week   \n",
       "\n",
       "       batch_enrolled                        emp_title             purpose  \\\n",
       "119572     BAT2333412                Chemical Engineer               other   \n",
       "472100     BAT5341619              Working Media Group      major_purchase   \n",
       "356226     BAT1766061  shipping & recieving/ storeroom         credit_card   \n",
       "26114      BAT2558388                       Zoo Keeper  debt_consolidation   \n",
       "235232     BAT3873588               Home Care Provider  debt_consolidation   \n",
       "\n",
       "       verification_status zip_code pymnt_plan  \n",
       "119572            Verified    296xx          n  \n",
       "472100     Source Verified    100xx          n  \n",
       "356226            Verified    383xx          n  \n",
       "26114      Source Verified    029xx          n  \n",
       "235232            Verified    925xx          n  "
      ]
     },
     "execution_count": 162,
     "metadata": {},
     "output_type": "execute_result"
    }
   ],
   "source": [
    "df_train[cat_cols].sample(5)"
   ]
  },
  {
   "cell_type": "code",
   "execution_count": 168,
   "metadata": {},
   "outputs": [
    {
     "data": {
      "text/plain": [
       "13th week     23639\n",
       "9th week      22349\n",
       "26th week     21427\n",
       "4th week      20118\n",
       "22th week     20066\n",
       "35th week     18627\n",
       "39th week     18432\n",
       "17th week     17152\n",
       "31th week     16867\n",
       "52th week     14902\n",
       "65th week     14641\n",
       "48th week     14558\n",
       "61th week     13762\n",
       "78th week     10800\n",
       "74th week     10038\n",
       "87th week      8347\n",
       "NAth week      8163\n",
       "44th week      8026\n",
       "91th week      7997\n",
       "83th week      7297\n",
       "70th week      7194\n",
       "43th week      6124\n",
       "57th week      5847\n",
       "100th week     5777\n",
       "109th week     5541\n",
       "104th week     5344\n",
       "96th week      4679\n",
       "117th week     4526\n",
       "113th week     4478\n",
       "56th week      3895\n",
       "156th week     3893\n",
       "122th week     3707\n",
       "126th week     3661\n",
       "135th week     2875\n",
       "131th week     2499\n",
       "30th week      2461\n",
       "139th week     2381\n",
       "95th week      2011\n",
       "148th week     1919\n",
       "144th week     1718\n",
       "152th week     1646\n",
       "82th week      1449\n",
       "18th week      1191\n",
       "130th week     1059\n",
       "161th week      930\n",
       "69th week       929\n",
       "0th week        666\n",
       "8th week        468\n",
       "143th week      370\n",
       "21th week       320\n",
       "165th week      262\n",
       "121th week      219\n",
       "170th week      161\n",
       "174th week      155\n",
       "92th week       121\n",
       "108th week       86\n",
       "169th week       57\n",
       "178th week       22\n",
       "Name: last_week_pay, dtype: int64"
      ]
     },
     "execution_count": 168,
     "metadata": {},
     "output_type": "execute_result"
    }
   ],
   "source": [
    "df_train.last_week_pay.value_counts()"
   ]
  },
  {
   "cell_type": "code",
   "execution_count": 167,
   "metadata": {},
   "outputs": [
    {
     "ename": "ValueError",
     "evalue": "invalid literal for int() with base 10: 'NA'",
     "output_type": "error",
     "traceback": [
      "\u001b[1;31m---------------------------------------------------------------------------\u001b[0m",
      "\u001b[1;31mValueError\u001b[0m                                Traceback (most recent call last)",
      "\u001b[1;32m<ipython-input-167-f3e684bde51b>\u001b[0m in \u001b[0;36m<module>\u001b[1;34m\u001b[0m\n\u001b[1;32m----> 1\u001b[1;33m \u001b[0mdf_train\u001b[0m\u001b[1;33m.\u001b[0m\u001b[0mlast_week_pay\u001b[0m\u001b[1;33m.\u001b[0m\u001b[0mapply\u001b[0m\u001b[1;33m(\u001b[0m\u001b[1;32mlambda\u001b[0m \u001b[0mx\u001b[0m \u001b[1;33m:\u001b[0m \u001b[0mint\u001b[0m\u001b[1;33m(\u001b[0m\u001b[0mx\u001b[0m\u001b[1;33m.\u001b[0m\u001b[0msplit\u001b[0m\u001b[1;33m(\u001b[0m\u001b[1;34m' '\u001b[0m\u001b[1;33m)\u001b[0m\u001b[1;33m[\u001b[0m\u001b[1;36m0\u001b[0m\u001b[1;33m]\u001b[0m\u001b[1;33m[\u001b[0m\u001b[1;33m:\u001b[0m\u001b[1;33m-\u001b[0m\u001b[1;36m2\u001b[0m\u001b[1;33m]\u001b[0m\u001b[1;33m)\u001b[0m\u001b[1;33m)\u001b[0m\u001b[1;33m\u001b[0m\u001b[1;33m\u001b[0m\u001b[0m\n\u001b[0m",
      "\u001b[1;32mD:\\Anaconda3\\lib\\site-packages\\pandas\\core\\series.py\u001b[0m in \u001b[0;36mapply\u001b[1;34m(self, func, convert_dtype, args, **kwds)\u001b[0m\n\u001b[0;32m   4198\u001b[0m             \u001b[1;32melse\u001b[0m\u001b[1;33m:\u001b[0m\u001b[1;33m\u001b[0m\u001b[1;33m\u001b[0m\u001b[0m\n\u001b[0;32m   4199\u001b[0m                 \u001b[0mvalues\u001b[0m \u001b[1;33m=\u001b[0m \u001b[0mself\u001b[0m\u001b[1;33m.\u001b[0m\u001b[0mastype\u001b[0m\u001b[1;33m(\u001b[0m\u001b[0mobject\u001b[0m\u001b[1;33m)\u001b[0m\u001b[1;33m.\u001b[0m\u001b[0m_values\u001b[0m\u001b[1;33m\u001b[0m\u001b[1;33m\u001b[0m\u001b[0m\n\u001b[1;32m-> 4200\u001b[1;33m                 \u001b[0mmapped\u001b[0m \u001b[1;33m=\u001b[0m \u001b[0mlib\u001b[0m\u001b[1;33m.\u001b[0m\u001b[0mmap_infer\u001b[0m\u001b[1;33m(\u001b[0m\u001b[0mvalues\u001b[0m\u001b[1;33m,\u001b[0m \u001b[0mf\u001b[0m\u001b[1;33m,\u001b[0m \u001b[0mconvert\u001b[0m\u001b[1;33m=\u001b[0m\u001b[0mconvert_dtype\u001b[0m\u001b[1;33m)\u001b[0m\u001b[1;33m\u001b[0m\u001b[1;33m\u001b[0m\u001b[0m\n\u001b[0m\u001b[0;32m   4201\u001b[0m \u001b[1;33m\u001b[0m\u001b[0m\n\u001b[0;32m   4202\u001b[0m         \u001b[1;32mif\u001b[0m \u001b[0mlen\u001b[0m\u001b[1;33m(\u001b[0m\u001b[0mmapped\u001b[0m\u001b[1;33m)\u001b[0m \u001b[1;32mand\u001b[0m \u001b[0misinstance\u001b[0m\u001b[1;33m(\u001b[0m\u001b[0mmapped\u001b[0m\u001b[1;33m[\u001b[0m\u001b[1;36m0\u001b[0m\u001b[1;33m]\u001b[0m\u001b[1;33m,\u001b[0m \u001b[0mSeries\u001b[0m\u001b[1;33m)\u001b[0m\u001b[1;33m:\u001b[0m\u001b[1;33m\u001b[0m\u001b[1;33m\u001b[0m\u001b[0m\n",
      "\u001b[1;32mpandas\\_libs\\lib.pyx\u001b[0m in \u001b[0;36mpandas._libs.lib.map_infer\u001b[1;34m()\u001b[0m\n",
      "\u001b[1;32m<ipython-input-167-f3e684bde51b>\u001b[0m in \u001b[0;36m<lambda>\u001b[1;34m(x)\u001b[0m\n\u001b[1;32m----> 1\u001b[1;33m \u001b[0mdf_train\u001b[0m\u001b[1;33m.\u001b[0m\u001b[0mlast_week_pay\u001b[0m\u001b[1;33m.\u001b[0m\u001b[0mapply\u001b[0m\u001b[1;33m(\u001b[0m\u001b[1;32mlambda\u001b[0m \u001b[0mx\u001b[0m \u001b[1;33m:\u001b[0m \u001b[0mint\u001b[0m\u001b[1;33m(\u001b[0m\u001b[0mx\u001b[0m\u001b[1;33m.\u001b[0m\u001b[0msplit\u001b[0m\u001b[1;33m(\u001b[0m\u001b[1;34m' '\u001b[0m\u001b[1;33m)\u001b[0m\u001b[1;33m[\u001b[0m\u001b[1;36m0\u001b[0m\u001b[1;33m]\u001b[0m\u001b[1;33m[\u001b[0m\u001b[1;33m:\u001b[0m\u001b[1;33m-\u001b[0m\u001b[1;36m2\u001b[0m\u001b[1;33m]\u001b[0m\u001b[1;33m)\u001b[0m\u001b[1;33m)\u001b[0m\u001b[1;33m\u001b[0m\u001b[1;33m\u001b[0m\u001b[0m\n\u001b[0m",
      "\u001b[1;31mValueError\u001b[0m: invalid literal for int() with base 10: 'NA'"
     ]
    }
   ],
   "source": [
    "df_train.last_week_pay.apply(lambda x : int(x.split(' ')[0][:-2]) )"
   ]
  },
  {
   "cell_type": "code",
   "execution_count": null,
   "metadata": {},
   "outputs": [],
   "source": []
  }
 ],
 "metadata": {
  "kernelspec": {
   "display_name": "Python 3",
   "language": "python",
   "name": "python3"
  },
  "language_info": {
   "codemirror_mode": {
    "name": "ipython",
    "version": 3
   },
   "file_extension": ".py",
   "mimetype": "text/x-python",
   "name": "python",
   "nbconvert_exporter": "python",
   "pygments_lexer": "ipython3",
   "version": "3.6.7"
  }
 },
 "nbformat": 4,
 "nbformat_minor": 4
}
