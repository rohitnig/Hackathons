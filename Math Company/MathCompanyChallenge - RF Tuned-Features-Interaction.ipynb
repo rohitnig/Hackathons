{
 "cells": [
  {
   "cell_type": "code",
   "execution_count": 20,
   "metadata": {},
   "outputs": [],
   "source": [
    "import pandas as pd\n",
    "import numpy as np\n",
    "import seaborn as sns\n",
    "import matplotlib.pyplot as plt"
   ]
  },
  {
   "cell_type": "code",
   "execution_count": 21,
   "metadata": {},
   "outputs": [],
   "source": [
    "from sklearn.ensemble import RandomForestRegressor"
   ]
  },
  {
   "cell_type": "code",
   "execution_count": 22,
   "metadata": {},
   "outputs": [],
   "source": [
    "from xgboost import XGBRegressor, XGBRFRegressor"
   ]
  },
  {
   "cell_type": "code",
   "execution_count": 23,
   "metadata": {},
   "outputs": [],
   "source": [
    "from sklearn.model_selection import RandomizedSearchCV, GridSearchCV"
   ]
  },
  {
   "cell_type": "code",
   "execution_count": 24,
   "metadata": {},
   "outputs": [],
   "source": [
    "from sklearn.ensemble import VotingRegressor, StackingRegressor, ExtraTreesRegressor"
   ]
  },
  {
   "cell_type": "code",
   "execution_count": 25,
   "metadata": {},
   "outputs": [],
   "source": [
    "import warnings\n",
    "warnings.filterwarnings(\"ignore\")"
   ]
  },
  {
   "cell_type": "code",
   "execution_count": 26,
   "metadata": {},
   "outputs": [
    {
     "data": {
      "text/html": [
       "<div>\n",
       "<style scoped>\n",
       "    .dataframe tbody tr th:only-of-type {\n",
       "        vertical-align: middle;\n",
       "    }\n",
       "\n",
       "    .dataframe tbody tr th {\n",
       "        vertical-align: top;\n",
       "    }\n",
       "\n",
       "    .dataframe thead th {\n",
       "        text-align: right;\n",
       "    }\n",
       "</style>\n",
       "<table border=\"1\" class=\"dataframe\">\n",
       "  <thead>\n",
       "    <tr style=\"text-align: right;\">\n",
       "      <th></th>\n",
       "      <th>ID</th>\n",
       "      <th>Price</th>\n",
       "      <th>Levy</th>\n",
       "      <th>Manufacturer</th>\n",
       "      <th>Model</th>\n",
       "      <th>Prod. year</th>\n",
       "      <th>Category</th>\n",
       "      <th>Leather interior</th>\n",
       "      <th>Fuel type</th>\n",
       "      <th>Engine volume</th>\n",
       "      <th>Mileage</th>\n",
       "      <th>Cylinders</th>\n",
       "      <th>Gear box type</th>\n",
       "      <th>Drive wheels</th>\n",
       "      <th>Doors</th>\n",
       "      <th>Wheel</th>\n",
       "      <th>Color</th>\n",
       "      <th>Airbags</th>\n",
       "    </tr>\n",
       "  </thead>\n",
       "  <tbody>\n",
       "    <tr>\n",
       "      <th>12975</th>\n",
       "      <td>45791297</td>\n",
       "      <td>17876</td>\n",
       "      <td>-</td>\n",
       "      <td>TOYOTA</td>\n",
       "      <td>Prius</td>\n",
       "      <td>2011</td>\n",
       "      <td>Sedan</td>\n",
       "      <td>No</td>\n",
       "      <td>Hybrid</td>\n",
       "      <td>1.8</td>\n",
       "      <td>15000 km</td>\n",
       "      <td>4</td>\n",
       "      <td>Automatic</td>\n",
       "      <td>Front</td>\n",
       "      <td>4-May</td>\n",
       "      <td>Left wheel</td>\n",
       "      <td>Red</td>\n",
       "      <td>12</td>\n",
       "    </tr>\n",
       "    <tr>\n",
       "      <th>15826</th>\n",
       "      <td>45803277</td>\n",
       "      <td>10036</td>\n",
       "      <td>639</td>\n",
       "      <td>HYUNDAI</td>\n",
       "      <td>Sonata</td>\n",
       "      <td>2014</td>\n",
       "      <td>Sedan</td>\n",
       "      <td>Yes</td>\n",
       "      <td>LPG</td>\n",
       "      <td>2</td>\n",
       "      <td>268046 km</td>\n",
       "      <td>4</td>\n",
       "      <td>Automatic</td>\n",
       "      <td>Front</td>\n",
       "      <td>4-May</td>\n",
       "      <td>Left wheel</td>\n",
       "      <td>Silver</td>\n",
       "      <td>4</td>\n",
       "    </tr>\n",
       "    <tr>\n",
       "      <th>698</th>\n",
       "      <td>45776738</td>\n",
       "      <td>22423</td>\n",
       "      <td>-</td>\n",
       "      <td>BMW</td>\n",
       "      <td>128 M tech</td>\n",
       "      <td>2013</td>\n",
       "      <td>Cabriolet</td>\n",
       "      <td>Yes</td>\n",
       "      <td>Petrol</td>\n",
       "      <td>3</td>\n",
       "      <td>67646 km</td>\n",
       "      <td>6</td>\n",
       "      <td>Manual</td>\n",
       "      <td>Front</td>\n",
       "      <td>4-May</td>\n",
       "      <td>Left wheel</td>\n",
       "      <td>Black</td>\n",
       "      <td>8</td>\n",
       "    </tr>\n",
       "    <tr>\n",
       "      <th>9464</th>\n",
       "      <td>45797718</td>\n",
       "      <td>22433</td>\n",
       "      <td>779</td>\n",
       "      <td>HYUNDAI</td>\n",
       "      <td>H1</td>\n",
       "      <td>2013</td>\n",
       "      <td>Minivan</td>\n",
       "      <td>Yes</td>\n",
       "      <td>Diesel</td>\n",
       "      <td>2.5</td>\n",
       "      <td>69315 km</td>\n",
       "      <td>4</td>\n",
       "      <td>Automatic</td>\n",
       "      <td>Front</td>\n",
       "      <td>4-May</td>\n",
       "      <td>Left wheel</td>\n",
       "      <td>Black</td>\n",
       "      <td>4</td>\n",
       "    </tr>\n",
       "    <tr>\n",
       "      <th>5883</th>\n",
       "      <td>45770184</td>\n",
       "      <td>1882</td>\n",
       "      <td>1053</td>\n",
       "      <td>MERCEDES-BENZ</td>\n",
       "      <td>E 350</td>\n",
       "      <td>2014</td>\n",
       "      <td>Sedan</td>\n",
       "      <td>Yes</td>\n",
       "      <td>Petrol</td>\n",
       "      <td>3.5</td>\n",
       "      <td>146395 km</td>\n",
       "      <td>6</td>\n",
       "      <td>Automatic</td>\n",
       "      <td>Rear</td>\n",
       "      <td>4-May</td>\n",
       "      <td>Left wheel</td>\n",
       "      <td>Grey</td>\n",
       "      <td>12</td>\n",
       "    </tr>\n",
       "    <tr>\n",
       "      <th>7082</th>\n",
       "      <td>45808748</td>\n",
       "      <td>1176</td>\n",
       "      <td>779</td>\n",
       "      <td>FORD</td>\n",
       "      <td>Escape</td>\n",
       "      <td>2013</td>\n",
       "      <td>Jeep</td>\n",
       "      <td>Yes</td>\n",
       "      <td>Petrol</td>\n",
       "      <td>2.5</td>\n",
       "      <td>241638 km</td>\n",
       "      <td>4</td>\n",
       "      <td>Automatic</td>\n",
       "      <td>Front</td>\n",
       "      <td>4-May</td>\n",
       "      <td>Left wheel</td>\n",
       "      <td>Silver</td>\n",
       "      <td>12</td>\n",
       "    </tr>\n",
       "    <tr>\n",
       "      <th>13130</th>\n",
       "      <td>45509281</td>\n",
       "      <td>17249</td>\n",
       "      <td>-</td>\n",
       "      <td>TOYOTA</td>\n",
       "      <td>Prius</td>\n",
       "      <td>2009</td>\n",
       "      <td>Sedan</td>\n",
       "      <td>No</td>\n",
       "      <td>Hybrid</td>\n",
       "      <td>1.8</td>\n",
       "      <td>380800 km</td>\n",
       "      <td>4</td>\n",
       "      <td>Variator</td>\n",
       "      <td>Front</td>\n",
       "      <td>4-May</td>\n",
       "      <td>Left wheel</td>\n",
       "      <td>Black</td>\n",
       "      <td>8</td>\n",
       "    </tr>\n",
       "    <tr>\n",
       "      <th>18458</th>\n",
       "      <td>45761256</td>\n",
       "      <td>314</td>\n",
       "      <td>259</td>\n",
       "      <td>CHEVROLET</td>\n",
       "      <td>Volt</td>\n",
       "      <td>2014</td>\n",
       "      <td>Hatchback</td>\n",
       "      <td>Yes</td>\n",
       "      <td>Hybrid</td>\n",
       "      <td>1.4</td>\n",
       "      <td>131893 km</td>\n",
       "      <td>4</td>\n",
       "      <td>Automatic</td>\n",
       "      <td>Front</td>\n",
       "      <td>4-May</td>\n",
       "      <td>Left wheel</td>\n",
       "      <td>Brown</td>\n",
       "      <td>0</td>\n",
       "    </tr>\n",
       "    <tr>\n",
       "      <th>9372</th>\n",
       "      <td>45797692</td>\n",
       "      <td>15063</td>\n",
       "      <td>1024</td>\n",
       "      <td>HYUNDAI</td>\n",
       "      <td>H1</td>\n",
       "      <td>2010</td>\n",
       "      <td>Minivan</td>\n",
       "      <td>Yes</td>\n",
       "      <td>Diesel</td>\n",
       "      <td>2.5</td>\n",
       "      <td>52717 km</td>\n",
       "      <td>4</td>\n",
       "      <td>Automatic</td>\n",
       "      <td>Front</td>\n",
       "      <td>4-May</td>\n",
       "      <td>Left wheel</td>\n",
       "      <td>Black</td>\n",
       "      <td>4</td>\n",
       "    </tr>\n",
       "    <tr>\n",
       "      <th>8126</th>\n",
       "      <td>45629200</td>\n",
       "      <td>2666</td>\n",
       "      <td>382</td>\n",
       "      <td>FORD</td>\n",
       "      <td>Fusion</td>\n",
       "      <td>2015</td>\n",
       "      <td>Sedan</td>\n",
       "      <td>Yes</td>\n",
       "      <td>Hybrid</td>\n",
       "      <td>2</td>\n",
       "      <td>100747 km</td>\n",
       "      <td>4</td>\n",
       "      <td>Automatic</td>\n",
       "      <td>Front</td>\n",
       "      <td>4-May</td>\n",
       "      <td>Left wheel</td>\n",
       "      <td>Green</td>\n",
       "      <td>0</td>\n",
       "    </tr>\n",
       "  </tbody>\n",
       "</table>\n",
       "</div>"
      ],
      "text/plain": [
       "             ID  Price  Levy   Manufacturer       Model  Prod. year  \\\n",
       "12975  45791297  17876     -         TOYOTA       Prius        2011   \n",
       "15826  45803277  10036   639        HYUNDAI      Sonata        2014   \n",
       "698    45776738  22423     -            BMW  128 M tech        2013   \n",
       "9464   45797718  22433   779        HYUNDAI          H1        2013   \n",
       "5883   45770184   1882  1053  MERCEDES-BENZ       E 350        2014   \n",
       "7082   45808748   1176   779           FORD      Escape        2013   \n",
       "13130  45509281  17249     -         TOYOTA       Prius        2009   \n",
       "18458  45761256    314   259      CHEVROLET        Volt        2014   \n",
       "9372   45797692  15063  1024        HYUNDAI          H1        2010   \n",
       "8126   45629200   2666   382           FORD      Fusion        2015   \n",
       "\n",
       "        Category Leather interior Fuel type Engine volume    Mileage  \\\n",
       "12975      Sedan               No    Hybrid           1.8   15000 km   \n",
       "15826      Sedan              Yes       LPG             2  268046 km   \n",
       "698    Cabriolet              Yes    Petrol             3   67646 km   \n",
       "9464     Minivan              Yes    Diesel           2.5   69315 km   \n",
       "5883       Sedan              Yes    Petrol           3.5  146395 km   \n",
       "7082        Jeep              Yes    Petrol           2.5  241638 km   \n",
       "13130      Sedan               No    Hybrid           1.8  380800 km   \n",
       "18458  Hatchback              Yes    Hybrid           1.4  131893 km   \n",
       "9372     Minivan              Yes    Diesel           2.5   52717 km   \n",
       "8126       Sedan              Yes    Hybrid             2  100747 km   \n",
       "\n",
       "       Cylinders Gear box type Drive wheels  Doors       Wheel   Color  \\\n",
       "12975          4     Automatic        Front  4-May  Left wheel     Red   \n",
       "15826          4     Automatic        Front  4-May  Left wheel  Silver   \n",
       "698            6        Manual        Front  4-May  Left wheel   Black   \n",
       "9464           4     Automatic        Front  4-May  Left wheel   Black   \n",
       "5883           6     Automatic         Rear  4-May  Left wheel    Grey   \n",
       "7082           4     Automatic        Front  4-May  Left wheel  Silver   \n",
       "13130          4      Variator        Front  4-May  Left wheel   Black   \n",
       "18458          4     Automatic        Front  4-May  Left wheel   Brown   \n",
       "9372           4     Automatic        Front  4-May  Left wheel   Black   \n",
       "8126           4     Automatic        Front  4-May  Left wheel   Green   \n",
       "\n",
       "       Airbags  \n",
       "12975       12  \n",
       "15826        4  \n",
       "698          8  \n",
       "9464         4  \n",
       "5883        12  \n",
       "7082        12  \n",
       "13130        8  \n",
       "18458        0  \n",
       "9372         4  \n",
       "8126         0  "
      ]
     },
     "execution_count": 26,
     "metadata": {},
     "output_type": "execute_result"
    }
   ],
   "source": [
    "train = pd.read_csv('train.csv')\n",
    "test  = pd.read_csv('test.csv')\n",
    "train.sample(10)"
   ]
  },
  {
   "cell_type": "code",
   "execution_count": 27,
   "metadata": {},
   "outputs": [],
   "source": [
    "train['logPrice'] = np.log(train.Price)"
   ]
  },
  {
   "cell_type": "code",
   "execution_count": 28,
   "metadata": {
    "scrolled": false
   },
   "outputs": [
    {
     "data": {
      "text/plain": [
       "<seaborn.axisgrid.FacetGrid at 0x2e809b00>"
      ]
     },
     "execution_count": 28,
     "metadata": {},
     "output_type": "execute_result"
    },
    {
     "data": {
      "image/png": "[encoded data removed]",
      "text/plain": [
       "<Figure size 360x360 with 1 Axes>"
      ]
     },
     "metadata": {
      "needs_background": "light"
     },
     "output_type": "display_data"
    }
   ],
   "source": [
    "sns.displot(train.logPrice)"
   ]
  },
  {
   "cell_type": "code",
   "execution_count": 29,
   "metadata": {},
   "outputs": [
    {
     "name": "stdout",
     "output_type": "stream",
     "text": [
      "4.700480365792417 11.346575677685973\n"
     ]
    }
   ],
   "source": [
    "lowPrice = np.quantile(train.logPrice, 0.02)\n",
    "highPrice = np.quantile(train.logPrice, 0.99)\n",
    "print (lowPrice, highPrice)"
   ]
  },
  {
   "cell_type": "code",
   "execution_count": 30,
   "metadata": {},
   "outputs": [
    {
     "data": {
      "text/plain": [
       "<AxesSubplot:xlabel='cappedLogPrice', ylabel='Count'>"
      ]
     },
     "execution_count": 30,
     "metadata": {},
     "output_type": "execute_result"
    },
    {
     "data": {
      "image/png": "[encoded data removed]",
      "text/plain": [
       "<Figure size 432x288 with 1 Axes>"
      ]
     },
     "metadata": {
      "needs_background": "light"
     },
     "output_type": "display_data"
    }
   ],
   "source": [
    "train['cappedLogPrice'] = train.logPrice\n",
    "train.loc[train.logPrice < lowPrice, 'cappedLogPrice'] = lowPrice\n",
    "train.loc[train.logPrice > highPrice, 'cappedLogPrice'] = highPrice\n",
    "sns.histplot(train.cappedLogPrice)"
   ]
  },
  {
   "cell_type": "code",
   "execution_count": 31,
   "metadata": {},
   "outputs": [
    {
     "data": {
      "text/plain": [
       "<AxesSubplot:xlabel='cappedLogPrice'>"
      ]
     },
     "execution_count": 31,
     "metadata": {},
     "output_type": "execute_result"
    },
    {
     "data": {
      "image/png": "[encoded data removed]",
      "text/plain": [
       "<Figure size 432x288 with 1 Axes>"
      ]
     },
     "metadata": {
      "needs_background": "light"
     },
     "output_type": "display_data"
    }
   ],
   "source": [
    "sns.boxplot(train.cappedLogPrice)"
   ]
  },
  {
   "cell_type": "code",
   "execution_count": 32,
   "metadata": {},
   "outputs": [],
   "source": [
    "df_train = train.drop(columns=['ID', 'Price', 'logPrice'])"
   ]
  },
  {
   "cell_type": "code",
   "execution_count": 33,
   "metadata": {},
   "outputs": [
    {
     "data": {
      "text/html": [
       "<div>\n",
       "<style scoped>\n",
       "    .dataframe tbody tr th:only-of-type {\n",
       "        vertical-align: middle;\n",
       "    }\n",
       "\n",
       "    .dataframe tbody tr th {\n",
       "        vertical-align: top;\n",
       "    }\n",
       "\n",
       "    .dataframe thead th {\n",
       "        text-align: right;\n",
       "    }\n",
       "</style>\n",
       "<table border=\"1\" class=\"dataframe\">\n",
       "  <thead>\n",
       "    <tr style=\"text-align: right;\">\n",
       "      <th></th>\n",
       "      <th>Levy</th>\n",
       "      <th>Manufacturer</th>\n",
       "      <th>Model</th>\n",
       "      <th>Prod. year</th>\n",
       "      <th>Category</th>\n",
       "      <th>Leather interior</th>\n",
       "      <th>Fuel type</th>\n",
       "      <th>Engine volume</th>\n",
       "      <th>Mileage</th>\n",
       "      <th>Cylinders</th>\n",
       "      <th>Gear box type</th>\n",
       "      <th>Drive wheels</th>\n",
       "      <th>Doors</th>\n",
       "      <th>Wheel</th>\n",
       "      <th>Color</th>\n",
       "      <th>Airbags</th>\n",
       "      <th>cappedLogPrice</th>\n",
       "    </tr>\n",
       "  </thead>\n",
       "  <tbody>\n",
       "    <tr>\n",
       "      <th>0</th>\n",
       "      <td>-</td>\n",
       "      <td>GAZ</td>\n",
       "      <td>20</td>\n",
       "      <td>1953</td>\n",
       "      <td>Sedan</td>\n",
       "      <td>No</td>\n",
       "      <td>Petrol</td>\n",
       "      <td>2</td>\n",
       "      <td>0 km</td>\n",
       "      <td>4</td>\n",
       "      <td>Manual</td>\n",
       "      <td>Rear</td>\n",
       "      <td>4-May</td>\n",
       "      <td>Left wheel</td>\n",
       "      <td>Beige</td>\n",
       "      <td>0</td>\n",
       "      <td>10.854102</td>\n",
       "    </tr>\n",
       "    <tr>\n",
       "      <th>1</th>\n",
       "      <td>-</td>\n",
       "      <td>GAZ</td>\n",
       "      <td>20</td>\n",
       "      <td>1953</td>\n",
       "      <td>Jeep</td>\n",
       "      <td>No</td>\n",
       "      <td>Petrol</td>\n",
       "      <td>3.2</td>\n",
       "      <td>100000 km</td>\n",
       "      <td>4</td>\n",
       "      <td>Manual</td>\n",
       "      <td>4x4</td>\n",
       "      <td>2-Mar</td>\n",
       "      <td>Left wheel</td>\n",
       "      <td>Green</td>\n",
       "      <td>0</td>\n",
       "      <td>8.070906</td>\n",
       "    </tr>\n",
       "    <tr>\n",
       "      <th>2</th>\n",
       "      <td>-</td>\n",
       "      <td>GAZ</td>\n",
       "      <td>21</td>\n",
       "      <td>1964</td>\n",
       "      <td>Sedan</td>\n",
       "      <td>No</td>\n",
       "      <td>Petrol</td>\n",
       "      <td>2.4</td>\n",
       "      <td>0 km</td>\n",
       "      <td>4</td>\n",
       "      <td>Manual</td>\n",
       "      <td>Rear</td>\n",
       "      <td>4-May</td>\n",
       "      <td>Left wheel</td>\n",
       "      <td>Sky blue</td>\n",
       "      <td>0</td>\n",
       "      <td>8.966994</td>\n",
       "    </tr>\n",
       "    <tr>\n",
       "      <th>3</th>\n",
       "      <td>-</td>\n",
       "      <td>GAZ</td>\n",
       "      <td>24</td>\n",
       "      <td>1990</td>\n",
       "      <td>Universal</td>\n",
       "      <td>Yes</td>\n",
       "      <td>Petrol</td>\n",
       "      <td>6.3</td>\n",
       "      <td>2000 km</td>\n",
       "      <td>8</td>\n",
       "      <td>Manual</td>\n",
       "      <td>4x4</td>\n",
       "      <td>2-Mar</td>\n",
       "      <td>Left wheel</td>\n",
       "      <td>Green</td>\n",
       "      <td>0</td>\n",
       "      <td>8.581294</td>\n",
       "    </tr>\n",
       "    <tr>\n",
       "      <th>4</th>\n",
       "      <td>-</td>\n",
       "      <td>AUDI</td>\n",
       "      <td>50</td>\n",
       "      <td>2018</td>\n",
       "      <td>Coupe</td>\n",
       "      <td>Yes</td>\n",
       "      <td>Petrol</td>\n",
       "      <td>0.5</td>\n",
       "      <td>4000 km</td>\n",
       "      <td>1</td>\n",
       "      <td>Tiptronic</td>\n",
       "      <td>Rear</td>\n",
       "      <td>&gt;5</td>\n",
       "      <td>Right-hand drive</td>\n",
       "      <td>Blue</td>\n",
       "      <td>0</td>\n",
       "      <td>7.170120</td>\n",
       "    </tr>\n",
       "  </tbody>\n",
       "</table>\n",
       "</div>"
      ],
      "text/plain": [
       "  Levy Manufacturer Model  Prod. year   Category Leather interior Fuel type  \\\n",
       "0    -          GAZ    20        1953      Sedan               No    Petrol   \n",
       "1    -          GAZ    20        1953       Jeep               No    Petrol   \n",
       "2    -          GAZ    21        1964      Sedan               No    Petrol   \n",
       "3    -          GAZ    24        1990  Universal              Yes    Petrol   \n",
       "4    -         AUDI    50        2018      Coupe              Yes    Petrol   \n",
       "\n",
       "  Engine volume    Mileage  Cylinders Gear box type Drive wheels  Doors  \\\n",
       "0             2       0 km          4        Manual         Rear  4-May   \n",
       "1           3.2  100000 km          4        Manual          4x4  2-Mar   \n",
       "2           2.4       0 km          4        Manual         Rear  4-May   \n",
       "3           6.3    2000 km          8        Manual          4x4  2-Mar   \n",
       "4           0.5    4000 km          1     Tiptronic         Rear     >5   \n",
       "\n",
       "              Wheel     Color  Airbags  cappedLogPrice  \n",
       "0        Left wheel     Beige        0       10.854102  \n",
       "1        Left wheel     Green        0        8.070906  \n",
       "2        Left wheel  Sky blue        0        8.966994  \n",
       "3        Left wheel     Green        0        8.581294  \n",
       "4  Right-hand drive      Blue        0        7.170120  "
      ]
     },
     "execution_count": 33,
     "metadata": {},
     "output_type": "execute_result"
    }
   ],
   "source": [
    "df_train.head()"
   ]
  },
  {
   "cell_type": "code",
   "execution_count": 34,
   "metadata": {},
   "outputs": [
    {
     "name": "stdout",
     "output_type": "stream",
     "text": [
      "17 8 6\n"
     ]
    }
   ],
   "source": [
    "cat_cols = ['Category', 'Leather interior', 'Fuel type',\n",
    "           'Gear box type', 'Drive wheels', 'Doors', 'Wheel', 'Color']\n",
    "num_cols = ['Levy', 'Prod. year', 'Engine volume', \n",
    "            'Airbags', 'Cylinders', 'Mileage']\n",
    "print (len(df_train.columns.to_list()), \n",
    "        len(cat_cols),\n",
    "        len(num_cols))"
   ]
  },
  {
   "cell_type": "code",
   "execution_count": 35,
   "metadata": {},
   "outputs": [
    {
     "data": {
      "text/plain": [
       "['2-Mar', '4-May', '>5']"
      ]
     },
     "execution_count": 35,
     "metadata": {},
     "output_type": "execute_result"
    }
   ],
   "source": [
    "sorted(train.Doors.unique())"
   ]
  },
  {
   "cell_type": "markdown",
   "metadata": {},
   "source": [
    "## Mileage"
   ]
  },
  {
   "cell_type": "code",
   "execution_count": 36,
   "metadata": {},
   "outputs": [],
   "source": [
    "#m = np.exp(df_train[['Mileage']])\n",
    "#m.loc[m.Mileage > np.quantile(m.Mileage, 0.99), 'Mileage'] = np.quantile(m.Mileage, 0.99)\n",
    "#m.Mileage.fillna(m.Mileage.median())\n",
    "#sns.boxplot(m.Mileage)"
   ]
  },
  {
   "cell_type": "code",
   "execution_count": 38,
   "metadata": {},
   "outputs": [],
   "source": [
    "#sns.boxplot(df_train.Mileage)"
   ]
  },
  {
   "cell_type": "code",
   "execution_count": 39,
   "metadata": {},
   "outputs": [],
   "source": [
    "df_train.loc[df_train.Levy=='-', 'Levy'] = 0\n",
    "df_train.Mileage = train.Mileage.apply(lambda x: int(x[:-3]))\n",
    "df_train.loc[df_train.Mileage==0, 'Mileage'] = None"
   ]
  },
  {
   "cell_type": "code",
   "execution_count": 44,
   "metadata": {},
   "outputs": [],
   "source": [
    "df_train['Mileage'] = df_train['Mileage'].\\\n",
    "                        fillna(df_train.groupby('Prod. year')['Mileage'].transform('median'))\n",
    "df_train.Mileage.fillna(df_train.Mileage.mean(), inplace=True)\n",
    "#df_train.Mileage = np.log(df_train.Mileage)\n",
    "up_mileage = np.quantile(df_train.Mileage, 0.99)\n",
    "df_train.loc[df_train.Mileage > up_mileage, 'Mileage'] = up_mileage"
   ]
  },
  {
   "cell_type": "code",
   "execution_count": 45,
   "metadata": {},
   "outputs": [
    {
     "data": {
      "text/html": [
       "<div>\n",
       "<style scoped>\n",
       "    .dataframe tbody tr th:only-of-type {\n",
       "        vertical-align: middle;\n",
       "    }\n",
       "\n",
       "    .dataframe tbody tr th {\n",
       "        vertical-align: top;\n",
       "    }\n",
       "\n",
       "    .dataframe thead th {\n",
       "        text-align: right;\n",
       "    }\n",
       "</style>\n",
       "<table border=\"1\" class=\"dataframe\">\n",
       "  <thead>\n",
       "    <tr style=\"text-align: right;\">\n",
       "      <th></th>\n",
       "      <th>Levy</th>\n",
       "      <th>Prod. year</th>\n",
       "      <th>Engine volume</th>\n",
       "      <th>Airbags</th>\n",
       "      <th>Cylinders</th>\n",
       "      <th>Mileage</th>\n",
       "    </tr>\n",
       "  </thead>\n",
       "  <tbody>\n",
       "    <tr>\n",
       "      <th>0</th>\n",
       "      <td>0</td>\n",
       "      <td>1953</td>\n",
       "      <td>2</td>\n",
       "      <td>0</td>\n",
       "      <td>4</td>\n",
       "      <td>150000.0</td>\n",
       "    </tr>\n",
       "    <tr>\n",
       "      <th>1</th>\n",
       "      <td>0</td>\n",
       "      <td>1953</td>\n",
       "      <td>3.2</td>\n",
       "      <td>0</td>\n",
       "      <td>4</td>\n",
       "      <td>100000.0</td>\n",
       "    </tr>\n",
       "    <tr>\n",
       "      <th>2</th>\n",
       "      <td>0</td>\n",
       "      <td>1964</td>\n",
       "      <td>2.4</td>\n",
       "      <td>0</td>\n",
       "      <td>4</td>\n",
       "      <td>50000.0</td>\n",
       "    </tr>\n",
       "    <tr>\n",
       "      <th>3</th>\n",
       "      <td>0</td>\n",
       "      <td>1990</td>\n",
       "      <td>6.3</td>\n",
       "      <td>0</td>\n",
       "      <td>8</td>\n",
       "      <td>2000.0</td>\n",
       "    </tr>\n",
       "    <tr>\n",
       "      <th>4</th>\n",
       "      <td>0</td>\n",
       "      <td>2018</td>\n",
       "      <td>0.5</td>\n",
       "      <td>0</td>\n",
       "      <td>1</td>\n",
       "      <td>4000.0</td>\n",
       "    </tr>\n",
       "  </tbody>\n",
       "</table>\n",
       "</div>"
      ],
      "text/plain": [
       "   Levy  Prod. year Engine volume  Airbags  Cylinders   Mileage\n",
       "0     0        1953             2        0          4  150000.0\n",
       "1     0        1953           3.2        0          4  100000.0\n",
       "2     0        1964           2.4        0          4   50000.0\n",
       "3     0        1990           6.3        0          8    2000.0\n",
       "4     0        2018           0.5        0          1    4000.0"
      ]
     },
     "execution_count": 45,
     "metadata": {},
     "output_type": "execute_result"
    }
   ],
   "source": [
    "df_train[num_cols].head()"
   ]
  },
  {
   "cell_type": "code",
   "execution_count": 46,
   "metadata": {},
   "outputs": [],
   "source": [
    "df_train.Levy = df_train.Levy.astype(int)"
   ]
  },
  {
   "cell_type": "code",
   "execution_count": 47,
   "metadata": {},
   "outputs": [],
   "source": [
    "df_train['Engine volume'] = df_train['Engine volume'].apply(lambda x: float(x.split(' ')[0]))\n",
    "df_train['Engine volume'] = df_train['Engine volume'].astype(float)"
   ]
  },
  {
   "cell_type": "code",
   "execution_count": 48,
   "metadata": {},
   "outputs": [
    {
     "data": {
      "text/html": [
       "<div>\n",
       "<style scoped>\n",
       "    .dataframe tbody tr th:only-of-type {\n",
       "        vertical-align: middle;\n",
       "    }\n",
       "\n",
       "    .dataframe tbody tr th {\n",
       "        vertical-align: top;\n",
       "    }\n",
       "\n",
       "    .dataframe thead th {\n",
       "        text-align: right;\n",
       "    }\n",
       "</style>\n",
       "<table border=\"1\" class=\"dataframe\">\n",
       "  <thead>\n",
       "    <tr style=\"text-align: right;\">\n",
       "      <th></th>\n",
       "      <th>Category_Coupe</th>\n",
       "      <th>Category_Goods wagon</th>\n",
       "      <th>Category_Hatchback</th>\n",
       "      <th>Category_Jeep</th>\n",
       "      <th>Category_Limousine</th>\n",
       "      <th>Category_Microbus</th>\n",
       "      <th>Category_Minivan</th>\n",
       "      <th>Category_Pickup</th>\n",
       "      <th>Category_Sedan</th>\n",
       "      <th>Category_Universal</th>\n",
       "      <th>...</th>\n",
       "      <th>Color_Green</th>\n",
       "      <th>Color_Grey</th>\n",
       "      <th>Color_Orange</th>\n",
       "      <th>Color_Pink</th>\n",
       "      <th>Color_Purple</th>\n",
       "      <th>Color_Red</th>\n",
       "      <th>Color_Silver</th>\n",
       "      <th>Color_Sky blue</th>\n",
       "      <th>Color_White</th>\n",
       "      <th>Color_Yellow</th>\n",
       "    </tr>\n",
       "  </thead>\n",
       "  <tbody>\n",
       "    <tr>\n",
       "      <th>19232</th>\n",
       "      <td>0</td>\n",
       "      <td>0</td>\n",
       "      <td>0</td>\n",
       "      <td>0</td>\n",
       "      <td>0</td>\n",
       "      <td>0</td>\n",
       "      <td>1</td>\n",
       "      <td>0</td>\n",
       "      <td>0</td>\n",
       "      <td>0</td>\n",
       "      <td>...</td>\n",
       "      <td>0</td>\n",
       "      <td>0</td>\n",
       "      <td>0</td>\n",
       "      <td>0</td>\n",
       "      <td>0</td>\n",
       "      <td>0</td>\n",
       "      <td>1</td>\n",
       "      <td>0</td>\n",
       "      <td>0</td>\n",
       "      <td>0</td>\n",
       "    </tr>\n",
       "    <tr>\n",
       "      <th>19233</th>\n",
       "      <td>0</td>\n",
       "      <td>0</td>\n",
       "      <td>0</td>\n",
       "      <td>0</td>\n",
       "      <td>0</td>\n",
       "      <td>0</td>\n",
       "      <td>1</td>\n",
       "      <td>0</td>\n",
       "      <td>0</td>\n",
       "      <td>0</td>\n",
       "      <td>...</td>\n",
       "      <td>0</td>\n",
       "      <td>0</td>\n",
       "      <td>0</td>\n",
       "      <td>0</td>\n",
       "      <td>0</td>\n",
       "      <td>1</td>\n",
       "      <td>0</td>\n",
       "      <td>0</td>\n",
       "      <td>0</td>\n",
       "      <td>0</td>\n",
       "    </tr>\n",
       "    <tr>\n",
       "      <th>19234</th>\n",
       "      <td>0</td>\n",
       "      <td>0</td>\n",
       "      <td>0</td>\n",
       "      <td>0</td>\n",
       "      <td>0</td>\n",
       "      <td>0</td>\n",
       "      <td>1</td>\n",
       "      <td>0</td>\n",
       "      <td>0</td>\n",
       "      <td>0</td>\n",
       "      <td>...</td>\n",
       "      <td>0</td>\n",
       "      <td>0</td>\n",
       "      <td>0</td>\n",
       "      <td>0</td>\n",
       "      <td>0</td>\n",
       "      <td>0</td>\n",
       "      <td>1</td>\n",
       "      <td>0</td>\n",
       "      <td>0</td>\n",
       "      <td>0</td>\n",
       "    </tr>\n",
       "    <tr>\n",
       "      <th>19235</th>\n",
       "      <td>0</td>\n",
       "      <td>0</td>\n",
       "      <td>0</td>\n",
       "      <td>0</td>\n",
       "      <td>0</td>\n",
       "      <td>0</td>\n",
       "      <td>1</td>\n",
       "      <td>0</td>\n",
       "      <td>0</td>\n",
       "      <td>0</td>\n",
       "      <td>...</td>\n",
       "      <td>0</td>\n",
       "      <td>0</td>\n",
       "      <td>0</td>\n",
       "      <td>0</td>\n",
       "      <td>0</td>\n",
       "      <td>0</td>\n",
       "      <td>1</td>\n",
       "      <td>0</td>\n",
       "      <td>0</td>\n",
       "      <td>0</td>\n",
       "    </tr>\n",
       "    <tr>\n",
       "      <th>19236</th>\n",
       "      <td>0</td>\n",
       "      <td>0</td>\n",
       "      <td>0</td>\n",
       "      <td>0</td>\n",
       "      <td>0</td>\n",
       "      <td>0</td>\n",
       "      <td>1</td>\n",
       "      <td>0</td>\n",
       "      <td>0</td>\n",
       "      <td>0</td>\n",
       "      <td>...</td>\n",
       "      <td>0</td>\n",
       "      <td>0</td>\n",
       "      <td>0</td>\n",
       "      <td>0</td>\n",
       "      <td>0</td>\n",
       "      <td>0</td>\n",
       "      <td>1</td>\n",
       "      <td>0</td>\n",
       "      <td>0</td>\n",
       "      <td>0</td>\n",
       "    </tr>\n",
       "  </tbody>\n",
       "</table>\n",
       "<p>5 rows × 40 columns</p>\n",
       "</div>"
      ],
      "text/plain": [
       "       Category_Coupe  Category_Goods wagon  Category_Hatchback  \\\n",
       "19232               0                     0                   0   \n",
       "19233               0                     0                   0   \n",
       "19234               0                     0                   0   \n",
       "19235               0                     0                   0   \n",
       "19236               0                     0                   0   \n",
       "\n",
       "       Category_Jeep  Category_Limousine  Category_Microbus  Category_Minivan  \\\n",
       "19232              0                   0                  0                 1   \n",
       "19233              0                   0                  0                 1   \n",
       "19234              0                   0                  0                 1   \n",
       "19235              0                   0                  0                 1   \n",
       "19236              0                   0                  0                 1   \n",
       "\n",
       "       Category_Pickup  Category_Sedan  Category_Universal  ...  Color_Green  \\\n",
       "19232                0               0                   0  ...            0   \n",
       "19233                0               0                   0  ...            0   \n",
       "19234                0               0                   0  ...            0   \n",
       "19235                0               0                   0  ...            0   \n",
       "19236                0               0                   0  ...            0   \n",
       "\n",
       "       Color_Grey  Color_Orange  Color_Pink  Color_Purple  Color_Red  \\\n",
       "19232           0             0           0             0          0   \n",
       "19233           0             0           0             0          1   \n",
       "19234           0             0           0             0          0   \n",
       "19235           0             0           0             0          0   \n",
       "19236           0             0           0             0          0   \n",
       "\n",
       "       Color_Silver  Color_Sky blue  Color_White  Color_Yellow  \n",
       "19232             1               0            0             0  \n",
       "19233             0               0            0             0  \n",
       "19234             1               0            0             0  \n",
       "19235             1               0            0             0  \n",
       "19236             1               0            0             0  \n",
       "\n",
       "[5 rows x 40 columns]"
      ]
     },
     "execution_count": 48,
     "metadata": {},
     "output_type": "execute_result"
    }
   ],
   "source": [
    "df_dummies = pd.get_dummies(df_train[cat_cols], drop_first=True)\n",
    "df_dummies.tail()"
   ]
  },
  {
   "cell_type": "markdown",
   "metadata": {},
   "source": [
    "# Feature Engineering"
   ]
  },
  {
   "cell_type": "code",
   "execution_count": 49,
   "metadata": {},
   "outputs": [
    {
     "name": "stdout",
     "output_type": "stream",
     "text": [
      "37960.000000000015 2003.0\n"
     ]
    }
   ],
   "source": [
    "print (np.quantile(df_train.Mileage, 0.1), np.quantile(df_train['Prod. year'], 0.1))"
   ]
  },
  {
   "cell_type": "code",
   "execution_count": 50,
   "metadata": {},
   "outputs": [
    {
     "data": {
      "text/plain": [
       "<AxesSubplot:xlabel='Prod. year'>"
      ]
     },
     "execution_count": 50,
     "metadata": {},
     "output_type": "execute_result"
    },
    {
     "data": {
      "image/png": "[encoded data removed]",
      "text/plain": [
       "<Figure size 432x288 with 1 Axes>"
      ]
     },
     "metadata": {
      "needs_background": "light"
     },
     "output_type": "display_data"
    }
   ],
   "source": [
    "sns.boxplot(df_train['Prod. year'])"
   ]
  },
  {
   "cell_type": "code",
   "execution_count": 51,
   "metadata": {
    "scrolled": true
   },
   "outputs": [],
   "source": [
    "df_train['KMPerYear'] = np.log(df_train.Mileage / (2021 - df_train['Prod. year']))\n",
    "if not 'KMPerYear' in num_cols:\n",
    "    num_cols.append('KMPerYear')        "
   ]
  },
  {
   "cell_type": "code",
   "execution_count": 52,
   "metadata": {},
   "outputs": [
    {
     "data": {
      "text/plain": [
       "6.7499477435394475"
      ]
     },
     "execution_count": 52,
     "metadata": {},
     "output_type": "execute_result"
    }
   ],
   "source": [
    "np.quantile(df_train.KMPerYear, 0.02)"
   ]
  },
  {
   "cell_type": "code",
   "execution_count": 53,
   "metadata": {},
   "outputs": [
    {
     "data": {
      "text/plain": [
       "<matplotlib.collections.LineCollection at 0x2eef90b8>"
      ]
     },
     "execution_count": 53,
     "metadata": {},
     "output_type": "execute_result"
    },
    {
     "data": {
      "image/png": "[encoded data removed]",
      "text/plain": [
       "<Figure size 1296x288 with 1 Axes>"
      ]
     },
     "metadata": {
      "needs_background": "light"
     },
     "output_type": "display_data"
    }
   ],
   "source": [
    "plt.figure(figsize=(18, 4))\n",
    "sns.histplot(df_train.KMPerYear)\n",
    "plt.vlines(8, ymin=0, ymax=200, colors='r')"
   ]
  },
  {
   "cell_type": "code",
   "execution_count": 54,
   "metadata": {},
   "outputs": [],
   "source": [
    "df_train['Rare'] = ((df_train['Prod. year']<2000) & (df_train.KMPerYear<8) | (df_train.KMPerYear>12.5))\n",
    "if not ('Rare' in num_cols):\n",
    "    num_cols.append('Rare')"
   ]
  },
  {
   "cell_type": "code",
   "execution_count": 55,
   "metadata": {},
   "outputs": [
    {
     "data": {
      "text/plain": [
       "False    19036\n",
       "True       201\n",
       "Name: Rare, dtype: int64"
      ]
     },
     "execution_count": 55,
     "metadata": {},
     "output_type": "execute_result"
    }
   ],
   "source": [
    "df_train.Rare.value_counts()"
   ]
  },
  {
   "cell_type": "code",
   "execution_count": 56,
   "metadata": {},
   "outputs": [],
   "source": [
    "df_train['isTurbo'] = train['Engine volume'].apply(lambda x: x.split(' ')[-1]=='Turbo')\n",
    "if not 'isTurbo' in num_cols:\n",
    "    num_cols.append('isTurbo')"
   ]
  },
  {
   "cell_type": "code",
   "execution_count": 57,
   "metadata": {},
   "outputs": [
    {
     "data": {
      "text/html": [
       "<div>\n",
       "<style scoped>\n",
       "    .dataframe tbody tr th:only-of-type {\n",
       "        vertical-align: middle;\n",
       "    }\n",
       "\n",
       "    .dataframe tbody tr th {\n",
       "        vertical-align: top;\n",
       "    }\n",
       "\n",
       "    .dataframe thead th {\n",
       "        text-align: right;\n",
       "    }\n",
       "</style>\n",
       "<table border=\"1\" class=\"dataframe\">\n",
       "  <thead>\n",
       "    <tr style=\"text-align: right;\">\n",
       "      <th></th>\n",
       "      <th>Levy</th>\n",
       "      <th>Prod. year</th>\n",
       "      <th>Engine volume</th>\n",
       "      <th>Airbags</th>\n",
       "      <th>Cylinders</th>\n",
       "      <th>Mileage</th>\n",
       "      <th>KMPerYear</th>\n",
       "      <th>Rare</th>\n",
       "      <th>isTurbo</th>\n",
       "    </tr>\n",
       "  </thead>\n",
       "  <tbody>\n",
       "    <tr>\n",
       "      <th>16099</th>\n",
       "      <td>891</td>\n",
       "      <td>2016</td>\n",
       "      <td>2.0</td>\n",
       "      <td>4</td>\n",
       "      <td>4</td>\n",
       "      <td>295509.0</td>\n",
       "      <td>10.987017</td>\n",
       "      <td>False</td>\n",
       "      <td>False</td>\n",
       "    </tr>\n",
       "    <tr>\n",
       "      <th>10002</th>\n",
       "      <td>1750</td>\n",
       "      <td>2008</td>\n",
       "      <td>3.3</td>\n",
       "      <td>12</td>\n",
       "      <td>6</td>\n",
       "      <td>190000.0</td>\n",
       "      <td>9.589830</td>\n",
       "      <td>False</td>\n",
       "      <td>False</td>\n",
       "    </tr>\n",
       "    <tr>\n",
       "      <th>15342</th>\n",
       "      <td>891</td>\n",
       "      <td>2016</td>\n",
       "      <td>2.0</td>\n",
       "      <td>4</td>\n",
       "      <td>4</td>\n",
       "      <td>136663.0</td>\n",
       "      <td>10.215835</td>\n",
       "      <td>False</td>\n",
       "      <td>False</td>\n",
       "    </tr>\n",
       "    <tr>\n",
       "      <th>8967</th>\n",
       "      <td>1363</td>\n",
       "      <td>2012</td>\n",
       "      <td>4.6</td>\n",
       "      <td>0</td>\n",
       "      <td>8</td>\n",
       "      <td>150909.0</td>\n",
       "      <td>9.727208</td>\n",
       "      <td>False</td>\n",
       "      <td>False</td>\n",
       "    </tr>\n",
       "    <tr>\n",
       "      <th>11580</th>\n",
       "      <td>1850</td>\n",
       "      <td>2008</td>\n",
       "      <td>3.5</td>\n",
       "      <td>12</td>\n",
       "      <td>6</td>\n",
       "      <td>366869.0</td>\n",
       "      <td>10.247811</td>\n",
       "      <td>False</td>\n",
       "      <td>False</td>\n",
       "    </tr>\n",
       "  </tbody>\n",
       "</table>\n",
       "</div>"
      ],
      "text/plain": [
       "       Levy  Prod. year  Engine volume  Airbags  Cylinders   Mileage  \\\n",
       "16099   891        2016            2.0        4          4  295509.0   \n",
       "10002  1750        2008            3.3       12          6  190000.0   \n",
       "15342   891        2016            2.0        4          4  136663.0   \n",
       "8967   1363        2012            4.6        0          8  150909.0   \n",
       "11580  1850        2008            3.5       12          6  366869.0   \n",
       "\n",
       "       KMPerYear   Rare  isTurbo  \n",
       "16099  10.987017  False    False  \n",
       "10002   9.589830  False    False  \n",
       "15342  10.215835  False    False  \n",
       "8967    9.727208  False    False  \n",
       "11580  10.247811  False    False  "
      ]
     },
     "execution_count": 57,
     "metadata": {},
     "output_type": "execute_result"
    }
   ],
   "source": [
    "df_train[num_cols].sample(5)"
   ]
  },
  {
   "cell_type": "code",
   "execution_count": 58,
   "metadata": {},
   "outputs": [
    {
     "data": {
      "text/plain": [
       "<AxesSubplot:xlabel='ft1', ylabel='Count'>"
      ]
     },
     "execution_count": 58,
     "metadata": {},
     "output_type": "execute_result"
    },
    {
     "data": {
      "image/png": "[encoded data removed]",
      "text/plain": [
       "<Figure size 432x288 with 1 Axes>"
      ]
     },
     "metadata": {
      "needs_background": "light"
     },
     "output_type": "display_data"
    }
   ],
   "source": [
    "df_train['ft1'] = np.sqrt(df_train.Levy) * (2021 - df_train['Prod. year'])\n",
    "if not 'ft1' in num_cols:\n",
    "    num_cols.append('ft1')\n",
    "sns.histplot(df_train.ft1)"
   ]
  },
  {
   "cell_type": "code",
   "execution_count": 59,
   "metadata": {},
   "outputs": [
    {
     "data": {
      "text/plain": [
       "<AxesSubplot:xlabel='ft2', ylabel='Count'>"
      ]
     },
     "execution_count": 59,
     "metadata": {},
     "output_type": "execute_result"
    },
    {
     "data": {
      "image/png": "[encoded data removed]",
      "text/plain": [
       "<Figure size 432x288 with 1 Axes>"
      ]
     },
     "metadata": {
      "needs_background": "light"
     },
     "output_type": "display_data"
    }
   ],
   "source": [
    "df_train['ft2'] = np.sqrt(df_train['Engine volume']) * (2021 - df_train['Prod. year'])\n",
    "df_train.loc[df_train.ft2 > np.quantile(df_train.ft2, 0.99), 'ft2'] =  np.quantile(df_train.ft2, 0.99)\n",
    "if not 'ft2' in num_cols:\n",
    "    num_cols.append('ft2')\n",
    "sns.histplot(df_train.ft2)"
   ]
  },
  {
   "cell_type": "code",
   "execution_count": 60,
   "metadata": {},
   "outputs": [
    {
     "data": {
      "text/plain": [
       "<AxesSubplot:xlabel='ft3', ylabel='Count'>"
      ]
     },
     "execution_count": 60,
     "metadata": {},
     "output_type": "execute_result"
    },
    {
     "data": {
      "image/png": "[encoded data removed]",
      "text/plain": [
       "<Figure size 432x288 with 1 Axes>"
      ]
     },
     "metadata": {
      "needs_background": "light"
     },
     "output_type": "display_data"
    }
   ],
   "source": [
    "df_train['ft3'] = np.sqrt(df_train['Airbags']) * (2021 - df_train['Prod. year'])\n",
    "if not 'ft3' in num_cols:\n",
    "    num_cols.append('ft3')\n",
    "sns.histplot(df_train.ft3)"
   ]
  },
  {
   "cell_type": "code",
   "execution_count": 61,
   "metadata": {},
   "outputs": [],
   "source": [
    "num_cols.remove('ft2')"
   ]
  },
  {
   "cell_type": "markdown",
   "metadata": {},
   "source": [
    "# Base N Encoding"
   ]
  },
  {
   "cell_type": "code",
   "execution_count": 62,
   "metadata": {},
   "outputs": [],
   "source": [
    "import category_encoders as ce"
   ]
  },
  {
   "cell_type": "markdown",
   "metadata": {},
   "source": [
    "### Manufacturer"
   ]
  },
  {
   "cell_type": "code",
   "execution_count": 63,
   "metadata": {},
   "outputs": [
    {
     "data": {
      "text/html": [
       "<div>\n",
       "<style scoped>\n",
       "    .dataframe tbody tr th:only-of-type {\n",
       "        vertical-align: middle;\n",
       "    }\n",
       "\n",
       "    .dataframe tbody tr th {\n",
       "        vertical-align: top;\n",
       "    }\n",
       "\n",
       "    .dataframe thead th {\n",
       "        text-align: right;\n",
       "    }\n",
       "</style>\n",
       "<table border=\"1\" class=\"dataframe\">\n",
       "  <thead>\n",
       "    <tr style=\"text-align: right;\">\n",
       "      <th></th>\n",
       "      <th>Manufacturer_0</th>\n",
       "      <th>Manufacturer_1</th>\n",
       "      <th>Manufacturer_2</th>\n",
       "      <th>Manufacturer_3</th>\n",
       "      <th>Manufacturer_4</th>\n",
       "    </tr>\n",
       "  </thead>\n",
       "  <tbody>\n",
       "    <tr>\n",
       "      <th>4776</th>\n",
       "      <td>0</td>\n",
       "      <td>0</td>\n",
       "      <td>1</td>\n",
       "      <td>0</td>\n",
       "      <td>0</td>\n",
       "    </tr>\n",
       "    <tr>\n",
       "      <th>1697</th>\n",
       "      <td>0</td>\n",
       "      <td>0</td>\n",
       "      <td>1</td>\n",
       "      <td>1</td>\n",
       "      <td>2</td>\n",
       "    </tr>\n",
       "    <tr>\n",
       "      <th>9936</th>\n",
       "      <td>0</td>\n",
       "      <td>0</td>\n",
       "      <td>1</td>\n",
       "      <td>1</td>\n",
       "      <td>2</td>\n",
       "    </tr>\n",
       "    <tr>\n",
       "      <th>13020</th>\n",
       "      <td>0</td>\n",
       "      <td>0</td>\n",
       "      <td>1</td>\n",
       "      <td>1</td>\n",
       "      <td>2</td>\n",
       "    </tr>\n",
       "    <tr>\n",
       "      <th>11568</th>\n",
       "      <td>0</td>\n",
       "      <td>0</td>\n",
       "      <td>0</td>\n",
       "      <td>1</td>\n",
       "      <td>1</td>\n",
       "    </tr>\n",
       "  </tbody>\n",
       "</table>\n",
       "</div>"
      ],
      "text/plain": [
       "       Manufacturer_0  Manufacturer_1  Manufacturer_2  Manufacturer_3  \\\n",
       "4776                0               0               1               0   \n",
       "1697                0               0               1               1   \n",
       "9936                0               0               1               1   \n",
       "13020               0               0               1               1   \n",
       "11568               0               0               0               1   \n",
       "\n",
       "       Manufacturer_4  \n",
       "4776                0  \n",
       "1697                2  \n",
       "9936                2  \n",
       "13020               2  \n",
       "11568               1  "
      ]
     },
     "execution_count": 63,
     "metadata": {},
     "output_type": "execute_result"
    }
   ],
   "source": [
    "manf_encoder = ce.BaseNEncoder(cols=['Manufacturer'], return_df = True, base=4)\n",
    "manf_encoder.fit(df_train[['Manufacturer']])\n",
    "manf_df = manf_encoder.transform((df_train[['Manufacturer']]))\n",
    "manf_df.sample(5)"
   ]
  },
  {
   "cell_type": "markdown",
   "metadata": {},
   "source": [
    "### Model Name"
   ]
  },
  {
   "cell_type": "code",
   "execution_count": 64,
   "metadata": {},
   "outputs": [],
   "source": [
    "df_train['ModelName'] = df_train.Model.apply(lambda x: x.split(' ')[0])\n",
    "df_train.loc[df_train.ModelName.apply(lambda x : x.isnumeric()), 'ModelName'] = 'Others'\n",
    "df_train.loc[df_train.ModelName.apply(lambda x : '+' in x), 'ModelName'] = 'Others'"
   ]
  },
  {
   "cell_type": "code",
   "execution_count": 65,
   "metadata": {},
   "outputs": [
    {
     "data": {
      "text/html": [
       "<div>\n",
       "<style scoped>\n",
       "    .dataframe tbody tr th:only-of-type {\n",
       "        vertical-align: middle;\n",
       "    }\n",
       "\n",
       "    .dataframe tbody tr th {\n",
       "        vertical-align: top;\n",
       "    }\n",
       "\n",
       "    .dataframe thead th {\n",
       "        text-align: right;\n",
       "    }\n",
       "</style>\n",
       "<table border=\"1\" class=\"dataframe\">\n",
       "  <thead>\n",
       "    <tr style=\"text-align: right;\">\n",
       "      <th></th>\n",
       "      <th>ModelName_0</th>\n",
       "      <th>ModelName_1</th>\n",
       "      <th>ModelName_2</th>\n",
       "      <th>ModelName_3</th>\n",
       "      <th>ModelName_4</th>\n",
       "    </tr>\n",
       "  </thead>\n",
       "  <tbody>\n",
       "    <tr>\n",
       "      <th>7141</th>\n",
       "      <td>0</td>\n",
       "      <td>0</td>\n",
       "      <td>4</td>\n",
       "      <td>2</td>\n",
       "      <td>1</td>\n",
       "    </tr>\n",
       "    <tr>\n",
       "      <th>6236</th>\n",
       "      <td>0</td>\n",
       "      <td>0</td>\n",
       "      <td>4</td>\n",
       "      <td>0</td>\n",
       "      <td>1</td>\n",
       "    </tr>\n",
       "    <tr>\n",
       "      <th>2831</th>\n",
       "      <td>0</td>\n",
       "      <td>0</td>\n",
       "      <td>1</td>\n",
       "      <td>5</td>\n",
       "      <td>2</td>\n",
       "    </tr>\n",
       "    <tr>\n",
       "      <th>6898</th>\n",
       "      <td>0</td>\n",
       "      <td>0</td>\n",
       "      <td>4</td>\n",
       "      <td>0</td>\n",
       "      <td>1</td>\n",
       "    </tr>\n",
       "    <tr>\n",
       "      <th>12583</th>\n",
       "      <td>0</td>\n",
       "      <td>1</td>\n",
       "      <td>3</td>\n",
       "      <td>3</td>\n",
       "      <td>2</td>\n",
       "    </tr>\n",
       "  </tbody>\n",
       "</table>\n",
       "</div>"
      ],
      "text/plain": [
       "       ModelName_0  ModelName_1  ModelName_2  ModelName_3  ModelName_4\n",
       "7141             0            0            4            2            1\n",
       "6236             0            0            4            0            1\n",
       "2831             0            0            1            5            2\n",
       "6898             0            0            4            0            1\n",
       "12583            0            1            3            3            2"
      ]
     },
     "execution_count": 65,
     "metadata": {},
     "output_type": "execute_result"
    }
   ],
   "source": [
    "name_encoder = ce.BaseNEncoder(cols=['ModelName'], return_df = True, base=6)\n",
    "name_encoder.fit(df_train[['ModelName']])\n",
    "model_df = name_encoder.transform((df_train[['ModelName']]))\n",
    "model_df.sample(5)"
   ]
  },
  {
   "cell_type": "markdown",
   "metadata": {},
   "source": [
    "# Modelling"
   ]
  },
  {
   "cell_type": "code",
   "execution_count": 66,
   "metadata": {},
   "outputs": [
    {
     "data": {
      "text/html": [
       "<div>\n",
       "<style scoped>\n",
       "    .dataframe tbody tr th:only-of-type {\n",
       "        vertical-align: middle;\n",
       "    }\n",
       "\n",
       "    .dataframe tbody tr th {\n",
       "        vertical-align: top;\n",
       "    }\n",
       "\n",
       "    .dataframe thead th {\n",
       "        text-align: right;\n",
       "    }\n",
       "</style>\n",
       "<table border=\"1\" class=\"dataframe\">\n",
       "  <thead>\n",
       "    <tr style=\"text-align: right;\">\n",
       "      <th></th>\n",
       "      <th>Levy</th>\n",
       "      <th>Prod. year</th>\n",
       "      <th>Engine volume</th>\n",
       "      <th>Airbags</th>\n",
       "      <th>Cylinders</th>\n",
       "      <th>Mileage</th>\n",
       "      <th>KMPerYear</th>\n",
       "      <th>Rare</th>\n",
       "      <th>isTurbo</th>\n",
       "      <th>ft1</th>\n",
       "      <th>...</th>\n",
       "      <th>ModelName_0</th>\n",
       "      <th>ModelName_1</th>\n",
       "      <th>ModelName_2</th>\n",
       "      <th>ModelName_3</th>\n",
       "      <th>ModelName_4</th>\n",
       "      <th>Manufacturer_0</th>\n",
       "      <th>Manufacturer_1</th>\n",
       "      <th>Manufacturer_2</th>\n",
       "      <th>Manufacturer_3</th>\n",
       "      <th>Manufacturer_4</th>\n",
       "    </tr>\n",
       "  </thead>\n",
       "  <tbody>\n",
       "    <tr>\n",
       "      <th>16814</th>\n",
       "      <td>753</td>\n",
       "      <td>2012</td>\n",
       "      <td>2.4</td>\n",
       "      <td>12</td>\n",
       "      <td>4</td>\n",
       "      <td>152466.0</td>\n",
       "      <td>9.737472</td>\n",
       "      <td>False</td>\n",
       "      <td>False</td>\n",
       "      <td>246.967609</td>\n",
       "      <td>...</td>\n",
       "      <td>0</td>\n",
       "      <td>2</td>\n",
       "      <td>0</td>\n",
       "      <td>0</td>\n",
       "      <td>5</td>\n",
       "      <td>0</td>\n",
       "      <td>0</td>\n",
       "      <td>1</td>\n",
       "      <td>3</td>\n",
       "      <td>3</td>\n",
       "    </tr>\n",
       "    <tr>\n",
       "      <th>17495</th>\n",
       "      <td>0</td>\n",
       "      <td>2004</td>\n",
       "      <td>1.8</td>\n",
       "      <td>2</td>\n",
       "      <td>4</td>\n",
       "      <td>223000.0</td>\n",
       "      <td>9.481714</td>\n",
       "      <td>False</td>\n",
       "      <td>False</td>\n",
       "      <td>0.000000</td>\n",
       "      <td>...</td>\n",
       "      <td>0</td>\n",
       "      <td>2</td>\n",
       "      <td>0</td>\n",
       "      <td>5</td>\n",
       "      <td>5</td>\n",
       "      <td>0</td>\n",
       "      <td>0</td>\n",
       "      <td>2</td>\n",
       "      <td>0</td>\n",
       "      <td>3</td>\n",
       "    </tr>\n",
       "    <tr>\n",
       "      <th>4310</th>\n",
       "      <td>891</td>\n",
       "      <td>2016</td>\n",
       "      <td>2.0</td>\n",
       "      <td>12</td>\n",
       "      <td>4</td>\n",
       "      <td>59408.0</td>\n",
       "      <td>9.382746</td>\n",
       "      <td>False</td>\n",
       "      <td>False</td>\n",
       "      <td>149.248116</td>\n",
       "      <td>...</td>\n",
       "      <td>0</td>\n",
       "      <td>0</td>\n",
       "      <td>2</td>\n",
       "      <td>5</td>\n",
       "      <td>4</td>\n",
       "      <td>0</td>\n",
       "      <td>0</td>\n",
       "      <td>2</td>\n",
       "      <td>2</td>\n",
       "      <td>2</td>\n",
       "    </tr>\n",
       "    <tr>\n",
       "      <th>1935</th>\n",
       "      <td>1518</td>\n",
       "      <td>2003</td>\n",
       "      <td>1.8</td>\n",
       "      <td>4</td>\n",
       "      <td>4</td>\n",
       "      <td>23450.0</td>\n",
       "      <td>7.172254</td>\n",
       "      <td>False</td>\n",
       "      <td>False</td>\n",
       "      <td>701.307351</td>\n",
       "      <td>...</td>\n",
       "      <td>0</td>\n",
       "      <td>0</td>\n",
       "      <td>0</td>\n",
       "      <td>5</td>\n",
       "      <td>4</td>\n",
       "      <td>0</td>\n",
       "      <td>0</td>\n",
       "      <td>1</td>\n",
       "      <td>3</td>\n",
       "      <td>0</td>\n",
       "    </tr>\n",
       "    <tr>\n",
       "      <th>15285</th>\n",
       "      <td>1079</td>\n",
       "      <td>2018</td>\n",
       "      <td>2.0</td>\n",
       "      <td>4</td>\n",
       "      <td>4</td>\n",
       "      <td>69000.0</td>\n",
       "      <td>10.043249</td>\n",
       "      <td>False</td>\n",
       "      <td>False</td>\n",
       "      <td>98.544406</td>\n",
       "      <td>...</td>\n",
       "      <td>0</td>\n",
       "      <td>1</td>\n",
       "      <td>5</td>\n",
       "      <td>1</td>\n",
       "      <td>5</td>\n",
       "      <td>0</td>\n",
       "      <td>0</td>\n",
       "      <td>1</td>\n",
       "      <td>2</td>\n",
       "      <td>1</td>\n",
       "    </tr>\n",
       "  </tbody>\n",
       "</table>\n",
       "<p>5 rows × 61 columns</p>\n",
       "</div>"
      ],
      "text/plain": [
       "       Levy  Prod. year  Engine volume  Airbags  Cylinders   Mileage  \\\n",
       "16814   753        2012            2.4       12          4  152466.0   \n",
       "17495     0        2004            1.8        2          4  223000.0   \n",
       "4310    891        2016            2.0       12          4   59408.0   \n",
       "1935   1518        2003            1.8        4          4   23450.0   \n",
       "15285  1079        2018            2.0        4          4   69000.0   \n",
       "\n",
       "       KMPerYear   Rare  isTurbo         ft1  ...  ModelName_0  ModelName_1  \\\n",
       "16814   9.737472  False    False  246.967609  ...            0            2   \n",
       "17495   9.481714  False    False    0.000000  ...            0            2   \n",
       "4310    9.382746  False    False  149.248116  ...            0            0   \n",
       "1935    7.172254  False    False  701.307351  ...            0            0   \n",
       "15285  10.043249  False    False   98.544406  ...            0            1   \n",
       "\n",
       "       ModelName_2  ModelName_3  ModelName_4  Manufacturer_0  Manufacturer_1  \\\n",
       "16814            0            0            5               0               0   \n",
       "17495            0            5            5               0               0   \n",
       "4310             2            5            4               0               0   \n",
       "1935             0            5            4               0               0   \n",
       "15285            5            1            5               0               0   \n",
       "\n",
       "       Manufacturer_2  Manufacturer_3  Manufacturer_4  \n",
       "16814               1               3               3  \n",
       "17495               2               0               3  \n",
       "4310                2               2               2  \n",
       "1935                1               3               0  \n",
       "15285               1               2               1  \n",
       "\n",
       "[5 rows x 61 columns]"
      ]
     },
     "execution_count": 66,
     "metadata": {},
     "output_type": "execute_result"
    }
   ],
   "source": [
    "from sklearn.preprocessing import StandardScaler, MinMaxScaler\n",
    "from sklearn.model_selection import train_test_split\n",
    "\n",
    "X = pd.concat([df_train[num_cols], df_dummies, model_df, manf_df], axis=1)\n",
    "y = df_train.cappedLogPrice\n",
    "#y = train.logPrice\n",
    "X_cols = X.columns.to_list()\n",
    "\n",
    "X_train, X_test, y_train, y_test = train_test_split(X[X_cols], y, \n",
    "                                                    test_size = 0.2, random_state = 42,\n",
    "                                                    stratify = df_train.Airbags)\n",
    "scaler = StandardScaler()\n",
    "\n",
    "X_train_scaled = pd.DataFrame(scaler.fit_transform(X_train), columns=X_cols)\n",
    "X_test_scaled  = pd.DataFrame(scaler.transform(X_test), columns=X_cols)\n",
    "X_train.head()"
   ]
  },
  {
   "cell_type": "markdown",
   "metadata": {},
   "source": [
    "# Random Forest"
   ]
  },
  {
   "cell_type": "code",
   "execution_count": 67,
   "metadata": {},
   "outputs": [
    {
     "name": "stdout",
     "output_type": "stream",
     "text": [
      "0.9554427399635642 0.7252552484929253\n"
     ]
    }
   ],
   "source": [
    "rf_best = RandomForestRegressor(bootstrap=False, max_depth=80, max_features='sqrt', random_state=42,\n",
    "                      min_samples_split=5, n_estimators=133).fit(X_train_scaled, y_train)\n",
    "print (rf_best.score(X_train_scaled, y_train), rf_best.score(X_test_scaled, y_test))"
   ]
  },
  {
   "cell_type": "code",
   "execution_count": 74,
   "metadata": {},
   "outputs": [],
   "source": [
    "rf_prod = RandomForestRegressor(bootstrap=False, max_depth=80, max_features='sqrt', random_state=42,\n",
    "                      min_samples_split=5, n_estimators=133).fit(X[X_cols], y)"
   ]
  },
  {
   "cell_type": "code",
   "execution_count": 68,
   "metadata": {},
   "outputs": [
    {
     "data": {
      "text/plain": [
       "0.7970917058644738"
      ]
     },
     "execution_count": 68,
     "metadata": {},
     "output_type": "execute_result"
    }
   ],
   "source": [
    "from sklearn.metrics import mean_squared_log_error\n",
    "np.sqrt(mean_squared_log_error(\n",
    "        np.exp(y_test), \n",
    "        np.exp(rf_best.predict(X_test_scaled))))"
   ]
  },
  {
   "cell_type": "code",
   "execution_count": 69,
   "metadata": {},
   "outputs": [
    {
     "data": {
      "text/plain": [
       "0.3196244949786703"
      ]
     },
     "execution_count": 69,
     "metadata": {},
     "output_type": "execute_result"
    }
   ],
   "source": [
    "from sklearn.metrics import mean_squared_log_error\n",
    "np.sqrt(mean_squared_log_error(\n",
    "        np.exp(y_train), \n",
    "        np.exp(rf_best.predict(X_train_scaled))))"
   ]
  },
  {
   "cell_type": "code",
   "execution_count": 116,
   "metadata": {},
   "outputs": [
    {
     "data": {
      "text/plain": [
       "<AxesSubplot:xlabel='Importance', ylabel='Feature'>"
      ]
     },
     "execution_count": 116,
     "metadata": {},
     "output_type": "execute_result"
    },
    {
     "data": {
      "image/png": "[encoded data removed]",
      "text/plain": [
       "<Figure size 432x288 with 1 Axes>"
      ]
     },
     "metadata": {
      "needs_background": "light"
     },
     "output_type": "display_data"
    }
   ],
   "source": [
    "df_importance = pd.DataFrame(rf_best.feature_importances_, columns = ['Importance'])\n",
    "df_importance['Feature'] = X_cols\n",
    "df_importance = df_importance[['Feature', 'Importance']].sort_values(by='Importance', ascending=False)\n",
    "sns.barplot(x='Importance', y='Feature', data=df_importance.head(15))"
   ]
  },
  {
   "cell_type": "markdown",
   "metadata": {},
   "source": [
    "---\n"
   ]
  },
  {
   "cell_type": "markdown",
   "metadata": {},
   "source": [
    "# XGBoost"
   ]
  },
  {
   "cell_type": "code",
   "execution_count": 131,
   "metadata": {},
   "outputs": [],
   "source": [
    "def hyperParameterTuning(X_train, y_train):\n",
    "    param_tuning = {\n",
    "        'learning_rate': [0.01, 0.1],\n",
    "        'max_depth': [3, 5, 7, 10],\n",
    "        'min_child_weight': [1, 3, 5],\n",
    "        'subsample': [0.5, 0.7],\n",
    "        'colsample_bytree': [0.5, 0.7],\n",
    "        'n_estimators' : [100, 200, 500],\n",
    "        'objective': ['reg:squarederror']\n",
    "    }\n",
    "\n",
    "    xgb_model = XGBRegressor()\n",
    "    gsearch = RandomizedSearchCV(estimator = xgb_model,\n",
    "                           param_distributions = param_tuning,                        \n",
    "                           cv = 5,\n",
    "                           n_jobs = -1,\n",
    "                           verbose = 1)\n",
    "\n",
    "    gsearch.fit(X_train_scaled,y_train)\n",
    "\n",
    "    return gsearch.best_params_\n",
    "#hyperParameterTuning(X_train_scaled, y_train)"
   ]
  },
  {
   "cell_type": "code",
   "execution_count": 132,
   "metadata": {},
   "outputs": [
    {
     "name": "stdout",
     "output_type": "stream",
     "text": [
      "0.6964697425906154\n"
     ]
    }
   ],
   "source": [
    "xg_model = XGBRegressor(subsample= 0.5,\n",
    " objective= 'reg:squarederror',\n",
    " n_estimators= 500,\n",
    " min_child_weight= 1,\n",
    " max_depth= 10,\n",
    " learning_rate= 0.1,\n",
    " colsample_bytree= 0.5).fit(X_train_scaled, y_train)\n",
    "\n",
    "print (xg_model.score(X_test_scaled, y_test))"
   ]
  },
  {
   "cell_type": "markdown",
   "metadata": {},
   "source": [
    "# Ensemble - Stack Regression and Voting"
   ]
  },
  {
   "cell_type": "code",
   "execution_count": 70,
   "metadata": {
    "scrolled": true
   },
   "outputs": [
    {
     "data": {
      "text/plain": [
       "0.724110313340773"
      ]
     },
     "execution_count": 70,
     "metadata": {},
     "output_type": "execute_result"
    }
   ],
   "source": [
    "ens_rf = RandomForestRegressor(bootstrap=False, max_depth=80, max_features='sqrt', random_state=42,\n",
    "                      min_samples_split=5, n_estimators=133)\n",
    "ens_xg = XGBRegressor(subsample= 0.5, objective= 'reg:squarederror', n_estimators= 500, min_child_weight= 1,\n",
    "                      max_depth= 10, learning_rate= 0.1, colsample_bytree= 0.5)\n",
    "ens_ext = ExtraTreesRegressor(max_depth=80, max_features='sqrt', random_state=42,\n",
    "                      min_samples_split=5, n_estimators=133)\n",
    "\n",
    "vot_model = VotingRegressor([('rf', ens_rf), ('xg', ens_xg), ('ext', ens_ext)])\n",
    "vot_model.fit(X_train_scaled, y_train)\n",
    "vot_model.score(X_test_scaled, y_test)"
   ]
  },
  {
   "cell_type": "code",
   "execution_count": 71,
   "metadata": {},
   "outputs": [
    {
     "data": {
      "text/plain": [
       "0.7987639685951297"
      ]
     },
     "execution_count": 71,
     "metadata": {},
     "output_type": "execute_result"
    }
   ],
   "source": [
    "np.sqrt(mean_squared_log_error(\n",
    "        np.exp(y_test), \n",
    "        np.exp(vot_model.predict(X_test_scaled))))"
   ]
  },
  {
   "cell_type": "code",
   "execution_count": 155,
   "metadata": {},
   "outputs": [
    {
     "data": {
      "text/plain": [
       "0.30181126739014574"
      ]
     },
     "execution_count": 155,
     "metadata": {},
     "output_type": "execute_result"
    }
   ],
   "source": [
    "np.sqrt(mean_squared_log_error(\n",
    "        np.exp(y_train), \n",
    "        np.exp(vot_model.predict(X_train_scaled))))"
   ]
  },
  {
   "cell_type": "code",
   "execution_count": 72,
   "metadata": {},
   "outputs": [
    {
     "data": {
      "text/plain": [
       "0.7059790626667407"
      ]
     },
     "execution_count": 72,
     "metadata": {},
     "output_type": "execute_result"
    }
   ],
   "source": [
    "ext_model = ExtraTreesRegressor(max_depth=80, max_features='sqrt', random_state=42,\n",
    "                      min_samples_split=5, n_estimators=133)\n",
    "ext_model.fit(X_train_scaled, y_train)\n",
    "ext_model.score(X_test_scaled, y_test)"
   ]
  },
  {
   "cell_type": "markdown",
   "metadata": {},
   "source": [
    "---"
   ]
  },
  {
   "cell_type": "code",
   "execution_count": 75,
   "metadata": {
    "scrolled": false
   },
   "outputs": [
    {
     "data": {
      "text/html": [
       "<div>\n",
       "<style scoped>\n",
       "    .dataframe tbody tr th:only-of-type {\n",
       "        vertical-align: middle;\n",
       "    }\n",
       "\n",
       "    .dataframe tbody tr th {\n",
       "        vertical-align: top;\n",
       "    }\n",
       "\n",
       "    .dataframe thead th {\n",
       "        text-align: right;\n",
       "    }\n",
       "</style>\n",
       "<table border=\"1\" class=\"dataframe\">\n",
       "  <thead>\n",
       "    <tr style=\"text-align: right;\">\n",
       "      <th></th>\n",
       "      <th>Levy</th>\n",
       "      <th>Prod. year</th>\n",
       "      <th>Engine volume</th>\n",
       "      <th>Airbags</th>\n",
       "      <th>Cylinders</th>\n",
       "      <th>Mileage</th>\n",
       "      <th>KMPerYear</th>\n",
       "      <th>Rare</th>\n",
       "      <th>isTurbo</th>\n",
       "      <th>ft1</th>\n",
       "      <th>...</th>\n",
       "      <th>ModelName_0</th>\n",
       "      <th>ModelName_1</th>\n",
       "      <th>ModelName_2</th>\n",
       "      <th>ModelName_3</th>\n",
       "      <th>ModelName_4</th>\n",
       "      <th>Manufacturer_0</th>\n",
       "      <th>Manufacturer_1</th>\n",
       "      <th>Manufacturer_2</th>\n",
       "      <th>Manufacturer_3</th>\n",
       "      <th>Manufacturer_4</th>\n",
       "    </tr>\n",
       "  </thead>\n",
       "  <tbody>\n",
       "    <tr>\n",
       "      <th>0</th>\n",
       "      <td>-1.111501</td>\n",
       "      <td>0.195164</td>\n",
       "      <td>-0.349990</td>\n",
       "      <td>0.791105</td>\n",
       "      <td>-0.483287</td>\n",
       "      <td>-0.019847</td>\n",
       "      <td>0.281132</td>\n",
       "      <td>-0.105689</td>\n",
       "      <td>2.995568</td>\n",
       "      <td>-1.040142</td>\n",
       "      <td>...</td>\n",
       "      <td>0.0</td>\n",
       "      <td>-0.952072</td>\n",
       "      <td>1.538404</td>\n",
       "      <td>1.125706</td>\n",
       "      <td>-1.478144</td>\n",
       "      <td>0.0</td>\n",
       "      <td>-0.008061</td>\n",
       "      <td>0.057415</td>\n",
       "      <td>-0.261412</td>\n",
       "      <td>-1.468745</td>\n",
       "    </tr>\n",
       "    <tr>\n",
       "      <th>1</th>\n",
       "      <td>-1.111501</td>\n",
       "      <td>0.195164</td>\n",
       "      <td>0.110933</td>\n",
       "      <td>0.791105</td>\n",
       "      <td>-0.483287</td>\n",
       "      <td>-1.219124</td>\n",
       "      <td>-1.583440</td>\n",
       "      <td>-0.105689</td>\n",
       "      <td>-0.333826</td>\n",
       "      <td>-1.040142</td>\n",
       "      <td>...</td>\n",
       "      <td>0.0</td>\n",
       "      <td>0.482234</td>\n",
       "      <td>1.538404</td>\n",
       "      <td>1.125706</td>\n",
       "      <td>1.445054</td>\n",
       "      <td>0.0</td>\n",
       "      <td>-0.008061</td>\n",
       "      <td>0.057415</td>\n",
       "      <td>0.780243</td>\n",
       "      <td>-0.446700</td>\n",
       "    </tr>\n",
       "    <tr>\n",
       "      <th>2</th>\n",
       "      <td>-1.111501</td>\n",
       "      <td>-1.026999</td>\n",
       "      <td>-0.926144</td>\n",
       "      <td>0.328159</td>\n",
       "      <td>-0.483287</td>\n",
       "      <td>0.224074</td>\n",
       "      <td>-0.177695</td>\n",
       "      <td>-0.105689</td>\n",
       "      <td>-0.333826</td>\n",
       "      <td>-1.040142</td>\n",
       "      <td>...</td>\n",
       "      <td>0.0</td>\n",
       "      <td>1.916541</td>\n",
       "      <td>-1.331163</td>\n",
       "      <td>0.622028</td>\n",
       "      <td>0.275775</td>\n",
       "      <td>0.0</td>\n",
       "      <td>-0.008061</td>\n",
       "      <td>0.057415</td>\n",
       "      <td>-1.303068</td>\n",
       "      <td>1.597389</td>\n",
       "    </tr>\n",
       "    <tr>\n",
       "      <th>3</th>\n",
       "      <td>0.600847</td>\n",
       "      <td>0.195164</td>\n",
       "      <td>1.032778</td>\n",
       "      <td>1.254051</td>\n",
       "      <td>1.190838</td>\n",
       "      <td>-0.030010</td>\n",
       "      <td>0.273541</td>\n",
       "      <td>-0.105689</td>\n",
       "      <td>-0.333826</td>\n",
       "      <td>0.734690</td>\n",
       "      <td>...</td>\n",
       "      <td>0.0</td>\n",
       "      <td>1.916541</td>\n",
       "      <td>-0.183336</td>\n",
       "      <td>-0.889005</td>\n",
       "      <td>-0.308865</td>\n",
       "      <td>0.0</td>\n",
       "      <td>-0.008061</td>\n",
       "      <td>-1.560818</td>\n",
       "      <td>1.821899</td>\n",
       "      <td>0.575344</td>\n",
       "    </tr>\n",
       "    <tr>\n",
       "      <th>4</th>\n",
       "      <td>-1.111501</td>\n",
       "      <td>-3.122136</td>\n",
       "      <td>-0.810913</td>\n",
       "      <td>-1.523624</td>\n",
       "      <td>-0.483287</td>\n",
       "      <td>0.549302</td>\n",
       "      <td>-0.597361</td>\n",
       "      <td>-0.105689</td>\n",
       "      <td>-0.333826</td>\n",
       "      <td>-1.040142</td>\n",
       "      <td>...</td>\n",
       "      <td>0.0</td>\n",
       "      <td>-0.952072</td>\n",
       "      <td>-1.331163</td>\n",
       "      <td>1.125706</td>\n",
       "      <td>0.860415</td>\n",
       "      <td>0.0</td>\n",
       "      <td>-0.008061</td>\n",
       "      <td>0.057415</td>\n",
       "      <td>1.821899</td>\n",
       "      <td>-1.468745</td>\n",
       "    </tr>\n",
       "  </tbody>\n",
       "</table>\n",
       "<p>5 rows × 61 columns</p>\n",
       "</div>"
      ],
      "text/plain": [
       "       Levy  Prod. year  Engine volume   Airbags  Cylinders   Mileage  \\\n",
       "0 -1.111501    0.195164      -0.349990  0.791105  -0.483287 -0.019847   \n",
       "1 -1.111501    0.195164       0.110933  0.791105  -0.483287 -1.219124   \n",
       "2 -1.111501   -1.026999      -0.926144  0.328159  -0.483287  0.224074   \n",
       "3  0.600847    0.195164       1.032778  1.254051   1.190838 -0.030010   \n",
       "4 -1.111501   -3.122136      -0.810913 -1.523624  -0.483287  0.549302   \n",
       "\n",
       "   KMPerYear      Rare   isTurbo       ft1  ...  ModelName_0  ModelName_1  \\\n",
       "0   0.281132 -0.105689  2.995568 -1.040142  ...          0.0    -0.952072   \n",
       "1  -1.583440 -0.105689 -0.333826 -1.040142  ...          0.0     0.482234   \n",
       "2  -0.177695 -0.105689 -0.333826 -1.040142  ...          0.0     1.916541   \n",
       "3   0.273541 -0.105689 -0.333826  0.734690  ...          0.0     1.916541   \n",
       "4  -0.597361 -0.105689 -0.333826 -1.040142  ...          0.0    -0.952072   \n",
       "\n",
       "   ModelName_2  ModelName_3  ModelName_4  Manufacturer_0  Manufacturer_1  \\\n",
       "0     1.538404     1.125706    -1.478144             0.0       -0.008061   \n",
       "1     1.538404     1.125706     1.445054             0.0       -0.008061   \n",
       "2    -1.331163     0.622028     0.275775             0.0       -0.008061   \n",
       "3    -0.183336    -0.889005    -0.308865             0.0       -0.008061   \n",
       "4    -1.331163     1.125706     0.860415             0.0       -0.008061   \n",
       "\n",
       "   Manufacturer_2  Manufacturer_3  Manufacturer_4  \n",
       "0        0.057415       -0.261412       -1.468745  \n",
       "1        0.057415        0.780243       -0.446700  \n",
       "2        0.057415       -1.303068        1.597389  \n",
       "3       -1.560818        1.821899        0.575344  \n",
       "4        0.057415        1.821899       -1.468745  \n",
       "\n",
       "[5 rows x 61 columns]"
      ]
     },
     "execution_count": 75,
     "metadata": {},
     "output_type": "execute_result"
    }
   ],
   "source": [
    "df_test = test.drop(columns = 'ID')\n",
    "\n",
    "df_test.loc[df_test.Levy=='-', 'Levy'] = 0\n",
    "df_test.loc[df_test.Doors=='04-May', 'Doors'] = '4-May'\n",
    "df_test.loc[df_test.Doors=='02-Mar', 'Doors'] = '2-Mar'\n",
    "\n",
    "df_test.Mileage = df_test.Mileage.apply(lambda x: int(x[:-3]))\n",
    "df_test.loc[df_test.Mileage==0, 'Mileage'] = None\n",
    "df_test['Mileage'] = df_test['Mileage'].\\\n",
    "                        fillna(df_test.groupby('Prod. year')['Mileage'].transform('median'))\n",
    "df_test.Mileage.fillna(df_test.Mileage.mean(), inplace=True)\n",
    "\n",
    "df_test['Engine volume'].apply(lambda x: float(x.split(' ')[0]))\n",
    "df_test['Engine volume'] = df_test['Engine volume'].apply(lambda x: float(x.split(' ')[0]))\n",
    "\n",
    "df_test.Levy = df_test.Levy.astype(int)\n",
    "df_test.loc[df_test.Cylinders > 15, 'Cylinders'] = 15\n",
    "\n",
    "df_dummies_test = pd.get_dummies(df_test[cat_cols], drop_first=True)\n",
    "\n",
    "df_test['KMPerYear'] = np.log((df_test.Mileage) / (2021 - df_test['Prod. year']))\n",
    "\n",
    "df_test['Rare'] = ((df_test['Prod. year']<2000) & (df_test.KMPerYear<8) | (df_test.KMPerYear>12.5))\n",
    "df_test['isTurbo'] = test['Engine volume'].apply(lambda x: x.split(' ')[-1]=='Turbo')\n",
    "\n",
    "df_test['ft1'] = np.sqrt(df_test.Levy) * (2021 - df_test['Prod. year'])\n",
    "#df_test['ft2'] = np.sqrt(df_test['Engine volume']) * (2021 - df_test['Prod. year'])\n",
    "df_test['ft3'] = np.sqrt(df_test['Airbags']) * (2021 - df_test['Prod. year'])\n",
    "\n",
    "df_test['ModelName'] = df_test.Model.apply(lambda x: x.split(' ')[0])\n",
    "df_test.loc[df_test.ModelName.apply(lambda x : x.isnumeric()), 'ModelName'] = 'Others'\n",
    "df_test.loc[df_test.ModelName.apply(lambda x : '+' in x), 'ModelName'] = 'Others'\n",
    "\n",
    "model_df_test = name_encoder.transform(df_test['ModelName'])\n",
    "manf_df_test = manf_encoder.transform(df_test['Manufacturer'])\n",
    "\n",
    "#############################################\n",
    "\n",
    "X_submit = pd.concat([df_test[num_cols], df_dummies_test, model_df_test, manf_df_test], axis=1)\n",
    "X_submit_scaled = pd.DataFrame(scaler.transform(X_submit), columns=X_cols)\n",
    "X_submit_scaled.head()"
   ]
  },
  {
   "cell_type": "code",
   "execution_count": 76,
   "metadata": {},
   "outputs": [],
   "source": [
    "y_submit = pd.DataFrame(np.round(np.exp(rf_prod.predict(X_submit_scaled)), 2) , columns=['Price'])\n",
    "y_submit.to_csv('submission.csv', index=False)"
   ]
  },
  {
   "cell_type": "code",
   "execution_count": 156,
   "metadata": {},
   "outputs": [],
   "source": [
    "y_submit = pd.DataFrame(np.round(np.exp(vot_model.predict(X_submit_scaled)), 2) , columns=['Price'])\n",
    "y_submit.to_csv('submission.csv', index=False)"
   ]
  },
  {
   "cell_type": "code",
   "execution_count": 118,
   "metadata": {},
   "outputs": [
    {
     "data": {
      "text/plain": [
       "<AxesSubplot:xlabel='Airbags'>"
      ]
     },
     "execution_count": 118,
     "metadata": {},
     "output_type": "execute_result"
    },
    {
     "data": {
      "image/png": "[encoded data removed]",
      "text/plain": [
       "<Figure size 1296x288 with 2 Axes>"
      ]
     },
     "metadata": {
      "needs_background": "light"
     },
     "output_type": "display_data"
    }
   ],
   "source": [
    "plt.figure(figsize=(18, 4))\n",
    "\n",
    "plt.subplot(121); sns.boxplot(df_train.Airbags)\n",
    "plt.subplot(122); sns.boxplot(df_test.Airbags)\n"
   ]
  },
  {
   "cell_type": "code",
   "execution_count": null,
   "metadata": {},
   "outputs": [],
   "source": []
  }
 ],
 "metadata": {
  "kernelspec": {
   "display_name": "Python 3",
   "language": "python",
   "name": "python3"
  },
  "language_info": {
   "codemirror_mode": {
    "name": "ipython",
    "version": 3
   },
   "file_extension": ".py",
   "mimetype": "text/x-python",
   "name": "python",
   "nbconvert_exporter": "python",
   "pygments_lexer": "ipython3",
   "version": "3.6.7"
  }
 },
 "nbformat": 4,
 "nbformat_minor": 4
}
