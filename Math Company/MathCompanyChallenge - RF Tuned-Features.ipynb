{
 "cells": [
  {
   "cell_type": "code",
   "execution_count": 142,
   "metadata": {},
   "outputs": [],
   "source": [
    "import pandas as pd\n",
    "import numpy as np\n",
    "import seaborn as sns\n",
    "import matplotlib.pyplot as plt"
   ]
  },
  {
   "cell_type": "code",
   "execution_count": 143,
   "metadata": {},
   "outputs": [],
   "source": [
    "import warnings\n",
    "warnings.filterwarnings(\"ignore\")"
   ]
  },
  {
   "cell_type": "code",
   "execution_count": 144,
   "metadata": {},
   "outputs": [
    {
     "data": {
      "text/html": [
       "<div>\n",
       "<style scoped>\n",
       "    .dataframe tbody tr th:only-of-type {\n",
       "        vertical-align: middle;\n",
       "    }\n",
       "\n",
       "    .dataframe tbody tr th {\n",
       "        vertical-align: top;\n",
       "    }\n",
       "\n",
       "    .dataframe thead th {\n",
       "        text-align: right;\n",
       "    }\n",
       "</style>\n",
       "<table border=\"1\" class=\"dataframe\">\n",
       "  <thead>\n",
       "    <tr style=\"text-align: right;\">\n",
       "      <th></th>\n",
       "      <th>ID</th>\n",
       "      <th>Price</th>\n",
       "      <th>Levy</th>\n",
       "      <th>Manufacturer</th>\n",
       "      <th>Model</th>\n",
       "      <th>Prod. year</th>\n",
       "      <th>Category</th>\n",
       "      <th>Leather interior</th>\n",
       "      <th>Fuel type</th>\n",
       "      <th>Engine volume</th>\n",
       "      <th>Mileage</th>\n",
       "      <th>Cylinders</th>\n",
       "      <th>Gear box type</th>\n",
       "      <th>Drive wheels</th>\n",
       "      <th>Doors</th>\n",
       "      <th>Wheel</th>\n",
       "      <th>Color</th>\n",
       "      <th>Airbags</th>\n",
       "    </tr>\n",
       "  </thead>\n",
       "  <tbody>\n",
       "    <tr>\n",
       "      <th>8378</th>\n",
       "      <td>45453274</td>\n",
       "      <td>9722</td>\n",
       "      <td>530</td>\n",
       "      <td>FORD</td>\n",
       "      <td>Fusion</td>\n",
       "      <td>2013</td>\n",
       "      <td>Sedan</td>\n",
       "      <td>No</td>\n",
       "      <td>Petrol</td>\n",
       "      <td>1.6 Turbo</td>\n",
       "      <td>201000 km</td>\n",
       "      <td>4</td>\n",
       "      <td>Tiptronic</td>\n",
       "      <td>Front</td>\n",
       "      <td>4-May</td>\n",
       "      <td>Left wheel</td>\n",
       "      <td>Silver</td>\n",
       "      <td>12</td>\n",
       "    </tr>\n",
       "    <tr>\n",
       "      <th>15836</th>\n",
       "      <td>45733262</td>\n",
       "      <td>9252</td>\n",
       "      <td>765</td>\n",
       "      <td>HYUNDAI</td>\n",
       "      <td>Sonata</td>\n",
       "      <td>2015</td>\n",
       "      <td>Sedan</td>\n",
       "      <td>Yes</td>\n",
       "      <td>LPG</td>\n",
       "      <td>2</td>\n",
       "      <td>571115 km</td>\n",
       "      <td>4</td>\n",
       "      <td>Automatic</td>\n",
       "      <td>Front</td>\n",
       "      <td>4-May</td>\n",
       "      <td>Left wheel</td>\n",
       "      <td>Orange</td>\n",
       "      <td>4</td>\n",
       "    </tr>\n",
       "    <tr>\n",
       "      <th>6904</th>\n",
       "      <td>45741094</td>\n",
       "      <td>16308</td>\n",
       "      <td>584</td>\n",
       "      <td>HYUNDAI</td>\n",
       "      <td>Elantra</td>\n",
       "      <td>2014</td>\n",
       "      <td>Sedan</td>\n",
       "      <td>No</td>\n",
       "      <td>Petrol</td>\n",
       "      <td>1.8</td>\n",
       "      <td>112000 km</td>\n",
       "      <td>4</td>\n",
       "      <td>Tiptronic</td>\n",
       "      <td>Front</td>\n",
       "      <td>4-May</td>\n",
       "      <td>Left wheel</td>\n",
       "      <td>White</td>\n",
       "      <td>10</td>\n",
       "    </tr>\n",
       "    <tr>\n",
       "      <th>2860</th>\n",
       "      <td>45676303</td>\n",
       "      <td>15053</td>\n",
       "      <td>777</td>\n",
       "      <td>TOYOTA</td>\n",
       "      <td>Camry</td>\n",
       "      <td>2014</td>\n",
       "      <td>Sedan</td>\n",
       "      <td>Yes</td>\n",
       "      <td>Petrol</td>\n",
       "      <td>2.5</td>\n",
       "      <td>107000 km</td>\n",
       "      <td>4</td>\n",
       "      <td>Automatic</td>\n",
       "      <td>Front</td>\n",
       "      <td>4-May</td>\n",
       "      <td>Left wheel</td>\n",
       "      <td>Black</td>\n",
       "      <td>12</td>\n",
       "    </tr>\n",
       "    <tr>\n",
       "      <th>1612</th>\n",
       "      <td>45810080</td>\n",
       "      <td>24085</td>\n",
       "      <td>503</td>\n",
       "      <td>TOYOTA</td>\n",
       "      <td>Aqua</td>\n",
       "      <td>2012</td>\n",
       "      <td>Hatchback</td>\n",
       "      <td>Yes</td>\n",
       "      <td>Petrol</td>\n",
       "      <td>1.5</td>\n",
       "      <td>42796 km</td>\n",
       "      <td>4</td>\n",
       "      <td>Automatic</td>\n",
       "      <td>Front</td>\n",
       "      <td>4-May</td>\n",
       "      <td>Left wheel</td>\n",
       "      <td>Red</td>\n",
       "      <td>4</td>\n",
       "    </tr>\n",
       "    <tr>\n",
       "      <th>12310</th>\n",
       "      <td>45428716</td>\n",
       "      <td>10349</td>\n",
       "      <td>777</td>\n",
       "      <td>SUBARU</td>\n",
       "      <td>Outback</td>\n",
       "      <td>2014</td>\n",
       "      <td>Jeep</td>\n",
       "      <td>No</td>\n",
       "      <td>Petrol</td>\n",
       "      <td>2.5</td>\n",
       "      <td>169000 km</td>\n",
       "      <td>4</td>\n",
       "      <td>Tiptronic</td>\n",
       "      <td>4x4</td>\n",
       "      <td>4-May</td>\n",
       "      <td>Left wheel</td>\n",
       "      <td>Grey</td>\n",
       "      <td>10</td>\n",
       "    </tr>\n",
       "    <tr>\n",
       "      <th>18457</th>\n",
       "      <td>45773501</td>\n",
       "      <td>220</td>\n",
       "      <td>259</td>\n",
       "      <td>CHEVROLET</td>\n",
       "      <td>Volt</td>\n",
       "      <td>2014</td>\n",
       "      <td>Hatchback</td>\n",
       "      <td>Yes</td>\n",
       "      <td>Hybrid</td>\n",
       "      <td>1.4</td>\n",
       "      <td>110958 km</td>\n",
       "      <td>4</td>\n",
       "      <td>Automatic</td>\n",
       "      <td>Front</td>\n",
       "      <td>4-May</td>\n",
       "      <td>Left wheel</td>\n",
       "      <td>Black</td>\n",
       "      <td>0</td>\n",
       "    </tr>\n",
       "    <tr>\n",
       "      <th>8315</th>\n",
       "      <td>45547047</td>\n",
       "      <td>27284</td>\n",
       "      <td>-</td>\n",
       "      <td>FORD</td>\n",
       "      <td>Fusion</td>\n",
       "      <td>2014</td>\n",
       "      <td>Sedan</td>\n",
       "      <td>Yes</td>\n",
       "      <td>Hybrid</td>\n",
       "      <td>2</td>\n",
       "      <td>138000 km</td>\n",
       "      <td>4</td>\n",
       "      <td>Tiptronic</td>\n",
       "      <td>Front</td>\n",
       "      <td>4-May</td>\n",
       "      <td>Left wheel</td>\n",
       "      <td>Black</td>\n",
       "      <td>12</td>\n",
       "    </tr>\n",
       "    <tr>\n",
       "      <th>12728</th>\n",
       "      <td>45235243</td>\n",
       "      <td>24148</td>\n",
       "      <td>-</td>\n",
       "      <td>TOYOTA</td>\n",
       "      <td>Prius</td>\n",
       "      <td>2013</td>\n",
       "      <td>Hatchback</td>\n",
       "      <td>No</td>\n",
       "      <td>Hybrid</td>\n",
       "      <td>1.8</td>\n",
       "      <td>118000 km</td>\n",
       "      <td>4</td>\n",
       "      <td>Automatic</td>\n",
       "      <td>Front</td>\n",
       "      <td>4-May</td>\n",
       "      <td>Left wheel</td>\n",
       "      <td>Sky blue</td>\n",
       "      <td>12</td>\n",
       "    </tr>\n",
       "    <tr>\n",
       "      <th>7458</th>\n",
       "      <td>45807484</td>\n",
       "      <td>9095</td>\n",
       "      <td>502</td>\n",
       "      <td>HONDA</td>\n",
       "      <td>FIT</td>\n",
       "      <td>2013</td>\n",
       "      <td>Hatchback</td>\n",
       "      <td>No</td>\n",
       "      <td>Petrol</td>\n",
       "      <td>1.5</td>\n",
       "      <td>41000 km</td>\n",
       "      <td>4</td>\n",
       "      <td>Automatic</td>\n",
       "      <td>Front</td>\n",
       "      <td>4-May</td>\n",
       "      <td>Left wheel</td>\n",
       "      <td>Blue</td>\n",
       "      <td>6</td>\n",
       "    </tr>\n",
       "  </tbody>\n",
       "</table>\n",
       "</div>"
      ],
      "text/plain": [
       "             ID  Price Levy Manufacturer    Model  Prod. year   Category  \\\n",
       "8378   45453274   9722  530         FORD   Fusion        2013      Sedan   \n",
       "15836  45733262   9252  765      HYUNDAI   Sonata        2015      Sedan   \n",
       "6904   45741094  16308  584      HYUNDAI  Elantra        2014      Sedan   \n",
       "2860   45676303  15053  777       TOYOTA    Camry        2014      Sedan   \n",
       "1612   45810080  24085  503       TOYOTA     Aqua        2012  Hatchback   \n",
       "12310  45428716  10349  777       SUBARU  Outback        2014       Jeep   \n",
       "18457  45773501    220  259    CHEVROLET     Volt        2014  Hatchback   \n",
       "8315   45547047  27284    -         FORD   Fusion        2014      Sedan   \n",
       "12728  45235243  24148    -       TOYOTA    Prius        2013  Hatchback   \n",
       "7458   45807484   9095  502        HONDA      FIT        2013  Hatchback   \n",
       "\n",
       "      Leather interior Fuel type Engine volume    Mileage  Cylinders  \\\n",
       "8378                No    Petrol     1.6 Turbo  201000 km          4   \n",
       "15836              Yes       LPG             2  571115 km          4   \n",
       "6904                No    Petrol           1.8  112000 km          4   \n",
       "2860               Yes    Petrol           2.5  107000 km          4   \n",
       "1612               Yes    Petrol           1.5   42796 km          4   \n",
       "12310               No    Petrol           2.5  169000 km          4   \n",
       "18457              Yes    Hybrid           1.4  110958 km          4   \n",
       "8315               Yes    Hybrid             2  138000 km          4   \n",
       "12728               No    Hybrid           1.8  118000 km          4   \n",
       "7458                No    Petrol           1.5   41000 km          4   \n",
       "\n",
       "      Gear box type Drive wheels  Doors       Wheel     Color  Airbags  \n",
       "8378      Tiptronic        Front  4-May  Left wheel    Silver       12  \n",
       "15836     Automatic        Front  4-May  Left wheel    Orange        4  \n",
       "6904      Tiptronic        Front  4-May  Left wheel     White       10  \n",
       "2860      Automatic        Front  4-May  Left wheel     Black       12  \n",
       "1612      Automatic        Front  4-May  Left wheel       Red        4  \n",
       "12310     Tiptronic          4x4  4-May  Left wheel      Grey       10  \n",
       "18457     Automatic        Front  4-May  Left wheel     Black        0  \n",
       "8315      Tiptronic        Front  4-May  Left wheel     Black       12  \n",
       "12728     Automatic        Front  4-May  Left wheel  Sky blue       12  \n",
       "7458      Automatic        Front  4-May  Left wheel      Blue        6  "
      ]
     },
     "execution_count": 144,
     "metadata": {},
     "output_type": "execute_result"
    }
   ],
   "source": [
    "train = pd.read_csv('train.csv')\n",
    "test  = pd.read_csv('test.csv')\n",
    "train.sample(10)"
   ]
  },
  {
   "cell_type": "code",
   "execution_count": 145,
   "metadata": {},
   "outputs": [],
   "source": [
    "train['logPrice'] = np.log(train.Price)"
   ]
  },
  {
   "cell_type": "code",
   "execution_count": 146,
   "metadata": {
    "scrolled": false
   },
   "outputs": [
    {
     "data": {
      "text/plain": [
       "<seaborn.axisgrid.FacetGrid at 0x44a55a58>"
      ]
     },
     "execution_count": 146,
     "metadata": {},
     "output_type": "execute_result"
    },
    {
     "data": {
      "image/png": "[encoded data removed]",
      "text/plain": [
       "<Figure size 360x360 with 1 Axes>"
      ]
     },
     "metadata": {
      "needs_background": "light"
     },
     "output_type": "display_data"
    }
   ],
   "source": [
    "sns.displot(train.logPrice)"
   ]
  },
  {
   "cell_type": "code",
   "execution_count": 147,
   "metadata": {},
   "outputs": [
    {
     "name": "stdout",
     "output_type": "stream",
     "text": [
      "4.700480365792417 11.346575677685973\n"
     ]
    }
   ],
   "source": [
    "lowPrice = np.quantile(train.logPrice, 0.02)\n",
    "highPrice = np.quantile(train.logPrice, 0.99)\n",
    "print (lowPrice, highPrice)"
   ]
  },
  {
   "cell_type": "code",
   "execution_count": 148,
   "metadata": {},
   "outputs": [
    {
     "data": {
      "text/plain": [
       "<AxesSubplot:xlabel='cappedLogPrice', ylabel='Count'>"
      ]
     },
     "execution_count": 148,
     "metadata": {},
     "output_type": "execute_result"
    },
    {
     "data": {
      "image/png": "[encoded data removed]",
      "text/plain": [
       "<Figure size 432x288 with 1 Axes>"
      ]
     },
     "metadata": {
      "needs_background": "light"
     },
     "output_type": "display_data"
    }
   ],
   "source": [
    "train['cappedLogPrice'] = train.logPrice\n",
    "train.loc[train.logPrice < lowPrice, 'cappedLogPrice'] = lowPrice\n",
    "train.loc[train.logPrice > highPrice, 'cappedLogPrice'] = highPrice\n",
    "sns.histplot(train.cappedLogPrice)"
   ]
  },
  {
   "cell_type": "code",
   "execution_count": 149,
   "metadata": {},
   "outputs": [
    {
     "data": {
      "text/plain": [
       "<AxesSubplot:xlabel='cappedLogPrice'>"
      ]
     },
     "execution_count": 149,
     "metadata": {},
     "output_type": "execute_result"
    },
    {
     "data": {
      "image/png": "[encoded data removed]",
      "text/plain": [
       "<Figure size 432x288 with 1 Axes>"
      ]
     },
     "metadata": {
      "needs_background": "light"
     },
     "output_type": "display_data"
    }
   ],
   "source": [
    "sns.boxplot(train.cappedLogPrice)"
   ]
  },
  {
   "cell_type": "code",
   "execution_count": 150,
   "metadata": {},
   "outputs": [
    {
     "data": {
      "text/plain": [
       "Index(['ID', 'Price', 'Levy', 'Manufacturer', 'Model', 'Prod. year',\n",
       "       'Category', 'Leather interior', 'Fuel type', 'Engine volume', 'Mileage',\n",
       "       'Cylinders', 'Gear box type', 'Drive wheels', 'Doors', 'Wheel', 'Color',\n",
       "       'Airbags', 'logPrice', 'cappedLogPrice'],\n",
       "      dtype='object')"
      ]
     },
     "execution_count": 150,
     "metadata": {},
     "output_type": "execute_result"
    }
   ],
   "source": [
    "train.columns"
   ]
  },
  {
   "cell_type": "code",
   "execution_count": 151,
   "metadata": {},
   "outputs": [
    {
     "data": {
      "text/plain": [
       "['Levy',\n",
       " 'Manufacturer',\n",
       " 'Model',\n",
       " 'Prod. year',\n",
       " 'Category',\n",
       " 'Leather interior',\n",
       " 'Fuel type',\n",
       " 'Engine volume',\n",
       " 'Mileage',\n",
       " 'Cylinders',\n",
       " 'Gear box type',\n",
       " 'Drive wheels',\n",
       " 'Doors',\n",
       " 'Wheel',\n",
       " 'Color',\n",
       " 'Airbags',\n",
       " 'cappedLogPrice']"
      ]
     },
     "execution_count": 151,
     "metadata": {},
     "output_type": "execute_result"
    }
   ],
   "source": [
    "df_train = train.drop(columns=['ID', 'Price', 'logPrice'])\n",
    "df_train.columns.to_list()"
   ]
  },
  {
   "cell_type": "code",
   "execution_count": 152,
   "metadata": {},
   "outputs": [
    {
     "data": {
      "text/html": [
       "<div>\n",
       "<style scoped>\n",
       "    .dataframe tbody tr th:only-of-type {\n",
       "        vertical-align: middle;\n",
       "    }\n",
       "\n",
       "    .dataframe tbody tr th {\n",
       "        vertical-align: top;\n",
       "    }\n",
       "\n",
       "    .dataframe thead th {\n",
       "        text-align: right;\n",
       "    }\n",
       "</style>\n",
       "<table border=\"1\" class=\"dataframe\">\n",
       "  <thead>\n",
       "    <tr style=\"text-align: right;\">\n",
       "      <th></th>\n",
       "      <th>Levy</th>\n",
       "      <th>Manufacturer</th>\n",
       "      <th>Model</th>\n",
       "      <th>Prod. year</th>\n",
       "      <th>Category</th>\n",
       "      <th>Leather interior</th>\n",
       "      <th>Fuel type</th>\n",
       "      <th>Engine volume</th>\n",
       "      <th>Mileage</th>\n",
       "      <th>Cylinders</th>\n",
       "      <th>Gear box type</th>\n",
       "      <th>Drive wheels</th>\n",
       "      <th>Doors</th>\n",
       "      <th>Wheel</th>\n",
       "      <th>Color</th>\n",
       "      <th>Airbags</th>\n",
       "      <th>cappedLogPrice</th>\n",
       "    </tr>\n",
       "  </thead>\n",
       "  <tbody>\n",
       "    <tr>\n",
       "      <th>0</th>\n",
       "      <td>-</td>\n",
       "      <td>GAZ</td>\n",
       "      <td>20</td>\n",
       "      <td>1953</td>\n",
       "      <td>Sedan</td>\n",
       "      <td>No</td>\n",
       "      <td>Petrol</td>\n",
       "      <td>2</td>\n",
       "      <td>0 km</td>\n",
       "      <td>4</td>\n",
       "      <td>Manual</td>\n",
       "      <td>Rear</td>\n",
       "      <td>4-May</td>\n",
       "      <td>Left wheel</td>\n",
       "      <td>Beige</td>\n",
       "      <td>0</td>\n",
       "      <td>10.854102</td>\n",
       "    </tr>\n",
       "    <tr>\n",
       "      <th>1</th>\n",
       "      <td>-</td>\n",
       "      <td>GAZ</td>\n",
       "      <td>20</td>\n",
       "      <td>1953</td>\n",
       "      <td>Jeep</td>\n",
       "      <td>No</td>\n",
       "      <td>Petrol</td>\n",
       "      <td>3.2</td>\n",
       "      <td>100000 km</td>\n",
       "      <td>4</td>\n",
       "      <td>Manual</td>\n",
       "      <td>4x4</td>\n",
       "      <td>2-Mar</td>\n",
       "      <td>Left wheel</td>\n",
       "      <td>Green</td>\n",
       "      <td>0</td>\n",
       "      <td>8.070906</td>\n",
       "    </tr>\n",
       "    <tr>\n",
       "      <th>2</th>\n",
       "      <td>-</td>\n",
       "      <td>GAZ</td>\n",
       "      <td>21</td>\n",
       "      <td>1964</td>\n",
       "      <td>Sedan</td>\n",
       "      <td>No</td>\n",
       "      <td>Petrol</td>\n",
       "      <td>2.4</td>\n",
       "      <td>0 km</td>\n",
       "      <td>4</td>\n",
       "      <td>Manual</td>\n",
       "      <td>Rear</td>\n",
       "      <td>4-May</td>\n",
       "      <td>Left wheel</td>\n",
       "      <td>Sky blue</td>\n",
       "      <td>0</td>\n",
       "      <td>8.966994</td>\n",
       "    </tr>\n",
       "    <tr>\n",
       "      <th>3</th>\n",
       "      <td>-</td>\n",
       "      <td>GAZ</td>\n",
       "      <td>24</td>\n",
       "      <td>1990</td>\n",
       "      <td>Universal</td>\n",
       "      <td>Yes</td>\n",
       "      <td>Petrol</td>\n",
       "      <td>6.3</td>\n",
       "      <td>2000 km</td>\n",
       "      <td>8</td>\n",
       "      <td>Manual</td>\n",
       "      <td>4x4</td>\n",
       "      <td>2-Mar</td>\n",
       "      <td>Left wheel</td>\n",
       "      <td>Green</td>\n",
       "      <td>0</td>\n",
       "      <td>8.581294</td>\n",
       "    </tr>\n",
       "    <tr>\n",
       "      <th>4</th>\n",
       "      <td>-</td>\n",
       "      <td>AUDI</td>\n",
       "      <td>50</td>\n",
       "      <td>2018</td>\n",
       "      <td>Coupe</td>\n",
       "      <td>Yes</td>\n",
       "      <td>Petrol</td>\n",
       "      <td>0.5</td>\n",
       "      <td>4000 km</td>\n",
       "      <td>1</td>\n",
       "      <td>Tiptronic</td>\n",
       "      <td>Rear</td>\n",
       "      <td>&gt;5</td>\n",
       "      <td>Right-hand drive</td>\n",
       "      <td>Blue</td>\n",
       "      <td>0</td>\n",
       "      <td>7.170120</td>\n",
       "    </tr>\n",
       "  </tbody>\n",
       "</table>\n",
       "</div>"
      ],
      "text/plain": [
       "  Levy Manufacturer Model  Prod. year   Category Leather interior Fuel type  \\\n",
       "0    -          GAZ    20        1953      Sedan               No    Petrol   \n",
       "1    -          GAZ    20        1953       Jeep               No    Petrol   \n",
       "2    -          GAZ    21        1964      Sedan               No    Petrol   \n",
       "3    -          GAZ    24        1990  Universal              Yes    Petrol   \n",
       "4    -         AUDI    50        2018      Coupe              Yes    Petrol   \n",
       "\n",
       "  Engine volume    Mileage  Cylinders Gear box type Drive wheels  Doors  \\\n",
       "0             2       0 km          4        Manual         Rear  4-May   \n",
       "1           3.2  100000 km          4        Manual          4x4  2-Mar   \n",
       "2           2.4       0 km          4        Manual         Rear  4-May   \n",
       "3           6.3    2000 km          8        Manual          4x4  2-Mar   \n",
       "4           0.5    4000 km          1     Tiptronic         Rear     >5   \n",
       "\n",
       "              Wheel     Color  Airbags  cappedLogPrice  \n",
       "0        Left wheel     Beige        0       10.854102  \n",
       "1        Left wheel     Green        0        8.070906  \n",
       "2        Left wheel  Sky blue        0        8.966994  \n",
       "3        Left wheel     Green        0        8.581294  \n",
       "4  Right-hand drive      Blue        0        7.170120  "
      ]
     },
     "execution_count": 152,
     "metadata": {},
     "output_type": "execute_result"
    }
   ],
   "source": [
    "df_train.head()"
   ]
  },
  {
   "cell_type": "code",
   "execution_count": 153,
   "metadata": {},
   "outputs": [
    {
     "name": "stdout",
     "output_type": "stream",
     "text": [
      "17 9 6\n"
     ]
    }
   ],
   "source": [
    "cat_cols = ['Manufacturer', 'Category', 'Leather interior', 'Fuel type',\n",
    "           'Gear box type', 'Drive wheels', 'Doors', 'Wheel', 'Color']\n",
    "num_cols = ['Levy', 'Prod. year', 'Engine volume', \n",
    "            'Airbags', 'Cylinders', 'Mileage']\n",
    "print (len(df_train.columns.to_list()), \n",
    "        len(cat_cols),\n",
    "        len(num_cols))"
   ]
  },
  {
   "cell_type": "code",
   "execution_count": 154,
   "metadata": {},
   "outputs": [
    {
     "data": {
      "text/plain": [
       "['2-Mar', '4-May', '>5']"
      ]
     },
     "execution_count": 154,
     "metadata": {},
     "output_type": "execute_result"
    }
   ],
   "source": [
    "sorted(train.Doors.unique())"
   ]
  },
  {
   "cell_type": "code",
   "execution_count": 155,
   "metadata": {},
   "outputs": [],
   "source": [
    "top_manufacturers = df_train.Manufacturer.value_counts().head(20).reset_index()['index'].to_list()"
   ]
  },
  {
   "cell_type": "markdown",
   "metadata": {},
   "source": [
    "## Mileage"
   ]
  },
  {
   "cell_type": "code",
   "execution_count": 156,
   "metadata": {},
   "outputs": [],
   "source": [
    "df_train.loc[df_train.Levy=='-', 'Levy'] = 0\n",
    "df_train.Mileage = train.Mileage.apply(lambda x: int(x[:-3]))\n",
    "df_train.loc[df_train.Mileage==0, 'Mileage'] = None\n",
    "df_train['Mileage'] = df_train['Mileage'].\\\n",
    "                        fillna(df_train.groupby('Prod. year')['Mileage'].transform('median'))\n",
    "df_train.Mileage.fillna(df_train.Mileage.mean(), inplace=True)\n",
    "df_train.Mileage = np.log(df_train.Mileage)"
   ]
  },
  {
   "cell_type": "code",
   "execution_count": 157,
   "metadata": {},
   "outputs": [
    {
     "data": {
      "text/html": [
       "<div>\n",
       "<style scoped>\n",
       "    .dataframe tbody tr th:only-of-type {\n",
       "        vertical-align: middle;\n",
       "    }\n",
       "\n",
       "    .dataframe tbody tr th {\n",
       "        vertical-align: top;\n",
       "    }\n",
       "\n",
       "    .dataframe thead th {\n",
       "        text-align: right;\n",
       "    }\n",
       "</style>\n",
       "<table border=\"1\" class=\"dataframe\">\n",
       "  <thead>\n",
       "    <tr style=\"text-align: right;\">\n",
       "      <th></th>\n",
       "      <th>Levy</th>\n",
       "      <th>Prod. year</th>\n",
       "      <th>Engine volume</th>\n",
       "      <th>Airbags</th>\n",
       "      <th>Cylinders</th>\n",
       "      <th>Mileage</th>\n",
       "    </tr>\n",
       "  </thead>\n",
       "  <tbody>\n",
       "    <tr>\n",
       "      <th>0</th>\n",
       "      <td>0</td>\n",
       "      <td>1953</td>\n",
       "      <td>2</td>\n",
       "      <td>0</td>\n",
       "      <td>4</td>\n",
       "      <td>11.918391</td>\n",
       "    </tr>\n",
       "    <tr>\n",
       "      <th>1</th>\n",
       "      <td>0</td>\n",
       "      <td>1953</td>\n",
       "      <td>3.2</td>\n",
       "      <td>0</td>\n",
       "      <td>4</td>\n",
       "      <td>11.512925</td>\n",
       "    </tr>\n",
       "    <tr>\n",
       "      <th>2</th>\n",
       "      <td>0</td>\n",
       "      <td>1964</td>\n",
       "      <td>2.4</td>\n",
       "      <td>0</td>\n",
       "      <td>4</td>\n",
       "      <td>10.819778</td>\n",
       "    </tr>\n",
       "    <tr>\n",
       "      <th>3</th>\n",
       "      <td>0</td>\n",
       "      <td>1990</td>\n",
       "      <td>6.3</td>\n",
       "      <td>0</td>\n",
       "      <td>8</td>\n",
       "      <td>7.600902</td>\n",
       "    </tr>\n",
       "    <tr>\n",
       "      <th>4</th>\n",
       "      <td>0</td>\n",
       "      <td>2018</td>\n",
       "      <td>0.5</td>\n",
       "      <td>0</td>\n",
       "      <td>1</td>\n",
       "      <td>8.294050</td>\n",
       "    </tr>\n",
       "  </tbody>\n",
       "</table>\n",
       "</div>"
      ],
      "text/plain": [
       "  Levy  Prod. year Engine volume  Airbags  Cylinders    Mileage\n",
       "0    0        1953             2        0          4  11.918391\n",
       "1    0        1953           3.2        0          4  11.512925\n",
       "2    0        1964           2.4        0          4  10.819778\n",
       "3    0        1990           6.3        0          8   7.600902\n",
       "4    0        2018           0.5        0          1   8.294050"
      ]
     },
     "execution_count": 157,
     "metadata": {},
     "output_type": "execute_result"
    }
   ],
   "source": [
    "df_train[num_cols].head()"
   ]
  },
  {
   "cell_type": "code",
   "execution_count": 158,
   "metadata": {},
   "outputs": [],
   "source": [
    "df_train.Levy = df_train.Levy.astype(int)"
   ]
  },
  {
   "cell_type": "code",
   "execution_count": 159,
   "metadata": {},
   "outputs": [],
   "source": [
    "df_train['Engine volume'] = df_train['Engine volume'].apply(lambda x: float(x.split(' ')[0]))\n",
    "df_train['Engine volume'] = df_train['Engine volume'].astype(float)"
   ]
  },
  {
   "cell_type": "code",
   "execution_count": 160,
   "metadata": {},
   "outputs": [
    {
     "name": "stdout",
     "output_type": "stream",
     "text": [
      "Manufacturer :  21\n",
      "Category :  11\n",
      "Leather interior :  2\n",
      "Fuel type :  7\n",
      "Gear box type :  4\n",
      "Drive wheels :  3\n",
      "Doors :  3\n",
      "Wheel :  2\n",
      "Color :  16\n"
     ]
    }
   ],
   "source": [
    "df_train.loc[~df_train.Manufacturer.isin(top_manufacturers), 'Manufacturer'] = 'Other'\n",
    "for col in cat_cols:\n",
    "    print (col, ': ', len(df_train[col].unique()))"
   ]
  },
  {
   "cell_type": "code",
   "execution_count": 161,
   "metadata": {},
   "outputs": [
    {
     "data": {
      "text/html": [
       "<div>\n",
       "<style scoped>\n",
       "    .dataframe tbody tr th:only-of-type {\n",
       "        vertical-align: middle;\n",
       "    }\n",
       "\n",
       "    .dataframe tbody tr th {\n",
       "        vertical-align: top;\n",
       "    }\n",
       "\n",
       "    .dataframe thead th {\n",
       "        text-align: right;\n",
       "    }\n",
       "</style>\n",
       "<table border=\"1\" class=\"dataframe\">\n",
       "  <thead>\n",
       "    <tr style=\"text-align: right;\">\n",
       "      <th></th>\n",
       "      <th>Manufacturer_BMW</th>\n",
       "      <th>Manufacturer_CHEVROLET</th>\n",
       "      <th>Manufacturer_DAEWOO</th>\n",
       "      <th>Manufacturer_DODGE</th>\n",
       "      <th>Manufacturer_FORD</th>\n",
       "      <th>Manufacturer_HONDA</th>\n",
       "      <th>Manufacturer_HYUNDAI</th>\n",
       "      <th>Manufacturer_JEEP</th>\n",
       "      <th>Manufacturer_KIA</th>\n",
       "      <th>Manufacturer_LEXUS</th>\n",
       "      <th>...</th>\n",
       "      <th>Color_Green</th>\n",
       "      <th>Color_Grey</th>\n",
       "      <th>Color_Orange</th>\n",
       "      <th>Color_Pink</th>\n",
       "      <th>Color_Purple</th>\n",
       "      <th>Color_Red</th>\n",
       "      <th>Color_Silver</th>\n",
       "      <th>Color_Sky blue</th>\n",
       "      <th>Color_White</th>\n",
       "      <th>Color_Yellow</th>\n",
       "    </tr>\n",
       "  </thead>\n",
       "  <tbody>\n",
       "    <tr>\n",
       "      <th>19232</th>\n",
       "      <td>0</td>\n",
       "      <td>0</td>\n",
       "      <td>0</td>\n",
       "      <td>0</td>\n",
       "      <td>0</td>\n",
       "      <td>0</td>\n",
       "      <td>0</td>\n",
       "      <td>0</td>\n",
       "      <td>0</td>\n",
       "      <td>0</td>\n",
       "      <td>...</td>\n",
       "      <td>0</td>\n",
       "      <td>0</td>\n",
       "      <td>0</td>\n",
       "      <td>0</td>\n",
       "      <td>0</td>\n",
       "      <td>0</td>\n",
       "      <td>1</td>\n",
       "      <td>0</td>\n",
       "      <td>0</td>\n",
       "      <td>0</td>\n",
       "    </tr>\n",
       "    <tr>\n",
       "      <th>19233</th>\n",
       "      <td>0</td>\n",
       "      <td>0</td>\n",
       "      <td>0</td>\n",
       "      <td>0</td>\n",
       "      <td>0</td>\n",
       "      <td>0</td>\n",
       "      <td>0</td>\n",
       "      <td>0</td>\n",
       "      <td>0</td>\n",
       "      <td>0</td>\n",
       "      <td>...</td>\n",
       "      <td>0</td>\n",
       "      <td>0</td>\n",
       "      <td>0</td>\n",
       "      <td>0</td>\n",
       "      <td>0</td>\n",
       "      <td>1</td>\n",
       "      <td>0</td>\n",
       "      <td>0</td>\n",
       "      <td>0</td>\n",
       "      <td>0</td>\n",
       "    </tr>\n",
       "    <tr>\n",
       "      <th>19234</th>\n",
       "      <td>0</td>\n",
       "      <td>0</td>\n",
       "      <td>0</td>\n",
       "      <td>0</td>\n",
       "      <td>0</td>\n",
       "      <td>0</td>\n",
       "      <td>0</td>\n",
       "      <td>0</td>\n",
       "      <td>0</td>\n",
       "      <td>0</td>\n",
       "      <td>...</td>\n",
       "      <td>0</td>\n",
       "      <td>0</td>\n",
       "      <td>0</td>\n",
       "      <td>0</td>\n",
       "      <td>0</td>\n",
       "      <td>0</td>\n",
       "      <td>1</td>\n",
       "      <td>0</td>\n",
       "      <td>0</td>\n",
       "      <td>0</td>\n",
       "    </tr>\n",
       "    <tr>\n",
       "      <th>19235</th>\n",
       "      <td>0</td>\n",
       "      <td>0</td>\n",
       "      <td>0</td>\n",
       "      <td>0</td>\n",
       "      <td>0</td>\n",
       "      <td>0</td>\n",
       "      <td>0</td>\n",
       "      <td>0</td>\n",
       "      <td>0</td>\n",
       "      <td>0</td>\n",
       "      <td>...</td>\n",
       "      <td>0</td>\n",
       "      <td>0</td>\n",
       "      <td>0</td>\n",
       "      <td>0</td>\n",
       "      <td>0</td>\n",
       "      <td>0</td>\n",
       "      <td>1</td>\n",
       "      <td>0</td>\n",
       "      <td>0</td>\n",
       "      <td>0</td>\n",
       "    </tr>\n",
       "    <tr>\n",
       "      <th>19236</th>\n",
       "      <td>0</td>\n",
       "      <td>0</td>\n",
       "      <td>0</td>\n",
       "      <td>0</td>\n",
       "      <td>0</td>\n",
       "      <td>0</td>\n",
       "      <td>0</td>\n",
       "      <td>0</td>\n",
       "      <td>0</td>\n",
       "      <td>0</td>\n",
       "      <td>...</td>\n",
       "      <td>0</td>\n",
       "      <td>0</td>\n",
       "      <td>0</td>\n",
       "      <td>0</td>\n",
       "      <td>0</td>\n",
       "      <td>0</td>\n",
       "      <td>1</td>\n",
       "      <td>0</td>\n",
       "      <td>0</td>\n",
       "      <td>0</td>\n",
       "    </tr>\n",
       "  </tbody>\n",
       "</table>\n",
       "<p>5 rows × 60 columns</p>\n",
       "</div>"
      ],
      "text/plain": [
       "       Manufacturer_BMW  Manufacturer_CHEVROLET  Manufacturer_DAEWOO  \\\n",
       "19232                 0                       0                    0   \n",
       "19233                 0                       0                    0   \n",
       "19234                 0                       0                    0   \n",
       "19235                 0                       0                    0   \n",
       "19236                 0                       0                    0   \n",
       "\n",
       "       Manufacturer_DODGE  Manufacturer_FORD  Manufacturer_HONDA  \\\n",
       "19232                   0                  0                   0   \n",
       "19233                   0                  0                   0   \n",
       "19234                   0                  0                   0   \n",
       "19235                   0                  0                   0   \n",
       "19236                   0                  0                   0   \n",
       "\n",
       "       Manufacturer_HYUNDAI  Manufacturer_JEEP  Manufacturer_KIA  \\\n",
       "19232                     0                  0                 0   \n",
       "19233                     0                  0                 0   \n",
       "19234                     0                  0                 0   \n",
       "19235                     0                  0                 0   \n",
       "19236                     0                  0                 0   \n",
       "\n",
       "       Manufacturer_LEXUS  ...  Color_Green  Color_Grey  Color_Orange  \\\n",
       "19232                   0  ...            0           0             0   \n",
       "19233                   0  ...            0           0             0   \n",
       "19234                   0  ...            0           0             0   \n",
       "19235                   0  ...            0           0             0   \n",
       "19236                   0  ...            0           0             0   \n",
       "\n",
       "       Color_Pink  Color_Purple  Color_Red  Color_Silver  Color_Sky blue  \\\n",
       "19232           0             0          0             1               0   \n",
       "19233           0             0          1             0               0   \n",
       "19234           0             0          0             1               0   \n",
       "19235           0             0          0             1               0   \n",
       "19236           0             0          0             1               0   \n",
       "\n",
       "       Color_White  Color_Yellow  \n",
       "19232            0             0  \n",
       "19233            0             0  \n",
       "19234            0             0  \n",
       "19235            0             0  \n",
       "19236            0             0  \n",
       "\n",
       "[5 rows x 60 columns]"
      ]
     },
     "execution_count": 161,
     "metadata": {},
     "output_type": "execute_result"
    }
   ],
   "source": [
    "df_dummies = pd.get_dummies(df_train[cat_cols], drop_first=True)\n",
    "df_dummies.tail()"
   ]
  },
  {
   "cell_type": "markdown",
   "metadata": {},
   "source": [
    "# Feature Engineering"
   ]
  },
  {
   "cell_type": "code",
   "execution_count": 162,
   "metadata": {},
   "outputs": [
    {
     "data": {
      "text/plain": [
       "<AxesSubplot:xlabel='Levy', ylabel='Count'>"
      ]
     },
     "execution_count": 162,
     "metadata": {},
     "output_type": "execute_result"
    },
    {
     "data": {
      "image/png": "[encoded data removed]",
      "text/plain": [
       "<Figure size 576x216 with 1 Axes>"
      ]
     },
     "metadata": {
      "needs_background": "light"
     },
     "output_type": "display_data"
    }
   ],
   "source": [
    "plt.figure(figsize=(8, 3)); sns.histplot(df_train.Levy)"
   ]
  },
  {
   "cell_type": "code",
   "execution_count": 163,
   "metadata": {},
   "outputs": [],
   "source": [
    "high_levy = 2225 #np.quantile(df_train.Levy, 0.99)\n",
    "#df_train.loc[df_train.Levy>2225, 'Levy'] = 2225\n",
    "#plt.figure(figsize=(8, 3)); sns.histplot(df_train.Levy)"
   ]
  },
  {
   "cell_type": "code",
   "execution_count": 164,
   "metadata": {},
   "outputs": [
    {
     "name": "stdout",
     "output_type": "stream",
     "text": [
      "10.54428741965332 2003.0\n"
     ]
    }
   ],
   "source": [
    "print (np.quantile(df_train.Mileage, 0.1), np.quantile(df_train['Prod. year'], 0.1))"
   ]
  },
  {
   "cell_type": "code",
   "execution_count": 165,
   "metadata": {},
   "outputs": [
    {
     "data": {
      "text/plain": [
       "<AxesSubplot:xlabel='Prod. year'>"
      ]
     },
     "execution_count": 165,
     "metadata": {},
     "output_type": "execute_result"
    },
    {
     "data": {
      "image/png": "[encoded data removed]",
      "text/plain": [
       "<Figure size 432x288 with 1 Axes>"
      ]
     },
     "metadata": {
      "needs_background": "light"
     },
     "output_type": "display_data"
    }
   ],
   "source": [
    "sns.boxplot(df_train['Prod. year'])"
   ]
  },
  {
   "cell_type": "code",
   "execution_count": 166,
   "metadata": {
    "scrolled": true
   },
   "outputs": [],
   "source": [
    "df_train['KMPerYear'] = np.log(np.exp(df_train.Mileage) / (2021 - df_train['Prod. year']))\n",
    "if not 'KMPerYear' in num_cols:\n",
    "    num_cols.append('KMPerYear')        "
   ]
  },
  {
   "cell_type": "code",
   "execution_count": 167,
   "metadata": {},
   "outputs": [
    {
     "data": {
      "text/plain": [
       "6.749947743539447"
      ]
     },
     "execution_count": 167,
     "metadata": {},
     "output_type": "execute_result"
    }
   ],
   "source": [
    "np.quantile(df_train.KMPerYear, 0.02)"
   ]
  },
  {
   "cell_type": "code",
   "execution_count": 169,
   "metadata": {},
   "outputs": [
    {
     "data": {
      "text/plain": [
       "<matplotlib.collections.LineCollection at 0x572babe0>"
      ]
     },
     "execution_count": 169,
     "metadata": {},
     "output_type": "execute_result"
    },
    {
     "data": {
      "image/png": "[encoded data removed]",
      "text/plain": [
       "<Figure size 1296x288 with 1 Axes>"
      ]
     },
     "metadata": {
      "needs_background": "light"
     },
     "output_type": "display_data"
    }
   ],
   "source": [
    "plt.figure(figsize=(18, 4))\n",
    "sns.histplot(df_train.KMPerYear)\n",
    "plt.vlines(8, ymin=0, ymax=200, colors='r')"
   ]
  },
  {
   "cell_type": "code",
   "execution_count": 170,
   "metadata": {},
   "outputs": [],
   "source": [
    "df_train['Rare'] = ((df_train['Prod. year']<2000) & (df_train.KMPerYear<8) | (df_train.KMPerYear>12.5))\n",
    "if not ('Rare' in num_cols):\n",
    "    num_cols.append('Rare')"
   ]
  },
  {
   "cell_type": "code",
   "execution_count": 171,
   "metadata": {},
   "outputs": [
    {
     "data": {
      "text/plain": [
       "False    18999\n",
       "True       238\n",
       "Name: Rare, dtype: int64"
      ]
     },
     "execution_count": 171,
     "metadata": {},
     "output_type": "execute_result"
    }
   ],
   "source": [
    "df_train.Rare.value_counts()"
   ]
  },
  {
   "cell_type": "code",
   "execution_count": 172,
   "metadata": {},
   "outputs": [],
   "source": [
    "df_train['isTurbo'] = train['Engine volume'].apply(lambda x: x.split(' ')[-1]=='Turbo')\n",
    "if not 'isTurbo' in num_cols:\n",
    "    num_cols.append('isTurbo')"
   ]
  },
  {
   "cell_type": "code",
   "execution_count": 173,
   "metadata": {},
   "outputs": [],
   "source": [
    "df_train['ft1'] = np.sqrt(df_train.Levy) * (2021 - df_train['Prod. year'])\n",
    "if not 'ft1' in num_cols:\n",
    "    num_cols.append('ft1')"
   ]
  },
  {
   "cell_type": "markdown",
   "metadata": {},
   "source": [
    "### Model Name"
   ]
  },
  {
   "cell_type": "code",
   "execution_count": 174,
   "metadata": {},
   "outputs": [
    {
     "data": {
      "text/plain": [
       "630"
      ]
     },
     "execution_count": 174,
     "metadata": {},
     "output_type": "execute_result"
    }
   ],
   "source": [
    "len(df_train.Model.apply(lambda x: x.split(' ')[0]).unique())"
   ]
  },
  {
   "cell_type": "code",
   "execution_count": 175,
   "metadata": {},
   "outputs": [],
   "source": [
    "df_train['ModelName'] = df_train.Model.apply(lambda x: x.split(' ')[0])\n",
    "df_train.loc[df_train.ModelName.apply(lambda x : x.isnumeric()), 'ModelName'] = 'Others'\n",
    "df_train.loc[df_train.ModelName.apply(lambda x : '+' in x), 'ModelName'] = 'Others'"
   ]
  },
  {
   "cell_type": "code",
   "execution_count": 184,
   "metadata": {},
   "outputs": [],
   "source": [
    "import category_encoders as ce"
   ]
  },
  {
   "cell_type": "code",
   "execution_count": 223,
   "metadata": {},
   "outputs": [
    {
     "data": {
      "text/html": [
       "<div>\n",
       "<style scoped>\n",
       "    .dataframe tbody tr th:only-of-type {\n",
       "        vertical-align: middle;\n",
       "    }\n",
       "\n",
       "    .dataframe tbody tr th {\n",
       "        vertical-align: top;\n",
       "    }\n",
       "\n",
       "    .dataframe thead th {\n",
       "        text-align: right;\n",
       "    }\n",
       "</style>\n",
       "<table border=\"1\" class=\"dataframe\">\n",
       "  <thead>\n",
       "    <tr style=\"text-align: right;\">\n",
       "      <th></th>\n",
       "      <th>ModelName_0</th>\n",
       "      <th>ModelName_1</th>\n",
       "      <th>ModelName_2</th>\n",
       "      <th>ModelName_3</th>\n",
       "      <th>ModelName_4</th>\n",
       "    </tr>\n",
       "  </thead>\n",
       "  <tbody>\n",
       "    <tr>\n",
       "      <th>11508</th>\n",
       "      <td>0</td>\n",
       "      <td>1</td>\n",
       "      <td>2</td>\n",
       "      <td>3</td>\n",
       "      <td>2</td>\n",
       "    </tr>\n",
       "    <tr>\n",
       "      <th>2187</th>\n",
       "      <td>0</td>\n",
       "      <td>0</td>\n",
       "      <td>1</td>\n",
       "      <td>3</td>\n",
       "      <td>1</td>\n",
       "    </tr>\n",
       "    <tr>\n",
       "      <th>4692</th>\n",
       "      <td>0</td>\n",
       "      <td>0</td>\n",
       "      <td>3</td>\n",
       "      <td>1</td>\n",
       "      <td>5</td>\n",
       "    </tr>\n",
       "    <tr>\n",
       "      <th>4347</th>\n",
       "      <td>0</td>\n",
       "      <td>0</td>\n",
       "      <td>2</td>\n",
       "      <td>5</td>\n",
       "      <td>5</td>\n",
       "    </tr>\n",
       "    <tr>\n",
       "      <th>854</th>\n",
       "      <td>0</td>\n",
       "      <td>0</td>\n",
       "      <td>0</td>\n",
       "      <td>0</td>\n",
       "      <td>1</td>\n",
       "    </tr>\n",
       "  </tbody>\n",
       "</table>\n",
       "</div>"
      ],
      "text/plain": [
       "       ModelName_0  ModelName_1  ModelName_2  ModelName_3  ModelName_4\n",
       "11508            0            1            2            3            2\n",
       "2187             0            0            1            3            1\n",
       "4692             0            0            3            1            5\n",
       "4347             0            0            2            5            5\n",
       "854              0            0            0            0            1"
      ]
     },
     "execution_count": 223,
     "metadata": {},
     "output_type": "execute_result"
    }
   ],
   "source": [
    "name_encoder = ce.BaseNEncoder(cols=['ModelName'], return_df = True, base=6)\n",
    "name_encoder.fit(df_train[['ModelName']])\n",
    "model_df = name_encoder.transform((df_train[['ModelName']]))\n",
    "model_df.sample(5)"
   ]
  },
  {
   "cell_type": "markdown",
   "metadata": {},
   "source": [
    "# Modelling"
   ]
  },
  {
   "cell_type": "code",
   "execution_count": 224,
   "metadata": {},
   "outputs": [],
   "source": [
    "from sklearn.preprocessing import StandardScaler, MinMaxScaler\n",
    "from sklearn.model_selection import train_test_split\n",
    "\n",
    "X = pd.concat([df_train[num_cols], df_dummies, model_df], axis=1)\n",
    "y = df_train.cappedLogPrice\n",
    "X_cols = X.columns.to_list()\n",
    "\n",
    "X_train, X_test, y_train, y_test = train_test_split(X[X_cols], y, \n",
    "                                                    test_size = 0.2, random_state = 42)#,\n",
    "                                                    #stratify = df_train.cluster)\n",
    "scaler = StandardScaler()\n",
    "\n",
    "X_train_scaled = pd.DataFrame(scaler.fit_transform(X_train), columns=X_cols)\n",
    "X_test_scaled  = pd.DataFrame(scaler.transform(X_test), columns=X_cols)"
   ]
  },
  {
   "cell_type": "code",
   "execution_count": 225,
   "metadata": {},
   "outputs": [
    {
     "data": {
      "text/html": [
       "<div>\n",
       "<style scoped>\n",
       "    .dataframe tbody tr th:only-of-type {\n",
       "        vertical-align: middle;\n",
       "    }\n",
       "\n",
       "    .dataframe tbody tr th {\n",
       "        vertical-align: top;\n",
       "    }\n",
       "\n",
       "    .dataframe thead th {\n",
       "        text-align: right;\n",
       "    }\n",
       "</style>\n",
       "<table border=\"1\" class=\"dataframe\">\n",
       "  <thead>\n",
       "    <tr style=\"text-align: right;\">\n",
       "      <th></th>\n",
       "      <th>Levy</th>\n",
       "      <th>Prod. year</th>\n",
       "      <th>Engine volume</th>\n",
       "      <th>Airbags</th>\n",
       "      <th>Cylinders</th>\n",
       "      <th>Mileage</th>\n",
       "      <th>KMPerYear</th>\n",
       "      <th>Rare</th>\n",
       "      <th>isTurbo</th>\n",
       "      <th>ft1</th>\n",
       "      <th>...</th>\n",
       "      <th>Color_Red</th>\n",
       "      <th>Color_Silver</th>\n",
       "      <th>Color_Sky blue</th>\n",
       "      <th>Color_White</th>\n",
       "      <th>Color_Yellow</th>\n",
       "      <th>ModelName_0</th>\n",
       "      <th>ModelName_1</th>\n",
       "      <th>ModelName_2</th>\n",
       "      <th>ModelName_3</th>\n",
       "      <th>ModelName_4</th>\n",
       "    </tr>\n",
       "  </thead>\n",
       "  <tbody>\n",
       "    <tr>\n",
       "      <th>7808</th>\n",
       "      <td>0</td>\n",
       "      <td>2004</td>\n",
       "      <td>1.3</td>\n",
       "      <td>2</td>\n",
       "      <td>4</td>\n",
       "      <td>11.976659</td>\n",
       "      <td>9.143446</td>\n",
       "      <td>False</td>\n",
       "      <td>False</td>\n",
       "      <td>0.000000</td>\n",
       "      <td>...</td>\n",
       "      <td>0</td>\n",
       "      <td>0</td>\n",
       "      <td>1</td>\n",
       "      <td>0</td>\n",
       "      <td>0</td>\n",
       "      <td>0</td>\n",
       "      <td>0</td>\n",
       "      <td>4</td>\n",
       "      <td>4</td>\n",
       "      <td>4</td>\n",
       "    </tr>\n",
       "    <tr>\n",
       "      <th>16766</th>\n",
       "      <td>364</td>\n",
       "      <td>2012</td>\n",
       "      <td>1.0</td>\n",
       "      <td>4</td>\n",
       "      <td>4</td>\n",
       "      <td>11.982929</td>\n",
       "      <td>9.785705</td>\n",
       "      <td>False</td>\n",
       "      <td>False</td>\n",
       "      <td>171.709056</td>\n",
       "      <td>...</td>\n",
       "      <td>0</td>\n",
       "      <td>0</td>\n",
       "      <td>0</td>\n",
       "      <td>0</td>\n",
       "      <td>0</td>\n",
       "      <td>0</td>\n",
       "      <td>2</td>\n",
       "      <td>0</td>\n",
       "      <td>0</td>\n",
       "      <td>4</td>\n",
       "    </tr>\n",
       "    <tr>\n",
       "      <th>7285</th>\n",
       "      <td>1493</td>\n",
       "      <td>2016</td>\n",
       "      <td>3.5</td>\n",
       "      <td>4</td>\n",
       "      <td>4</td>\n",
       "      <td>10.693739</td>\n",
       "      <td>9.084301</td>\n",
       "      <td>False</td>\n",
       "      <td>False</td>\n",
       "      <td>193.196791</td>\n",
       "      <td>...</td>\n",
       "      <td>0</td>\n",
       "      <td>0</td>\n",
       "      <td>0</td>\n",
       "      <td>1</td>\n",
       "      <td>0</td>\n",
       "      <td>0</td>\n",
       "      <td>0</td>\n",
       "      <td>4</td>\n",
       "      <td>3</td>\n",
       "      <td>4</td>\n",
       "    </tr>\n",
       "    <tr>\n",
       "      <th>15712</th>\n",
       "      <td>891</td>\n",
       "      <td>2016</td>\n",
       "      <td>2.0</td>\n",
       "      <td>4</td>\n",
       "      <td>4</td>\n",
       "      <td>11.627691</td>\n",
       "      <td>10.018253</td>\n",
       "      <td>False</td>\n",
       "      <td>False</td>\n",
       "      <td>149.248116</td>\n",
       "      <td>...</td>\n",
       "      <td>0</td>\n",
       "      <td>0</td>\n",
       "      <td>0</td>\n",
       "      <td>1</td>\n",
       "      <td>0</td>\n",
       "      <td>0</td>\n",
       "      <td>1</td>\n",
       "      <td>5</td>\n",
       "      <td>5</td>\n",
       "      <td>5</td>\n",
       "    </tr>\n",
       "    <tr>\n",
       "      <th>16562</th>\n",
       "      <td>0</td>\n",
       "      <td>2011</td>\n",
       "      <td>2.4</td>\n",
       "      <td>9</td>\n",
       "      <td>4</td>\n",
       "      <td>12.711926</td>\n",
       "      <td>10.409341</td>\n",
       "      <td>False</td>\n",
       "      <td>False</td>\n",
       "      <td>0.000000</td>\n",
       "      <td>...</td>\n",
       "      <td>0</td>\n",
       "      <td>0</td>\n",
       "      <td>0</td>\n",
       "      <td>0</td>\n",
       "      <td>0</td>\n",
       "      <td>0</td>\n",
       "      <td>1</td>\n",
       "      <td>5</td>\n",
       "      <td>5</td>\n",
       "      <td>5</td>\n",
       "    </tr>\n",
       "  </tbody>\n",
       "</table>\n",
       "<p>5 rows × 75 columns</p>\n",
       "</div>"
      ],
      "text/plain": [
       "       Levy  Prod. year  Engine volume  Airbags  Cylinders    Mileage  \\\n",
       "7808      0        2004            1.3        2          4  11.976659   \n",
       "16766   364        2012            1.0        4          4  11.982929   \n",
       "7285   1493        2016            3.5        4          4  10.693739   \n",
       "15712   891        2016            2.0        4          4  11.627691   \n",
       "16562     0        2011            2.4        9          4  12.711926   \n",
       "\n",
       "       KMPerYear   Rare  isTurbo         ft1  ...  Color_Red  Color_Silver  \\\n",
       "7808    9.143446  False    False    0.000000  ...          0             0   \n",
       "16766   9.785705  False    False  171.709056  ...          0             0   \n",
       "7285    9.084301  False    False  193.196791  ...          0             0   \n",
       "15712  10.018253  False    False  149.248116  ...          0             0   \n",
       "16562  10.409341  False    False    0.000000  ...          0             0   \n",
       "\n",
       "       Color_Sky blue  Color_White  Color_Yellow  ModelName_0  ModelName_1  \\\n",
       "7808                1            0             0            0            0   \n",
       "16766               0            0             0            0            2   \n",
       "7285                0            1             0            0            0   \n",
       "15712               0            1             0            0            1   \n",
       "16562               0            0             0            0            1   \n",
       "\n",
       "       ModelName_2  ModelName_3  ModelName_4  \n",
       "7808             4            4            4  \n",
       "16766            0            0            4  \n",
       "7285             4            3            4  \n",
       "15712            5            5            5  \n",
       "16562            5            5            5  \n",
       "\n",
       "[5 rows x 75 columns]"
      ]
     },
     "execution_count": 225,
     "metadata": {},
     "output_type": "execute_result"
    }
   ],
   "source": [
    "X_train.head()"
   ]
  },
  {
   "cell_type": "markdown",
   "metadata": {},
   "source": [
    "# Random Forest"
   ]
  },
  {
   "cell_type": "code",
   "execution_count": 226,
   "metadata": {},
   "outputs": [],
   "source": [
    "from sklearn.ensemble import RandomForestRegressor"
   ]
  },
  {
   "cell_type": "code",
   "execution_count": 227,
   "metadata": {},
   "outputs": [
    {
     "data": {
      "text/plain": [
       "0.7081386271003306"
      ]
     },
     "execution_count": 227,
     "metadata": {},
     "output_type": "execute_result"
    }
   ],
   "source": [
    "rf_best = RandomForestRegressor(bootstrap=False, max_depth=80, max_features='sqrt', random_state=42,\n",
    "                      min_samples_split=5, n_estimators=133).fit(X_train_scaled, y_train)\n",
    "rf_best.score(X_test_scaled, y_test)"
   ]
  },
  {
   "cell_type": "code",
   "execution_count": 207,
   "metadata": {},
   "outputs": [
    {
     "data": {
      "text/plain": [
       "0.8033074878828894"
      ]
     },
     "execution_count": 207,
     "metadata": {},
     "output_type": "execute_result"
    }
   ],
   "source": [
    "from sklearn.metrics import mean_squared_log_error\n",
    "np.sqrt(mean_squared_log_error(\n",
    "        np.exp(y_test), \n",
    "        np.exp(rf_best.predict(X_test_scaled))))"
   ]
  },
  {
   "cell_type": "code",
   "execution_count": 33,
   "metadata": {},
   "outputs": [
    {
     "data": {
      "text/plain": [
       "<AxesSubplot:xlabel='Importance', ylabel='Feature'>"
      ]
     },
     "execution_count": 33,
     "metadata": {},
     "output_type": "execute_result"
    },
    {
     "data": {
      "image/png": "[encoded data removed]",
      "text/plain": [
       "<Figure size 432x288 with 1 Axes>"
      ]
     },
     "metadata": {
      "needs_background": "light"
     },
     "output_type": "display_data"
    }
   ],
   "source": [
    "df_importance = pd.DataFrame(rf_best.feature_importances_, columns = ['Importance'])\n",
    "df_importance['Feature'] = X_cols\n",
    "df_importance = df_importance[['Feature', 'Importance']].sort_values(by='Importance', ascending=False)\n",
    "sns.barplot(x='Importance', y='Feature', data=df_importance.head(20))"
   ]
  },
  {
   "cell_type": "markdown",
   "metadata": {},
   "source": [
    "---\n"
   ]
  },
  {
   "cell_type": "code",
   "execution_count": 228,
   "metadata": {
    "scrolled": false
   },
   "outputs": [
    {
     "data": {
      "text/html": [
       "<div>\n",
       "<style scoped>\n",
       "    .dataframe tbody tr th:only-of-type {\n",
       "        vertical-align: middle;\n",
       "    }\n",
       "\n",
       "    .dataframe tbody tr th {\n",
       "        vertical-align: top;\n",
       "    }\n",
       "\n",
       "    .dataframe thead th {\n",
       "        text-align: right;\n",
       "    }\n",
       "</style>\n",
       "<table border=\"1\" class=\"dataframe\">\n",
       "  <thead>\n",
       "    <tr style=\"text-align: right;\">\n",
       "      <th></th>\n",
       "      <th>Levy</th>\n",
       "      <th>Prod. year</th>\n",
       "      <th>Engine volume</th>\n",
       "      <th>Airbags</th>\n",
       "      <th>Cylinders</th>\n",
       "      <th>Mileage</th>\n",
       "      <th>KMPerYear</th>\n",
       "      <th>Rare</th>\n",
       "      <th>isTurbo</th>\n",
       "      <th>ft1</th>\n",
       "      <th>...</th>\n",
       "      <th>Color_Red</th>\n",
       "      <th>Color_Silver</th>\n",
       "      <th>Color_Sky blue</th>\n",
       "      <th>Color_White</th>\n",
       "      <th>Color_Yellow</th>\n",
       "      <th>ModelName_0</th>\n",
       "      <th>ModelName_1</th>\n",
       "      <th>ModelName_2</th>\n",
       "      <th>ModelName_3</th>\n",
       "      <th>ModelName_4</th>\n",
       "    </tr>\n",
       "  </thead>\n",
       "  <tbody>\n",
       "    <tr>\n",
       "      <th>0</th>\n",
       "      <td>-1.111134</td>\n",
       "      <td>0.191152</td>\n",
       "      <td>-0.348790</td>\n",
       "      <td>0.788730</td>\n",
       "      <td>-0.486096</td>\n",
       "      <td>0.257966</td>\n",
       "      <td>16321.240220</td>\n",
       "      <td>-0.113287</td>\n",
       "      <td>3.009679</td>\n",
       "      <td>-1.042803</td>\n",
       "      <td>...</td>\n",
       "      <td>-0.186076</td>\n",
       "      <td>-0.496871</td>\n",
       "      <td>-0.077974</td>\n",
       "      <td>-0.549095</td>\n",
       "      <td>-0.074084</td>\n",
       "      <td>0.0</td>\n",
       "      <td>-0.958103</td>\n",
       "      <td>1.544171</td>\n",
       "      <td>1.127897</td>\n",
       "      <td>-1.480800</td>\n",
       "    </tr>\n",
       "    <tr>\n",
       "      <th>1</th>\n",
       "      <td>-1.111134</td>\n",
       "      <td>0.191152</td>\n",
       "      <td>0.103422</td>\n",
       "      <td>0.788730</td>\n",
       "      <td>-0.486096</td>\n",
       "      <td>-1.413790</td>\n",
       "      <td>2938.993255</td>\n",
       "      <td>-0.113287</td>\n",
       "      <td>-0.332261</td>\n",
       "      <td>-1.042803</td>\n",
       "      <td>...</td>\n",
       "      <td>-0.186076</td>\n",
       "      <td>-0.496871</td>\n",
       "      <td>-0.077974</td>\n",
       "      <td>-0.549095</td>\n",
       "      <td>-0.074084</td>\n",
       "      <td>0.0</td>\n",
       "      <td>0.476162</td>\n",
       "      <td>1.544171</td>\n",
       "      <td>1.127897</td>\n",
       "      <td>1.442092</td>\n",
       "    </tr>\n",
       "    <tr>\n",
       "      <th>2</th>\n",
       "      <td>-1.111134</td>\n",
       "      <td>-1.039436</td>\n",
       "      <td>-0.914055</td>\n",
       "      <td>0.326277</td>\n",
       "      <td>-0.486096</td>\n",
       "      <td>0.408518</td>\n",
       "      <td>10707.501027</td>\n",
       "      <td>-0.113287</td>\n",
       "      <td>-0.332261</td>\n",
       "      <td>-1.042803</td>\n",
       "      <td>...</td>\n",
       "      <td>-0.186076</td>\n",
       "      <td>-0.496871</td>\n",
       "      <td>12.824707</td>\n",
       "      <td>-0.549095</td>\n",
       "      <td>-0.074084</td>\n",
       "      <td>0.0</td>\n",
       "      <td>1.910427</td>\n",
       "      <td>-1.326064</td>\n",
       "      <td>0.624498</td>\n",
       "      <td>0.272935</td>\n",
       "    </tr>\n",
       "    <tr>\n",
       "      <th>3</th>\n",
       "      <td>0.607795</td>\n",
       "      <td>0.191152</td>\n",
       "      <td>1.007846</td>\n",
       "      <td>1.251183</td>\n",
       "      <td>1.179761</td>\n",
       "      <td>0.251160</td>\n",
       "      <td>16207.831348</td>\n",
       "      <td>-0.113287</td>\n",
       "      <td>-0.332261</td>\n",
       "      <td>0.750367</td>\n",
       "      <td>...</td>\n",
       "      <td>-0.186076</td>\n",
       "      <td>-0.496871</td>\n",
       "      <td>-0.077974</td>\n",
       "      <td>-0.549095</td>\n",
       "      <td>-0.074084</td>\n",
       "      <td>0.0</td>\n",
       "      <td>1.910427</td>\n",
       "      <td>-0.177970</td>\n",
       "      <td>-0.885700</td>\n",
       "      <td>-0.311643</td>\n",
       "    </tr>\n",
       "    <tr>\n",
       "      <th>4</th>\n",
       "      <td>-1.111134</td>\n",
       "      <td>-3.149016</td>\n",
       "      <td>-0.801002</td>\n",
       "      <td>-1.523534</td>\n",
       "      <td>-0.486096</td>\n",
       "      <td>0.578801</td>\n",
       "      <td>7280.932948</td>\n",
       "      <td>-0.113287</td>\n",
       "      <td>-0.332261</td>\n",
       "      <td>-1.042803</td>\n",
       "      <td>...</td>\n",
       "      <td>-0.186076</td>\n",
       "      <td>-0.496871</td>\n",
       "      <td>-0.077974</td>\n",
       "      <td>-0.549095</td>\n",
       "      <td>-0.074084</td>\n",
       "      <td>0.0</td>\n",
       "      <td>-0.958103</td>\n",
       "      <td>-1.326064</td>\n",
       "      <td>1.127897</td>\n",
       "      <td>0.857513</td>\n",
       "    </tr>\n",
       "  </tbody>\n",
       "</table>\n",
       "<p>5 rows × 75 columns</p>\n",
       "</div>"
      ],
      "text/plain": [
       "       Levy  Prod. year  Engine volume   Airbags  Cylinders   Mileage  \\\n",
       "0 -1.111134    0.191152      -0.348790  0.788730  -0.486096  0.257966   \n",
       "1 -1.111134    0.191152       0.103422  0.788730  -0.486096 -1.413790   \n",
       "2 -1.111134   -1.039436      -0.914055  0.326277  -0.486096  0.408518   \n",
       "3  0.607795    0.191152       1.007846  1.251183   1.179761  0.251160   \n",
       "4 -1.111134   -3.149016      -0.801002 -1.523534  -0.486096  0.578801   \n",
       "\n",
       "      KMPerYear      Rare   isTurbo       ft1  ...  Color_Red  Color_Silver  \\\n",
       "0  16321.240220 -0.113287  3.009679 -1.042803  ...  -0.186076     -0.496871   \n",
       "1   2938.993255 -0.113287 -0.332261 -1.042803  ...  -0.186076     -0.496871   \n",
       "2  10707.501027 -0.113287 -0.332261 -1.042803  ...  -0.186076     -0.496871   \n",
       "3  16207.831348 -0.113287 -0.332261  0.750367  ...  -0.186076     -0.496871   \n",
       "4   7280.932948 -0.113287 -0.332261 -1.042803  ...  -0.186076     -0.496871   \n",
       "\n",
       "   Color_Sky blue  Color_White  Color_Yellow  ModelName_0  ModelName_1  \\\n",
       "0       -0.077974    -0.549095     -0.074084          0.0    -0.958103   \n",
       "1       -0.077974    -0.549095     -0.074084          0.0     0.476162   \n",
       "2       12.824707    -0.549095     -0.074084          0.0     1.910427   \n",
       "3       -0.077974    -0.549095     -0.074084          0.0     1.910427   \n",
       "4       -0.077974    -0.549095     -0.074084          0.0    -0.958103   \n",
       "\n",
       "   ModelName_2  ModelName_3  ModelName_4  \n",
       "0     1.544171     1.127897    -1.480800  \n",
       "1     1.544171     1.127897     1.442092  \n",
       "2    -1.326064     0.624498     0.272935  \n",
       "3    -0.177970    -0.885700    -0.311643  \n",
       "4    -1.326064     1.127897     0.857513  \n",
       "\n",
       "[5 rows x 75 columns]"
      ]
     },
     "execution_count": 228,
     "metadata": {},
     "output_type": "execute_result"
    }
   ],
   "source": [
    "df_test = test.drop(columns = 'ID')\n",
    "\n",
    "df_test.loc[df_test.Levy=='-', 'Levy'] = 0\n",
    "df_test.loc[df_test.Doors=='04-May', 'Doors'] = '4-May'\n",
    "df_test.loc[df_test.Doors=='02-Mar', 'Doors'] = '2-Mar'\n",
    "\n",
    "df_test.Mileage = df_test.Mileage.apply(lambda x: int(x[:-3]))\n",
    "df_test.loc[df_test.Mileage==0, 'Mileage'] = None\n",
    "df_test['Mileage'] = df_test['Mileage'].\\\n",
    "                        fillna(df_test.groupby('Prod. year')['Mileage'].transform('median'))\n",
    "df_test.Mileage.fillna(df_test.Mileage.mean(), inplace=True)\n",
    "df_test.Mileage = np.log(df_test.Mileage)\n",
    "\n",
    "df_test['Engine volume'].apply(lambda x: float(x.split(' ')[0]))\n",
    "df_test['Engine volume'] = df_test['Engine volume'].apply(lambda x: float(x.split(' ')[0]))\n",
    "\n",
    "df_test.Levy = df_test.Levy.astype(int)\n",
    "df_test.loc[df_test.Cylinders > 15, 'Cylinders'] = 15\n",
    "\n",
    "df_test.loc[~df_test.Manufacturer.isin(top_manufacturers), 'Manufacturer'] = 'Other'\n",
    "df_dummies_test = pd.get_dummies(df_test[cat_cols], drop_first=True)\n",
    "\n",
    "df_test['Rare'] = (df_test['Prod. year']<2000) & (df_test.Mileage<10.6)\n",
    "df_test.Rare.value_counts()\n",
    "df_test['KMPerYear'] = np.exp(df_test.Mileage) / (2021 - df_test['Prod. year'])\n",
    "df_test['isTurbo'] = test['Engine volume'].apply(lambda x: x.split(' ')[-1]=='Turbo')\n",
    "df_test['ft1'] = np.sqrt(df_test.Levy) * (2021 - df_test['Prod. year'])\n",
    "\n",
    "df_test['ModelName'] = df_test.Model.apply(lambda x: x.split(' ')[0])\n",
    "df_test.loc[df_test.ModelName.apply(lambda x : x.isnumeric()), 'ModelName'] = 'Others'\n",
    "df_test.loc[df_test.ModelName.apply(lambda x : '+' in x), 'ModelName'] = 'Others'\n",
    "model_df_test = name_encoder.transform(df_test['ModelName'])\n",
    "\n",
    "#############################################\n",
    "\n",
    "X_submit = pd.concat([df_test[num_cols], df_dummies_test, model_df_test], axis=1)\n",
    "X_submit_scaled = pd.DataFrame(scaler.transform(X_submit), columns=X_cols)\n",
    "X_submit_scaled.head()"
   ]
  },
  {
   "cell_type": "code",
   "execution_count": 229,
   "metadata": {},
   "outputs": [],
   "source": [
    "y_submit = pd.DataFrame(np.round(np.exp(rf_best.predict(X_submit_scaled)), 2) , columns=['Price'])\n",
    "y_submit.to_csv('submission.csv', index=False)"
   ]
  },
  {
   "cell_type": "code",
   "execution_count": null,
   "metadata": {},
   "outputs": [],
   "source": []
  }
 ],
 "metadata": {
  "kernelspec": {
   "display_name": "Python 3",
   "language": "python",
   "name": "python3"
  },
  "language_info": {
   "codemirror_mode": {
    "name": "ipython",
    "version": 3
   },
   "file_extension": ".py",
   "mimetype": "text/x-python",
   "name": "python",
   "nbconvert_exporter": "python",
   "pygments_lexer": "ipython3",
   "version": "3.6.7"
  }
 },
 "nbformat": 4,
 "nbformat_minor": 4
}
