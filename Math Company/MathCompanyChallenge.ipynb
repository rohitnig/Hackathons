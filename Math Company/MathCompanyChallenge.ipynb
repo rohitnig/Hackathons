{
 "cells": [
  {
   "cell_type": "code",
   "execution_count": 61,
   "metadata": {},
   "outputs": [],
   "source": [
    "import pandas as pd\n",
    "import numpy as np\n",
    "import seaborn as sns\n",
    "import matplotlib.pyplot as plt"
   ]
  },
  {
   "cell_type": "code",
   "execution_count": 62,
   "metadata": {},
   "outputs": [],
   "source": [
    "from scipy.stats import boxcox\n",
    "from scipy.special import inv_boxcox"
   ]
  },
  {
   "cell_type": "code",
   "execution_count": 63,
   "metadata": {},
   "outputs": [],
   "source": [
    "import warnings\n",
    "warnings.filterwarnings(\"ignore\")"
   ]
  },
  {
   "cell_type": "code",
   "execution_count": 64,
   "metadata": {},
   "outputs": [
    {
     "data": {
      "text/html": [
       "<div>\n",
       "<style scoped>\n",
       "    .dataframe tbody tr th:only-of-type {\n",
       "        vertical-align: middle;\n",
       "    }\n",
       "\n",
       "    .dataframe tbody tr th {\n",
       "        vertical-align: top;\n",
       "    }\n",
       "\n",
       "    .dataframe thead th {\n",
       "        text-align: right;\n",
       "    }\n",
       "</style>\n",
       "<table border=\"1\" class=\"dataframe\">\n",
       "  <thead>\n",
       "    <tr style=\"text-align: right;\">\n",
       "      <th></th>\n",
       "      <th>ID</th>\n",
       "      <th>Price</th>\n",
       "      <th>Levy</th>\n",
       "      <th>Manufacturer</th>\n",
       "      <th>Model</th>\n",
       "      <th>Prod. year</th>\n",
       "      <th>Category</th>\n",
       "      <th>Leather interior</th>\n",
       "      <th>Fuel type</th>\n",
       "      <th>Engine volume</th>\n",
       "      <th>Mileage</th>\n",
       "      <th>Cylinders</th>\n",
       "      <th>Gear box type</th>\n",
       "      <th>Drive wheels</th>\n",
       "      <th>Doors</th>\n",
       "      <th>Wheel</th>\n",
       "      <th>Color</th>\n",
       "      <th>Airbags</th>\n",
       "    </tr>\n",
       "  </thead>\n",
       "  <tbody>\n",
       "    <tr>\n",
       "      <th>9656</th>\n",
       "      <td>45797665</td>\n",
       "      <td>12083</td>\n",
       "      <td>862</td>\n",
       "      <td>HYUNDAI</td>\n",
       "      <td>H1</td>\n",
       "      <td>2011</td>\n",
       "      <td>Jeep</td>\n",
       "      <td>Yes</td>\n",
       "      <td>Diesel</td>\n",
       "      <td>2.5</td>\n",
       "      <td>43224 km</td>\n",
       "      <td>4</td>\n",
       "      <td>Automatic</td>\n",
       "      <td>Front</td>\n",
       "      <td>4-May</td>\n",
       "      <td>Left wheel</td>\n",
       "      <td>Blue</td>\n",
       "      <td>4</td>\n",
       "    </tr>\n",
       "    <tr>\n",
       "      <th>9885</th>\n",
       "      <td>45768138</td>\n",
       "      <td>251</td>\n",
       "      <td>1750</td>\n",
       "      <td>TOYOTA</td>\n",
       "      <td>Highlander</td>\n",
       "      <td>2008</td>\n",
       "      <td>Jeep</td>\n",
       "      <td>Yes</td>\n",
       "      <td>Hybrid</td>\n",
       "      <td>3.3</td>\n",
       "      <td>318467 km</td>\n",
       "      <td>6</td>\n",
       "      <td>Automatic</td>\n",
       "      <td>4x4</td>\n",
       "      <td>4-May</td>\n",
       "      <td>Left wheel</td>\n",
       "      <td>Blue</td>\n",
       "      <td>12</td>\n",
       "    </tr>\n",
       "    <tr>\n",
       "      <th>18829</th>\n",
       "      <td>45647811</td>\n",
       "      <td>1019</td>\n",
       "      <td>917</td>\n",
       "      <td>BMW</td>\n",
       "      <td>X5</td>\n",
       "      <td>2013</td>\n",
       "      <td>Jeep</td>\n",
       "      <td>Yes</td>\n",
       "      <td>Diesel</td>\n",
       "      <td>3</td>\n",
       "      <td>137802 km</td>\n",
       "      <td>6</td>\n",
       "      <td>Automatic</td>\n",
       "      <td>4x4</td>\n",
       "      <td>4-May</td>\n",
       "      <td>Left wheel</td>\n",
       "      <td>Black</td>\n",
       "      <td>0</td>\n",
       "    </tr>\n",
       "    <tr>\n",
       "      <th>18520</th>\n",
       "      <td>45758982</td>\n",
       "      <td>24462</td>\n",
       "      <td>-</td>\n",
       "      <td>CHEVROLET</td>\n",
       "      <td>Volt Full Packet</td>\n",
       "      <td>2012</td>\n",
       "      <td>Sedan</td>\n",
       "      <td>Yes</td>\n",
       "      <td>Plug-in Hybrid</td>\n",
       "      <td>1.4</td>\n",
       "      <td>113600 km</td>\n",
       "      <td>4</td>\n",
       "      <td>Variator</td>\n",
       "      <td>Front</td>\n",
       "      <td>4-May</td>\n",
       "      <td>Left wheel</td>\n",
       "      <td>Black</td>\n",
       "      <td>12</td>\n",
       "    </tr>\n",
       "    <tr>\n",
       "      <th>2759</th>\n",
       "      <td>45651273</td>\n",
       "      <td>5018</td>\n",
       "      <td>779</td>\n",
       "      <td>TOYOTA</td>\n",
       "      <td>Camry</td>\n",
       "      <td>2013</td>\n",
       "      <td>Sedan</td>\n",
       "      <td>Yes</td>\n",
       "      <td>Hybrid</td>\n",
       "      <td>2.5</td>\n",
       "      <td>190549 km</td>\n",
       "      <td>4</td>\n",
       "      <td>Automatic</td>\n",
       "      <td>Front</td>\n",
       "      <td>4-May</td>\n",
       "      <td>Left wheel</td>\n",
       "      <td>Black</td>\n",
       "      <td>12</td>\n",
       "    </tr>\n",
       "    <tr>\n",
       "      <th>13049</th>\n",
       "      <td>42786153</td>\n",
       "      <td>14897</td>\n",
       "      <td>878</td>\n",
       "      <td>TOYOTA</td>\n",
       "      <td>Prius</td>\n",
       "      <td>2009</td>\n",
       "      <td>Hatchback</td>\n",
       "      <td>No</td>\n",
       "      <td>Hybrid</td>\n",
       "      <td>1.8</td>\n",
       "      <td>162024 km</td>\n",
       "      <td>4</td>\n",
       "      <td>Automatic</td>\n",
       "      <td>Front</td>\n",
       "      <td>4-May</td>\n",
       "      <td>Left wheel</td>\n",
       "      <td>Red</td>\n",
       "      <td>8</td>\n",
       "    </tr>\n",
       "    <tr>\n",
       "      <th>609</th>\n",
       "      <td>45810285</td>\n",
       "      <td>308906</td>\n",
       "      <td>1694</td>\n",
       "      <td>PORSCHE</td>\n",
       "      <td>911</td>\n",
       "      <td>2016</td>\n",
       "      <td>Coupe</td>\n",
       "      <td>Yes</td>\n",
       "      <td>Petrol</td>\n",
       "      <td>4</td>\n",
       "      <td>8690 km</td>\n",
       "      <td>6</td>\n",
       "      <td>Automatic</td>\n",
       "      <td>Rear</td>\n",
       "      <td>2-Mar</td>\n",
       "      <td>Left wheel</td>\n",
       "      <td>Black</td>\n",
       "      <td>12</td>\n",
       "    </tr>\n",
       "    <tr>\n",
       "      <th>11663</th>\n",
       "      <td>45661148</td>\n",
       "      <td>1725</td>\n",
       "      <td>1363</td>\n",
       "      <td>MERCEDES-BENZ</td>\n",
       "      <td>ML 350</td>\n",
       "      <td>2012</td>\n",
       "      <td>Jeep</td>\n",
       "      <td>Yes</td>\n",
       "      <td>Diesel</td>\n",
       "      <td>4.6</td>\n",
       "      <td>180659 km</td>\n",
       "      <td>8</td>\n",
       "      <td>Automatic</td>\n",
       "      <td>4x4</td>\n",
       "      <td>4-May</td>\n",
       "      <td>Left wheel</td>\n",
       "      <td>Black</td>\n",
       "      <td>12</td>\n",
       "    </tr>\n",
       "    <tr>\n",
       "      <th>13881</th>\n",
       "      <td>45280588</td>\n",
       "      <td>18189</td>\n",
       "      <td>308</td>\n",
       "      <td>TOYOTA</td>\n",
       "      <td>Prius C</td>\n",
       "      <td>2014</td>\n",
       "      <td>Sedan</td>\n",
       "      <td>Yes</td>\n",
       "      <td>Hybrid</td>\n",
       "      <td>1.8</td>\n",
       "      <td>112000 km</td>\n",
       "      <td>4</td>\n",
       "      <td>Tiptronic</td>\n",
       "      <td>Front</td>\n",
       "      <td>4-May</td>\n",
       "      <td>Left wheel</td>\n",
       "      <td>Orange</td>\n",
       "      <td>12</td>\n",
       "    </tr>\n",
       "    <tr>\n",
       "      <th>17792</th>\n",
       "      <td>45804991</td>\n",
       "      <td>43626</td>\n",
       "      <td>770</td>\n",
       "      <td>HYUNDAI</td>\n",
       "      <td>Tucson</td>\n",
       "      <td>2016</td>\n",
       "      <td>Jeep</td>\n",
       "      <td>Yes</td>\n",
       "      <td>Diesel</td>\n",
       "      <td>1.7</td>\n",
       "      <td>122856 km</td>\n",
       "      <td>4</td>\n",
       "      <td>Automatic</td>\n",
       "      <td>Front</td>\n",
       "      <td>4-May</td>\n",
       "      <td>Left wheel</td>\n",
       "      <td>Black</td>\n",
       "      <td>4</td>\n",
       "    </tr>\n",
       "  </tbody>\n",
       "</table>\n",
       "</div>"
      ],
      "text/plain": [
       "             ID   Price  Levy   Manufacturer             Model  Prod. year  \\\n",
       "9656   45797665   12083   862        HYUNDAI                H1        2011   \n",
       "9885   45768138     251  1750         TOYOTA        Highlander        2008   \n",
       "18829  45647811    1019   917            BMW                X5        2013   \n",
       "18520  45758982   24462     -      CHEVROLET  Volt Full Packet        2012   \n",
       "2759   45651273    5018   779         TOYOTA             Camry        2013   \n",
       "13049  42786153   14897   878         TOYOTA             Prius        2009   \n",
       "609    45810285  308906  1694        PORSCHE               911        2016   \n",
       "11663  45661148    1725  1363  MERCEDES-BENZ            ML 350        2012   \n",
       "13881  45280588   18189   308         TOYOTA           Prius C        2014   \n",
       "17792  45804991   43626   770        HYUNDAI            Tucson        2016   \n",
       "\n",
       "        Category Leather interior       Fuel type Engine volume    Mileage  \\\n",
       "9656        Jeep              Yes          Diesel           2.5   43224 km   \n",
       "9885        Jeep              Yes          Hybrid           3.3  318467 km   \n",
       "18829       Jeep              Yes          Diesel             3  137802 km   \n",
       "18520      Sedan              Yes  Plug-in Hybrid           1.4  113600 km   \n",
       "2759       Sedan              Yes          Hybrid           2.5  190549 km   \n",
       "13049  Hatchback               No          Hybrid           1.8  162024 km   \n",
       "609        Coupe              Yes          Petrol             4    8690 km   \n",
       "11663       Jeep              Yes          Diesel           4.6  180659 km   \n",
       "13881      Sedan              Yes          Hybrid           1.8  112000 km   \n",
       "17792       Jeep              Yes          Diesel           1.7  122856 km   \n",
       "\n",
       "       Cylinders Gear box type Drive wheels  Doors       Wheel   Color  \\\n",
       "9656           4     Automatic        Front  4-May  Left wheel    Blue   \n",
       "9885           6     Automatic          4x4  4-May  Left wheel    Blue   \n",
       "18829          6     Automatic          4x4  4-May  Left wheel   Black   \n",
       "18520          4      Variator        Front  4-May  Left wheel   Black   \n",
       "2759           4     Automatic        Front  4-May  Left wheel   Black   \n",
       "13049          4     Automatic        Front  4-May  Left wheel     Red   \n",
       "609            6     Automatic         Rear  2-Mar  Left wheel   Black   \n",
       "11663          8     Automatic          4x4  4-May  Left wheel   Black   \n",
       "13881          4     Tiptronic        Front  4-May  Left wheel  Orange   \n",
       "17792          4     Automatic        Front  4-May  Left wheel   Black   \n",
       "\n",
       "       Airbags  \n",
       "9656         4  \n",
       "9885        12  \n",
       "18829        0  \n",
       "18520       12  \n",
       "2759        12  \n",
       "13049        8  \n",
       "609         12  \n",
       "11663       12  \n",
       "13881       12  \n",
       "17792        4  "
      ]
     },
     "execution_count": 64,
     "metadata": {},
     "output_type": "execute_result"
    }
   ],
   "source": [
    "train = pd.read_csv('train.csv')\n",
    "test  = pd.read_csv('test.csv')\n",
    "train.sample(10)"
   ]
  },
  {
   "cell_type": "code",
   "execution_count": 65,
   "metadata": {},
   "outputs": [
    {
     "data": {
      "text/html": [
       "<div>\n",
       "<style scoped>\n",
       "    .dataframe tbody tr th:only-of-type {\n",
       "        vertical-align: middle;\n",
       "    }\n",
       "\n",
       "    .dataframe tbody tr th {\n",
       "        vertical-align: top;\n",
       "    }\n",
       "\n",
       "    .dataframe thead th {\n",
       "        text-align: right;\n",
       "    }\n",
       "</style>\n",
       "<table border=\"1\" class=\"dataframe\">\n",
       "  <thead>\n",
       "    <tr style=\"text-align: right;\">\n",
       "      <th></th>\n",
       "      <th>ID</th>\n",
       "      <th>Levy</th>\n",
       "      <th>Manufacturer</th>\n",
       "      <th>Model</th>\n",
       "      <th>Prod. year</th>\n",
       "      <th>Category</th>\n",
       "      <th>Leather interior</th>\n",
       "      <th>Fuel type</th>\n",
       "      <th>Engine volume</th>\n",
       "      <th>Mileage</th>\n",
       "      <th>Cylinders</th>\n",
       "      <th>Gear box type</th>\n",
       "      <th>Drive wheels</th>\n",
       "      <th>Doors</th>\n",
       "      <th>Wheel</th>\n",
       "      <th>Color</th>\n",
       "      <th>Airbags</th>\n",
       "      <th>Price</th>\n",
       "    </tr>\n",
       "  </thead>\n",
       "  <tbody>\n",
       "    <tr>\n",
       "      <th>0</th>\n",
       "      <td>44020629</td>\n",
       "      <td>-</td>\n",
       "      <td>VOLKSWAGEN</td>\n",
       "      <td>Golf</td>\n",
       "      <td>2012</td>\n",
       "      <td>Hatchback</td>\n",
       "      <td>No</td>\n",
       "      <td>Diesel</td>\n",
       "      <td>2.0 Turbo</td>\n",
       "      <td>0 km</td>\n",
       "      <td>4</td>\n",
       "      <td>Manual</td>\n",
       "      <td>Front</td>\n",
       "      <td>02-Mar</td>\n",
       "      <td>Left wheel</td>\n",
       "      <td>Grey</td>\n",
       "      <td>10</td>\n",
       "      <td>NaN</td>\n",
       "    </tr>\n",
       "    <tr>\n",
       "      <th>1</th>\n",
       "      <td>45784798</td>\n",
       "      <td>-</td>\n",
       "      <td>HYUNDAI</td>\n",
       "      <td>Sonata</td>\n",
       "      <td>2012</td>\n",
       "      <td>Sedan</td>\n",
       "      <td>Yes</td>\n",
       "      <td>Petrol</td>\n",
       "      <td>2.4</td>\n",
       "      <td>26000 km</td>\n",
       "      <td>4</td>\n",
       "      <td>Tiptronic</td>\n",
       "      <td>Front</td>\n",
       "      <td>04-May</td>\n",
       "      <td>Left wheel</td>\n",
       "      <td>Grey</td>\n",
       "      <td>10</td>\n",
       "      <td>NaN</td>\n",
       "    </tr>\n",
       "    <tr>\n",
       "      <th>2</th>\n",
       "      <td>45800257</td>\n",
       "      <td>-</td>\n",
       "      <td>NISSAN</td>\n",
       "      <td>Tiida</td>\n",
       "      <td>2005</td>\n",
       "      <td>Sedan</td>\n",
       "      <td>No</td>\n",
       "      <td>Petrol</td>\n",
       "      <td>1.5</td>\n",
       "      <td>168000 km</td>\n",
       "      <td>4</td>\n",
       "      <td>Automatic</td>\n",
       "      <td>Front</td>\n",
       "      <td>04-May</td>\n",
       "      <td>Right-hand drive</td>\n",
       "      <td>Sky blue</td>\n",
       "      <td>8</td>\n",
       "      <td>NaN</td>\n",
       "    </tr>\n",
       "    <tr>\n",
       "      <th>3</th>\n",
       "      <td>45797981</td>\n",
       "      <td>975</td>\n",
       "      <td>VOLVO</td>\n",
       "      <td>XC90</td>\n",
       "      <td>2012</td>\n",
       "      <td>Jeep</td>\n",
       "      <td>Yes</td>\n",
       "      <td>Petrol</td>\n",
       "      <td>3.2</td>\n",
       "      <td>143000 km</td>\n",
       "      <td>6</td>\n",
       "      <td>Automatic</td>\n",
       "      <td>4x4</td>\n",
       "      <td>04-May</td>\n",
       "      <td>Left wheel</td>\n",
       "      <td>Blue</td>\n",
       "      <td>12</td>\n",
       "      <td>NaN</td>\n",
       "    </tr>\n",
       "    <tr>\n",
       "      <th>4</th>\n",
       "      <td>45814303</td>\n",
       "      <td>-</td>\n",
       "      <td>OPEL</td>\n",
       "      <td>Astra</td>\n",
       "      <td>1993</td>\n",
       "      <td>Hatchback</td>\n",
       "      <td>No</td>\n",
       "      <td>Petrol</td>\n",
       "      <td>1.6</td>\n",
       "      <td>200000 km</td>\n",
       "      <td>4</td>\n",
       "      <td>Manual</td>\n",
       "      <td>Front</td>\n",
       "      <td>04-May</td>\n",
       "      <td>Left wheel</td>\n",
       "      <td>Black</td>\n",
       "      <td>0</td>\n",
       "      <td>NaN</td>\n",
       "    </tr>\n",
       "  </tbody>\n",
       "</table>\n",
       "</div>"
      ],
      "text/plain": [
       "         ID Levy Manufacturer   Model  Prod. year   Category Leather interior  \\\n",
       "0  44020629    -   VOLKSWAGEN    Golf        2012  Hatchback               No   \n",
       "1  45784798    -      HYUNDAI  Sonata        2012      Sedan              Yes   \n",
       "2  45800257    -       NISSAN   Tiida        2005      Sedan               No   \n",
       "3  45797981  975        VOLVO    XC90        2012       Jeep              Yes   \n",
       "4  45814303    -         OPEL   Astra        1993  Hatchback               No   \n",
       "\n",
       "  Fuel type Engine volume    Mileage  Cylinders Gear box type Drive wheels  \\\n",
       "0    Diesel     2.0 Turbo       0 km          4        Manual        Front   \n",
       "1    Petrol           2.4   26000 km          4     Tiptronic        Front   \n",
       "2    Petrol           1.5  168000 km          4     Automatic        Front   \n",
       "3    Petrol           3.2  143000 km          6     Automatic          4x4   \n",
       "4    Petrol           1.6  200000 km          4        Manual        Front   \n",
       "\n",
       "    Doors             Wheel     Color  Airbags  Price  \n",
       "0  02-Mar        Left wheel      Grey       10    NaN  \n",
       "1  04-May        Left wheel      Grey       10    NaN  \n",
       "2  04-May  Right-hand drive  Sky blue        8    NaN  \n",
       "3  04-May        Left wheel      Blue       12    NaN  \n",
       "4  04-May        Left wheel     Black        0    NaN  "
      ]
     },
     "execution_count": 65,
     "metadata": {},
     "output_type": "execute_result"
    }
   ],
   "source": [
    "test.head()"
   ]
  },
  {
   "cell_type": "code",
   "execution_count": 66,
   "metadata": {},
   "outputs": [
    {
     "name": "stdout",
     "output_type": "stream",
     "text": [
      "<class 'pandas.core.frame.DataFrame'>\n",
      "RangeIndex: 19237 entries, 0 to 19236\n",
      "Data columns (total 18 columns):\n",
      " #   Column            Non-Null Count  Dtype \n",
      "---  ------            --------------  ----- \n",
      " 0   ID                19237 non-null  int64 \n",
      " 1   Price             19237 non-null  int64 \n",
      " 2   Levy              19237 non-null  object\n",
      " 3   Manufacturer      19237 non-null  object\n",
      " 4   Model             19237 non-null  object\n",
      " 5   Prod. year        19237 non-null  int64 \n",
      " 6   Category          19237 non-null  object\n",
      " 7   Leather interior  19237 non-null  object\n",
      " 8   Fuel type         19237 non-null  object\n",
      " 9   Engine volume     19237 non-null  object\n",
      " 10  Mileage           19237 non-null  object\n",
      " 11  Cylinders         19237 non-null  int64 \n",
      " 12  Gear box type     19237 non-null  object\n",
      " 13  Drive wheels      19237 non-null  object\n",
      " 14  Doors             19237 non-null  object\n",
      " 15  Wheel             19237 non-null  object\n",
      " 16  Color             19237 non-null  object\n",
      " 17  Airbags           19237 non-null  int64 \n",
      "dtypes: int64(5), object(13)\n",
      "memory usage: 2.6+ MB\n"
     ]
    }
   ],
   "source": [
    "train.info()"
   ]
  },
  {
   "cell_type": "code",
   "execution_count": 67,
   "metadata": {},
   "outputs": [
    {
     "data": {
      "text/html": [
       "<div>\n",
       "<style scoped>\n",
       "    .dataframe tbody tr th:only-of-type {\n",
       "        vertical-align: middle;\n",
       "    }\n",
       "\n",
       "    .dataframe tbody tr th {\n",
       "        vertical-align: top;\n",
       "    }\n",
       "\n",
       "    .dataframe thead th {\n",
       "        text-align: right;\n",
       "    }\n",
       "</style>\n",
       "<table border=\"1\" class=\"dataframe\">\n",
       "  <thead>\n",
       "    <tr style=\"text-align: right;\">\n",
       "      <th></th>\n",
       "      <th>ID</th>\n",
       "      <th>Price</th>\n",
       "      <th>Levy</th>\n",
       "      <th>Manufacturer</th>\n",
       "      <th>Model</th>\n",
       "      <th>Prod. year</th>\n",
       "      <th>Category</th>\n",
       "      <th>Leather interior</th>\n",
       "      <th>Fuel type</th>\n",
       "      <th>Engine volume</th>\n",
       "      <th>Mileage</th>\n",
       "      <th>Cylinders</th>\n",
       "      <th>Gear box type</th>\n",
       "      <th>Drive wheels</th>\n",
       "      <th>Doors</th>\n",
       "      <th>Wheel</th>\n",
       "      <th>Color</th>\n",
       "      <th>Airbags</th>\n",
       "    </tr>\n",
       "  </thead>\n",
       "  <tbody>\n",
       "    <tr>\n",
       "      <th>13530</th>\n",
       "      <td>45688750</td>\n",
       "      <td>10976</td>\n",
       "      <td>-</td>\n",
       "      <td>TOYOTA</td>\n",
       "      <td>Prius</td>\n",
       "      <td>2008</td>\n",
       "      <td>Sedan</td>\n",
       "      <td>No</td>\n",
       "      <td>Hybrid</td>\n",
       "      <td>1.5</td>\n",
       "      <td>219200 km</td>\n",
       "      <td>4</td>\n",
       "      <td>Variator</td>\n",
       "      <td>Front</td>\n",
       "      <td>4-May</td>\n",
       "      <td>Left wheel</td>\n",
       "      <td>White</td>\n",
       "      <td>6</td>\n",
       "    </tr>\n",
       "    <tr>\n",
       "      <th>17408</th>\n",
       "      <td>45776817</td>\n",
       "      <td>10976</td>\n",
       "      <td>-</td>\n",
       "      <td>FORD</td>\n",
       "      <td>Transit</td>\n",
       "      <td>2001</td>\n",
       "      <td>Microbus</td>\n",
       "      <td>No</td>\n",
       "      <td>Diesel</td>\n",
       "      <td>2.0 Turbo</td>\n",
       "      <td>230000 km</td>\n",
       "      <td>4</td>\n",
       "      <td>Manual</td>\n",
       "      <td>Front</td>\n",
       "      <td>4-May</td>\n",
       "      <td>Left wheel</td>\n",
       "      <td>White</td>\n",
       "      <td>2</td>\n",
       "    </tr>\n",
       "    <tr>\n",
       "      <th>19092</th>\n",
       "      <td>45490926</td>\n",
       "      <td>10976</td>\n",
       "      <td>-</td>\n",
       "      <td>NISSAN</td>\n",
       "      <td>X-Trail</td>\n",
       "      <td>2004</td>\n",
       "      <td>Jeep</td>\n",
       "      <td>Yes</td>\n",
       "      <td>Petrol</td>\n",
       "      <td>2</td>\n",
       "      <td>121856 km</td>\n",
       "      <td>4</td>\n",
       "      <td>Automatic</td>\n",
       "      <td>4x4</td>\n",
       "      <td>4-May</td>\n",
       "      <td>Right-hand drive</td>\n",
       "      <td>Beige</td>\n",
       "      <td>6</td>\n",
       "    </tr>\n",
       "    <tr>\n",
       "      <th>7442</th>\n",
       "      <td>45788264</td>\n",
       "      <td>10976</td>\n",
       "      <td>-</td>\n",
       "      <td>HONDA</td>\n",
       "      <td>FIT</td>\n",
       "      <td>2008</td>\n",
       "      <td>Hatchback</td>\n",
       "      <td>No</td>\n",
       "      <td>Petrol</td>\n",
       "      <td>1.5</td>\n",
       "      <td>278000 km</td>\n",
       "      <td>4</td>\n",
       "      <td>Variator</td>\n",
       "      <td>Front</td>\n",
       "      <td>4-May</td>\n",
       "      <td>Right-hand drive</td>\n",
       "      <td>Blue</td>\n",
       "      <td>0</td>\n",
       "    </tr>\n",
       "    <tr>\n",
       "      <th>12680</th>\n",
       "      <td>45811321</td>\n",
       "      <td>10976</td>\n",
       "      <td>-</td>\n",
       "      <td>KIA</td>\n",
       "      <td>Picanto</td>\n",
       "      <td>2016</td>\n",
       "      <td>Hatchback</td>\n",
       "      <td>No</td>\n",
       "      <td>Petrol</td>\n",
       "      <td>1.2</td>\n",
       "      <td>140000 km</td>\n",
       "      <td>4</td>\n",
       "      <td>Manual</td>\n",
       "      <td>Front</td>\n",
       "      <td>4-May</td>\n",
       "      <td>Left wheel</td>\n",
       "      <td>Silver</td>\n",
       "      <td>2</td>\n",
       "    </tr>\n",
       "  </tbody>\n",
       "</table>\n",
       "</div>"
      ],
      "text/plain": [
       "             ID  Price Levy Manufacturer    Model  Prod. year   Category  \\\n",
       "13530  45688750  10976    -       TOYOTA    Prius        2008      Sedan   \n",
       "17408  45776817  10976    -         FORD  Transit        2001   Microbus   \n",
       "19092  45490926  10976    -       NISSAN  X-Trail        2004       Jeep   \n",
       "7442   45788264  10976    -        HONDA      FIT        2008  Hatchback   \n",
       "12680  45811321  10976    -          KIA  Picanto        2016  Hatchback   \n",
       "\n",
       "      Leather interior Fuel type Engine volume    Mileage  Cylinders  \\\n",
       "13530               No    Hybrid           1.5  219200 km          4   \n",
       "17408               No    Diesel     2.0 Turbo  230000 km          4   \n",
       "19092              Yes    Petrol             2  121856 km          4   \n",
       "7442                No    Petrol           1.5  278000 km          4   \n",
       "12680               No    Petrol           1.2  140000 km          4   \n",
       "\n",
       "      Gear box type Drive wheels  Doors             Wheel   Color  Airbags  \n",
       "13530      Variator        Front  4-May        Left wheel   White        6  \n",
       "17408        Manual        Front  4-May        Left wheel   White        2  \n",
       "19092     Automatic          4x4  4-May  Right-hand drive   Beige        6  \n",
       "7442       Variator        Front  4-May  Right-hand drive    Blue        0  \n",
       "12680        Manual        Front  4-May        Left wheel  Silver        2  "
      ]
     },
     "execution_count": 67,
     "metadata": {},
     "output_type": "execute_result"
    }
   ],
   "source": [
    "train.sort_values(by='Price').head(8200).tail()"
   ]
  },
  {
   "cell_type": "code",
   "execution_count": 68,
   "metadata": {
    "scrolled": false
   },
   "outputs": [
    {
     "data": {
      "text/plain": [
       "<AxesSubplot:xlabel='Price'>"
      ]
     },
     "execution_count": 68,
     "metadata": {},
     "output_type": "execute_result"
    },
    {
     "data": {
      "image/png": "[encoded data removed]",
      "text/plain": [
       "<Figure size 432x288 with 1 Axes>"
      ]
     },
     "metadata": {
      "needs_background": "light"
     },
     "output_type": "display_data"
    }
   ],
   "source": [
    "sns.boxplot(np.log(train.Price))"
   ]
  },
  {
   "cell_type": "code",
   "execution_count": 69,
   "metadata": {},
   "outputs": [],
   "source": [
    "train['logPrice'] = np.log(train.Price)"
   ]
  },
  {
   "cell_type": "code",
   "execution_count": 70,
   "metadata": {
    "scrolled": false
   },
   "outputs": [
    {
     "data": {
      "text/plain": [
       "<seaborn.axisgrid.FacetGrid at 0x4898f518>"
      ]
     },
     "execution_count": 70,
     "metadata": {},
     "output_type": "execute_result"
    },
    {
     "data": {
      "image/png": "[encoded data removed]",
      "text/plain": [
       "<Figure size 360x360 with 1 Axes>"
      ]
     },
     "metadata": {
      "needs_background": "light"
     },
     "output_type": "display_data"
    }
   ],
   "source": [
    "sns.displot(train.logPrice)"
   ]
  },
  {
   "cell_type": "code",
   "execution_count": 71,
   "metadata": {},
   "outputs": [
    {
     "data": {
      "text/plain": [
       "<AxesSubplot:ylabel='Count'>"
      ]
     },
     "execution_count": 71,
     "metadata": {},
     "output_type": "execute_result"
    },
    {
     "data": {
      "image/png": "[encoded data removed]",
      "text/plain": [
       "<Figure size 432x288 with 1 Axes>"
      ]
     },
     "metadata": {
      "needs_background": "light"
     },
     "output_type": "display_data"
    }
   ],
   "source": [
    "sns.histplot(boxcox(train.Price, 0))"
   ]
  },
  {
   "cell_type": "code",
   "execution_count": 72,
   "metadata": {},
   "outputs": [
    {
     "data": {
      "text/plain": [
       "array([1.33882426e+09, 5.11999950e+06, 3.07327995e+07, ...,\n",
       "       6.73264075e+07, 9.95883840e+07, 9.09226120e+07])"
      ]
     },
     "execution_count": 72,
     "metadata": {},
     "output_type": "execute_result"
    }
   ],
   "source": [
    "boxcox(train.Price,2)"
   ]
  },
  {
   "cell_type": "code",
   "execution_count": 73,
   "metadata": {},
   "outputs": [
    {
     "data": {
      "text/plain": [
       "<AxesSubplot:>"
      ]
     },
     "execution_count": 73,
     "metadata": {},
     "output_type": "execute_result"
    },
    {
     "data": {
      "image/png": "[encoded data removed]",
      "text/plain": [
       "<Figure size 432x288 with 1 Axes>"
      ]
     },
     "metadata": {
      "needs_background": "light"
     },
     "output_type": "display_data"
    }
   ],
   "source": [
    "sns.boxplot(boxcox(train.Price, 0))"
   ]
  },
  {
   "cell_type": "code",
   "execution_count": 74,
   "metadata": {},
   "outputs": [
    {
     "data": {
      "text/plain": [
       "<AxesSubplot:xlabel='cPrice'>"
      ]
     },
     "execution_count": 74,
     "metadata": {},
     "output_type": "execute_result"
    },
    {
     "data": {
      "image/png": "[encoded data removed]",
      "text/plain": [
       "<Figure size 432x288 with 1 Axes>"
      ]
     },
     "metadata": {
      "needs_background": "light"
     },
     "output_type": "display_data"
    }
   ],
   "source": [
    "train['boxcoxPrice'] = boxcox(train.Price, 0)\n",
    "lw = np.quantile(train.boxcoxPrice, 0.02)\n",
    "hg = np.quantile(train.boxcoxPrice, 0.99)\n",
    "train['cPrice'] = train.boxcoxPrice\n",
    "train.loc[train.boxcoxPrice < lw, 'cPrice'] = lw\n",
    "train.loc[train.boxcoxPrice > hg, 'cPrice'] = hg\n",
    "sns.boxplot(train.cPrice)"
   ]
  },
  {
   "cell_type": "code",
   "execution_count": 75,
   "metadata": {},
   "outputs": [
    {
     "data": {
      "text/html": [
       "<div>\n",
       "<style scoped>\n",
       "    .dataframe tbody tr th:only-of-type {\n",
       "        vertical-align: middle;\n",
       "    }\n",
       "\n",
       "    .dataframe tbody tr th {\n",
       "        vertical-align: top;\n",
       "    }\n",
       "\n",
       "    .dataframe thead th {\n",
       "        text-align: right;\n",
       "    }\n",
       "</style>\n",
       "<table border=\"1\" class=\"dataframe\">\n",
       "  <thead>\n",
       "    <tr style=\"text-align: right;\">\n",
       "      <th></th>\n",
       "      <th>Price</th>\n",
       "      <th>cPrice</th>\n",
       "    </tr>\n",
       "  </thead>\n",
       "  <tbody>\n",
       "    <tr>\n",
       "      <th>0</th>\n",
       "      <td>51746</td>\n",
       "      <td>10.854102</td>\n",
       "    </tr>\n",
       "    <tr>\n",
       "      <th>1</th>\n",
       "      <td>3200</td>\n",
       "      <td>8.070906</td>\n",
       "    </tr>\n",
       "    <tr>\n",
       "      <th>2</th>\n",
       "      <td>7840</td>\n",
       "      <td>8.966994</td>\n",
       "    </tr>\n",
       "    <tr>\n",
       "      <th>3</th>\n",
       "      <td>5331</td>\n",
       "      <td>8.581294</td>\n",
       "    </tr>\n",
       "    <tr>\n",
       "      <th>4</th>\n",
       "      <td>1300</td>\n",
       "      <td>7.170120</td>\n",
       "    </tr>\n",
       "  </tbody>\n",
       "</table>\n",
       "</div>"
      ],
      "text/plain": [
       "   Price     cPrice\n",
       "0  51746  10.854102\n",
       "1   3200   8.070906\n",
       "2   7840   8.966994\n",
       "3   5331   8.581294\n",
       "4   1300   7.170120"
      ]
     },
     "execution_count": 75,
     "metadata": {},
     "output_type": "execute_result"
    }
   ],
   "source": [
    "train[['Price', 'cPrice']].head()"
   ]
  },
  {
   "cell_type": "code",
   "execution_count": 76,
   "metadata": {},
   "outputs": [
    {
     "data": {
      "text/plain": [
       "<AxesSubplot:xlabel='cPrice', ylabel='Count'>"
      ]
     },
     "execution_count": 76,
     "metadata": {},
     "output_type": "execute_result"
    },
    {
     "data": {
      "image/png": "[encoded data removed]",
      "text/plain": [
       "<Figure size 432x288 with 1 Axes>"
      ]
     },
     "metadata": {
      "needs_background": "light"
     },
     "output_type": "display_data"
    }
   ],
   "source": [
    "sns.histplot(train.cPrice)"
   ]
  },
  {
   "cell_type": "code",
   "execution_count": 77,
   "metadata": {},
   "outputs": [
    {
     "name": "stdout",
     "output_type": "stream",
     "text": [
      "4.700480365792417 11.346575677685973\n"
     ]
    }
   ],
   "source": [
    "lowPrice = np.quantile(train.logPrice, 0.02)\n",
    "highPrice = np.quantile(train.logPrice, 0.99)\n",
    "print (lowPrice, highPrice)"
   ]
  },
  {
   "cell_type": "code",
   "execution_count": 78,
   "metadata": {},
   "outputs": [
    {
     "data": {
      "text/plain": [
       "<AxesSubplot:xlabel='cappedLogPrice', ylabel='Count'>"
      ]
     },
     "execution_count": 78,
     "metadata": {},
     "output_type": "execute_result"
    },
    {
     "data": {
      "image/png": "[encoded data removed]",
      "text/plain": [
       "<Figure size 432x288 with 1 Axes>"
      ]
     },
     "metadata": {
      "needs_background": "light"
     },
     "output_type": "display_data"
    }
   ],
   "source": [
    "train['cappedLogPrice'] = train.logPrice\n",
    "train.loc[train.logPrice < lowPrice, 'cappedLogPrice'] = lowPrice\n",
    "train.loc[train.logPrice > highPrice, 'cappedLogPrice'] = highPrice\n",
    "sns.histplot(train.cappedLogPrice)"
   ]
  },
  {
   "cell_type": "code",
   "execution_count": 79,
   "metadata": {},
   "outputs": [
    {
     "data": {
      "text/plain": [
       "<AxesSubplot:xlabel='cappedLogPrice'>"
      ]
     },
     "execution_count": 79,
     "metadata": {},
     "output_type": "execute_result"
    },
    {
     "data": {
      "image/png": "[encoded data removed]",
      "text/plain": [
       "<Figure size 432x288 with 1 Axes>"
      ]
     },
     "metadata": {
      "needs_background": "light"
     },
     "output_type": "display_data"
    }
   ],
   "source": [
    "sns.boxplot(train.cappedLogPrice)"
   ]
  },
  {
   "cell_type": "code",
   "execution_count": 80,
   "metadata": {},
   "outputs": [
    {
     "data": {
      "text/plain": [
       "Index(['ID', 'Price', 'Levy', 'Manufacturer', 'Model', 'Prod. year',\n",
       "       'Category', 'Leather interior', 'Fuel type', 'Engine volume', 'Mileage',\n",
       "       'Cylinders', 'Gear box type', 'Drive wheels', 'Doors', 'Wheel', 'Color',\n",
       "       'Airbags', 'logPrice', 'boxcoxPrice', 'cPrice', 'cappedLogPrice'],\n",
       "      dtype='object')"
      ]
     },
     "execution_count": 80,
     "metadata": {},
     "output_type": "execute_result"
    }
   ],
   "source": [
    "train.columns"
   ]
  },
  {
   "cell_type": "code",
   "execution_count": 81,
   "metadata": {},
   "outputs": [
    {
     "data": {
      "text/plain": [
       "['Levy',\n",
       " 'Manufacturer',\n",
       " 'Model',\n",
       " 'Prod. year',\n",
       " 'Category',\n",
       " 'Leather interior',\n",
       " 'Fuel type',\n",
       " 'Engine volume',\n",
       " 'Mileage',\n",
       " 'Cylinders',\n",
       " 'Gear box type',\n",
       " 'Drive wheels',\n",
       " 'Doors',\n",
       " 'Wheel',\n",
       " 'Color',\n",
       " 'Airbags',\n",
       " 'boxcoxPrice',\n",
       " 'cPrice',\n",
       " 'cappedLogPrice']"
      ]
     },
     "execution_count": 81,
     "metadata": {},
     "output_type": "execute_result"
    }
   ],
   "source": [
    "df_train = train.drop(columns=['ID', 'Price', 'logPrice'])\n",
    "df_train.columns.to_list()"
   ]
  },
  {
   "cell_type": "code",
   "execution_count": 82,
   "metadata": {},
   "outputs": [
    {
     "data": {
      "text/html": [
       "<div>\n",
       "<style scoped>\n",
       "    .dataframe tbody tr th:only-of-type {\n",
       "        vertical-align: middle;\n",
       "    }\n",
       "\n",
       "    .dataframe tbody tr th {\n",
       "        vertical-align: top;\n",
       "    }\n",
       "\n",
       "    .dataframe thead th {\n",
       "        text-align: right;\n",
       "    }\n",
       "</style>\n",
       "<table border=\"1\" class=\"dataframe\">\n",
       "  <thead>\n",
       "    <tr style=\"text-align: right;\">\n",
       "      <th></th>\n",
       "      <th>Levy</th>\n",
       "      <th>Manufacturer</th>\n",
       "      <th>Model</th>\n",
       "      <th>Prod. year</th>\n",
       "      <th>Category</th>\n",
       "      <th>Leather interior</th>\n",
       "      <th>Fuel type</th>\n",
       "      <th>Engine volume</th>\n",
       "      <th>Mileage</th>\n",
       "      <th>Cylinders</th>\n",
       "      <th>Gear box type</th>\n",
       "      <th>Drive wheels</th>\n",
       "      <th>Doors</th>\n",
       "      <th>Wheel</th>\n",
       "      <th>Color</th>\n",
       "      <th>Airbags</th>\n",
       "      <th>boxcoxPrice</th>\n",
       "      <th>cPrice</th>\n",
       "      <th>cappedLogPrice</th>\n",
       "    </tr>\n",
       "  </thead>\n",
       "  <tbody>\n",
       "    <tr>\n",
       "      <th>0</th>\n",
       "      <td>-</td>\n",
       "      <td>GAZ</td>\n",
       "      <td>20</td>\n",
       "      <td>1953</td>\n",
       "      <td>Sedan</td>\n",
       "      <td>No</td>\n",
       "      <td>Petrol</td>\n",
       "      <td>2</td>\n",
       "      <td>0 km</td>\n",
       "      <td>4</td>\n",
       "      <td>Manual</td>\n",
       "      <td>Rear</td>\n",
       "      <td>4-May</td>\n",
       "      <td>Left wheel</td>\n",
       "      <td>Beige</td>\n",
       "      <td>0</td>\n",
       "      <td>10.854102</td>\n",
       "      <td>10.854102</td>\n",
       "      <td>10.854102</td>\n",
       "    </tr>\n",
       "    <tr>\n",
       "      <th>1</th>\n",
       "      <td>-</td>\n",
       "      <td>GAZ</td>\n",
       "      <td>20</td>\n",
       "      <td>1953</td>\n",
       "      <td>Jeep</td>\n",
       "      <td>No</td>\n",
       "      <td>Petrol</td>\n",
       "      <td>3.2</td>\n",
       "      <td>100000 km</td>\n",
       "      <td>4</td>\n",
       "      <td>Manual</td>\n",
       "      <td>4x4</td>\n",
       "      <td>2-Mar</td>\n",
       "      <td>Left wheel</td>\n",
       "      <td>Green</td>\n",
       "      <td>0</td>\n",
       "      <td>8.070906</td>\n",
       "      <td>8.070906</td>\n",
       "      <td>8.070906</td>\n",
       "    </tr>\n",
       "    <tr>\n",
       "      <th>2</th>\n",
       "      <td>-</td>\n",
       "      <td>GAZ</td>\n",
       "      <td>21</td>\n",
       "      <td>1964</td>\n",
       "      <td>Sedan</td>\n",
       "      <td>No</td>\n",
       "      <td>Petrol</td>\n",
       "      <td>2.4</td>\n",
       "      <td>0 km</td>\n",
       "      <td>4</td>\n",
       "      <td>Manual</td>\n",
       "      <td>Rear</td>\n",
       "      <td>4-May</td>\n",
       "      <td>Left wheel</td>\n",
       "      <td>Sky blue</td>\n",
       "      <td>0</td>\n",
       "      <td>8.966994</td>\n",
       "      <td>8.966994</td>\n",
       "      <td>8.966994</td>\n",
       "    </tr>\n",
       "    <tr>\n",
       "      <th>3</th>\n",
       "      <td>-</td>\n",
       "      <td>GAZ</td>\n",
       "      <td>24</td>\n",
       "      <td>1990</td>\n",
       "      <td>Universal</td>\n",
       "      <td>Yes</td>\n",
       "      <td>Petrol</td>\n",
       "      <td>6.3</td>\n",
       "      <td>2000 km</td>\n",
       "      <td>8</td>\n",
       "      <td>Manual</td>\n",
       "      <td>4x4</td>\n",
       "      <td>2-Mar</td>\n",
       "      <td>Left wheel</td>\n",
       "      <td>Green</td>\n",
       "      <td>0</td>\n",
       "      <td>8.581294</td>\n",
       "      <td>8.581294</td>\n",
       "      <td>8.581294</td>\n",
       "    </tr>\n",
       "    <tr>\n",
       "      <th>4</th>\n",
       "      <td>-</td>\n",
       "      <td>AUDI</td>\n",
       "      <td>50</td>\n",
       "      <td>2018</td>\n",
       "      <td>Coupe</td>\n",
       "      <td>Yes</td>\n",
       "      <td>Petrol</td>\n",
       "      <td>0.5</td>\n",
       "      <td>4000 km</td>\n",
       "      <td>1</td>\n",
       "      <td>Tiptronic</td>\n",
       "      <td>Rear</td>\n",
       "      <td>&gt;5</td>\n",
       "      <td>Right-hand drive</td>\n",
       "      <td>Blue</td>\n",
       "      <td>0</td>\n",
       "      <td>7.170120</td>\n",
       "      <td>7.170120</td>\n",
       "      <td>7.170120</td>\n",
       "    </tr>\n",
       "  </tbody>\n",
       "</table>\n",
       "</div>"
      ],
      "text/plain": [
       "  Levy Manufacturer Model  Prod. year   Category Leather interior Fuel type  \\\n",
       "0    -          GAZ    20        1953      Sedan               No    Petrol   \n",
       "1    -          GAZ    20        1953       Jeep               No    Petrol   \n",
       "2    -          GAZ    21        1964      Sedan               No    Petrol   \n",
       "3    -          GAZ    24        1990  Universal              Yes    Petrol   \n",
       "4    -         AUDI    50        2018      Coupe              Yes    Petrol   \n",
       "\n",
       "  Engine volume    Mileage  Cylinders Gear box type Drive wheels  Doors  \\\n",
       "0             2       0 km          4        Manual         Rear  4-May   \n",
       "1           3.2  100000 km          4        Manual          4x4  2-Mar   \n",
       "2           2.4       0 km          4        Manual         Rear  4-May   \n",
       "3           6.3    2000 km          8        Manual          4x4  2-Mar   \n",
       "4           0.5    4000 km          1     Tiptronic         Rear     >5   \n",
       "\n",
       "              Wheel     Color  Airbags  boxcoxPrice     cPrice  cappedLogPrice  \n",
       "0        Left wheel     Beige        0    10.854102  10.854102       10.854102  \n",
       "1        Left wheel     Green        0     8.070906   8.070906        8.070906  \n",
       "2        Left wheel  Sky blue        0     8.966994   8.966994        8.966994  \n",
       "3        Left wheel     Green        0     8.581294   8.581294        8.581294  \n",
       "4  Right-hand drive      Blue        0     7.170120   7.170120        7.170120  "
      ]
     },
     "execution_count": 82,
     "metadata": {},
     "output_type": "execute_result"
    }
   ],
   "source": [
    "df_train.head()"
   ]
  },
  {
   "cell_type": "code",
   "execution_count": 83,
   "metadata": {},
   "outputs": [
    {
     "data": {
      "text/plain": [
       "Prius         1256\n",
       "Sonata        1107\n",
       "Camry         1015\n",
       "Elantra        964\n",
       "E              850\n",
       "Santa          537\n",
       "FIT            468\n",
       "H1             440\n",
       "Tucson         437\n",
       "X5             386\n",
       "GX             373\n",
       "Aqua           347\n",
       "Cruze          333\n",
       "Fusion         321\n",
       "RX             313\n",
       "C              278\n",
       "ML             270\n",
       "Transit        258\n",
       "Optima         248\n",
       "Jetta          231\n",
       "Highlander     224\n",
       "Civic          191\n",
       "Actyon         188\n",
       "Astra          184\n",
       "RAV            179\n",
       "Name: Model, dtype: int64"
      ]
     },
     "execution_count": 83,
     "metadata": {},
     "output_type": "execute_result"
    }
   ],
   "source": [
    "pd.Series(train['Model'].apply(lambda x: x.split(' ')[0])).value_counts().head(25)"
   ]
  },
  {
   "cell_type": "code",
   "execution_count": 196,
   "metadata": {},
   "outputs": [
    {
     "name": "stdout",
     "output_type": "stream",
     "text": [
      "23 10 7\n"
     ]
    }
   ],
   "source": [
    "cat_cols = ['Manufacturer', 'Category', 'Leather interior', 'Fuel type',\n",
    "           'Gear box type', 'Drive wheels', 'Doors', 'Wheel', 'Color', 'isLevied']\n",
    "num_cols = ['Levy', 'Prod. year', 'Engine volume', \n",
    "            'fixedMileage', 'Airbags', 'Cylinders', 'KMPerYear']\n",
    "num_cols_test = ['Levy', 'Prod. year', 'Engine volume', \n",
    "            'Mileage', 'Airbags', 'Cylinders']\n",
    "print (len(df_train.columns.to_list()), \n",
    "        len(cat_cols),\n",
    "        len(num_cols))"
   ]
  },
  {
   "cell_type": "code",
   "execution_count": 85,
   "metadata": {},
   "outputs": [
    {
     "data": {
      "text/plain": [
       "['2-Mar', '4-May', '>5']"
      ]
     },
     "execution_count": 85,
     "metadata": {},
     "output_type": "execute_result"
    }
   ],
   "source": [
    "sorted(train.Doors.unique())"
   ]
  },
  {
   "cell_type": "code",
   "execution_count": 86,
   "metadata": {},
   "outputs": [
    {
     "data": {
      "text/plain": [
       "<AxesSubplot:xlabel='Doors', ylabel='cPrice'>"
      ]
     },
     "execution_count": 86,
     "metadata": {},
     "output_type": "execute_result"
    },
    {
     "data": {
      "image/png": "[encoded data removed]",
      "text/plain": [
       "<Figure size 432x288 with 1 Axes>"
      ]
     },
     "metadata": {
      "needs_background": "light"
     },
     "output_type": "display_data"
    }
   ],
   "source": [
    "sns.boxplot(x='Doors', y='cPrice', data=train)"
   ]
  },
  {
   "cell_type": "code",
   "execution_count": 88,
   "metadata": {},
   "outputs": [],
   "source": [
    "top_manufacturers = df_train.Manufacturer.value_counts().head(20).reset_index()['index'].to_list()"
   ]
  },
  {
   "cell_type": "code",
   "execution_count": 89,
   "metadata": {},
   "outputs": [],
   "source": [
    "df_train.loc[df_train.Levy=='-', 'Levy'] = 0\n",
    "df_train.Mileage = df_train.Mileage.apply(lambda x: int(x[:-3]))"
   ]
  },
  {
   "cell_type": "code",
   "execution_count": 92,
   "metadata": {
    "collapsed": true
   },
   "outputs": [
    {
     "data": {
      "text/plain": [
       "2012    2155\n",
       "2014    2124\n",
       "2013    1963\n",
       "2011    1612\n",
       "2015    1549\n",
       "2010    1483\n",
       "2016    1476\n",
       "2017     959\n",
       "2008     737\n",
       "2009     601\n",
       "2018     500\n",
       "2007     464\n",
       "2005     402\n",
       "2003     367\n",
       "2004     364\n",
       "2006     317\n",
       "2019     306\n",
       "2002     296\n",
       "2000     279\n",
       "2001     254\n",
       "1998     213\n",
       "1999     207\n",
       "1997     151\n",
       "1996     114\n",
       "1995     105\n",
       "2020      47\n",
       "1994      42\n",
       "1992      30\n",
       "1993      23\n",
       "1990      18\n",
       "1988      12\n",
       "1991      10\n",
       "1989       6\n",
       "1986       6\n",
       "1984       5\n",
       "1985       5\n",
       "1987       5\n",
       "1953       4\n",
       "1983       3\n",
       "1939       3\n",
       "1974       2\n",
       "1965       2\n",
       "1980       2\n",
       "1964       2\n",
       "1978       2\n",
       "1977       2\n",
       "1947       1\n",
       "1981       1\n",
       "1976       1\n",
       "1943       1\n",
       "1982       1\n",
       "1957       1\n",
       "1973       1\n",
       "1968       1\n",
       "Name: Prod. year, dtype: int64"
      ]
     },
     "execution_count": 92,
     "metadata": {},
     "output_type": "execute_result"
    }
   ],
   "source": [
    "df_train['Prod. year'].value_counts()"
   ]
  },
  {
   "cell_type": "code",
   "execution_count": 91,
   "metadata": {},
   "outputs": [
    {
     "data": {
      "text/plain": [
       "0         721\n",
       "200000    183\n",
       "150000    161\n",
       "160000    120\n",
       "100000    119\n",
       "Name: Mileage, dtype: int64"
      ]
     },
     "execution_count": 91,
     "metadata": {},
     "output_type": "execute_result"
    }
   ],
   "source": [
    "df_train.Mileage.value_counts().head()"
   ]
  },
  {
   "cell_type": "code",
   "execution_count": 157,
   "metadata": {},
   "outputs": [
    {
     "data": {
      "image/png": "[encoded data removed]",
      "text/plain": [
       "<Figure size 1152x288 with 1 Axes>"
      ]
     },
     "metadata": {
      "needs_background": "light"
     },
     "output_type": "display_data"
    }
   ],
   "source": [
    "plt.figure(figsize=(16,4))\n",
    "df_train['logMileage'] = np.log(df_train.Mileage+1)\n",
    "sns.boxplot(x='Prod. year', y='logMileage', data=df_train)\n",
    "plt.xticks(rotation=45)\n",
    "plt.show()"
   ]
  },
  {
   "cell_type": "code",
   "execution_count": 161,
   "metadata": {},
   "outputs": [
    {
     "data": {
      "image/png": "[encoded data removed]",
      "text/plain": [
       "<Figure size 1152x288 with 1 Axes>"
      ]
     },
     "metadata": {
      "needs_background": "light"
     },
     "output_type": "display_data"
    }
   ],
   "source": [
    "df_train.loc[df_train.logMileage==0, 'logMileage'] = None\n",
    "df_train['logMileage'] = df_train['logMileage'].\\\n",
    "                        fillna(df_train.groupby('Prod. year')['logMileage'].transform('median'))\n",
    "df_train.logMileage.fillna(np.mean(df_train.logMileage), inplace=True)\n",
    "plt.figure(figsize=(16,4))\n",
    "sns.boxplot(x='Prod. year', y='logMileage', data=df_train)\n",
    "plt.xticks(rotation=45)\n",
    "plt.show()"
   ]
  },
  {
   "cell_type": "code",
   "execution_count": 162,
   "metadata": {},
   "outputs": [
    {
     "data": {
      "text/plain": [
       "<AxesSubplot:xlabel='fixedMileage'>"
      ]
     },
     "execution_count": 162,
     "metadata": {},
     "output_type": "execute_result"
    },
    {
     "data": {
      "image/png": "[encoded data removed]",
      "text/plain": [
       "<Figure size 432x288 with 1 Axes>"
      ]
     },
     "metadata": {
      "needs_background": "light"
     },
     "output_type": "display_data"
    }
   ],
   "source": [
    "df_train['fixedMileage'] = np.exp(df_train.logMileage)\n",
    "sns.boxplot(df_train.fixedMileage)"
   ]
  },
  {
   "cell_type": "code",
   "execution_count": 164,
   "metadata": {},
   "outputs": [
    {
     "data": {
      "text/plain": [
       "200001.0    215\n",
       "150001.0    205\n",
       "180001.0    196\n",
       "160001.0    171\n",
       "120001.0    169\n",
       "Name: fixedMileage, dtype: int64"
      ]
     },
     "execution_count": 164,
     "metadata": {},
     "output_type": "execute_result"
    }
   ],
   "source": [
    "df_train.fixedMileage.value_counts().head()"
   ]
  },
  {
   "cell_type": "code",
   "execution_count": 165,
   "metadata": {},
   "outputs": [],
   "source": [
    "df_train['KMPerYear'] = df_train.fixedMileage / (2021 - df_train['Prod. year'])"
   ]
  },
  {
   "cell_type": "code",
   "execution_count": 166,
   "metadata": {},
   "outputs": [],
   "source": [
    "df_train['isLevied'] = 1\n",
    "df_train.Levy = df_train.Levy.astype(int)\n",
    "df_train.loc[df_train.Levy==0, 'isLevied'] = 0"
   ]
  },
  {
   "cell_type": "code",
   "execution_count": 167,
   "metadata": {},
   "outputs": [
    {
     "data": {
      "text/html": [
       "<div>\n",
       "<style scoped>\n",
       "    .dataframe tbody tr th:only-of-type {\n",
       "        vertical-align: middle;\n",
       "    }\n",
       "\n",
       "    .dataframe tbody tr th {\n",
       "        vertical-align: top;\n",
       "    }\n",
       "\n",
       "    .dataframe thead th {\n",
       "        text-align: right;\n",
       "    }\n",
       "</style>\n",
       "<table border=\"1\" class=\"dataframe\">\n",
       "  <thead>\n",
       "    <tr style=\"text-align: right;\">\n",
       "      <th></th>\n",
       "      <th>Levy</th>\n",
       "      <th>Prod. year</th>\n",
       "      <th>Engine volume</th>\n",
       "      <th>fixedMileage</th>\n",
       "      <th>Airbags</th>\n",
       "      <th>Cylinders</th>\n",
       "      <th>KMPerYear</th>\n",
       "    </tr>\n",
       "  </thead>\n",
       "  <tbody>\n",
       "    <tr>\n",
       "      <th>0</th>\n",
       "      <td>0</td>\n",
       "      <td>1953</td>\n",
       "      <td>2</td>\n",
       "      <td>150001.0</td>\n",
       "      <td>0</td>\n",
       "      <td>4</td>\n",
       "      <td>2205.897059</td>\n",
       "    </tr>\n",
       "    <tr>\n",
       "      <th>1</th>\n",
       "      <td>0</td>\n",
       "      <td>1953</td>\n",
       "      <td>3.2</td>\n",
       "      <td>100001.0</td>\n",
       "      <td>0</td>\n",
       "      <td>4</td>\n",
       "      <td>1470.602941</td>\n",
       "    </tr>\n",
       "    <tr>\n",
       "      <th>2</th>\n",
       "      <td>0</td>\n",
       "      <td>1964</td>\n",
       "      <td>2.4</td>\n",
       "      <td>50001.0</td>\n",
       "      <td>0</td>\n",
       "      <td>4</td>\n",
       "      <td>877.210526</td>\n",
       "    </tr>\n",
       "    <tr>\n",
       "      <th>3</th>\n",
       "      <td>0</td>\n",
       "      <td>1990</td>\n",
       "      <td>6.3</td>\n",
       "      <td>2001.0</td>\n",
       "      <td>0</td>\n",
       "      <td>8</td>\n",
       "      <td>64.548387</td>\n",
       "    </tr>\n",
       "    <tr>\n",
       "      <th>4</th>\n",
       "      <td>0</td>\n",
       "      <td>2018</td>\n",
       "      <td>0.5</td>\n",
       "      <td>4001.0</td>\n",
       "      <td>0</td>\n",
       "      <td>1</td>\n",
       "      <td>1333.666667</td>\n",
       "    </tr>\n",
       "  </tbody>\n",
       "</table>\n",
       "</div>"
      ],
      "text/plain": [
       "   Levy  Prod. year Engine volume  fixedMileage  Airbags  Cylinders  \\\n",
       "0     0        1953             2      150001.0        0          4   \n",
       "1     0        1953           3.2      100001.0        0          4   \n",
       "2     0        1964           2.4       50001.0        0          4   \n",
       "3     0        1990           6.3        2001.0        0          8   \n",
       "4     0        2018           0.5        4001.0        0          1   \n",
       "\n",
       "     KMPerYear  \n",
       "0  2205.897059  \n",
       "1  1470.602941  \n",
       "2   877.210526  \n",
       "3    64.548387  \n",
       "4  1333.666667  "
      ]
     },
     "execution_count": 167,
     "metadata": {},
     "output_type": "execute_result"
    }
   ],
   "source": [
    "df_train[num_cols].head()"
   ]
  },
  {
   "cell_type": "code",
   "execution_count": 168,
   "metadata": {},
   "outputs": [
    {
     "name": "stdout",
     "output_type": "stream",
     "text": [
      "<class 'pandas.core.frame.DataFrame'>\n",
      "RangeIndex: 19237 entries, 0 to 19236\n",
      "Data columns (total 7 columns):\n",
      " #   Column         Non-Null Count  Dtype  \n",
      "---  ------         --------------  -----  \n",
      " 0   Levy           19237 non-null  int32  \n",
      " 1   Prod. year     19237 non-null  int64  \n",
      " 2   Engine volume  19237 non-null  object \n",
      " 3   fixedMileage   19237 non-null  float64\n",
      " 4   Airbags        19237 non-null  int64  \n",
      " 5   Cylinders      19237 non-null  int64  \n",
      " 6   KMPerYear      19237 non-null  float64\n",
      "dtypes: float64(2), int32(1), int64(3), object(1)\n",
      "memory usage: 977.0+ KB\n"
     ]
    }
   ],
   "source": [
    "df_train[num_cols].info()"
   ]
  },
  {
   "cell_type": "code",
   "execution_count": 169,
   "metadata": {},
   "outputs": [],
   "source": [
    "df_train['Engine volume'] = df_train['Engine volume'].apply(lambda x: float(x.split(' ')[0]))\n",
    "df_train['Engine volume'] = df_train['Engine volume'].astype(float)"
   ]
  },
  {
   "cell_type": "code",
   "execution_count": 170,
   "metadata": {},
   "outputs": [
    {
     "data": {
      "image/png": "[encoded data removed]",
      "text/plain": [
       "<Figure size 1152x432 with 7 Axes>"
      ]
     },
     "metadata": {
      "needs_background": "light"
     },
     "output_type": "display_data"
    }
   ],
   "source": [
    "plt.figure(figsize=(16, 6))\n",
    "for col in num_cols:\n",
    "    plt.subplot(2, 4, num_cols.index(col)+1)\n",
    "    sns.boxplot(df_train[col])"
   ]
  },
  {
   "cell_type": "code",
   "execution_count": 173,
   "metadata": {},
   "outputs": [
    {
     "data": {
      "text/plain": [
       "<AxesSubplot:xlabel='Prod. year'>"
      ]
     },
     "execution_count": 173,
     "metadata": {},
     "output_type": "execute_result"
    },
    {
     "data": {
      "image/png": "[encoded data removed]",
      "text/plain": [
       "<Figure size 1296x216 with 5 Axes>"
      ]
     },
     "metadata": {
      "needs_background": "light"
     },
     "output_type": "display_data"
    }
   ],
   "source": [
    "plt.figure(figsize=(18, 3))\n",
    "plt.subplot(151); sns.boxplot(np.log(df_train.fixedMileage))\n",
    "plt.subplot(152); sns.boxplot(np.log(df_train['Engine volume']))\n",
    "plt.subplot(153); sns.boxplot(np.sqrt(df_train.Levy))\n",
    "plt.subplot(154); sns.boxplot(np.log(df_train.KMPerYear))\n",
    "plt.subplot(155); sns.boxplot(np.log(2020-df_train['Prod. year']))"
   ]
  },
  {
   "cell_type": "code",
   "execution_count": 175,
   "metadata": {},
   "outputs": [
    {
     "data": {
      "text/plain": [
       "<AxesSubplot:xlabel='Prod. year'>"
      ]
     },
     "execution_count": 175,
     "metadata": {},
     "output_type": "execute_result"
    },
    {
     "data": {
      "image/png": "[encoded data removed]",
      "text/plain": [
       "<Figure size 1296x216 with 5 Axes>"
      ]
     },
     "metadata": {
      "needs_background": "light"
     },
     "output_type": "display_data"
    }
   ],
   "source": [
    "df_num_boxed = df_train[num_cols].copy()\n",
    "\n",
    "df_num_boxed.fixedMileage = np.log(df_num_boxed.fixedMileage)\n",
    "df_num_boxed.KMPerYear = np.log(df_num_boxed.KMPerYear)\n",
    "df_num_boxed['Engine volume'] = np.log(df_num_boxed['Engine volume'])\n",
    "df_num_boxed.Levy = np.sqrt(df_num_boxed.Levy)\n",
    "df_num_boxed['Prod. year'] = np.log(2020-df_train['Prod. year'])\n",
    "\n",
    "lw_mileage = np.quantile(df_num_boxed.fixedMileage, 0.05)\n",
    "hg_mileage = np.quantile(df_num_boxed.fixedMileage, 0.98)\n",
    "df_num_boxed.loc[df_num_boxed.fixedMileage<lw_mileage, 'fixedMileage'] = lw_mileage\n",
    "df_num_boxed.loc[df_num_boxed.fixedMileage>hg_mileage, 'fixedMileage'] = hg_mileage\n",
    "\n",
    "lw_kmpy = np.quantile(df_num_boxed.KMPerYear, 0.05)\n",
    "hg_kmpy = np.quantile(df_num_boxed.KMPerYear, 0.98)\n",
    "df_num_boxed.loc[df_num_boxed.KMPerYear<lw_kmpy, 'KMPerYear'] = lw_kmpy\n",
    "df_num_boxed.loc[df_num_boxed.KMPerYear>hg_kmpy, 'KMPerYear'] = hg_kmpy\n",
    "\n",
    "lw_enging = np.quantile(df_num_boxed['Engine volume'], 0.02)\n",
    "hg_enging = np.quantile(df_num_boxed['Engine volume'], 0.98)\n",
    "df_num_boxed.loc[df_num_boxed['Engine volume']<lw_enging, 'Engine volume'] = lw_enging\n",
    "df_num_boxed.loc[df_num_boxed['Engine volume']>hg_enging, 'Engine volume'] = hg_enging\n",
    "\n",
    "hg_levy = np.quantile(df_num_boxed.Levy, 0.98)\n",
    "df_num_boxed.loc[df_num_boxed.Levy>hg_levy, 'Levy'] = hg_levy\n",
    "\n",
    "lw_year = np.quantile(df_num_boxed['Prod. year'], 0.02)\n",
    "hg_year = np.quantile(df_num_boxed['Prod. year'], 0.98)\n",
    "df_num_boxed.loc[df_num_boxed['Prod. year']<lw_year, 'Prod. year'] = lw_year\n",
    "df_num_boxed.loc[df_num_boxed['Prod. year']>hg_year, 'Prod. year'] = hg_year\n",
    "\n",
    "plt.figure(figsize=(18, 3))\n",
    "plt.subplot(151); sns.boxplot(df_num_boxed.fixedMileage)\n",
    "plt.subplot(152); sns.boxplot(df_num_boxed['Engine volume'])\n",
    "plt.subplot(153); sns.boxplot(df_num_boxed.Levy)\n",
    "plt.subplot(154); sns.boxplot(df_num_boxed.KMPerYear)\n",
    "plt.subplot(155); sns.boxplot(df_num_boxed['Prod. year'])"
   ]
  },
  {
   "cell_type": "code",
   "execution_count": 176,
   "metadata": {},
   "outputs": [
    {
     "name": "stdout",
     "output_type": "stream",
     "text": [
      "Manufacturer :  21\n",
      "Category :  11\n",
      "Leather interior :  2\n",
      "Fuel type :  7\n",
      "Gear box type :  4\n",
      "Drive wheels :  3\n",
      "Doors :  3\n",
      "Wheel :  2\n",
      "Color :  16\n",
      "isLevied :  2\n"
     ]
    }
   ],
   "source": [
    "df_train.loc[~df_train.Manufacturer.isin(top_manufacturers), 'Manufacturer'] = 'Other'\n",
    "for col in cat_cols:\n",
    "    print (col, ': ', len(df_train[col].unique()))"
   ]
  },
  {
   "cell_type": "code",
   "execution_count": 177,
   "metadata": {},
   "outputs": [
    {
     "data": {
      "text/html": [
       "<div>\n",
       "<style scoped>\n",
       "    .dataframe tbody tr th:only-of-type {\n",
       "        vertical-align: middle;\n",
       "    }\n",
       "\n",
       "    .dataframe tbody tr th {\n",
       "        vertical-align: top;\n",
       "    }\n",
       "\n",
       "    .dataframe thead th {\n",
       "        text-align: right;\n",
       "    }\n",
       "</style>\n",
       "<table border=\"1\" class=\"dataframe\">\n",
       "  <thead>\n",
       "    <tr style=\"text-align: right;\">\n",
       "      <th></th>\n",
       "      <th>isLevied</th>\n",
       "      <th>Manufacturer_BMW</th>\n",
       "      <th>Manufacturer_CHEVROLET</th>\n",
       "      <th>Manufacturer_DAEWOO</th>\n",
       "      <th>Manufacturer_DODGE</th>\n",
       "      <th>Manufacturer_FORD</th>\n",
       "      <th>Manufacturer_HONDA</th>\n",
       "      <th>Manufacturer_HYUNDAI</th>\n",
       "      <th>Manufacturer_JEEP</th>\n",
       "      <th>Manufacturer_KIA</th>\n",
       "      <th>...</th>\n",
       "      <th>Color_Green</th>\n",
       "      <th>Color_Grey</th>\n",
       "      <th>Color_Orange</th>\n",
       "      <th>Color_Pink</th>\n",
       "      <th>Color_Purple</th>\n",
       "      <th>Color_Red</th>\n",
       "      <th>Color_Silver</th>\n",
       "      <th>Color_Sky blue</th>\n",
       "      <th>Color_White</th>\n",
       "      <th>Color_Yellow</th>\n",
       "    </tr>\n",
       "  </thead>\n",
       "  <tbody>\n",
       "    <tr>\n",
       "      <th>19232</th>\n",
       "      <td>0</td>\n",
       "      <td>0</td>\n",
       "      <td>0</td>\n",
       "      <td>0</td>\n",
       "      <td>0</td>\n",
       "      <td>0</td>\n",
       "      <td>0</td>\n",
       "      <td>0</td>\n",
       "      <td>0</td>\n",
       "      <td>0</td>\n",
       "      <td>...</td>\n",
       "      <td>0</td>\n",
       "      <td>0</td>\n",
       "      <td>0</td>\n",
       "      <td>0</td>\n",
       "      <td>0</td>\n",
       "      <td>0</td>\n",
       "      <td>1</td>\n",
       "      <td>0</td>\n",
       "      <td>0</td>\n",
       "      <td>0</td>\n",
       "    </tr>\n",
       "    <tr>\n",
       "      <th>19233</th>\n",
       "      <td>1</td>\n",
       "      <td>0</td>\n",
       "      <td>0</td>\n",
       "      <td>0</td>\n",
       "      <td>0</td>\n",
       "      <td>0</td>\n",
       "      <td>0</td>\n",
       "      <td>0</td>\n",
       "      <td>0</td>\n",
       "      <td>0</td>\n",
       "      <td>...</td>\n",
       "      <td>0</td>\n",
       "      <td>0</td>\n",
       "      <td>0</td>\n",
       "      <td>0</td>\n",
       "      <td>0</td>\n",
       "      <td>1</td>\n",
       "      <td>0</td>\n",
       "      <td>0</td>\n",
       "      <td>0</td>\n",
       "      <td>0</td>\n",
       "    </tr>\n",
       "    <tr>\n",
       "      <th>19234</th>\n",
       "      <td>1</td>\n",
       "      <td>0</td>\n",
       "      <td>0</td>\n",
       "      <td>0</td>\n",
       "      <td>0</td>\n",
       "      <td>0</td>\n",
       "      <td>0</td>\n",
       "      <td>0</td>\n",
       "      <td>0</td>\n",
       "      <td>0</td>\n",
       "      <td>...</td>\n",
       "      <td>0</td>\n",
       "      <td>0</td>\n",
       "      <td>0</td>\n",
       "      <td>0</td>\n",
       "      <td>0</td>\n",
       "      <td>0</td>\n",
       "      <td>1</td>\n",
       "      <td>0</td>\n",
       "      <td>0</td>\n",
       "      <td>0</td>\n",
       "    </tr>\n",
       "    <tr>\n",
       "      <th>19235</th>\n",
       "      <td>0</td>\n",
       "      <td>0</td>\n",
       "      <td>0</td>\n",
       "      <td>0</td>\n",
       "      <td>0</td>\n",
       "      <td>0</td>\n",
       "      <td>0</td>\n",
       "      <td>0</td>\n",
       "      <td>0</td>\n",
       "      <td>0</td>\n",
       "      <td>...</td>\n",
       "      <td>0</td>\n",
       "      <td>0</td>\n",
       "      <td>0</td>\n",
       "      <td>0</td>\n",
       "      <td>0</td>\n",
       "      <td>0</td>\n",
       "      <td>1</td>\n",
       "      <td>0</td>\n",
       "      <td>0</td>\n",
       "      <td>0</td>\n",
       "    </tr>\n",
       "    <tr>\n",
       "      <th>19236</th>\n",
       "      <td>0</td>\n",
       "      <td>0</td>\n",
       "      <td>0</td>\n",
       "      <td>0</td>\n",
       "      <td>0</td>\n",
       "      <td>0</td>\n",
       "      <td>0</td>\n",
       "      <td>0</td>\n",
       "      <td>0</td>\n",
       "      <td>0</td>\n",
       "      <td>...</td>\n",
       "      <td>0</td>\n",
       "      <td>0</td>\n",
       "      <td>0</td>\n",
       "      <td>0</td>\n",
       "      <td>0</td>\n",
       "      <td>0</td>\n",
       "      <td>1</td>\n",
       "      <td>0</td>\n",
       "      <td>0</td>\n",
       "      <td>0</td>\n",
       "    </tr>\n",
       "  </tbody>\n",
       "</table>\n",
       "<p>5 rows × 61 columns</p>\n",
       "</div>"
      ],
      "text/plain": [
       "       isLevied  Manufacturer_BMW  Manufacturer_CHEVROLET  \\\n",
       "19232         0                 0                       0   \n",
       "19233         1                 0                       0   \n",
       "19234         1                 0                       0   \n",
       "19235         0                 0                       0   \n",
       "19236         0                 0                       0   \n",
       "\n",
       "       Manufacturer_DAEWOO  Manufacturer_DODGE  Manufacturer_FORD  \\\n",
       "19232                    0                   0                  0   \n",
       "19233                    0                   0                  0   \n",
       "19234                    0                   0                  0   \n",
       "19235                    0                   0                  0   \n",
       "19236                    0                   0                  0   \n",
       "\n",
       "       Manufacturer_HONDA  Manufacturer_HYUNDAI  Manufacturer_JEEP  \\\n",
       "19232                   0                     0                  0   \n",
       "19233                   0                     0                  0   \n",
       "19234                   0                     0                  0   \n",
       "19235                   0                     0                  0   \n",
       "19236                   0                     0                  0   \n",
       "\n",
       "       Manufacturer_KIA  ...  Color_Green  Color_Grey  Color_Orange  \\\n",
       "19232                 0  ...            0           0             0   \n",
       "19233                 0  ...            0           0             0   \n",
       "19234                 0  ...            0           0             0   \n",
       "19235                 0  ...            0           0             0   \n",
       "19236                 0  ...            0           0             0   \n",
       "\n",
       "       Color_Pink  Color_Purple  Color_Red  Color_Silver  Color_Sky blue  \\\n",
       "19232           0             0          0             1               0   \n",
       "19233           0             0          1             0               0   \n",
       "19234           0             0          0             1               0   \n",
       "19235           0             0          0             1               0   \n",
       "19236           0             0          0             1               0   \n",
       "\n",
       "       Color_White  Color_Yellow  \n",
       "19232            0             0  \n",
       "19233            0             0  \n",
       "19234            0             0  \n",
       "19235            0             0  \n",
       "19236            0             0  \n",
       "\n",
       "[5 rows x 61 columns]"
      ]
     },
     "execution_count": 177,
     "metadata": {},
     "output_type": "execute_result"
    }
   ],
   "source": [
    "df_dummies = pd.get_dummies(df_train[cat_cols], drop_first=True)\n",
    "df_dummies.tail()"
   ]
  },
  {
   "cell_type": "markdown",
   "metadata": {},
   "source": [
    "# Modelling"
   ]
  },
  {
   "cell_type": "code",
   "execution_count": 178,
   "metadata": {},
   "outputs": [],
   "source": [
    "from sklearn.cluster import KMeans\n",
    "from sklearn.metrics import silhouette_score"
   ]
  },
  {
   "cell_type": "code",
   "execution_count": 253,
   "metadata": {},
   "outputs": [],
   "source": [
    "from sklearn.preprocessing import StandardScaler, MinMaxScaler\n",
    "from sklearn.model_selection import train_test_split\n",
    "\n",
    "X = pd.concat([df_train[num_cols], df_dummies], axis=1)\n",
    "X = pd.concat([df_num_boxed, df_dummies], axis=1)\n",
    "y = df_train.cappedLogPrice\n",
    "X_cols = X.columns.to_list()\n",
    "\n",
    "kmeans = KMeans(n_clusters=1, max_iter=50)\n",
    "kmeans.fit(pd.DataFrame(y))\n",
    "pd.Series(kmeans.labels_).value_counts()\n",
    "X_clustered = X.copy()\n",
    "X['cluster_id'] = kmeans.labels_\n",
    "\n",
    "#y = train.cPrice\n",
    "\n",
    "X_train, X_test, y_train, y_test = train_test_split(X[X_cols], y, test_size = 0.2, \n",
    "                                                    random_state = 42, stratify=X.cluster_id)\n",
    "scaler = StandardScaler()\n",
    "#scaler = MinMaxScaler()\n",
    "\n",
    "X_train_scaled = pd.DataFrame(scaler.fit_transform(X_train), columns=X_cols)\n",
    "X_test_scaled  = pd.DataFrame(scaler.transform(X_test), columns=X_cols)"
   ]
  },
  {
   "cell_type": "code",
   "execution_count": 254,
   "metadata": {},
   "outputs": [
    {
     "data": {
      "text/plain": [
       "<AxesSubplot:xlabel='cluster_id', ylabel='cappedLogPrice'>"
      ]
     },
     "execution_count": 254,
     "metadata": {},
     "output_type": "execute_result"
    },
    {
     "data": {
      "image/png": "[encoded data removed]",
      "text/plain": [
       "<Figure size 432x288 with 1 Axes>"
      ]
     },
     "metadata": {
      "needs_background": "light"
     },
     "output_type": "display_data"
    }
   ],
   "source": [
    "sns.boxplot(x='cluster_id', y='cappedLogPrice', data=pd.concat([X, y], axis=1))"
   ]
  },
  {
   "cell_type": "markdown",
   "metadata": {},
   "source": [
    "# Random Forest"
   ]
  },
  {
   "cell_type": "code",
   "execution_count": 255,
   "metadata": {},
   "outputs": [
    {
     "data": {
      "text/plain": [
       "0.6668148260582525"
      ]
     },
     "execution_count": 255,
     "metadata": {},
     "output_type": "execute_result"
    }
   ],
   "source": [
    "from sklearn.ensemble import RandomForestRegressor\n",
    "rf_model = RandomForestRegressor(oob_score=True, random_state=42).fit(X_train_scaled, y_train)\n",
    "rf_model.score(X_test_scaled, y_test)                              "
   ]
  },
  {
   "cell_type": "code",
   "execution_count": 256,
   "metadata": {},
   "outputs": [
    {
     "data": {
      "text/plain": [
       "0.6664860380312214"
      ]
     },
     "execution_count": 256,
     "metadata": {},
     "output_type": "execute_result"
    }
   ],
   "source": [
    "rf_model_1 = RandomForestRegressor(oob_score=True, random_state=42).fit(X_train, y_train)\n",
    "rf_model_1.score(X_test, y_test)"
   ]
  },
  {
   "cell_type": "code",
   "execution_count": 257,
   "metadata": {},
   "outputs": [
    {
     "data": {
      "text/plain": [
       "0.8786657736365617"
      ]
     },
     "execution_count": 257,
     "metadata": {},
     "output_type": "execute_result"
    }
   ],
   "source": [
    "from sklearn.metrics import mean_squared_log_error\n",
    "np.sqrt(mean_squared_log_error(\n",
    "        np.exp(y_test), \n",
    "        np.exp(rf_model.predict(X_test_scaled))))"
   ]
  },
  {
   "cell_type": "code",
   "execution_count": 258,
   "metadata": {},
   "outputs": [
    {
     "data": {
      "text/plain": [
       "0.8790974771302486"
      ]
     },
     "execution_count": 258,
     "metadata": {},
     "output_type": "execute_result"
    }
   ],
   "source": [
    "from sklearn.metrics import mean_squared_log_error\n",
    "np.sqrt(mean_squared_log_error(\n",
    "        np.exp(y_test), \n",
    "        np.exp(rf_model_1.predict(X_test))))"
   ]
  },
  {
   "cell_type": "code",
   "execution_count": 72,
   "metadata": {
    "collapsed": true
   },
   "outputs": [
    {
     "data": {
      "text/html": [
       "<div>\n",
       "<style scoped>\n",
       "    .dataframe tbody tr th:only-of-type {\n",
       "        vertical-align: middle;\n",
       "    }\n",
       "\n",
       "    .dataframe tbody tr th {\n",
       "        vertical-align: top;\n",
       "    }\n",
       "\n",
       "    .dataframe thead th {\n",
       "        text-align: right;\n",
       "    }\n",
       "</style>\n",
       "<table border=\"1\" class=\"dataframe\">\n",
       "  <thead>\n",
       "    <tr style=\"text-align: right;\">\n",
       "      <th></th>\n",
       "      <th>Feature</th>\n",
       "      <th>Importance</th>\n",
       "    </tr>\n",
       "  </thead>\n",
       "  <tbody>\n",
       "    <tr>\n",
       "      <th>4</th>\n",
       "      <td>Airbags</td>\n",
       "      <td>0.170840</td>\n",
       "    </tr>\n",
       "    <tr>\n",
       "      <th>1</th>\n",
       "      <td>Prod. year</td>\n",
       "      <td>0.108511</td>\n",
       "    </tr>\n",
       "    <tr>\n",
       "      <th>3</th>\n",
       "      <td>Mileage</td>\n",
       "      <td>0.107698</td>\n",
       "    </tr>\n",
       "    <tr>\n",
       "      <th>6</th>\n",
       "      <td>KMPerYear</td>\n",
       "      <td>0.100433</td>\n",
       "    </tr>\n",
       "    <tr>\n",
       "      <th>46</th>\n",
       "      <td>Gear box type_Tiptronic</td>\n",
       "      <td>0.099475</td>\n",
       "    </tr>\n",
       "    <tr>\n",
       "      <th>0</th>\n",
       "      <td>Levy</td>\n",
       "      <td>0.075421</td>\n",
       "    </tr>\n",
       "    <tr>\n",
       "      <th>2</th>\n",
       "      <td>Engine volume</td>\n",
       "      <td>0.050641</td>\n",
       "    </tr>\n",
       "    <tr>\n",
       "      <th>38</th>\n",
       "      <td>Leather interior_Yes</td>\n",
       "      <td>0.031706</td>\n",
       "    </tr>\n",
       "    <tr>\n",
       "      <th>40</th>\n",
       "      <td>Fuel type_Hybrid</td>\n",
       "      <td>0.022375</td>\n",
       "    </tr>\n",
       "    <tr>\n",
       "      <th>31</th>\n",
       "      <td>Category_Jeep</td>\n",
       "      <td>0.016503</td>\n",
       "    </tr>\n",
       "    <tr>\n",
       "      <th>7</th>\n",
       "      <td>isLevied</td>\n",
       "      <td>0.015183</td>\n",
       "    </tr>\n",
       "    <tr>\n",
       "      <th>26</th>\n",
       "      <td>Manufacturer_TOYOTA</td>\n",
       "      <td>0.013734</td>\n",
       "    </tr>\n",
       "    <tr>\n",
       "      <th>66</th>\n",
       "      <td>Color_White</td>\n",
       "      <td>0.012950</td>\n",
       "    </tr>\n",
       "    <tr>\n",
       "      <th>5</th>\n",
       "      <td>Cylinders</td>\n",
       "      <td>0.012565</td>\n",
       "    </tr>\n",
       "    <tr>\n",
       "      <th>48</th>\n",
       "      <td>Drive wheels_Front</td>\n",
       "      <td>0.010527</td>\n",
       "    </tr>\n",
       "  </tbody>\n",
       "</table>\n",
       "</div>"
      ],
      "text/plain": [
       "                    Feature  Importance\n",
       "4                   Airbags    0.170840\n",
       "1                Prod. year    0.108511\n",
       "3                   Mileage    0.107698\n",
       "6                 KMPerYear    0.100433\n",
       "46  Gear box type_Tiptronic    0.099475\n",
       "0                      Levy    0.075421\n",
       "2             Engine volume    0.050641\n",
       "38     Leather interior_Yes    0.031706\n",
       "40         Fuel type_Hybrid    0.022375\n",
       "31            Category_Jeep    0.016503\n",
       "7                  isLevied    0.015183\n",
       "26      Manufacturer_TOYOTA    0.013734\n",
       "66              Color_White    0.012950\n",
       "5                 Cylinders    0.012565\n",
       "48       Drive wheels_Front    0.010527"
      ]
     },
     "execution_count": 72,
     "metadata": {},
     "output_type": "execute_result"
    }
   ],
   "source": [
    "df_importance = pd.DataFrame(rf_model.feature_importances_, columns = ['Importance'])\n",
    "df_importance['Feature'] = X_cols\n",
    "df_importance = df_importance[['Feature', 'Importance']].sort_values(by='Importance', ascending=False)\n",
    "df_importance.head(15)\n"
   ]
  },
  {
   "cell_type": "markdown",
   "metadata": {},
   "source": [
    "---\n"
   ]
  },
  {
   "cell_type": "markdown",
   "metadata": {},
   "source": [
    "# Linear Regression"
   ]
  },
  {
   "cell_type": "code",
   "execution_count": 186,
   "metadata": {},
   "outputs": [
    {
     "data": {
      "text/plain": [
       "-2.783491091872863e+21"
      ]
     },
     "execution_count": 186,
     "metadata": {},
     "output_type": "execute_result"
    }
   ],
   "source": [
    "from sklearn.linear_model import LinearRegression\n",
    "lin_model = LinearRegression().fit(X_train_scaled, y_train)\n",
    "lin_model.score(X_test_scaled, y_test)"
   ]
  },
  {
   "cell_type": "code",
   "execution_count": 187,
   "metadata": {},
   "outputs": [
    {
     "data": {
      "text/plain": [
       "0.8593444686570848"
      ]
     },
     "execution_count": 187,
     "metadata": {},
     "output_type": "execute_result"
    }
   ],
   "source": [
    "import xgboost as xg\n",
    "xgb_r = xg.XGBRegressor(n_estimators=1000, max_depth=7, eta=0.1, subsample=0.7, colsample_bytree=0.8)\n",
    "xgb_r.fit(X_train_scaled, y_train)\n",
    "pred = np.exp(xgb_r.predict(X_test_scaled))\n",
    "\n",
    "np.sqrt(mean_squared_log_error(np.exp(y_test), pred))\n"
   ]
  },
  {
   "cell_type": "markdown",
   "metadata": {},
   "source": [
    "---"
   ]
  },
  {
   "cell_type": "markdown",
   "metadata": {},
   "source": [
    "# Ensemble"
   ]
  },
  {
   "cell_type": "code",
   "execution_count": 255,
   "metadata": {
    "scrolled": true
   },
   "outputs": [
    {
     "data": {
      "text/html": [
       "<div>\n",
       "<style scoped>\n",
       "    .dataframe tbody tr th:only-of-type {\n",
       "        vertical-align: middle;\n",
       "    }\n",
       "\n",
       "    .dataframe tbody tr th {\n",
       "        vertical-align: top;\n",
       "    }\n",
       "\n",
       "    .dataframe thead th {\n",
       "        text-align: right;\n",
       "    }\n",
       "</style>\n",
       "<table border=\"1\" class=\"dataframe\">\n",
       "  <thead>\n",
       "    <tr style=\"text-align: right;\">\n",
       "      <th></th>\n",
       "      <th>Levy</th>\n",
       "      <th>Prod. year</th>\n",
       "      <th>Engine volume</th>\n",
       "      <th>Mileage</th>\n",
       "      <th>Airbags</th>\n",
       "      <th>Cylinders</th>\n",
       "      <th>KMPerYear</th>\n",
       "      <th>isLevied</th>\n",
       "      <th>Manufacturer_BMW</th>\n",
       "      <th>Manufacturer_CHEVROLET</th>\n",
       "      <th>...</th>\n",
       "      <th>Color_Green</th>\n",
       "      <th>Color_Grey</th>\n",
       "      <th>Color_Orange</th>\n",
       "      <th>Color_Pink</th>\n",
       "      <th>Color_Purple</th>\n",
       "      <th>Color_Red</th>\n",
       "      <th>Color_Silver</th>\n",
       "      <th>Color_Sky blue</th>\n",
       "      <th>Color_White</th>\n",
       "      <th>Color_Yellow</th>\n",
       "    </tr>\n",
       "  </thead>\n",
       "  <tbody>\n",
       "    <tr>\n",
       "      <th>0</th>\n",
       "      <td>1.066791</td>\n",
       "      <td>0.454267</td>\n",
       "      <td>0.989417</td>\n",
       "      <td>0.376073</td>\n",
       "      <td>-1.521507</td>\n",
       "      <td>1.166456</td>\n",
       "      <td>0.166963</td>\n",
       "      <td>0.659955</td>\n",
       "      <td>-0.243144</td>\n",
       "      <td>-0.244639</td>\n",
       "      <td>...</td>\n",
       "      <td>-0.130064</td>\n",
       "      <td>-0.374292</td>\n",
       "      <td>-0.115906</td>\n",
       "      <td>-0.036074</td>\n",
       "      <td>-0.044928</td>\n",
       "      <td>-0.186076</td>\n",
       "      <td>-0.495244</td>\n",
       "      <td>-0.080056</td>\n",
       "      <td>1.812248</td>\n",
       "      <td>-0.075837</td>\n",
       "    </tr>\n",
       "    <tr>\n",
       "      <th>1</th>\n",
       "      <td>1.121716</td>\n",
       "      <td>-0.425966</td>\n",
       "      <td>-1.164553</td>\n",
       "      <td>0.213036</td>\n",
       "      <td>-1.521507</td>\n",
       "      <td>-0.489197</td>\n",
       "      <td>0.418253</td>\n",
       "      <td>0.659955</td>\n",
       "      <td>-0.243144</td>\n",
       "      <td>-0.244639</td>\n",
       "      <td>...</td>\n",
       "      <td>-0.130064</td>\n",
       "      <td>-0.374292</td>\n",
       "      <td>-0.115906</td>\n",
       "      <td>-0.036074</td>\n",
       "      <td>-0.044928</td>\n",
       "      <td>-0.186076</td>\n",
       "      <td>2.019208</td>\n",
       "      <td>-0.080056</td>\n",
       "      <td>-0.551801</td>\n",
       "      <td>-0.075837</td>\n",
       "    </tr>\n",
       "    <tr>\n",
       "      <th>2</th>\n",
       "      <td>0.225197</td>\n",
       "      <td>0.272715</td>\n",
       "      <td>-1.378950</td>\n",
       "      <td>0.098056</td>\n",
       "      <td>0.328671</td>\n",
       "      <td>-0.489197</td>\n",
       "      <td>-0.047031</td>\n",
       "      <td>0.659955</td>\n",
       "      <td>-0.243144</td>\n",
       "      <td>4.087647</td>\n",
       "      <td>...</td>\n",
       "      <td>-0.130064</td>\n",
       "      <td>-0.374292</td>\n",
       "      <td>-0.115906</td>\n",
       "      <td>-0.036074</td>\n",
       "      <td>-0.044928</td>\n",
       "      <td>-0.186076</td>\n",
       "      <td>2.019208</td>\n",
       "      <td>-0.080056</td>\n",
       "      <td>-0.551801</td>\n",
       "      <td>-0.075837</td>\n",
       "    </tr>\n",
       "    <tr>\n",
       "      <th>3</th>\n",
       "      <td>0.149509</td>\n",
       "      <td>-0.425966</td>\n",
       "      <td>-1.378950</td>\n",
       "      <td>-0.449101</td>\n",
       "      <td>1.253760</td>\n",
       "      <td>-0.489197</td>\n",
       "      <td>-0.307333</td>\n",
       "      <td>0.659955</td>\n",
       "      <td>-0.243144</td>\n",
       "      <td>-0.244639</td>\n",
       "      <td>...</td>\n",
       "      <td>-0.130064</td>\n",
       "      <td>-0.374292</td>\n",
       "      <td>-0.115906</td>\n",
       "      <td>-0.036074</td>\n",
       "      <td>-0.044928</td>\n",
       "      <td>-0.186076</td>\n",
       "      <td>-0.495244</td>\n",
       "      <td>-0.080056</td>\n",
       "      <td>1.812248</td>\n",
       "      <td>-0.075837</td>\n",
       "    </tr>\n",
       "    <tr>\n",
       "      <th>4</th>\n",
       "      <td>-1.379090</td>\n",
       "      <td>0.272715</td>\n",
       "      <td>-0.270575</td>\n",
       "      <td>-0.237599</td>\n",
       "      <td>-1.521507</td>\n",
       "      <td>-0.489197</td>\n",
       "      <td>-0.414850</td>\n",
       "      <td>-1.515254</td>\n",
       "      <td>-0.243144</td>\n",
       "      <td>-0.244639</td>\n",
       "      <td>...</td>\n",
       "      <td>-0.130064</td>\n",
       "      <td>-0.374292</td>\n",
       "      <td>-0.115906</td>\n",
       "      <td>-0.036074</td>\n",
       "      <td>-0.044928</td>\n",
       "      <td>-0.186076</td>\n",
       "      <td>2.019208</td>\n",
       "      <td>-0.080056</td>\n",
       "      <td>-0.551801</td>\n",
       "      <td>-0.075837</td>\n",
       "    </tr>\n",
       "  </tbody>\n",
       "</table>\n",
       "<p>5 rows × 68 columns</p>\n",
       "</div>"
      ],
      "text/plain": [
       "       Levy  Prod. year  Engine volume   Mileage   Airbags  Cylinders  \\\n",
       "0  1.066791    0.454267       0.989417  0.376073 -1.521507   1.166456   \n",
       "1  1.121716   -0.425966      -1.164553  0.213036 -1.521507  -0.489197   \n",
       "2  0.225197    0.272715      -1.378950  0.098056  0.328671  -0.489197   \n",
       "3  0.149509   -0.425966      -1.378950 -0.449101  1.253760  -0.489197   \n",
       "4 -1.379090    0.272715      -0.270575 -0.237599 -1.521507  -0.489197   \n",
       "\n",
       "   KMPerYear  isLevied  Manufacturer_BMW  Manufacturer_CHEVROLET  ...  \\\n",
       "0   0.166963  0.659955         -0.243144               -0.244639  ...   \n",
       "1   0.418253  0.659955         -0.243144               -0.244639  ...   \n",
       "2  -0.047031  0.659955         -0.243144                4.087647  ...   \n",
       "3  -0.307333  0.659955         -0.243144               -0.244639  ...   \n",
       "4  -0.414850 -1.515254         -0.243144               -0.244639  ...   \n",
       "\n",
       "   Color_Green  Color_Grey  Color_Orange  Color_Pink  Color_Purple  Color_Red  \\\n",
       "0    -0.130064   -0.374292     -0.115906   -0.036074     -0.044928  -0.186076   \n",
       "1    -0.130064   -0.374292     -0.115906   -0.036074     -0.044928  -0.186076   \n",
       "2    -0.130064   -0.374292     -0.115906   -0.036074     -0.044928  -0.186076   \n",
       "3    -0.130064   -0.374292     -0.115906   -0.036074     -0.044928  -0.186076   \n",
       "4    -0.130064   -0.374292     -0.115906   -0.036074     -0.044928  -0.186076   \n",
       "\n",
       "   Color_Silver  Color_Sky blue  Color_White  Color_Yellow  \n",
       "0     -0.495244       -0.080056     1.812248     -0.075837  \n",
       "1      2.019208       -0.080056    -0.551801     -0.075837  \n",
       "2      2.019208       -0.080056    -0.551801     -0.075837  \n",
       "3     -0.495244       -0.080056     1.812248     -0.075837  \n",
       "4      2.019208       -0.080056    -0.551801     -0.075837  \n",
       "\n",
       "[5 rows x 68 columns]"
      ]
     },
     "execution_count": 255,
     "metadata": {},
     "output_type": "execute_result"
    }
   ],
   "source": [
    "X_train_scaled.head()"
   ]
  },
  {
   "cell_type": "code",
   "execution_count": 188,
   "metadata": {},
   "outputs": [
    {
     "name": "stdout",
     "output_type": "stream",
     "text": [
      "0.6954837691779214\n"
     ]
    }
   ],
   "source": [
    "from sklearn.ensemble import VotingRegressor\n",
    "\n",
    "model1 = RandomForestRegressor(max_depth=17, n_estimators=1000, random_state=42, oob_score=True)\n",
    "model2 = xg.XGBRegressor(n_estimators=1000, max_depth=7, eta=0.1, subsample=0.7, colsample_bytree=0.8)\n",
    "\n",
    "er = VotingRegressor([('RandomForest', model1), \n",
    "                       ('XGBoost', model2)])\n",
    "er.fit(X_train_scaled, y_train)\n",
    "print (er.score(X_test_scaled, y_test))"
   ]
  },
  {
   "cell_type": "code",
   "execution_count": 189,
   "metadata": {},
   "outputs": [
    {
     "data": {
      "text/plain": [
       "0.8339222825611179"
      ]
     },
     "execution_count": 189,
     "metadata": {},
     "output_type": "execute_result"
    }
   ],
   "source": [
    "np.sqrt(mean_squared_log_error(\n",
    "            np.exp(y_test), \n",
    "            np.exp(er.predict(X_test_scaled))))"
   ]
  },
  {
   "cell_type": "markdown",
   "metadata": {},
   "source": [
    "---"
   ]
  },
  {
   "cell_type": "code",
   "execution_count": 193,
   "metadata": {},
   "outputs": [
    {
     "name": "stdout",
     "output_type": "stream",
     "text": [
      "0.2985172845392151\n",
      "0.676173852041999\n",
      "0.6357221523532298\n",
      "0.6571604916766915\n"
     ]
    }
   ],
   "source": [
    "from sklearn.experimental import enable_hist_gradient_boosting\n",
    "from sklearn.ensemble import AdaBoostRegressor, ExtraTreesRegressor, HistGradientBoostingRegressor, BaggingRegressor\n",
    "algo_list = [AdaBoostRegressor(), ExtraTreesRegressor(), HistGradientBoostingRegressor(), BaggingRegressor()]\n",
    "for f in algo_list:\n",
    "    en_model = f.fit(X_train_scaled, y_train)\n",
    "    print (en_model.score(X_test_scaled, y_test))"
   ]
  },
  {
   "cell_type": "markdown",
   "metadata": {},
   "source": [
    "# Tuning Random Forest"
   ]
  },
  {
   "cell_type": "code",
   "execution_count": 225,
   "metadata": {},
   "outputs": [
    {
     "data": {
      "text/plain": [
       "GridSearchCV(cv=5, estimator=RandomForestRegressor(),\n",
       "             param_grid={'max_depth': range(2, 20, 5)}, scoring='r2')"
      ]
     },
     "execution_count": 225,
     "metadata": {},
     "output_type": "execute_result"
    }
   ],
   "source": [
    "from sklearn.model_selection import KFold\n",
    "from sklearn.model_selection import GridSearchCV\n",
    "n_folds = 5\n",
    "# parameters to build the model on\n",
    "parameters = {'max_depth': range(2, 20, 5)}\n",
    "\n",
    "# instantiate the model\n",
    "rf_algo = RandomForestRegressor()\n",
    "# fit tree on training data\n",
    "rf_search = GridSearchCV(rf_algo, parameters, \n",
    "                    cv=n_folds,#) \n",
    "                   scoring=\"r2\")\n",
    "rf_search.fit(X_train_scaled, y_train)"
   ]
  },
  {
   "cell_type": "code",
   "execution_count": 226,
   "metadata": {},
   "outputs": [
    {
     "data": {
      "text/plain": [
       "RandomForestRegressor(max_depth=17)"
      ]
     },
     "execution_count": 226,
     "metadata": {},
     "output_type": "execute_result"
    }
   ],
   "source": [
    "rf_search.best_estimator_"
   ]
  },
  {
   "cell_type": "code",
   "execution_count": 227,
   "metadata": {},
   "outputs": [
    {
     "data": {
      "text/plain": [
       "0.6786632061553433"
      ]
     },
     "execution_count": 227,
     "metadata": {},
     "output_type": "execute_result"
    }
   ],
   "source": [
    "rf_search.best_estimator_.score(X_test_scaled, y_test)"
   ]
  },
  {
   "cell_type": "code",
   "execution_count": 246,
   "metadata": {},
   "outputs": [
    {
     "data": {
      "text/plain": [
       "GridSearchCV(cv=5, estimator=RandomForestRegressor(max_depth=17, n_jobs=-1),\n",
       "             param_grid={'n_estimators': range(100, 1000, 200)},\n",
       "             scoring='neg_root_mean_squared_error')"
      ]
     },
     "execution_count": 246,
     "metadata": {},
     "output_type": "execute_result"
    }
   ],
   "source": [
    "parameters = {'n_estimators': range(100, 1000, 200)}\n",
    "# instantiate the model\n",
    "rf_algo = RandomForestRegressor(max_depth=17, n_jobs=-1)\n",
    "# fit tree on training data\n",
    "rf_search = GridSearchCV(rf_algo, parameters, \n",
    "                    cv=n_folds,#) \n",
    "                   scoring=\"r2\")\n",
    "rf_search.fit(X, y)"
   ]
  },
  {
   "cell_type": "code",
   "execution_count": 228,
   "metadata": {},
   "outputs": [
    {
     "data": {
      "text/plain": [
       "RandomForestRegressor(max_depth=17)"
      ]
     },
     "execution_count": 228,
     "metadata": {},
     "output_type": "execute_result"
    }
   ],
   "source": [
    "rf_search.best_estimator_"
   ]
  },
  {
   "cell_type": "code",
   "execution_count": null,
   "metadata": {},
   "outputs": [],
   "source": []
  },
  {
   "cell_type": "code",
   "execution_count": null,
   "metadata": {},
   "outputs": [],
   "source": []
  },
  {
   "cell_type": "code",
   "execution_count": null,
   "metadata": {},
   "outputs": [],
   "source": []
  },
  {
   "cell_type": "code",
   "execution_count": null,
   "metadata": {},
   "outputs": [],
   "source": []
  },
  {
   "cell_type": "markdown",
   "metadata": {},
   "source": [
    "---"
   ]
  },
  {
   "cell_type": "code",
   "execution_count": 194,
   "metadata": {},
   "outputs": [
    {
     "name": "stderr",
     "output_type": "stream",
     "text": [
      "Using TensorFlow backend.\n"
     ]
    }
   ],
   "source": [
    "from keras.models import Sequential\n",
    "from keras.layers import Dense, Dropout, LeakyReLU\n",
    "from keras.wrappers.scikit_learn import KerasRegressor\n",
    "from sklearn.model_selection import cross_val_score\n",
    "from sklearn.model_selection import KFold\n",
    "from sklearn.preprocessing import StandardScaler\n",
    "from sklearn.pipeline import Pipeline"
   ]
  },
  {
   "cell_type": "code",
   "execution_count": 134,
   "metadata": {},
   "outputs": [],
   "source": [
    "?LeakyReLU"
   ]
  },
  {
   "cell_type": "code",
   "execution_count": 96,
   "metadata": {
    "scrolled": true
   },
   "outputs": [
    {
     "data": {
      "text/plain": [
       "(19237, 68)"
      ]
     },
     "execution_count": 96,
     "metadata": {},
     "output_type": "execute_result"
    }
   ],
   "source": [
    "X.shape"
   ]
  },
  {
   "cell_type": "code",
   "execution_count": 196,
   "metadata": {},
   "outputs": [
    {
     "name": "stdout",
     "output_type": "stream",
     "text": [
      "_________________________________________________________________\n",
      "Layer (type)                 Output Shape              Param #   \n",
      "=================================================================\n",
      "dense_2 (Dense)              (None, 68)                4692      \n",
      "_________________________________________________________________\n",
      "dense_3 (Dense)              (None, 30)                2070      \n",
      "_________________________________________________________________\n",
      "dropout_1 (Dropout)          (None, 30)                0         \n",
      "_________________________________________________________________\n",
      "dense_4 (Dense)              (None, 1)                 31        \n",
      "=================================================================\n",
      "Total params: 6,793\n",
      "Trainable params: 6,793\n",
      "Non-trainable params: 0\n",
      "_________________________________________________________________\n"
     ]
    }
   ],
   "source": [
    "model = Sequential()\n",
    "model.add(Dense(68, input_dim=68, kernel_initializer='normal', activation='relu'))\n",
    "model.add(Dense(30, kernel_initializer='normal', activation='relu'))\n",
    "model.add(Dropout(0.3))\n",
    "model.add(Dense(1, activation='linear'))\n",
    "model.summary()"
   ]
  },
  {
   "cell_type": "code",
   "execution_count": 211,
   "metadata": {},
   "outputs": [],
   "source": [
    "?model.compile"
   ]
  },
  {
   "cell_type": "code",
   "execution_count": 221,
   "metadata": {},
   "outputs": [],
   "source": [
    "model.compile(loss='mse', optimizer='adam', metrics=['mse'])\n",
    "history=model.fit(X_train_scaled, y_train, epochs=100, batch_size=200, verbose=0, validation_split=0.25)\n",
    "predictions = model.predict(X_test_scaled)"
   ]
  },
  {
   "cell_type": "code",
   "execution_count": 222,
   "metadata": {},
   "outputs": [
    {
     "data": {
      "text/plain": [
       "[<matplotlib.lines.Line2D at 0x7b2ece10>]"
      ]
     },
     "execution_count": 222,
     "metadata": {},
     "output_type": "execute_result"
    },
    {
     "data": {
      "image/png": "[encoded data removed]",
      "text/plain": [
       "<Figure size 432x288 with 1 Axes>"
      ]
     },
     "metadata": {
      "needs_background": "light"
     },
     "output_type": "display_data"
    }
   ],
   "source": [
    "plt.plot(np.sqrt(np.array(history.history['mean_squared_error'])))"
   ]
  },
  {
   "cell_type": "code",
   "execution_count": 223,
   "metadata": {},
   "outputs": [
    {
     "data": {
      "text/plain": [
       "88851.64003488126"
      ]
     },
     "execution_count": 223,
     "metadata": {},
     "output_type": "execute_result"
    }
   ],
   "source": [
    "from sklearn.metrics import mean_squared_error, r2_score\n",
    "np.sqrt(mean_squared_error(np.exp(y_test), np.exp(predictions)))"
   ]
  },
  {
   "cell_type": "code",
   "execution_count": 224,
   "metadata": {},
   "outputs": [
    {
     "data": {
      "text/plain": [
       "-29.857409989696965"
      ]
     },
     "execution_count": 224,
     "metadata": {},
     "output_type": "execute_result"
    }
   ],
   "source": [
    "r2_score(np.exp(y_test), np.exp(predictions))"
   ]
  },
  {
   "cell_type": "markdown",
   "metadata": {},
   "source": [
    "---"
   ]
  },
  {
   "cell_type": "code",
   "execution_count": 213,
   "metadata": {},
   "outputs": [],
   "source": [
    "df_pycaret = pd.concat([X, y], axis=1)"
   ]
  },
  {
   "cell_type": "code",
   "execution_count": 190,
   "metadata": {},
   "outputs": [],
   "source": [
    "import pycaret"
   ]
  },
  {
   "cell_type": "code",
   "execution_count": 191,
   "metadata": {},
   "outputs": [
    {
     "data": {
      "text/plain": [
       "<module 'pycaret' from 'D:\\\\Anaconda3\\\\lib\\\\site-packages\\\\pycaret\\\\__init__.py'>"
      ]
     },
     "execution_count": 191,
     "metadata": {},
     "output_type": "execute_result"
    }
   ],
   "source": [
    "pycaret"
   ]
  },
  {
   "cell_type": "code",
   "execution_count": 192,
   "metadata": {},
   "outputs": [
    {
     "ename": "AttributeError",
     "evalue": "module 'pycaret' has no attribute 'regression'",
     "output_type": "error",
     "traceback": [
      "\u001b[1;31m---------------------------------------------------------------------------\u001b[0m",
      "\u001b[1;31mAttributeError\u001b[0m                            Traceback (most recent call last)",
      "\u001b[1;32m<ipython-input-192-b268334b39b7>\u001b[0m in \u001b[0;36m<module>\u001b[1;34m\u001b[0m\n\u001b[1;32m----> 1\u001b[1;33m clf1 = pycaret.regression.setup(data = df_pycaret,\n\u001b[0m\u001b[0;32m      2\u001b[0m              \u001b[0mtarget\u001b[0m \u001b[1;33m=\u001b[0m \u001b[1;34m'cappedLogPrice'\u001b[0m\u001b[1;33m,\u001b[0m\u001b[1;33m\u001b[0m\u001b[1;33m\u001b[0m\u001b[0m\n\u001b[0;32m      3\u001b[0m              \u001b[0mnumeric_imputation\u001b[0m \u001b[1;33m=\u001b[0m \u001b[1;34m'mean'\u001b[0m\u001b[1;33m,\u001b[0m\u001b[1;33m\u001b[0m\u001b[1;33m\u001b[0m\u001b[0m\n\u001b[0;32m      4\u001b[0m              \u001b[1;31m#categorical_features = cat_cols,\u001b[0m\u001b[1;33m\u001b[0m\u001b[1;33m\u001b[0m\u001b[1;33m\u001b[0m\u001b[0m\n\u001b[0;32m      5\u001b[0m              \u001b[1;31m#ignore_features = ['Name','Ticket','Cabin'],\u001b[0m\u001b[1;33m\u001b[0m\u001b[1;33m\u001b[0m\u001b[1;33m\u001b[0m\u001b[0m\n",
      "\u001b[1;31mAttributeError\u001b[0m: module 'pycaret' has no attribute 'regression'"
     ]
    }
   ],
   "source": [
    "clf1 = pycaret.regression.setup(data = df_pycaret,\n",
    "             target = 'cappedLogPrice',\n",
    "             numeric_imputation = 'mean',\n",
    "             #categorical_features = cat_cols, \n",
    "             #ignore_features = ['Name','Ticket','Cabin'],\n",
    "             normalize = True,\n",
    "             verbose=True,\n",
    "             silent = False)"
   ]
  },
  {
   "cell_type": "code",
   "execution_count": 423,
   "metadata": {},
   "outputs": [
    {
     "data": {
      "text/html": [
       "<style  type=\"text/css\" >\n",
       "    #T_509171f4_dc01_11eb_aeed_d03041285643 th {\n",
       "          text-align: left;\n",
       "    }#T_509171f4_dc01_11eb_aeed_d03041285643row0_col0,#T_509171f4_dc01_11eb_aeed_d03041285643row0_col1,#T_509171f4_dc01_11eb_aeed_d03041285643row0_col6,#T_509171f4_dc01_11eb_aeed_d03041285643row1_col0,#T_509171f4_dc01_11eb_aeed_d03041285643row1_col2,#T_509171f4_dc01_11eb_aeed_d03041285643row1_col3,#T_509171f4_dc01_11eb_aeed_d03041285643row1_col4,#T_509171f4_dc01_11eb_aeed_d03041285643row1_col5,#T_509171f4_dc01_11eb_aeed_d03041285643row2_col0,#T_509171f4_dc01_11eb_aeed_d03041285643row2_col1,#T_509171f4_dc01_11eb_aeed_d03041285643row2_col2,#T_509171f4_dc01_11eb_aeed_d03041285643row2_col3,#T_509171f4_dc01_11eb_aeed_d03041285643row2_col4,#T_509171f4_dc01_11eb_aeed_d03041285643row2_col5,#T_509171f4_dc01_11eb_aeed_d03041285643row2_col6,#T_509171f4_dc01_11eb_aeed_d03041285643row3_col0,#T_509171f4_dc01_11eb_aeed_d03041285643row3_col1,#T_509171f4_dc01_11eb_aeed_d03041285643row3_col2,#T_509171f4_dc01_11eb_aeed_d03041285643row3_col3,#T_509171f4_dc01_11eb_aeed_d03041285643row3_col4,#T_509171f4_dc01_11eb_aeed_d03041285643row3_col5,#T_509171f4_dc01_11eb_aeed_d03041285643row3_col6,#T_509171f4_dc01_11eb_aeed_d03041285643row4_col0,#T_509171f4_dc01_11eb_aeed_d03041285643row4_col1,#T_509171f4_dc01_11eb_aeed_d03041285643row4_col2,#T_509171f4_dc01_11eb_aeed_d03041285643row4_col3,#T_509171f4_dc01_11eb_aeed_d03041285643row4_col4,#T_509171f4_dc01_11eb_aeed_d03041285643row4_col5,#T_509171f4_dc01_11eb_aeed_d03041285643row4_col6,#T_509171f4_dc01_11eb_aeed_d03041285643row5_col0,#T_509171f4_dc01_11eb_aeed_d03041285643row5_col1,#T_509171f4_dc01_11eb_aeed_d03041285643row5_col2,#T_509171f4_dc01_11eb_aeed_d03041285643row5_col3,#T_509171f4_dc01_11eb_aeed_d03041285643row5_col4,#T_509171f4_dc01_11eb_aeed_d03041285643row5_col5,#T_509171f4_dc01_11eb_aeed_d03041285643row5_col6,#T_509171f4_dc01_11eb_aeed_d03041285643row6_col0,#T_509171f4_dc01_11eb_aeed_d03041285643row6_col1,#T_509171f4_dc01_11eb_aeed_d03041285643row6_col2,#T_509171f4_dc01_11eb_aeed_d03041285643row6_col3,#T_509171f4_dc01_11eb_aeed_d03041285643row6_col4,#T_509171f4_dc01_11eb_aeed_d03041285643row6_col5,#T_509171f4_dc01_11eb_aeed_d03041285643row6_col6,#T_509171f4_dc01_11eb_aeed_d03041285643row7_col0,#T_509171f4_dc01_11eb_aeed_d03041285643row7_col1,#T_509171f4_dc01_11eb_aeed_d03041285643row7_col2,#T_509171f4_dc01_11eb_aeed_d03041285643row7_col3,#T_509171f4_dc01_11eb_aeed_d03041285643row7_col4,#T_509171f4_dc01_11eb_aeed_d03041285643row7_col5,#T_509171f4_dc01_11eb_aeed_d03041285643row7_col6,#T_509171f4_dc01_11eb_aeed_d03041285643row8_col0,#T_509171f4_dc01_11eb_aeed_d03041285643row8_col1,#T_509171f4_dc01_11eb_aeed_d03041285643row8_col2,#T_509171f4_dc01_11eb_aeed_d03041285643row8_col3,#T_509171f4_dc01_11eb_aeed_d03041285643row8_col4,#T_509171f4_dc01_11eb_aeed_d03041285643row8_col5,#T_509171f4_dc01_11eb_aeed_d03041285643row8_col6,#T_509171f4_dc01_11eb_aeed_d03041285643row9_col0,#T_509171f4_dc01_11eb_aeed_d03041285643row9_col1,#T_509171f4_dc01_11eb_aeed_d03041285643row9_col2,#T_509171f4_dc01_11eb_aeed_d03041285643row9_col3,#T_509171f4_dc01_11eb_aeed_d03041285643row9_col4,#T_509171f4_dc01_11eb_aeed_d03041285643row9_col5,#T_509171f4_dc01_11eb_aeed_d03041285643row9_col6,#T_509171f4_dc01_11eb_aeed_d03041285643row10_col0,#T_509171f4_dc01_11eb_aeed_d03041285643row10_col1,#T_509171f4_dc01_11eb_aeed_d03041285643row10_col2,#T_509171f4_dc01_11eb_aeed_d03041285643row10_col3,#T_509171f4_dc01_11eb_aeed_d03041285643row10_col4,#T_509171f4_dc01_11eb_aeed_d03041285643row10_col5,#T_509171f4_dc01_11eb_aeed_d03041285643row10_col6,#T_509171f4_dc01_11eb_aeed_d03041285643row11_col0,#T_509171f4_dc01_11eb_aeed_d03041285643row11_col1,#T_509171f4_dc01_11eb_aeed_d03041285643row11_col2,#T_509171f4_dc01_11eb_aeed_d03041285643row11_col3,#T_509171f4_dc01_11eb_aeed_d03041285643row11_col4,#T_509171f4_dc01_11eb_aeed_d03041285643row11_col5,#T_509171f4_dc01_11eb_aeed_d03041285643row11_col6,#T_509171f4_dc01_11eb_aeed_d03041285643row12_col0,#T_509171f4_dc01_11eb_aeed_d03041285643row12_col1,#T_509171f4_dc01_11eb_aeed_d03041285643row12_col2,#T_509171f4_dc01_11eb_aeed_d03041285643row12_col3,#T_509171f4_dc01_11eb_aeed_d03041285643row12_col4,#T_509171f4_dc01_11eb_aeed_d03041285643row12_col5,#T_509171f4_dc01_11eb_aeed_d03041285643row12_col6,#T_509171f4_dc01_11eb_aeed_d03041285643row13_col0,#T_509171f4_dc01_11eb_aeed_d03041285643row13_col1,#T_509171f4_dc01_11eb_aeed_d03041285643row13_col2,#T_509171f4_dc01_11eb_aeed_d03041285643row13_col3,#T_509171f4_dc01_11eb_aeed_d03041285643row13_col4,#T_509171f4_dc01_11eb_aeed_d03041285643row13_col5,#T_509171f4_dc01_11eb_aeed_d03041285643row13_col6,#T_509171f4_dc01_11eb_aeed_d03041285643row14_col0,#T_509171f4_dc01_11eb_aeed_d03041285643row14_col1,#T_509171f4_dc01_11eb_aeed_d03041285643row14_col2,#T_509171f4_dc01_11eb_aeed_d03041285643row14_col3,#T_509171f4_dc01_11eb_aeed_d03041285643row14_col4,#T_509171f4_dc01_11eb_aeed_d03041285643row14_col5,#T_509171f4_dc01_11eb_aeed_d03041285643row14_col6,#T_509171f4_dc01_11eb_aeed_d03041285643row15_col0,#T_509171f4_dc01_11eb_aeed_d03041285643row15_col1,#T_509171f4_dc01_11eb_aeed_d03041285643row15_col2,#T_509171f4_dc01_11eb_aeed_d03041285643row15_col3,#T_509171f4_dc01_11eb_aeed_d03041285643row15_col4,#T_509171f4_dc01_11eb_aeed_d03041285643row15_col5,#T_509171f4_dc01_11eb_aeed_d03041285643row15_col6,#T_509171f4_dc01_11eb_aeed_d03041285643row16_col0,#T_509171f4_dc01_11eb_aeed_d03041285643row16_col1,#T_509171f4_dc01_11eb_aeed_d03041285643row16_col2,#T_509171f4_dc01_11eb_aeed_d03041285643row16_col3,#T_509171f4_dc01_11eb_aeed_d03041285643row16_col4,#T_509171f4_dc01_11eb_aeed_d03041285643row16_col5,#T_509171f4_dc01_11eb_aeed_d03041285643row16_col6,#T_509171f4_dc01_11eb_aeed_d03041285643row17_col0,#T_509171f4_dc01_11eb_aeed_d03041285643row17_col1,#T_509171f4_dc01_11eb_aeed_d03041285643row17_col2,#T_509171f4_dc01_11eb_aeed_d03041285643row17_col3,#T_509171f4_dc01_11eb_aeed_d03041285643row17_col4,#T_509171f4_dc01_11eb_aeed_d03041285643row17_col5,#T_509171f4_dc01_11eb_aeed_d03041285643row17_col6,#T_509171f4_dc01_11eb_aeed_d03041285643row18_col0,#T_509171f4_dc01_11eb_aeed_d03041285643row18_col1,#T_509171f4_dc01_11eb_aeed_d03041285643row18_col2,#T_509171f4_dc01_11eb_aeed_d03041285643row18_col3,#T_509171f4_dc01_11eb_aeed_d03041285643row18_col4,#T_509171f4_dc01_11eb_aeed_d03041285643row18_col5,#T_509171f4_dc01_11eb_aeed_d03041285643row18_col6{\n",
       "            text-align:  left;\n",
       "            text-align:  left;\n",
       "        }#T_509171f4_dc01_11eb_aeed_d03041285643row0_col2,#T_509171f4_dc01_11eb_aeed_d03041285643row0_col3,#T_509171f4_dc01_11eb_aeed_d03041285643row0_col4,#T_509171f4_dc01_11eb_aeed_d03041285643row0_col5,#T_509171f4_dc01_11eb_aeed_d03041285643row1_col1,#T_509171f4_dc01_11eb_aeed_d03041285643row1_col6{\n",
       "            text-align:  left;\n",
       "            text-align:  left;\n",
       "            background-color:  yellow;\n",
       "        }#T_509171f4_dc01_11eb_aeed_d03041285643row0_col7,#T_509171f4_dc01_11eb_aeed_d03041285643row1_col7,#T_509171f4_dc01_11eb_aeed_d03041285643row2_col7,#T_509171f4_dc01_11eb_aeed_d03041285643row3_col7,#T_509171f4_dc01_11eb_aeed_d03041285643row4_col7,#T_509171f4_dc01_11eb_aeed_d03041285643row5_col7,#T_509171f4_dc01_11eb_aeed_d03041285643row6_col7,#T_509171f4_dc01_11eb_aeed_d03041285643row7_col7,#T_509171f4_dc01_11eb_aeed_d03041285643row8_col7,#T_509171f4_dc01_11eb_aeed_d03041285643row9_col7,#T_509171f4_dc01_11eb_aeed_d03041285643row10_col7,#T_509171f4_dc01_11eb_aeed_d03041285643row12_col7,#T_509171f4_dc01_11eb_aeed_d03041285643row13_col7,#T_509171f4_dc01_11eb_aeed_d03041285643row14_col7,#T_509171f4_dc01_11eb_aeed_d03041285643row17_col7,#T_509171f4_dc01_11eb_aeed_d03041285643row18_col7{\n",
       "            text-align:  left;\n",
       "            text-align:  left;\n",
       "            background-color:  lightgrey;\n",
       "        }#T_509171f4_dc01_11eb_aeed_d03041285643row11_col7,#T_509171f4_dc01_11eb_aeed_d03041285643row15_col7,#T_509171f4_dc01_11eb_aeed_d03041285643row16_col7{\n",
       "            text-align:  left;\n",
       "            text-align:  left;\n",
       "            background-color:  yellow;\n",
       "            background-color:  lightgrey;\n",
       "        }</style><table id=\"T_509171f4_dc01_11eb_aeed_d03041285643\" ><thead>    <tr>        <th class=\"blank level0\" ></th>        <th class=\"col_heading level0 col0\" >Model</th>        <th class=\"col_heading level0 col1\" >MAE</th>        <th class=\"col_heading level0 col2\" >MSE</th>        <th class=\"col_heading level0 col3\" >RMSE</th>        <th class=\"col_heading level0 col4\" >R2</th>        <th class=\"col_heading level0 col5\" >RMSLE</th>        <th class=\"col_heading level0 col6\" >MAPE</th>        <th class=\"col_heading level0 col7\" >TT (Sec)</th>    </tr></thead><tbody>\n",
       "                <tr>\n",
       "                        <th id=\"T_509171f4_dc01_11eb_aeed_d03041285643level0_row0\" class=\"row_heading level0 row0\" >rf</th>\n",
       "                        <td id=\"T_509171f4_dc01_11eb_aeed_d03041285643row0_col0\" class=\"data row0 col0\" >Random Forest Regressor</td>\n",
       "                        <td id=\"T_509171f4_dc01_11eb_aeed_d03041285643row0_col1\" class=\"data row0 col1\" >0.4693</td>\n",
       "                        <td id=\"T_509171f4_dc01_11eb_aeed_d03041285643row0_col2\" class=\"data row0 col2\" >0.7874</td>\n",
       "                        <td id=\"T_509171f4_dc01_11eb_aeed_d03041285643row0_col3\" class=\"data row0 col3\" >0.8860</td>\n",
       "                        <td id=\"T_509171f4_dc01_11eb_aeed_d03041285643row0_col4\" class=\"data row0 col4\" >0.6615</td>\n",
       "                        <td id=\"T_509171f4_dc01_11eb_aeed_d03041285643row0_col5\" class=\"data row0 col5\" >0.1048</td>\n",
       "                        <td id=\"T_509171f4_dc01_11eb_aeed_d03041285643row0_col6\" class=\"data row0 col6\" >0.0626</td>\n",
       "                        <td id=\"T_509171f4_dc01_11eb_aeed_d03041285643row0_col7\" class=\"data row0 col7\" >5.6450</td>\n",
       "            </tr>\n",
       "            <tr>\n",
       "                        <th id=\"T_509171f4_dc01_11eb_aeed_d03041285643level0_row1\" class=\"row_heading level0 row1\" >et</th>\n",
       "                        <td id=\"T_509171f4_dc01_11eb_aeed_d03041285643row1_col0\" class=\"data row1 col0\" >Extra Trees Regressor</td>\n",
       "                        <td id=\"T_509171f4_dc01_11eb_aeed_d03041285643row1_col1\" class=\"data row1 col1\" >0.4592</td>\n",
       "                        <td id=\"T_509171f4_dc01_11eb_aeed_d03041285643row1_col2\" class=\"data row1 col2\" >0.8770</td>\n",
       "                        <td id=\"T_509171f4_dc01_11eb_aeed_d03041285643row1_col3\" class=\"data row1 col3\" >0.9351</td>\n",
       "                        <td id=\"T_509171f4_dc01_11eb_aeed_d03041285643row1_col4\" class=\"data row1 col4\" >0.6228</td>\n",
       "                        <td id=\"T_509171f4_dc01_11eb_aeed_d03041285643row1_col5\" class=\"data row1 col5\" >0.1100</td>\n",
       "                        <td id=\"T_509171f4_dc01_11eb_aeed_d03041285643row1_col6\" class=\"data row1 col6\" >0.0607</td>\n",
       "                        <td id=\"T_509171f4_dc01_11eb_aeed_d03041285643row1_col7\" class=\"data row1 col7\" >6.6260</td>\n",
       "            </tr>\n",
       "            <tr>\n",
       "                        <th id=\"T_509171f4_dc01_11eb_aeed_d03041285643level0_row2\" class=\"row_heading level0 row2\" >xgboost</th>\n",
       "                        <td id=\"T_509171f4_dc01_11eb_aeed_d03041285643row2_col0\" class=\"data row2 col0\" >Extreme Gradient Boosting</td>\n",
       "                        <td id=\"T_509171f4_dc01_11eb_aeed_d03041285643row2_col1\" class=\"data row2 col1\" >0.5715</td>\n",
       "                        <td id=\"T_509171f4_dc01_11eb_aeed_d03041285643row2_col2\" class=\"data row2 col2\" >0.8941</td>\n",
       "                        <td id=\"T_509171f4_dc01_11eb_aeed_d03041285643row2_col3\" class=\"data row2 col3\" >0.9443</td>\n",
       "                        <td id=\"T_509171f4_dc01_11eb_aeed_d03041285643row2_col4\" class=\"data row2 col4\" >0.6156</td>\n",
       "                        <td id=\"T_509171f4_dc01_11eb_aeed_d03041285643row2_col5\" class=\"data row2 col5\" >0.1112</td>\n",
       "                        <td id=\"T_509171f4_dc01_11eb_aeed_d03041285643row2_col6\" class=\"data row2 col6\" >0.0757</td>\n",
       "                        <td id=\"T_509171f4_dc01_11eb_aeed_d03041285643row2_col7\" class=\"data row2 col7\" >2.5120</td>\n",
       "            </tr>\n",
       "            <tr>\n",
       "                        <th id=\"T_509171f4_dc01_11eb_aeed_d03041285643level0_row3\" class=\"row_heading level0 row3\" >catboost</th>\n",
       "                        <td id=\"T_509171f4_dc01_11eb_aeed_d03041285643row3_col0\" class=\"data row3 col0\" >CatBoost Regressor</td>\n",
       "                        <td id=\"T_509171f4_dc01_11eb_aeed_d03041285643row3_col1\" class=\"data row3 col1\" >0.5934</td>\n",
       "                        <td id=\"T_509171f4_dc01_11eb_aeed_d03041285643row3_col2\" class=\"data row3 col2\" >0.9140</td>\n",
       "                        <td id=\"T_509171f4_dc01_11eb_aeed_d03041285643row3_col3\" class=\"data row3 col3\" >0.9550</td>\n",
       "                        <td id=\"T_509171f4_dc01_11eb_aeed_d03041285643row3_col4\" class=\"data row3 col4\" >0.6069</td>\n",
       "                        <td id=\"T_509171f4_dc01_11eb_aeed_d03041285643row3_col5\" class=\"data row3 col5\" >0.1134</td>\n",
       "                        <td id=\"T_509171f4_dc01_11eb_aeed_d03041285643row3_col6\" class=\"data row3 col6\" >0.0796</td>\n",
       "                        <td id=\"T_509171f4_dc01_11eb_aeed_d03041285643row3_col7\" class=\"data row3 col7\" >5.6680</td>\n",
       "            </tr>\n",
       "            <tr>\n",
       "                        <th id=\"T_509171f4_dc01_11eb_aeed_d03041285643level0_row4\" class=\"row_heading level0 row4\" >lightgbm</th>\n",
       "                        <td id=\"T_509171f4_dc01_11eb_aeed_d03041285643row4_col0\" class=\"data row4 col0\" >Light Gradient Boosting Machine</td>\n",
       "                        <td id=\"T_509171f4_dc01_11eb_aeed_d03041285643row4_col1\" class=\"data row4 col1\" >0.5956</td>\n",
       "                        <td id=\"T_509171f4_dc01_11eb_aeed_d03041285643row4_col2\" class=\"data row4 col2\" >0.9262</td>\n",
       "                        <td id=\"T_509171f4_dc01_11eb_aeed_d03041285643row4_col3\" class=\"data row4 col3\" >0.9612</td>\n",
       "                        <td id=\"T_509171f4_dc01_11eb_aeed_d03041285643row4_col4\" class=\"data row4 col4\" >0.6019</td>\n",
       "                        <td id=\"T_509171f4_dc01_11eb_aeed_d03041285643row4_col5\" class=\"data row4 col5\" >0.1143</td>\n",
       "                        <td id=\"T_509171f4_dc01_11eb_aeed_d03041285643row4_col6\" class=\"data row4 col6\" >0.0801</td>\n",
       "                        <td id=\"T_509171f4_dc01_11eb_aeed_d03041285643row4_col7\" class=\"data row4 col7\" >0.1660</td>\n",
       "            </tr>\n",
       "            <tr>\n",
       "                        <th id=\"T_509171f4_dc01_11eb_aeed_d03041285643level0_row5\" class=\"row_heading level0 row5\" >gbr</th>\n",
       "                        <td id=\"T_509171f4_dc01_11eb_aeed_d03041285643row5_col0\" class=\"data row5 col0\" >Gradient Boosting Regressor</td>\n",
       "                        <td id=\"T_509171f4_dc01_11eb_aeed_d03041285643row5_col1\" class=\"data row5 col1\" >0.7232</td>\n",
       "                        <td id=\"T_509171f4_dc01_11eb_aeed_d03041285643row5_col2\" class=\"data row5 col2\" >1.2051</td>\n",
       "                        <td id=\"T_509171f4_dc01_11eb_aeed_d03041285643row5_col3\" class=\"data row5 col3\" >1.0968</td>\n",
       "                        <td id=\"T_509171f4_dc01_11eb_aeed_d03041285643row5_col4\" class=\"data row5 col4\" >0.4816</td>\n",
       "                        <td id=\"T_509171f4_dc01_11eb_aeed_d03041285643row5_col5\" class=\"data row5 col5\" >0.1298</td>\n",
       "                        <td id=\"T_509171f4_dc01_11eb_aeed_d03041285643row5_col6\" class=\"data row5 col6\" >0.0975</td>\n",
       "                        <td id=\"T_509171f4_dc01_11eb_aeed_d03041285643row5_col7\" class=\"data row5 col7\" >1.5300</td>\n",
       "            </tr>\n",
       "            <tr>\n",
       "                        <th id=\"T_509171f4_dc01_11eb_aeed_d03041285643level0_row6\" class=\"row_heading level0 row6\" >knn</th>\n",
       "                        <td id=\"T_509171f4_dc01_11eb_aeed_d03041285643row6_col0\" class=\"data row6 col0\" >K Neighbors Regressor</td>\n",
       "                        <td id=\"T_509171f4_dc01_11eb_aeed_d03041285643row6_col1\" class=\"data row6 col1\" >0.6789</td>\n",
       "                        <td id=\"T_509171f4_dc01_11eb_aeed_d03041285643row6_col2\" class=\"data row6 col2\" >1.3016</td>\n",
       "                        <td id=\"T_509171f4_dc01_11eb_aeed_d03041285643row6_col3\" class=\"data row6 col3\" >1.1401</td>\n",
       "                        <td id=\"T_509171f4_dc01_11eb_aeed_d03041285643row6_col4\" class=\"data row6 col4\" >0.4394</td>\n",
       "                        <td id=\"T_509171f4_dc01_11eb_aeed_d03041285643row6_col5\" class=\"data row6 col5\" >0.1308</td>\n",
       "                        <td id=\"T_509171f4_dc01_11eb_aeed_d03041285643row6_col6\" class=\"data row6 col6\" >0.0875</td>\n",
       "                        <td id=\"T_509171f4_dc01_11eb_aeed_d03041285643row6_col7\" class=\"data row6 col7\" >0.3950</td>\n",
       "            </tr>\n",
       "            <tr>\n",
       "                        <th id=\"T_509171f4_dc01_11eb_aeed_d03041285643level0_row7\" class=\"row_heading level0 row7\" >dt</th>\n",
       "                        <td id=\"T_509171f4_dc01_11eb_aeed_d03041285643row7_col0\" class=\"data row7 col0\" >Decision Tree Regressor</td>\n",
       "                        <td id=\"T_509171f4_dc01_11eb_aeed_d03041285643row7_col1\" class=\"data row7 col1\" >0.5746</td>\n",
       "                        <td id=\"T_509171f4_dc01_11eb_aeed_d03041285643row7_col2\" class=\"data row7 col2\" >1.4893</td>\n",
       "                        <td id=\"T_509171f4_dc01_11eb_aeed_d03041285643row7_col3\" class=\"data row7 col3\" >1.2188</td>\n",
       "                        <td id=\"T_509171f4_dc01_11eb_aeed_d03041285643row7_col4\" class=\"data row7 col4\" >0.3582</td>\n",
       "                        <td id=\"T_509171f4_dc01_11eb_aeed_d03041285643row7_col5\" class=\"data row7 col5\" >0.1456</td>\n",
       "                        <td id=\"T_509171f4_dc01_11eb_aeed_d03041285643row7_col6\" class=\"data row7 col6\" >0.0741</td>\n",
       "                        <td id=\"T_509171f4_dc01_11eb_aeed_d03041285643row7_col7\" class=\"data row7 col7\" >0.1240</td>\n",
       "            </tr>\n",
       "            <tr>\n",
       "                        <th id=\"T_509171f4_dc01_11eb_aeed_d03041285643level0_row8\" class=\"row_heading level0 row8\" >br</th>\n",
       "                        <td id=\"T_509171f4_dc01_11eb_aeed_d03041285643row8_col0\" class=\"data row8 col0\" >Bayesian Ridge</td>\n",
       "                        <td id=\"T_509171f4_dc01_11eb_aeed_d03041285643row8_col1\" class=\"data row8 col1\" >0.8814</td>\n",
       "                        <td id=\"T_509171f4_dc01_11eb_aeed_d03041285643row8_col2\" class=\"data row8 col2\" >1.5500</td>\n",
       "                        <td id=\"T_509171f4_dc01_11eb_aeed_d03041285643row8_col3\" class=\"data row8 col3\" >1.2444</td>\n",
       "                        <td id=\"T_509171f4_dc01_11eb_aeed_d03041285643row8_col4\" class=\"data row8 col4\" >0.3327</td>\n",
       "                        <td id=\"T_509171f4_dc01_11eb_aeed_d03041285643row8_col5\" class=\"data row8 col5\" >0.1452</td>\n",
       "                        <td id=\"T_509171f4_dc01_11eb_aeed_d03041285643row8_col6\" class=\"data row8 col6\" >0.1170</td>\n",
       "                        <td id=\"T_509171f4_dc01_11eb_aeed_d03041285643row8_col7\" class=\"data row8 col7\" >0.0830</td>\n",
       "            </tr>\n",
       "            <tr>\n",
       "                        <th id=\"T_509171f4_dc01_11eb_aeed_d03041285643level0_row9\" class=\"row_heading level0 row9\" >ridge</th>\n",
       "                        <td id=\"T_509171f4_dc01_11eb_aeed_d03041285643row9_col0\" class=\"data row9 col0\" >Ridge Regression</td>\n",
       "                        <td id=\"T_509171f4_dc01_11eb_aeed_d03041285643row9_col1\" class=\"data row9 col1\" >0.8820</td>\n",
       "                        <td id=\"T_509171f4_dc01_11eb_aeed_d03041285643row9_col2\" class=\"data row9 col2\" >1.5512</td>\n",
       "                        <td id=\"T_509171f4_dc01_11eb_aeed_d03041285643row9_col3\" class=\"data row9 col3\" >1.2449</td>\n",
       "                        <td id=\"T_509171f4_dc01_11eb_aeed_d03041285643row9_col4\" class=\"data row9 col4\" >0.3322</td>\n",
       "                        <td id=\"T_509171f4_dc01_11eb_aeed_d03041285643row9_col5\" class=\"data row9 col5\" >0.1452</td>\n",
       "                        <td id=\"T_509171f4_dc01_11eb_aeed_d03041285643row9_col6\" class=\"data row9 col6\" >0.1170</td>\n",
       "                        <td id=\"T_509171f4_dc01_11eb_aeed_d03041285643row9_col7\" class=\"data row9 col7\" >0.0450</td>\n",
       "            </tr>\n",
       "            <tr>\n",
       "                        <th id=\"T_509171f4_dc01_11eb_aeed_d03041285643level0_row10\" class=\"row_heading level0 row10\" >lr</th>\n",
       "                        <td id=\"T_509171f4_dc01_11eb_aeed_d03041285643row10_col0\" class=\"data row10 col0\" >Linear Regression</td>\n",
       "                        <td id=\"T_509171f4_dc01_11eb_aeed_d03041285643row10_col1\" class=\"data row10 col1\" >0.8821</td>\n",
       "                        <td id=\"T_509171f4_dc01_11eb_aeed_d03041285643row10_col2\" class=\"data row10 col2\" >1.5517</td>\n",
       "                        <td id=\"T_509171f4_dc01_11eb_aeed_d03041285643row10_col3\" class=\"data row10 col3\" >1.2451</td>\n",
       "                        <td id=\"T_509171f4_dc01_11eb_aeed_d03041285643row10_col4\" class=\"data row10 col4\" >0.3320</td>\n",
       "                        <td id=\"T_509171f4_dc01_11eb_aeed_d03041285643row10_col5\" class=\"data row10 col5\" >0.1452</td>\n",
       "                        <td id=\"T_509171f4_dc01_11eb_aeed_d03041285643row10_col6\" class=\"data row10 col6\" >0.1170</td>\n",
       "                        <td id=\"T_509171f4_dc01_11eb_aeed_d03041285643row10_col7\" class=\"data row10 col7\" >1.0680</td>\n",
       "            </tr>\n",
       "            <tr>\n",
       "                        <th id=\"T_509171f4_dc01_11eb_aeed_d03041285643level0_row11\" class=\"row_heading level0 row11\" >omp</th>\n",
       "                        <td id=\"T_509171f4_dc01_11eb_aeed_d03041285643row11_col0\" class=\"data row11 col0\" >Orthogonal Matching Pursuit</td>\n",
       "                        <td id=\"T_509171f4_dc01_11eb_aeed_d03041285643row11_col1\" class=\"data row11 col1\" >0.9339</td>\n",
       "                        <td id=\"T_509171f4_dc01_11eb_aeed_d03041285643row11_col2\" class=\"data row11 col2\" >1.6585</td>\n",
       "                        <td id=\"T_509171f4_dc01_11eb_aeed_d03041285643row11_col3\" class=\"data row11 col3\" >1.2874</td>\n",
       "                        <td id=\"T_509171f4_dc01_11eb_aeed_d03041285643row11_col4\" class=\"data row11 col4\" >0.2858</td>\n",
       "                        <td id=\"T_509171f4_dc01_11eb_aeed_d03041285643row11_col5\" class=\"data row11 col5\" >0.1491</td>\n",
       "                        <td id=\"T_509171f4_dc01_11eb_aeed_d03041285643row11_col6\" class=\"data row11 col6\" >0.1228</td>\n",
       "                        <td id=\"T_509171f4_dc01_11eb_aeed_d03041285643row11_col7\" class=\"data row11 col7\" >0.0410</td>\n",
       "            </tr>\n",
       "            <tr>\n",
       "                        <th id=\"T_509171f4_dc01_11eb_aeed_d03041285643level0_row12\" class=\"row_heading level0 row12\" >ada</th>\n",
       "                        <td id=\"T_509171f4_dc01_11eb_aeed_d03041285643row12_col0\" class=\"data row12 col0\" >AdaBoost Regressor</td>\n",
       "                        <td id=\"T_509171f4_dc01_11eb_aeed_d03041285643row12_col1\" class=\"data row12 col1\" >1.0738</td>\n",
       "                        <td id=\"T_509171f4_dc01_11eb_aeed_d03041285643row12_col2\" class=\"data row12 col2\" >1.8281</td>\n",
       "                        <td id=\"T_509171f4_dc01_11eb_aeed_d03041285643row12_col3\" class=\"data row12 col3\" >1.3512</td>\n",
       "                        <td id=\"T_509171f4_dc01_11eb_aeed_d03041285643row12_col4\" class=\"data row12 col4\" >0.2111</td>\n",
       "                        <td id=\"T_509171f4_dc01_11eb_aeed_d03041285643row12_col5\" class=\"data row12 col5\" >0.1519</td>\n",
       "                        <td id=\"T_509171f4_dc01_11eb_aeed_d03041285643row12_col6\" class=\"data row12 col6\" >0.1331</td>\n",
       "                        <td id=\"T_509171f4_dc01_11eb_aeed_d03041285643row12_col7\" class=\"data row12 col7\" >0.6360</td>\n",
       "            </tr>\n",
       "            <tr>\n",
       "                        <th id=\"T_509171f4_dc01_11eb_aeed_d03041285643level0_row13\" class=\"row_heading level0 row13\" >huber</th>\n",
       "                        <td id=\"T_509171f4_dc01_11eb_aeed_d03041285643row13_col0\" class=\"data row13 col0\" >Huber Regressor</td>\n",
       "                        <td id=\"T_509171f4_dc01_11eb_aeed_d03041285643row13_col1\" class=\"data row13 col1\" >1.0165</td>\n",
       "                        <td id=\"T_509171f4_dc01_11eb_aeed_d03041285643row13_col2\" class=\"data row13 col2\" >2.0698</td>\n",
       "                        <td id=\"T_509171f4_dc01_11eb_aeed_d03041285643row13_col3\" class=\"data row13 col3\" >1.4380</td>\n",
       "                        <td id=\"T_509171f4_dc01_11eb_aeed_d03041285643row13_col4\" class=\"data row13 col4\" >0.1085</td>\n",
       "                        <td id=\"T_509171f4_dc01_11eb_aeed_d03041285643row13_col5\" class=\"data row13 col5\" >0.1647</td>\n",
       "                        <td id=\"T_509171f4_dc01_11eb_aeed_d03041285643row13_col6\" class=\"data row13 col6\" >0.1348</td>\n",
       "                        <td id=\"T_509171f4_dc01_11eb_aeed_d03041285643row13_col7\" class=\"data row13 col7\" >0.7310</td>\n",
       "            </tr>\n",
       "            <tr>\n",
       "                        <th id=\"T_509171f4_dc01_11eb_aeed_d03041285643level0_row14\" class=\"row_heading level0 row14\" >lasso</th>\n",
       "                        <td id=\"T_509171f4_dc01_11eb_aeed_d03041285643row14_col0\" class=\"data row14 col0\" >Lasso Regression</td>\n",
       "                        <td id=\"T_509171f4_dc01_11eb_aeed_d03041285643row14_col1\" class=\"data row14 col1\" >1.1527</td>\n",
       "                        <td id=\"T_509171f4_dc01_11eb_aeed_d03041285643row14_col2\" class=\"data row14 col2\" >2.3131</td>\n",
       "                        <td id=\"T_509171f4_dc01_11eb_aeed_d03041285643row14_col3\" class=\"data row14 col3\" >1.5205</td>\n",
       "                        <td id=\"T_509171f4_dc01_11eb_aeed_d03041285643row14_col4\" class=\"data row14 col4\" >0.0037</td>\n",
       "                        <td id=\"T_509171f4_dc01_11eb_aeed_d03041285643row14_col5\" class=\"data row14 col5\" >0.1727</td>\n",
       "                        <td id=\"T_509171f4_dc01_11eb_aeed_d03041285643row14_col6\" class=\"data row14 col6\" >0.1517</td>\n",
       "                        <td id=\"T_509171f4_dc01_11eb_aeed_d03041285643row14_col7\" class=\"data row14 col7\" >0.0450</td>\n",
       "            </tr>\n",
       "            <tr>\n",
       "                        <th id=\"T_509171f4_dc01_11eb_aeed_d03041285643level0_row15\" class=\"row_heading level0 row15\" >en</th>\n",
       "                        <td id=\"T_509171f4_dc01_11eb_aeed_d03041285643row15_col0\" class=\"data row15 col0\" >Elastic Net</td>\n",
       "                        <td id=\"T_509171f4_dc01_11eb_aeed_d03041285643row15_col1\" class=\"data row15 col1\" >1.1527</td>\n",
       "                        <td id=\"T_509171f4_dc01_11eb_aeed_d03041285643row15_col2\" class=\"data row15 col2\" >2.3131</td>\n",
       "                        <td id=\"T_509171f4_dc01_11eb_aeed_d03041285643row15_col3\" class=\"data row15 col3\" >1.5205</td>\n",
       "                        <td id=\"T_509171f4_dc01_11eb_aeed_d03041285643row15_col4\" class=\"data row15 col4\" >0.0037</td>\n",
       "                        <td id=\"T_509171f4_dc01_11eb_aeed_d03041285643row15_col5\" class=\"data row15 col5\" >0.1727</td>\n",
       "                        <td id=\"T_509171f4_dc01_11eb_aeed_d03041285643row15_col6\" class=\"data row15 col6\" >0.1517</td>\n",
       "                        <td id=\"T_509171f4_dc01_11eb_aeed_d03041285643row15_col7\" class=\"data row15 col7\" >0.0410</td>\n",
       "            </tr>\n",
       "            <tr>\n",
       "                        <th id=\"T_509171f4_dc01_11eb_aeed_d03041285643level0_row16\" class=\"row_heading level0 row16\" >llar</th>\n",
       "                        <td id=\"T_509171f4_dc01_11eb_aeed_d03041285643row16_col0\" class=\"data row16 col0\" >Lasso Least Angle Regression</td>\n",
       "                        <td id=\"T_509171f4_dc01_11eb_aeed_d03041285643row16_col1\" class=\"data row16 col1\" >1.1553</td>\n",
       "                        <td id=\"T_509171f4_dc01_11eb_aeed_d03041285643row16_col2\" class=\"data row16 col2\" >2.3234</td>\n",
       "                        <td id=\"T_509171f4_dc01_11eb_aeed_d03041285643row16_col3\" class=\"data row16 col3\" >1.5239</td>\n",
       "                        <td id=\"T_509171f4_dc01_11eb_aeed_d03041285643row16_col4\" class=\"data row16 col4\" >-0.0007</td>\n",
       "                        <td id=\"T_509171f4_dc01_11eb_aeed_d03041285643row16_col5\" class=\"data row16 col5\" >0.1731</td>\n",
       "                        <td id=\"T_509171f4_dc01_11eb_aeed_d03041285643row16_col6\" class=\"data row16 col6\" >0.1522</td>\n",
       "                        <td id=\"T_509171f4_dc01_11eb_aeed_d03041285643row16_col7\" class=\"data row16 col7\" >0.0410</td>\n",
       "            </tr>\n",
       "            <tr>\n",
       "                        <th id=\"T_509171f4_dc01_11eb_aeed_d03041285643level0_row17\" class=\"row_heading level0 row17\" >par</th>\n",
       "                        <td id=\"T_509171f4_dc01_11eb_aeed_d03041285643row17_col0\" class=\"data row17 col0\" >Passive Aggressive Regressor</td>\n",
       "                        <td id=\"T_509171f4_dc01_11eb_aeed_d03041285643row17_col1\" class=\"data row17 col1\" >2.1988</td>\n",
       "                        <td id=\"T_509171f4_dc01_11eb_aeed_d03041285643row17_col2\" class=\"data row17 col2\" >7.9220</td>\n",
       "                        <td id=\"T_509171f4_dc01_11eb_aeed_d03041285643row17_col3\" class=\"data row17 col3\" >2.7948</td>\n",
       "                        <td id=\"T_509171f4_dc01_11eb_aeed_d03041285643row17_col4\" class=\"data row17 col4\" >-2.4020</td>\n",
       "                        <td id=\"T_509171f4_dc01_11eb_aeed_d03041285643row17_col5\" class=\"data row17 col5\" >0.3144</td>\n",
       "                        <td id=\"T_509171f4_dc01_11eb_aeed_d03041285643row17_col6\" class=\"data row17 col6\" >0.2533</td>\n",
       "                        <td id=\"T_509171f4_dc01_11eb_aeed_d03041285643row17_col7\" class=\"data row17 col7\" >0.0520</td>\n",
       "            </tr>\n",
       "            <tr>\n",
       "                        <th id=\"T_509171f4_dc01_11eb_aeed_d03041285643level0_row18\" class=\"row_heading level0 row18\" >lar</th>\n",
       "                        <td id=\"T_509171f4_dc01_11eb_aeed_d03041285643row18_col0\" class=\"data row18 col0\" >Least Angle Regression</td>\n",
       "                        <td id=\"T_509171f4_dc01_11eb_aeed_d03041285643row18_col1\" class=\"data row18 col1\" >10868.7868</td>\n",
       "                        <td id=\"T_509171f4_dc01_11eb_aeed_d03041285643row18_col2\" class=\"data row18 col2\" >14833949929.6804</td>\n",
       "                        <td id=\"T_509171f4_dc01_11eb_aeed_d03041285643row18_col3\" class=\"data row18 col3\" >45087.4436</td>\n",
       "                        <td id=\"T_509171f4_dc01_11eb_aeed_d03041285643row18_col4\" class=\"data row18 col4\" >-6640265965.2309</td>\n",
       "                        <td id=\"T_509171f4_dc01_11eb_aeed_d03041285643row18_col5\" class=\"data row18 col5\" >2.3864</td>\n",
       "                        <td id=\"T_509171f4_dc01_11eb_aeed_d03041285643row18_col6\" class=\"data row18 col6\" >1232.6828</td>\n",
       "                        <td id=\"T_509171f4_dc01_11eb_aeed_d03041285643row18_col7\" class=\"data row18 col7\" >0.0540</td>\n",
       "            </tr>\n",
       "    </tbody></table>"
      ],
      "text/plain": [
       "<pandas.io.formats.style.Styler at 0x1b4dd1d0>"
      ]
     },
     "metadata": {},
     "output_type": "display_data"
    },
    {
     "data": {
      "text/plain": [
       "RandomForestRegressor(bootstrap=True, ccp_alpha=0.0, criterion='mse',\n",
       "                      max_depth=None, max_features='auto', max_leaf_nodes=None,\n",
       "                      max_samples=None, min_impurity_decrease=0.0,\n",
       "                      min_impurity_split=None, min_samples_leaf=1,\n",
       "                      min_samples_split=2, min_weight_fraction_leaf=0.0,\n",
       "                      n_estimators=100, n_jobs=-1, oob_score=False,\n",
       "                      random_state=2614, verbose=0, warm_start=False)"
      ]
     },
     "execution_count": 423,
     "metadata": {},
     "output_type": "execute_result"
    }
   ],
   "source": [
    "compare_models()"
   ]
  },
  {
   "cell_type": "code",
   "execution_count": 218,
   "metadata": {},
   "outputs": [
    {
     "name": "stdout",
     "output_type": "stream",
     "text": [
      "Object `pycaret.regression.tune_model` not found.\n"
     ]
    }
   ],
   "source": [
    "?pycaret.regression.tune_model"
   ]
  },
  {
   "cell_type": "code",
   "execution_count": 215,
   "metadata": {},
   "outputs": [
    {
     "ename": "AttributeError",
     "evalue": "module 'pycaret' has no attribute 'regression'",
     "output_type": "error",
     "traceback": [
      "\u001b[1;31m---------------------------------------------------------------------------\u001b[0m",
      "\u001b[1;31mAttributeError\u001b[0m                            Traceback (most recent call last)",
      "\u001b[1;32m<ipython-input-215-791439b00046>\u001b[0m in \u001b[0;36m<module>\u001b[1;34m\u001b[0m\n\u001b[1;32m----> 1\u001b[1;33m \u001b[0mrf\u001b[0m \u001b[1;33m=\u001b[0m \u001b[0mpycaret\u001b[0m\u001b[1;33m.\u001b[0m\u001b[0mregression\u001b[0m\u001b[1;33m.\u001b[0m\u001b[0mcreate_model\u001b[0m\u001b[1;33m(\u001b[0m\u001b[1;34m'rf'\u001b[0m\u001b[1;33m)\u001b[0m\u001b[1;33m\u001b[0m\u001b[1;33m\u001b[0m\u001b[0m\n\u001b[0m\u001b[0;32m      2\u001b[0m \u001b[0mtuned_rf\u001b[0m \u001b[1;33m=\u001b[0m \u001b[0mpycaret\u001b[0m\u001b[1;33m.\u001b[0m\u001b[0mregression\u001b[0m\u001b[1;33m.\u001b[0m\u001b[0mtune_model\u001b[0m\u001b[1;33m(\u001b[0m\u001b[0mrf\u001b[0m\u001b[1;33m)\u001b[0m\u001b[1;33m\u001b[0m\u001b[1;33m\u001b[0m\u001b[0m\n",
      "\u001b[1;31mAttributeError\u001b[0m: module 'pycaret' has no attribute 'regression'"
     ]
    }
   ],
   "source": [
    "rf = pycaret.regression.create_model('rf')\n",
    "tuned_rf = pycaret.regression.tune_model(rf)"
   ]
  },
  {
   "cell_type": "code",
   "execution_count": null,
   "metadata": {},
   "outputs": [],
   "source": [
    "pycaret.regression.predict_model(tuned_rf)"
   ]
  },
  {
   "cell_type": "markdown",
   "metadata": {},
   "source": [
    "---"
   ]
  },
  {
   "cell_type": "code",
   "execution_count": 221,
   "metadata": {},
   "outputs": [
    {
     "data": {
      "text/html": [
       "<div>\n",
       "<style scoped>\n",
       "    .dataframe tbody tr th:only-of-type {\n",
       "        vertical-align: middle;\n",
       "    }\n",
       "\n",
       "    .dataframe tbody tr th {\n",
       "        vertical-align: top;\n",
       "    }\n",
       "\n",
       "    .dataframe thead th {\n",
       "        text-align: right;\n",
       "    }\n",
       "</style>\n",
       "<table border=\"1\" class=\"dataframe\">\n",
       "  <thead>\n",
       "    <tr style=\"text-align: right;\">\n",
       "      <th></th>\n",
       "      <th>Levy</th>\n",
       "      <th>Manufacturer</th>\n",
       "      <th>Model</th>\n",
       "      <th>Prod. year</th>\n",
       "      <th>Category</th>\n",
       "      <th>Leather interior</th>\n",
       "      <th>Fuel type</th>\n",
       "      <th>Engine volume</th>\n",
       "      <th>Mileage</th>\n",
       "      <th>Cylinders</th>\n",
       "      <th>Gear box type</th>\n",
       "      <th>Drive wheels</th>\n",
       "      <th>Doors</th>\n",
       "      <th>Wheel</th>\n",
       "      <th>Color</th>\n",
       "      <th>Airbags</th>\n",
       "      <th>Price</th>\n",
       "      <th>isLevied</th>\n",
       "    </tr>\n",
       "  </thead>\n",
       "  <tbody>\n",
       "    <tr>\n",
       "      <th>0</th>\n",
       "      <td>0</td>\n",
       "      <td>VOLKSWAGEN</td>\n",
       "      <td>Golf</td>\n",
       "      <td>2012</td>\n",
       "      <td>Hatchback</td>\n",
       "      <td>No</td>\n",
       "      <td>Diesel</td>\n",
       "      <td>2.0</td>\n",
       "      <td>0.000000</td>\n",
       "      <td>4</td>\n",
       "      <td>Manual</td>\n",
       "      <td>Front</td>\n",
       "      <td>02-Mar</td>\n",
       "      <td>Left wheel</td>\n",
       "      <td>Grey</td>\n",
       "      <td>10</td>\n",
       "      <td>NaN</td>\n",
       "      <td>0</td>\n",
       "    </tr>\n",
       "    <tr>\n",
       "      <th>1</th>\n",
       "      <td>0</td>\n",
       "      <td>HYUNDAI</td>\n",
       "      <td>Sonata</td>\n",
       "      <td>2012</td>\n",
       "      <td>Sedan</td>\n",
       "      <td>Yes</td>\n",
       "      <td>Petrol</td>\n",
       "      <td>2.4</td>\n",
       "      <td>10.165890</td>\n",
       "      <td>4</td>\n",
       "      <td>Tiptronic</td>\n",
       "      <td>Front</td>\n",
       "      <td>4-May</td>\n",
       "      <td>Left wheel</td>\n",
       "      <td>Grey</td>\n",
       "      <td>10</td>\n",
       "      <td>NaN</td>\n",
       "      <td>0</td>\n",
       "    </tr>\n",
       "    <tr>\n",
       "      <th>2</th>\n",
       "      <td>0</td>\n",
       "      <td>NISSAN</td>\n",
       "      <td>Tiida</td>\n",
       "      <td>2005</td>\n",
       "      <td>Sedan</td>\n",
       "      <td>No</td>\n",
       "      <td>Petrol</td>\n",
       "      <td>1.5</td>\n",
       "      <td>12.031725</td>\n",
       "      <td>4</td>\n",
       "      <td>Automatic</td>\n",
       "      <td>Front</td>\n",
       "      <td>4-May</td>\n",
       "      <td>Right-hand drive</td>\n",
       "      <td>Sky blue</td>\n",
       "      <td>8</td>\n",
       "      <td>NaN</td>\n",
       "      <td>0</td>\n",
       "    </tr>\n",
       "    <tr>\n",
       "      <th>3</th>\n",
       "      <td>975</td>\n",
       "      <td>Other</td>\n",
       "      <td>XC90</td>\n",
       "      <td>2012</td>\n",
       "      <td>Jeep</td>\n",
       "      <td>Yes</td>\n",
       "      <td>Petrol</td>\n",
       "      <td>3.2</td>\n",
       "      <td>11.870607</td>\n",
       "      <td>6</td>\n",
       "      <td>Automatic</td>\n",
       "      <td>4x4</td>\n",
       "      <td>4-May</td>\n",
       "      <td>Left wheel</td>\n",
       "      <td>Blue</td>\n",
       "      <td>12</td>\n",
       "      <td>NaN</td>\n",
       "      <td>1</td>\n",
       "    </tr>\n",
       "    <tr>\n",
       "      <th>4</th>\n",
       "      <td>0</td>\n",
       "      <td>OPEL</td>\n",
       "      <td>Astra</td>\n",
       "      <td>1993</td>\n",
       "      <td>Hatchback</td>\n",
       "      <td>No</td>\n",
       "      <td>Petrol</td>\n",
       "      <td>1.6</td>\n",
       "      <td>12.206078</td>\n",
       "      <td>4</td>\n",
       "      <td>Manual</td>\n",
       "      <td>Front</td>\n",
       "      <td>4-May</td>\n",
       "      <td>Left wheel</td>\n",
       "      <td>Black</td>\n",
       "      <td>0</td>\n",
       "      <td>NaN</td>\n",
       "      <td>0</td>\n",
       "    </tr>\n",
       "  </tbody>\n",
       "</table>\n",
       "</div>"
      ],
      "text/plain": [
       "   Levy Manufacturer   Model  Prod. year   Category Leather interior  \\\n",
       "0     0   VOLKSWAGEN    Golf        2012  Hatchback               No   \n",
       "1     0      HYUNDAI  Sonata        2012      Sedan              Yes   \n",
       "2     0       NISSAN   Tiida        2005      Sedan               No   \n",
       "3   975        Other    XC90        2012       Jeep              Yes   \n",
       "4     0         OPEL   Astra        1993  Hatchback               No   \n",
       "\n",
       "  Fuel type  Engine volume    Mileage  Cylinders Gear box type Drive wheels  \\\n",
       "0    Diesel            2.0   0.000000          4        Manual        Front   \n",
       "1    Petrol            2.4  10.165890          4     Tiptronic        Front   \n",
       "2    Petrol            1.5  12.031725          4     Automatic        Front   \n",
       "3    Petrol            3.2  11.870607          6     Automatic          4x4   \n",
       "4    Petrol            1.6  12.206078          4        Manual        Front   \n",
       "\n",
       "    Doors             Wheel     Color  Airbags  Price  isLevied  \n",
       "0  02-Mar        Left wheel      Grey       10    NaN         0  \n",
       "1   4-May        Left wheel      Grey       10    NaN         0  \n",
       "2   4-May  Right-hand drive  Sky blue        8    NaN         0  \n",
       "3   4-May        Left wheel      Blue       12    NaN         1  \n",
       "4   4-May        Left wheel     Black        0    NaN         0  "
      ]
     },
     "execution_count": 221,
     "metadata": {},
     "output_type": "execute_result"
    }
   ],
   "source": [
    "df_test.head()"
   ]
  },
  {
   "cell_type": "code",
   "execution_count": 276,
   "metadata": {},
   "outputs": [
    {
     "data": {
      "image/png": "[encoded data removed]",
      "text/plain": [
       "<Figure size 1152x288 with 1 Axes>"
      ]
     },
     "metadata": {
      "needs_background": "light"
     },
     "output_type": "display_data"
    }
   ],
   "source": [
    "plt.figure(figsize=(16, 4))\n",
    "sns.boxplot(y='Mileage', x='Prod. year', data=df_test)\n",
    "plt.xticks(rotation=45)\n",
    "plt.show()"
   ]
  },
  {
   "cell_type": "code",
   "execution_count": 278,
   "metadata": {},
   "outputs": [
    {
     "data": {
      "text/html": [
       "<div>\n",
       "<style scoped>\n",
       "    .dataframe tbody tr th:only-of-type {\n",
       "        vertical-align: middle;\n",
       "    }\n",
       "\n",
       "    .dataframe tbody tr th {\n",
       "        vertical-align: top;\n",
       "    }\n",
       "\n",
       "    .dataframe thead th {\n",
       "        text-align: right;\n",
       "    }\n",
       "</style>\n",
       "<table border=\"1\" class=\"dataframe\">\n",
       "  <thead>\n",
       "    <tr style=\"text-align: right;\">\n",
       "      <th></th>\n",
       "      <th>Levy</th>\n",
       "      <th>Prod. year</th>\n",
       "      <th>Engine volume</th>\n",
       "      <th>fixedMileage</th>\n",
       "      <th>Airbags</th>\n",
       "      <th>Cylinders</th>\n",
       "      <th>KMPerYear</th>\n",
       "      <th>isLevied</th>\n",
       "      <th>Manufacturer_BMW</th>\n",
       "      <th>Manufacturer_CHEVROLET</th>\n",
       "      <th>...</th>\n",
       "      <th>Color_Green</th>\n",
       "      <th>Color_Grey</th>\n",
       "      <th>Color_Orange</th>\n",
       "      <th>Color_Pink</th>\n",
       "      <th>Color_Purple</th>\n",
       "      <th>Color_Red</th>\n",
       "      <th>Color_Silver</th>\n",
       "      <th>Color_Sky blue</th>\n",
       "      <th>Color_White</th>\n",
       "      <th>Color_Yellow</th>\n",
       "    </tr>\n",
       "  </thead>\n",
       "  <tbody>\n",
       "    <tr>\n",
       "      <th>0</th>\n",
       "      <td>-1.436575</td>\n",
       "      <td>0.073255</td>\n",
       "      <td>-0.276372</td>\n",
       "      <td>-12.296204</td>\n",
       "      <td>0.793460</td>\n",
       "      <td>-0.487931</td>\n",
       "      <td>-14.727578</td>\n",
       "      <td>-1.526510</td>\n",
       "      <td>-0.240434</td>\n",
       "      <td>-0.241943</td>\n",
       "      <td>...</td>\n",
       "      <td>-0.131861</td>\n",
       "      <td>2.662885</td>\n",
       "      <td>-0.114749</td>\n",
       "      <td>-0.038689</td>\n",
       "      <td>-0.045648</td>\n",
       "      <td>-0.184387</td>\n",
       "      <td>-0.494226</td>\n",
       "      <td>-0.078814</td>\n",
       "      <td>-0.552001</td>\n",
       "      <td>-0.075402</td>\n",
       "    </tr>\n",
       "    <tr>\n",
       "      <th>1</th>\n",
       "      <td>-1.436575</td>\n",
       "      <td>0.073255</td>\n",
       "      <td>0.294579</td>\n",
       "      <td>-12.488878</td>\n",
       "      <td>0.793460</td>\n",
       "      <td>-0.487931</td>\n",
       "      <td>-14.957128</td>\n",
       "      <td>-1.526510</td>\n",
       "      <td>-0.240434</td>\n",
       "      <td>-0.241943</td>\n",
       "      <td>...</td>\n",
       "      <td>-0.131861</td>\n",
       "      <td>2.662885</td>\n",
       "      <td>-0.114749</td>\n",
       "      <td>-0.038689</td>\n",
       "      <td>-0.045648</td>\n",
       "      <td>-0.184387</td>\n",
       "      <td>-0.494226</td>\n",
       "      <td>-0.078814</td>\n",
       "      <td>-0.552001</td>\n",
       "      <td>-0.075402</td>\n",
       "    </tr>\n",
       "    <tr>\n",
       "      <th>2</th>\n",
       "      <td>-1.436575</td>\n",
       "      <td>1.158001</td>\n",
       "      <td>-1.177266</td>\n",
       "      <td>-12.280129</td>\n",
       "      <td>0.329498</td>\n",
       "      <td>-0.487931</td>\n",
       "      <td>-15.634462</td>\n",
       "      <td>-1.526510</td>\n",
       "      <td>-0.240434</td>\n",
       "      <td>-0.241943</td>\n",
       "      <td>...</td>\n",
       "      <td>-0.131861</td>\n",
       "      <td>-0.375533</td>\n",
       "      <td>-0.114749</td>\n",
       "      <td>-0.038689</td>\n",
       "      <td>-0.045648</td>\n",
       "      <td>-0.184387</td>\n",
       "      <td>-0.494226</td>\n",
       "      <td>12.688163</td>\n",
       "      <td>-0.552001</td>\n",
       "      <td>-0.075402</td>\n",
       "    </tr>\n",
       "    <tr>\n",
       "      <th>3</th>\n",
       "      <td>0.753857</td>\n",
       "      <td>0.073255</td>\n",
       "      <td>1.195472</td>\n",
       "      <td>-12.296936</td>\n",
       "      <td>1.257423</td>\n",
       "      <td>1.171283</td>\n",
       "      <td>-14.728449</td>\n",
       "      <td>0.655089</td>\n",
       "      <td>-0.240434</td>\n",
       "      <td>-0.241943</td>\n",
       "      <td>...</td>\n",
       "      <td>-0.131861</td>\n",
       "      <td>-0.375533</td>\n",
       "      <td>-0.114749</td>\n",
       "      <td>-0.038689</td>\n",
       "      <td>-0.045648</td>\n",
       "      <td>-0.184387</td>\n",
       "      <td>-0.494226</td>\n",
       "      <td>-0.078814</td>\n",
       "      <td>-0.552001</td>\n",
       "      <td>-0.075402</td>\n",
       "    </tr>\n",
       "    <tr>\n",
       "      <th>4</th>\n",
       "      <td>-1.436575</td>\n",
       "      <td>1.969054</td>\n",
       "      <td>-0.975159</td>\n",
       "      <td>-12.262175</td>\n",
       "      <td>-1.526352</td>\n",
       "      <td>-0.487931</td>\n",
       "      <td>-16.148803</td>\n",
       "      <td>-1.526510</td>\n",
       "      <td>-0.240434</td>\n",
       "      <td>-0.241943</td>\n",
       "      <td>...</td>\n",
       "      <td>-0.131861</td>\n",
       "      <td>-0.375533</td>\n",
       "      <td>-0.114749</td>\n",
       "      <td>-0.038689</td>\n",
       "      <td>-0.045648</td>\n",
       "      <td>-0.184387</td>\n",
       "      <td>-0.494226</td>\n",
       "      <td>-0.078814</td>\n",
       "      <td>-0.552001</td>\n",
       "      <td>-0.075402</td>\n",
       "    </tr>\n",
       "  </tbody>\n",
       "</table>\n",
       "<p>5 rows × 68 columns</p>\n",
       "</div>"
      ],
      "text/plain": [
       "       Levy  Prod. year  Engine volume  fixedMileage   Airbags  Cylinders  \\\n",
       "0 -1.436575    0.073255      -0.276372    -12.296204  0.793460  -0.487931   \n",
       "1 -1.436575    0.073255       0.294579    -12.488878  0.793460  -0.487931   \n",
       "2 -1.436575    1.158001      -1.177266    -12.280129  0.329498  -0.487931   \n",
       "3  0.753857    0.073255       1.195472    -12.296936  1.257423   1.171283   \n",
       "4 -1.436575    1.969054      -0.975159    -12.262175 -1.526352  -0.487931   \n",
       "\n",
       "   KMPerYear  isLevied  Manufacturer_BMW  Manufacturer_CHEVROLET  ...  \\\n",
       "0 -14.727578 -1.526510         -0.240434               -0.241943  ...   \n",
       "1 -14.957128 -1.526510         -0.240434               -0.241943  ...   \n",
       "2 -15.634462 -1.526510         -0.240434               -0.241943  ...   \n",
       "3 -14.728449  0.655089         -0.240434               -0.241943  ...   \n",
       "4 -16.148803 -1.526510         -0.240434               -0.241943  ...   \n",
       "\n",
       "   Color_Green  Color_Grey  Color_Orange  Color_Pink  Color_Purple  Color_Red  \\\n",
       "0    -0.131861    2.662885     -0.114749   -0.038689     -0.045648  -0.184387   \n",
       "1    -0.131861    2.662885     -0.114749   -0.038689     -0.045648  -0.184387   \n",
       "2    -0.131861   -0.375533     -0.114749   -0.038689     -0.045648  -0.184387   \n",
       "3    -0.131861   -0.375533     -0.114749   -0.038689     -0.045648  -0.184387   \n",
       "4    -0.131861   -0.375533     -0.114749   -0.038689     -0.045648  -0.184387   \n",
       "\n",
       "   Color_Silver  Color_Sky blue  Color_White  Color_Yellow  \n",
       "0     -0.494226       -0.078814    -0.552001     -0.075402  \n",
       "1     -0.494226       -0.078814    -0.552001     -0.075402  \n",
       "2     -0.494226       12.688163    -0.552001     -0.075402  \n",
       "3     -0.494226       -0.078814    -0.552001     -0.075402  \n",
       "4     -0.494226       -0.078814    -0.552001     -0.075402  \n",
       "\n",
       "[5 rows x 68 columns]"
      ]
     },
     "execution_count": 278,
     "metadata": {},
     "output_type": "execute_result"
    }
   ],
   "source": [
    "df_test = test.drop(columns = 'ID')\n",
    "\n",
    "df_test.loc[df_test.Levy=='-', 'Levy'] = 0\n",
    "df_test.loc[df_test.Doors=='04-May', 'Doors'] = '4-May'\n",
    "df_test.loc[df_test.Doors=='02-Mar', 'Doors'] = '2-May'\n",
    "df_test.Mileage = df_test.Mileage.apply(lambda x: int(x[:-3]))\n",
    "df_test.Mileage = np.log(df_test.Mileage+1)\n",
    "df_test['Engine volume'].apply(lambda x: float(x.split(' ')[0]))\n",
    "df_test['Engine volume'] = df_test['Engine volume'].apply(lambda x: float(x.split(' ')[0]))\n",
    "\n",
    "df_test.Levy = df_test.Levy.astype(int)\n",
    "df_test['isLevied'] = 1\n",
    "df_test.Levy = df_test.Levy.astype(int)\n",
    "df_test.loc[df_test.Levy==0, 'isLevied'] = 0\n",
    "df_test.loc[df_test.Cylinders > 15, 'Cylinders'] = 15\n",
    "df_test['Engine volume'] = df_test['Engine volume'].astype(float)\n",
    "\n",
    "df_test.loc[~df_test.Manufacturer.isin(top_manufacturers), 'Manufacturer'] = 'Other'\n",
    "df_dummies_test = pd.get_dummies(df_test[cat_cols], drop_first=True)\n",
    "\n",
    "#############################################\n",
    "\n",
    "df_num_boxed_test = df_test[num_cols_test].copy()\n",
    "\n",
    "df_num_boxed_test['logMileage'] = np.log(df_num_boxed_test.Mileage+1)\n",
    "df_num_boxed_test.loc[df_num_boxed_test.logMileage==0, 'logMileage'] = None\n",
    "df_num_boxed_test['logMileage'] = df_num_boxed_test['logMileage'].\\\n",
    "                        fillna(df_num_boxed_test.groupby('Prod. year')['logMileage'].transform('median'))\n",
    "df_num_boxed_test.logMileage.fillna(np.mean(df_num_boxed_test.logMileage), inplace=True)\n",
    "df_num_boxed_test['fixedMileage'] = np.exp(df_num_boxed_test.logMileage)\n",
    "df_num_boxed_test['KMPerYear'] = df_num_boxed_test.fixedMileage / (2021 - df_num_boxed_test['Prod. year'])\n",
    "\n",
    "\n",
    "df_num_boxed_test['fixedMileage'] = np.log(df_num_boxed_test.fixedMileage)\n",
    "df_num_boxed_test.KMPerYear = np.log(df_num_boxed_test.KMPerYear)\n",
    "df_num_boxed_test['Engine volume'] = np.log(df_num_boxed_test['Engine volume'])\n",
    "df_num_boxed_test.Levy = np.sqrt(df_num_boxed_test.Levy)\n",
    "df_num_boxed_test['Prod. year'] = np.log(2020-df_test['Prod. year'])\n",
    "\n",
    "lw_mileage = np.quantile(df_num_boxed_test.fixedMileage, 0.05)\n",
    "hg_mileage = np.quantile(df_num_boxed_test.fixedMileage, 0.98)\n",
    "#df_num_boxed_test.loc[df_num_boxed_test.Mileage<lw_mileage, 'fixedMileage'] = lw_mileage\n",
    "#df_num_boxed_test.loc[df_num_boxed_test.Mileage>hg_mileage, 'fixedMileage'] = hg_mileage\n",
    "\n",
    "lw_kmpy = np.quantile(df_num_boxed_test.KMPerYear, 0.05)\n",
    "hg_kmpy = np.quantile(df_num_boxed_test.KMPerYear, 0.98)\n",
    "df_num_boxed_test.loc[df_num_boxed_test.KMPerYear<lw_kmpy, 'KMPerYear'] = lw_kmpy\n",
    "df_num_boxed_test.loc[df_num_boxed_test.KMPerYear>hg_kmpy, 'KMPerYear'] = hg_kmpy\n",
    "\n",
    "lw_enging = np.quantile(df_num_boxed_test['Engine volume'], 0.02)\n",
    "hg_enging = np.quantile(df_num_boxed_test['Engine volume'], 0.98)\n",
    "df_num_boxed_test.loc[df_num_boxed_test['Engine volume']<lw_enging, 'Engine volume'] = lw_enging\n",
    "df_num_boxed_test.loc[df_num_boxed_test['Engine volume']>hg_enging, 'Engine volume'] = hg_enging\n",
    "\n",
    "hg_levy = np.quantile(df_num_boxed_test.Levy, 0.98)\n",
    "df_num_boxed_test.loc[df_num_boxed_test.Levy>hg_levy, 'Levy'] = hg_levy\n",
    "\n",
    "lw_year = np.quantile(df_num_boxed_test['Prod. year'], 0.02)\n",
    "hg_year = np.quantile(df_num_boxed_test['Prod. year'], 0.98)\n",
    "df_num_boxed_test.loc[df_num_boxed_test['Prod. year']<lw_year, 'Prod. year'] = lw_year\n",
    "df_num_boxed_test.loc[df_num_boxed_test['Prod. year']>hg_year, 'Prod. year'] = hg_year\n",
    "\n",
    "X_submit = pd.concat([df_num_boxed_test[num_cols], df_dummies_test], axis=1)\n",
    "X_submit_scaled = pd.DataFrame(scaler.transform(X_submit), columns=X_cols)\n",
    "X_submit_scaled.head()"
   ]
  },
  {
   "cell_type": "code",
   "execution_count": 279,
   "metadata": {},
   "outputs": [
    {
     "data": {
      "text/plain": [
       "<AxesSubplot:xlabel='fixedMileage'>"
      ]
     },
     "execution_count": 279,
     "metadata": {},
     "output_type": "execute_result"
    },
    {
     "data": {
      "image/png": "[encoded data removed]",
      "text/plain": [
       "<Figure size 432x288 with 1 Axes>"
      ]
     },
     "metadata": {
      "needs_background": "light"
     },
     "output_type": "display_data"
    }
   ],
   "source": [
    "sns.boxplot(X_train_scaled.fixedMileage)"
   ]
  },
  {
   "cell_type": "code",
   "execution_count": 280,
   "metadata": {},
   "outputs": [
    {
     "data": {
      "image/png": "[encoded data removed]",
      "text/plain": [
       "<Figure size 1152x288 with 7 Axes>"
      ]
     },
     "metadata": {
      "needs_background": "light"
     },
     "output_type": "display_data"
    }
   ],
   "source": [
    "plt.figure(figsize=(16,4))\n",
    "for col in num_cols:\n",
    "    plt.subplot(1, len(num_cols), num_cols.index(col)+1)\n",
    "    sns.boxplot(df_num_boxed_test[col])"
   ]
  },
  {
   "cell_type": "code",
   "execution_count": null,
   "metadata": {},
   "outputs": [],
   "source": []
  },
  {
   "cell_type": "code",
   "execution_count": 281,
   "metadata": {},
   "outputs": [
    {
     "data": {
      "text/plain": [
       "<AxesSubplot:xlabel='fixedMileage'>"
      ]
     },
     "execution_count": 281,
     "metadata": {},
     "output_type": "execute_result"
    },
    {
     "data": {
      "image/png": "[encoded data removed]",
      "text/plain": [
       "<Figure size 432x288 with 1 Axes>"
      ]
     },
     "metadata": {
      "needs_background": "light"
     },
     "output_type": "display_data"
    }
   ],
   "source": [
    "sns.boxplot(X_submit_scaled.fixedMileage)"
   ]
  },
  {
   "cell_type": "code",
   "execution_count": 235,
   "metadata": {
    "scrolled": true
   },
   "outputs": [
    {
     "data": {
      "text/html": [
       "<div>\n",
       "<style scoped>\n",
       "    .dataframe tbody tr th:only-of-type {\n",
       "        vertical-align: middle;\n",
       "    }\n",
       "\n",
       "    .dataframe tbody tr th {\n",
       "        vertical-align: top;\n",
       "    }\n",
       "\n",
       "    .dataframe thead th {\n",
       "        text-align: right;\n",
       "    }\n",
       "</style>\n",
       "<table border=\"1\" class=\"dataframe\">\n",
       "  <thead>\n",
       "    <tr style=\"text-align: right;\">\n",
       "      <th></th>\n",
       "      <th>Levy</th>\n",
       "      <th>Prod. year</th>\n",
       "      <th>Engine volume</th>\n",
       "      <th>fixedMileage</th>\n",
       "      <th>Airbags</th>\n",
       "      <th>Cylinders</th>\n",
       "      <th>KMPerYear</th>\n",
       "    </tr>\n",
       "  </thead>\n",
       "  <tbody>\n",
       "    <tr>\n",
       "      <th>0</th>\n",
       "      <td>0.00000</td>\n",
       "      <td>2.079442</td>\n",
       "      <td>0.693147</td>\n",
       "      <td>2.555487</td>\n",
       "      <td>10</td>\n",
       "      <td>4</td>\n",
       "      <td>0.358263</td>\n",
       "    </tr>\n",
       "    <tr>\n",
       "      <th>1</th>\n",
       "      <td>0.00000</td>\n",
       "      <td>2.079442</td>\n",
       "      <td>0.875469</td>\n",
       "      <td>2.412864</td>\n",
       "      <td>10</td>\n",
       "      <td>4</td>\n",
       "      <td>0.215639</td>\n",
       "    </tr>\n",
       "    <tr>\n",
       "      <th>2</th>\n",
       "      <td>0.00000</td>\n",
       "      <td>2.708050</td>\n",
       "      <td>0.405465</td>\n",
       "      <td>2.567387</td>\n",
       "      <td>8</td>\n",
       "      <td>4</td>\n",
       "      <td>-0.205202</td>\n",
       "    </tr>\n",
       "    <tr>\n",
       "      <th>3</th>\n",
       "      <td>31.22499</td>\n",
       "      <td>2.079442</td>\n",
       "      <td>1.163151</td>\n",
       "      <td>2.554946</td>\n",
       "      <td>12</td>\n",
       "      <td>6</td>\n",
       "      <td>0.357722</td>\n",
       "    </tr>\n",
       "    <tr>\n",
       "      <th>4</th>\n",
       "      <td>0.00000</td>\n",
       "      <td>3.178054</td>\n",
       "      <td>0.470004</td>\n",
       "      <td>2.580677</td>\n",
       "      <td>0</td>\n",
       "      <td>4</td>\n",
       "      <td>-0.524772</td>\n",
       "    </tr>\n",
       "  </tbody>\n",
       "</table>\n",
       "</div>"
      ],
      "text/plain": [
       "       Levy  Prod. year  Engine volume  fixedMileage  Airbags  Cylinders  \\\n",
       "0   0.00000    2.079442       0.693147      2.555487       10          4   \n",
       "1   0.00000    2.079442       0.875469      2.412864       10          4   \n",
       "2   0.00000    2.708050       0.405465      2.567387        8          4   \n",
       "3  31.22499    2.079442       1.163151      2.554946       12          6   \n",
       "4   0.00000    3.178054       0.470004      2.580677        0          4   \n",
       "\n",
       "   KMPerYear  \n",
       "0   0.358263  \n",
       "1   0.215639  \n",
       "2  -0.205202  \n",
       "3   0.357722  \n",
       "4  -0.524772  "
      ]
     },
     "execution_count": 235,
     "metadata": {},
     "output_type": "execute_result"
    }
   ],
   "source": [
    "df_num_boxed_test[num_cols].head()"
   ]
  },
  {
   "cell_type": "code",
   "execution_count": 238,
   "metadata": {},
   "outputs": [],
   "source": [
    "y_submit = pd.DataFrame(np.round(np.exp(rf_model.predict(X_submit_scaled)), 2) , columns=['Price'])\n",
    "y_submit.to_csv('submission.csv', index=False)"
   ]
  },
  {
   "cell_type": "code",
   "execution_count": 206,
   "metadata": {},
   "outputs": [],
   "source": [
    "y_submit = pd.DataFrame(np.round(np.exp(model.predict(X_submit_scaled)), 2) , columns=['Price'])\n",
    "y_submit.to_csv('submission.csv', index=False)"
   ]
  },
  {
   "cell_type": "code",
   "execution_count": 236,
   "metadata": {},
   "outputs": [],
   "source": [
    "y_submit = pd.DataFrame(np.round(np.exp(er.predict(X_submit_scaled)), 2) , columns=['Price'])\n",
    "y_submit.to_csv('submission.csv', index=False)"
   ]
  },
  {
   "cell_type": "code",
   "execution_count": null,
   "metadata": {},
   "outputs": [],
   "source": []
  }
 ],
 "metadata": {
  "kernelspec": {
   "display_name": "Python 3",
   "language": "python",
   "name": "python3"
  },
  "language_info": {
   "codemirror_mode": {
    "name": "ipython",
    "version": 3
   },
   "file_extension": ".py",
   "mimetype": "text/x-python",
   "name": "python",
   "nbconvert_exporter": "python",
   "pygments_lexer": "ipython3",
   "version": "3.6.7"
  }
 },
 "nbformat": 4,
 "nbformat_minor": 4
}
