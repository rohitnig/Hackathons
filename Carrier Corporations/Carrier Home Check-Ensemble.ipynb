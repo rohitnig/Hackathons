{
 "cells": [
  {
   "cell_type": "markdown",
   "metadata": {},
   "source": [
    "# Carrier Home Challenge\n",
    "---\n",
    "This home challenge has been solved by Rohit Nigam on February 16th, 2021. \n",
    "\n",
    "---\n",
    "\n",
    "This notebook is divided in 4 sections\n",
    "1. Loading and Pre-processing the data\n",
    "2. Building the Models\n",
    "3. Conclusion\n",
    "4. Predicting on the test data set.\n",
    "\n",
    "---"
   ]
  },
  {
   "cell_type": "code",
   "execution_count": 23,
   "metadata": {},
   "outputs": [],
   "source": [
    "import pandas as pd\n",
    "import numpy as np\n",
    "import matplotlib.pyplot as plt\n",
    "import seaborn as sns"
   ]
  },
  {
   "cell_type": "markdown",
   "metadata": {},
   "source": [
    "# 1. Loading and pre processing the data\n",
    "---\n"
   ]
  },
  {
   "cell_type": "code",
   "execution_count": 24,
   "metadata": {},
   "outputs": [],
   "source": [
    "df_results = pd.DataFrame(columns=['Model', 'Train Recall Score', 'Test Recall Score'])"
   ]
  },
  {
   "cell_type": "code",
   "execution_count": 25,
   "metadata": {},
   "outputs": [],
   "source": [
    "df_train = pd.read_csv('2021-01-21_zeta-disease_training-data_dsi-take-home-challenge.csv')"
   ]
  },
  {
   "cell_type": "code",
   "execution_count": 26,
   "metadata": {},
   "outputs": [
    {
     "name": "stdout",
     "output_type": "stream",
     "text": [
      "<class 'pandas.core.frame.DataFrame'>\n",
      "RangeIndex: 800 entries, 0 to 799\n",
      "Data columns (total 9 columns):\n",
      " #   Column              Non-Null Count  Dtype  \n",
      "---  ------              --------------  -----  \n",
      " 0   age                 800 non-null    int64  \n",
      " 1   weight              800 non-null    int64  \n",
      " 2   bmi                 800 non-null    float64\n",
      " 3   blood_pressure      800 non-null    int64  \n",
      " 4   insulin_test        800 non-null    int64  \n",
      " 5   liver_stress_test   800 non-null    float64\n",
      " 6   cardio_stress_test  800 non-null    int64  \n",
      " 7   years_smoking       800 non-null    int64  \n",
      " 8   zeta_disease        800 non-null    int64  \n",
      "dtypes: float64(2), int64(7)\n",
      "memory usage: 56.4 KB\n"
     ]
    }
   ],
   "source": [
    "df_train.info()"
   ]
  },
  {
   "cell_type": "markdown",
   "metadata": {},
   "source": [
    "Good to see there are no nulls in any column!! :-)"
   ]
  },
  {
   "cell_type": "code",
   "execution_count": 27,
   "metadata": {},
   "outputs": [
    {
     "data": {
      "text/html": [
       "<div>\n",
       "<style scoped>\n",
       "    .dataframe tbody tr th:only-of-type {\n",
       "        vertical-align: middle;\n",
       "    }\n",
       "\n",
       "    .dataframe tbody tr th {\n",
       "        vertical-align: top;\n",
       "    }\n",
       "\n",
       "    .dataframe thead th {\n",
       "        text-align: right;\n",
       "    }\n",
       "</style>\n",
       "<table border=\"1\" class=\"dataframe\">\n",
       "  <thead>\n",
       "    <tr style=\"text-align: right;\">\n",
       "      <th></th>\n",
       "      <th>age</th>\n",
       "      <th>weight</th>\n",
       "      <th>bmi</th>\n",
       "      <th>blood_pressure</th>\n",
       "      <th>insulin_test</th>\n",
       "      <th>liver_stress_test</th>\n",
       "      <th>cardio_stress_test</th>\n",
       "      <th>years_smoking</th>\n",
       "      <th>zeta_disease</th>\n",
       "    </tr>\n",
       "  </thead>\n",
       "  <tbody>\n",
       "    <tr>\n",
       "      <th>0</th>\n",
       "      <td>54</td>\n",
       "      <td>189</td>\n",
       "      <td>27.1</td>\n",
       "      <td>80</td>\n",
       "      <td>0</td>\n",
       "      <td>1.5038</td>\n",
       "      <td>0</td>\n",
       "      <td>10</td>\n",
       "      <td>0</td>\n",
       "    </tr>\n",
       "    <tr>\n",
       "      <th>1</th>\n",
       "      <td>23</td>\n",
       "      <td>150</td>\n",
       "      <td>38.5</td>\n",
       "      <td>68</td>\n",
       "      <td>71</td>\n",
       "      <td>0.3868</td>\n",
       "      <td>55</td>\n",
       "      <td>2</td>\n",
       "      <td>0</td>\n",
       "    </tr>\n",
       "    <tr>\n",
       "      <th>2</th>\n",
       "      <td>47</td>\n",
       "      <td>186</td>\n",
       "      <td>29.9</td>\n",
       "      <td>90</td>\n",
       "      <td>0</td>\n",
       "      <td>0.2728</td>\n",
       "      <td>0</td>\n",
       "      <td>7</td>\n",
       "      <td>0</td>\n",
       "    </tr>\n",
       "    <tr>\n",
       "      <th>3</th>\n",
       "      <td>18</td>\n",
       "      <td>150</td>\n",
       "      <td>30.8</td>\n",
       "      <td>70</td>\n",
       "      <td>1033</td>\n",
       "      <td>0.6598</td>\n",
       "      <td>56</td>\n",
       "      <td>0</td>\n",
       "      <td>0</td>\n",
       "    </tr>\n",
       "    <tr>\n",
       "      <th>4</th>\n",
       "      <td>24</td>\n",
       "      <td>160</td>\n",
       "      <td>32.4</td>\n",
       "      <td>74</td>\n",
       "      <td>125</td>\n",
       "      <td>0.7608</td>\n",
       "      <td>59</td>\n",
       "      <td>2</td>\n",
       "      <td>0</td>\n",
       "    </tr>\n",
       "  </tbody>\n",
       "</table>\n",
       "</div>"
      ],
      "text/plain": [
       "   age  weight   bmi  blood_pressure  insulin_test  liver_stress_test  \\\n",
       "0   54     189  27.1              80             0             1.5038   \n",
       "1   23     150  38.5              68            71             0.3868   \n",
       "2   47     186  29.9              90             0             0.2728   \n",
       "3   18     150  30.8              70          1033             0.6598   \n",
       "4   24     160  32.4              74           125             0.7608   \n",
       "\n",
       "   cardio_stress_test  years_smoking  zeta_disease  \n",
       "0                   0             10             0  \n",
       "1                  55              2             0  \n",
       "2                   0              7             0  \n",
       "3                  56              0             0  \n",
       "4                  59              2             0  "
      ]
     },
     "execution_count": 27,
     "metadata": {},
     "output_type": "execute_result"
    }
   ],
   "source": [
    "df_train.head()"
   ]
  },
  {
   "cell_type": "code",
   "execution_count": 28,
   "metadata": {},
   "outputs": [],
   "source": [
    "X = df_train.drop('zeta_disease', axis=1)\n",
    "y = df_train['zeta_disease']"
   ]
  },
  {
   "cell_type": "code",
   "execution_count": 29,
   "metadata": {},
   "outputs": [
    {
     "data": {
      "text/html": [
       "<div>\n",
       "<style scoped>\n",
       "    .dataframe tbody tr th:only-of-type {\n",
       "        vertical-align: middle;\n",
       "    }\n",
       "\n",
       "    .dataframe tbody tr th {\n",
       "        vertical-align: top;\n",
       "    }\n",
       "\n",
       "    .dataframe thead th {\n",
       "        text-align: right;\n",
       "    }\n",
       "</style>\n",
       "<table border=\"1\" class=\"dataframe\">\n",
       "  <thead>\n",
       "    <tr style=\"text-align: right;\">\n",
       "      <th></th>\n",
       "      <th>age</th>\n",
       "      <th>weight</th>\n",
       "      <th>bmi</th>\n",
       "      <th>blood_pressure</th>\n",
       "      <th>insulin_test</th>\n",
       "      <th>liver_stress_test</th>\n",
       "      <th>cardio_stress_test</th>\n",
       "      <th>years_smoking</th>\n",
       "    </tr>\n",
       "  </thead>\n",
       "  <tbody>\n",
       "    <tr>\n",
       "      <th>0</th>\n",
       "      <td>54</td>\n",
       "      <td>189</td>\n",
       "      <td>27.1</td>\n",
       "      <td>80</td>\n",
       "      <td>0</td>\n",
       "      <td>1.5038</td>\n",
       "      <td>0</td>\n",
       "      <td>10</td>\n",
       "    </tr>\n",
       "    <tr>\n",
       "      <th>1</th>\n",
       "      <td>23</td>\n",
       "      <td>150</td>\n",
       "      <td>38.5</td>\n",
       "      <td>68</td>\n",
       "      <td>71</td>\n",
       "      <td>0.3868</td>\n",
       "      <td>55</td>\n",
       "      <td>2</td>\n",
       "    </tr>\n",
       "    <tr>\n",
       "      <th>2</th>\n",
       "      <td>47</td>\n",
       "      <td>186</td>\n",
       "      <td>29.9</td>\n",
       "      <td>90</td>\n",
       "      <td>0</td>\n",
       "      <td>0.2728</td>\n",
       "      <td>0</td>\n",
       "      <td>7</td>\n",
       "    </tr>\n",
       "    <tr>\n",
       "      <th>3</th>\n",
       "      <td>18</td>\n",
       "      <td>150</td>\n",
       "      <td>30.8</td>\n",
       "      <td>70</td>\n",
       "      <td>1033</td>\n",
       "      <td>0.6598</td>\n",
       "      <td>56</td>\n",
       "      <td>0</td>\n",
       "    </tr>\n",
       "    <tr>\n",
       "      <th>4</th>\n",
       "      <td>24</td>\n",
       "      <td>160</td>\n",
       "      <td>32.4</td>\n",
       "      <td>74</td>\n",
       "      <td>125</td>\n",
       "      <td>0.7608</td>\n",
       "      <td>59</td>\n",
       "      <td>2</td>\n",
       "    </tr>\n",
       "  </tbody>\n",
       "</table>\n",
       "</div>"
      ],
      "text/plain": [
       "   age  weight   bmi  blood_pressure  insulin_test  liver_stress_test  \\\n",
       "0   54     189  27.1              80             0             1.5038   \n",
       "1   23     150  38.5              68            71             0.3868   \n",
       "2   47     186  29.9              90             0             0.2728   \n",
       "3   18     150  30.8              70          1033             0.6598   \n",
       "4   24     160  32.4              74           125             0.7608   \n",
       "\n",
       "   cardio_stress_test  years_smoking  \n",
       "0                   0             10  \n",
       "1                  55              2  \n",
       "2                   0              7  \n",
       "3                  56              0  \n",
       "4                  59              2  "
      ]
     },
     "execution_count": 29,
     "metadata": {},
     "output_type": "execute_result"
    }
   ],
   "source": [
    "X.head()"
   ]
  },
  {
   "cell_type": "markdown",
   "metadata": {},
   "source": [
    "## 1.1. Checking the Data Imbalance"
   ]
  },
  {
   "cell_type": "code",
   "execution_count": 30,
   "metadata": {},
   "outputs": [
    {
     "name": "stderr",
     "output_type": "stream",
     "text": [
      "D:\\Anaconda3\\lib\\site-packages\\seaborn\\_decorators.py:43: FutureWarning: Pass the following variable as a keyword arg: x. From version 0.12, the only valid positional argument will be `data`, and passing other arguments without an explicit keyword will result in an error or misinterpretation.\n",
      "  FutureWarning\n"
     ]
    },
    {
     "data": {
      "text/plain": [
       "<AxesSubplot:xlabel='zeta_disease', ylabel='count'>"
      ]
     },
     "execution_count": 30,
     "metadata": {},
     "output_type": "execute_result"
    },
    {
     "data": {
      "image/png": "[encoded data removed]",
      "text/plain": [
       "<Figure size 432x288 with 1 Axes>"
      ]
     },
     "metadata": {
      "needs_background": "light"
     },
     "output_type": "display_data"
    }
   ],
   "source": [
    "sns.countplot(y)"
   ]
  },
  {
   "cell_type": "markdown",
   "metadata": {},
   "source": [
    "There is **data imbalance**. While creating the model, it needs to be countered."
   ]
  },
  {
   "cell_type": "markdown",
   "metadata": {},
   "source": [
    "---\n",
    "## 1.2. EDA and Feature Engineering"
   ]
  },
  {
   "cell_type": "markdown",
   "metadata": {},
   "source": [
    "Let us check the spread of the indicator variables."
   ]
  },
  {
   "cell_type": "code",
   "execution_count": 31,
   "metadata": {},
   "outputs": [
    {
     "data": {
      "image/png": "[encoded data removed]",
      "text/plain": [
       "<Figure size 1008x792 with 8 Axes>"
      ]
     },
     "metadata": {
      "needs_background": "light"
     },
     "output_type": "display_data"
    }
   ],
   "source": [
    "plt.figure(figsize=(14, 11))\n",
    "for col in X.columns:\n",
    "    plt.subplot(3, 3, list(X.columns).index(col)+1)\n",
    "    plt.hist(X[col])\n",
    "    plt.title(col)\n",
    "plt.show()"
   ]
  },
  {
   "cell_type": "code",
   "execution_count": 32,
   "metadata": {},
   "outputs": [
    {
     "data": {
      "text/plain": [
       "age                     0\n",
       "weight                  0\n",
       "bmi                    11\n",
       "blood_pressure         35\n",
       "insulin_test          370\n",
       "liver_stress_test       0\n",
       "cardio_stress_test    227\n",
       "years_smoking           0\n",
       "dtype: int64"
      ]
     },
     "execution_count": 32,
     "metadata": {},
     "output_type": "execute_result"
    }
   ],
   "source": [
    "X.loc[X.bmi==0, 'bmi'] = None\n",
    "X.loc[X.blood_pressure==0, 'blood_pressure'] = None\n",
    "X.loc[X.insulin_test==0, 'insulin_test'] = None\n",
    "X.loc[X.cardio_stress_test==0, 'cardio_stress_test'] = None\n",
    "X.isna().sum()"
   ]
  },
  {
   "cell_type": "code",
   "execution_count": 33,
   "metadata": {},
   "outputs": [
    {
     "data": {
      "text/plain": [
       "<AxesSubplot:xlabel='age_cluster', ylabel='age'>"
      ]
     },
     "execution_count": 33,
     "metadata": {},
     "output_type": "execute_result"
    },
    {
     "data": {
      "image/png": "[encoded data removed]",
      "text/plain": [
       "<Figure size 432x288 with 1 Axes>"
      ]
     },
     "metadata": {
      "needs_background": "light"
     },
     "output_type": "display_data"
    }
   ],
   "source": [
    "from sklearn.cluster import KMeans\n",
    "km = KMeans(n_clusters=4).fit(X[['age']])\n",
    "X['age_cluster'] = km.labels_\n",
    "sns.boxplot(y='age', x='age_cluster', data=X)"
   ]
  },
  {
   "cell_type": "code",
   "execution_count": 34,
   "metadata": {},
   "outputs": [
    {
     "data": {
      "text/plain": [
       "age                   0\n",
       "weight                0\n",
       "bmi                   0\n",
       "blood_pressure        0\n",
       "insulin_test          0\n",
       "liver_stress_test     0\n",
       "cardio_stress_test    0\n",
       "years_smoking         0\n",
       "age_cluster           0\n",
       "dtype: int64"
      ]
     },
     "execution_count": 34,
     "metadata": {},
     "output_type": "execute_result"
    }
   ],
   "source": [
    "method = 'mean'\n",
    "X['bmi'] = X['bmi'].fillna(X.groupby('age_cluster')['bmi'].transform(method))\n",
    "X['blood_pressure'] = X['blood_pressure'].fillna(X.groupby('age_cluster')['blood_pressure'].transform(method))\n",
    "X['insulin_test'] = X['insulin_test'].fillna(X.groupby('age_cluster')['insulin_test'].transform(method))\n",
    "X['cardio_stress_test'] = X['cardio_stress_test'].fillna(X.groupby('age_cluster')['cardio_stress_test'].transform(method))\n",
    "X.isna().sum()"
   ]
  },
  {
   "cell_type": "code",
   "execution_count": 35,
   "metadata": {},
   "outputs": [
    {
     "data": {
      "text/plain": [
       "age                   2.031742\n",
       "weight                0.734588\n",
       "bmi                   1.696820\n",
       "blood_pressure        1.077716\n",
       "insulin_test          3.443734\n",
       "liver_stress_test     2.330998\n",
       "cardio_stress_test    5.265698\n",
       "years_smoking         3.037747\n",
       "age_cluster           0.359465\n",
       "dtype: float64"
      ]
     },
     "execution_count": 35,
     "metadata": {},
     "output_type": "execute_result"
    }
   ],
   "source": [
    "X.skew()"
   ]
  },
  {
   "cell_type": "markdown",
   "metadata": {},
   "source": [
    "As we can see, the distribution of the factors - columns age, insulin_test, liver_stress_test and years_smoking are left skewed. So, I will take boxcox of them"
   ]
  },
  {
   "cell_type": "code",
   "execution_count": 36,
   "metadata": {},
   "outputs": [
    {
     "data": {
      "text/html": [
       "<div>\n",
       "<style scoped>\n",
       "    .dataframe tbody tr th:only-of-type {\n",
       "        vertical-align: middle;\n",
       "    }\n",
       "\n",
       "    .dataframe tbody tr th {\n",
       "        vertical-align: top;\n",
       "    }\n",
       "\n",
       "    .dataframe thead th {\n",
       "        text-align: right;\n",
       "    }\n",
       "</style>\n",
       "<table border=\"1\" class=\"dataframe\">\n",
       "  <thead>\n",
       "    <tr style=\"text-align: right;\">\n",
       "      <th></th>\n",
       "      <th>age</th>\n",
       "      <th>weight</th>\n",
       "      <th>bmi</th>\n",
       "      <th>blood_pressure</th>\n",
       "      <th>insulin_test</th>\n",
       "      <th>liver_stress_test</th>\n",
       "      <th>cardio_stress_test</th>\n",
       "      <th>years_smoking</th>\n",
       "      <th>age_cluster</th>\n",
       "    </tr>\n",
       "  </thead>\n",
       "  <tbody>\n",
       "    <tr>\n",
       "      <th>87</th>\n",
       "      <td>18</td>\n",
       "      <td>192</td>\n",
       "      <td>24.7</td>\n",
       "      <td>82.0</td>\n",
       "      <td>64.000000</td>\n",
       "      <td>0.8238</td>\n",
       "      <td>48.000000</td>\n",
       "      <td>2</td>\n",
       "      <td>1</td>\n",
       "    </tr>\n",
       "    <tr>\n",
       "      <th>128</th>\n",
       "      <td>26</td>\n",
       "      <td>208</td>\n",
       "      <td>39.4</td>\n",
       "      <td>84.0</td>\n",
       "      <td>210.000000</td>\n",
       "      <td>0.4578</td>\n",
       "      <td>71.000000</td>\n",
       "      <td>5</td>\n",
       "      <td>1</td>\n",
       "    </tr>\n",
       "    <tr>\n",
       "      <th>367</th>\n",
       "      <td>26</td>\n",
       "      <td>172</td>\n",
       "      <td>35.0</td>\n",
       "      <td>68.0</td>\n",
       "      <td>149.715789</td>\n",
       "      <td>0.4568</td>\n",
       "      <td>59.377049</td>\n",
       "      <td>4</td>\n",
       "      <td>1</td>\n",
       "    </tr>\n",
       "    <tr>\n",
       "      <th>183</th>\n",
       "      <td>30</td>\n",
       "      <td>171</td>\n",
       "      <td>34.3</td>\n",
       "      <td>66.0</td>\n",
       "      <td>165.000000</td>\n",
       "      <td>0.2658</td>\n",
       "      <td>60.000000</td>\n",
       "      <td>0</td>\n",
       "      <td>0</td>\n",
       "    </tr>\n",
       "    <tr>\n",
       "      <th>763</th>\n",
       "      <td>62</td>\n",
       "      <td>153</td>\n",
       "      <td>39.2</td>\n",
       "      <td>108.0</td>\n",
       "      <td>246.333333</td>\n",
       "      <td>0.3678</td>\n",
       "      <td>67.000000</td>\n",
       "      <td>5</td>\n",
       "      <td>2</td>\n",
       "    </tr>\n",
       "  </tbody>\n",
       "</table>\n",
       "</div>"
      ],
      "text/plain": [
       "     age  weight   bmi  blood_pressure  insulin_test  liver_stress_test  \\\n",
       "87    18     192  24.7            82.0     64.000000             0.8238   \n",
       "128   26     208  39.4            84.0    210.000000             0.4578   \n",
       "367   26     172  35.0            68.0    149.715789             0.4568   \n",
       "183   30     171  34.3            66.0    165.000000             0.2658   \n",
       "763   62     153  39.2           108.0    246.333333             0.3678   \n",
       "\n",
       "     cardio_stress_test  years_smoking  age_cluster  \n",
       "87            48.000000              2            1  \n",
       "128           71.000000              5            1  \n",
       "367           59.377049              4            1  \n",
       "183           60.000000              0            0  \n",
       "763           67.000000              5            2  "
      ]
     },
     "execution_count": 36,
     "metadata": {},
     "output_type": "execute_result"
    }
   ],
   "source": [
    "X.sample(5)"
   ]
  },
  {
   "cell_type": "code",
   "execution_count": 37,
   "metadata": {},
   "outputs": [],
   "source": [
    "cols_skewed = ['age', 'insulin_test', 'blood_pressure', 'liver_stress_test', 'years_smoking']"
   ]
  },
  {
   "cell_type": "markdown",
   "metadata": {},
   "source": [
    "The skewness scores and the distributions look much better now"
   ]
  },
  {
   "cell_type": "code",
   "execution_count": 39,
   "metadata": {},
   "outputs": [],
   "source": [
    "X_model = X.copy(deep=True)"
   ]
  },
  {
   "cell_type": "code",
   "execution_count": 40,
   "metadata": {},
   "outputs": [],
   "source": [
    "from scipy import stats\n",
    "\n",
    "for col in cols_skewed:\n",
    "    new_col = col+'_boxcox'\n",
    "    X_model[new_col] = stats.boxcox(X[col]+1)[0] #adding 1 for a workaround for zero."
   ]
  },
  {
   "cell_type": "markdown",
   "metadata": {},
   "source": [
    "Let's check the spread and the outliers."
   ]
  },
  {
   "cell_type": "code",
   "execution_count": 41,
   "metadata": {},
   "outputs": [],
   "source": [
    "X['height'] = np.sqrt(X.weight/X.bmi)"
   ]
  },
  {
   "cell_type": "code",
   "execution_count": 43,
   "metadata": {
    "scrolled": false
   },
   "outputs": [
    {
     "name": "stderr",
     "output_type": "stream",
     "text": [
      "D:\\Anaconda3\\lib\\site-packages\\seaborn\\_decorators.py:43: FutureWarning: Pass the following variable as a keyword arg: x. From version 0.12, the only valid positional argument will be `data`, and passing other arguments without an explicit keyword will result in an error or misinterpretation.\n",
      "  FutureWarning\n"
     ]
    },
    {
     "data": {
      "text/plain": [
       "<AxesSubplot:xlabel='height'>"
      ]
     },
     "execution_count": 43,
     "metadata": {},
     "output_type": "execute_result"
    },
    {
     "data": {
      "image/png": "[encoded data removed]",
      "text/plain": [
       "<Figure size 432x288 with 1 Axes>"
      ]
     },
     "metadata": {
      "needs_background": "light"
     },
     "output_type": "display_data"
    }
   ],
   "source": [
    "X_model['height'] = np.sqrt(X_model.weight/X_model.bmi)\n",
    "sns.boxplot(X_model.height)"
   ]
  },
  {
   "cell_type": "markdown",
   "metadata": {},
   "source": [
    "Checking the correlations"
   ]
  },
  {
   "cell_type": "code",
   "execution_count": 44,
   "metadata": {},
   "outputs": [
    {
     "data": {
      "text/html": [
       "<div>\n",
       "<style scoped>\n",
       "    .dataframe tbody tr th:only-of-type {\n",
       "        vertical-align: middle;\n",
       "    }\n",
       "\n",
       "    .dataframe tbody tr th {\n",
       "        vertical-align: top;\n",
       "    }\n",
       "\n",
       "    .dataframe thead th {\n",
       "        text-align: right;\n",
       "    }\n",
       "</style>\n",
       "<table border=\"1\" class=\"dataframe\">\n",
       "  <thead>\n",
       "    <tr style=\"text-align: right;\">\n",
       "      <th></th>\n",
       "      <th>weight</th>\n",
       "      <th>bmi</th>\n",
       "      <th>cardio_stress_test</th>\n",
       "      <th>age_cluster</th>\n",
       "      <th>age_boxcox</th>\n",
       "      <th>insulin_test_boxcox</th>\n",
       "      <th>blood_pressure_boxcox</th>\n",
       "      <th>liver_stress_test_boxcox</th>\n",
       "      <th>years_smoking_boxcox</th>\n",
       "      <th>height</th>\n",
       "    </tr>\n",
       "  </thead>\n",
       "  <tbody>\n",
       "    <tr>\n",
       "      <th>0</th>\n",
       "      <td>189</td>\n",
       "      <td>27.1</td>\n",
       "      <td>65.584906</td>\n",
       "      <td>2</td>\n",
       "      <td>0.929200</td>\n",
       "      <td>9.705401</td>\n",
       "      <td>9.247555</td>\n",
       "      <td>0.379492</td>\n",
       "      <td>2.617001</td>\n",
       "      <td>2.640865</td>\n",
       "    </tr>\n",
       "    <tr>\n",
       "      <th>1</th>\n",
       "      <td>150</td>\n",
       "      <td>38.5</td>\n",
       "      <td>55.000000</td>\n",
       "      <td>1</td>\n",
       "      <td>0.910260</td>\n",
       "      <td>6.584453</td>\n",
       "      <td>8.649650</td>\n",
       "      <td>0.229099</td>\n",
       "      <td>1.143165</td>\n",
       "      <td>1.973855</td>\n",
       "    </tr>\n",
       "    <tr>\n",
       "      <th>2</th>\n",
       "      <td>186</td>\n",
       "      <td>29.9</td>\n",
       "      <td>65.584906</td>\n",
       "      <td>2</td>\n",
       "      <td>0.927113</td>\n",
       "      <td>9.705401</td>\n",
       "      <td>9.700334</td>\n",
       "      <td>0.184683</td>\n",
       "      <td>2.242928</td>\n",
       "      <td>2.494140</td>\n",
       "    </tr>\n",
       "    <tr>\n",
       "      <th>3</th>\n",
       "      <td>150</td>\n",
       "      <td>30.8</td>\n",
       "      <td>56.000000</td>\n",
       "      <td>1</td>\n",
       "      <td>0.901157</td>\n",
       "      <td>14.363281</td>\n",
       "      <td>8.754068</td>\n",
       "      <td>0.297846</td>\n",
       "      <td>0.000000</td>\n",
       "      <td>2.206837</td>\n",
       "    </tr>\n",
       "    <tr>\n",
       "      <th>4</th>\n",
       "      <td>160</td>\n",
       "      <td>32.4</td>\n",
       "      <td>59.000000</td>\n",
       "      <td>1</td>\n",
       "      <td>0.911632</td>\n",
       "      <td>7.909875</td>\n",
       "      <td>8.956923</td>\n",
       "      <td>0.314862</td>\n",
       "      <td>1.143165</td>\n",
       "      <td>2.222222</td>\n",
       "    </tr>\n",
       "  </tbody>\n",
       "</table>\n",
       "</div>"
      ],
      "text/plain": [
       "   weight   bmi  cardio_stress_test  age_cluster  age_boxcox  \\\n",
       "0     189  27.1           65.584906            2    0.929200   \n",
       "1     150  38.5           55.000000            1    0.910260   \n",
       "2     186  29.9           65.584906            2    0.927113   \n",
       "3     150  30.8           56.000000            1    0.901157   \n",
       "4     160  32.4           59.000000            1    0.911632   \n",
       "\n",
       "   insulin_test_boxcox  blood_pressure_boxcox  liver_stress_test_boxcox  \\\n",
       "0             9.705401               9.247555                  0.379492   \n",
       "1             6.584453               8.649650                  0.229099   \n",
       "2             9.705401               9.700334                  0.184683   \n",
       "3            14.363281               8.754068                  0.297846   \n",
       "4             7.909875               8.956923                  0.314862   \n",
       "\n",
       "   years_smoking_boxcox    height  \n",
       "0              2.617001  2.640865  \n",
       "1              1.143165  1.973855  \n",
       "2              2.242928  2.494140  \n",
       "3              0.000000  2.206837  \n",
       "4              1.143165  2.222222  "
      ]
     },
     "execution_count": 44,
     "metadata": {},
     "output_type": "execute_result"
    }
   ],
   "source": [
    "X_model.drop(columns=cols_skewed, axis=1, inplace=True)\n",
    "X_model.head()"
   ]
  },
  {
   "cell_type": "code",
   "execution_count": 86,
   "metadata": {},
   "outputs": [
    {
     "data": {
      "text/plain": [
       "0    521\n",
       "1    279\n",
       "Name: zeta_disease, dtype: int64"
      ]
     },
     "execution_count": 86,
     "metadata": {},
     "output_type": "execute_result"
    }
   ],
   "source": [
    "y.value_counts()"
   ]
  },
  {
   "cell_type": "markdown",
   "metadata": {},
   "source": [
    "There are two strong correlations which can be seen\n",
    "1. The Age is related with the number of years one has smoked. As the age increases a smoker's number of years also increases.\n",
    "2. The Insulin test and the Cardio stress test are also correlated, although not very strongly.\n",
    "---"
   ]
  },
  {
   "cell_type": "code",
   "execution_count": 47,
   "metadata": {},
   "outputs": [],
   "source": [
    "from sklearn.preprocessing import StandardScaler\n",
    "scaler = StandardScaler()"
   ]
  },
  {
   "cell_type": "markdown",
   "metadata": {},
   "source": [
    "## 1.3. Doing the train test split and scaling the data"
   ]
  },
  {
   "cell_type": "markdown",
   "metadata": {},
   "source": [
    "Time to do the train test split in the training test. As there are 800 cases, a 70:30 split will be appropriate"
   ]
  },
  {
   "cell_type": "code",
   "execution_count": 48,
   "metadata": {},
   "outputs": [],
   "source": [
    "from sklearn.model_selection import train_test_split\n",
    "X_train, X_test, y_train, y_test = train_test_split(X, y, test_size=0.3,\\\n",
    "                                                    random_state=10, stratify=X.age_cluster)\n",
    "cols_X = X_train.columns\n",
    "X_train_scaled = pd.DataFrame(scaler.fit_transform(X_train))\n",
    "X_train_scaled.columns = cols_X\n",
    "X_test_scaled = pd.DataFrame(scaler.fit_transform(X_test))\n",
    "X_test_scaled.columns = cols_X"
   ]
  },
  {
   "cell_type": "markdown",
   "metadata": {},
   "source": [
    "---"
   ]
  },
  {
   "cell_type": "code",
   "execution_count": 49,
   "metadata": {},
   "outputs": [],
   "source": [
    "from sklearn import metrics"
   ]
  },
  {
   "cell_type": "markdown",
   "metadata": {},
   "source": [
    "### Logistic Regression"
   ]
  },
  {
   "cell_type": "code",
   "execution_count": 81,
   "metadata": {},
   "outputs": [
    {
     "data": {
      "text/plain": [
       "0.7875"
      ]
     },
     "execution_count": 81,
     "metadata": {},
     "output_type": "execute_result"
    }
   ],
   "source": [
    "from sklearn.linear_model import LogisticRegression\n",
    "log_model = LogisticRegression(class_weight='balanced').fit(X_train_scaled, y_train)\n",
    "log_model.score(X_test_scaled, y_test)"
   ]
  },
  {
   "cell_type": "markdown",
   "metadata": {},
   "source": [
    "### Extra Trees Classifier"
   ]
  },
  {
   "cell_type": "code",
   "execution_count": 69,
   "metadata": {},
   "outputs": [
    {
     "data": {
      "text/plain": [
       "0.8125"
      ]
     },
     "execution_count": 69,
     "metadata": {},
     "output_type": "execute_result"
    }
   ],
   "source": [
    "from sklearn.ensemble import ExtraTreesClassifier\n",
    "ext_model = ExtraTreesClassifier()\n",
    "ext_model.fit(X_train, y_train)\n",
    "ext_model.score(X_test, y_test)"
   ]
  },
  {
   "cell_type": "markdown",
   "metadata": {},
   "source": [
    "### Random Forest"
   ]
  },
  {
   "cell_type": "code",
   "execution_count": 59,
   "metadata": {},
   "outputs": [
    {
     "data": {
      "text/plain": [
       "0.8"
      ]
     },
     "execution_count": 59,
     "metadata": {},
     "output_type": "execute_result"
    }
   ],
   "source": [
    "from sklearn.ensemble import RandomForestClassifier\n",
    "best_rf = RandomForestClassifier(class_weight=\"balanced\", random_state=42,\n",
    "                                 max_depth=4, n_jobs=-1).\\\n",
    "            fit(X_train, y_train)\n",
    "best_rf.score(X_test, y_test)"
   ]
  },
  {
   "cell_type": "code",
   "execution_count": 272,
   "metadata": {},
   "outputs": [
    {
     "name": "stdout",
     "output_type": "stream",
     "text": [
      "              precision    recall  f1-score   support\n",
      "\n",
      "           0       0.91      0.75      0.82       150\n",
      "           1       0.68      0.88      0.77        90\n",
      "\n",
      "    accuracy                           0.80       240\n",
      "   macro avg       0.80      0.82      0.80       240\n",
      "weighted avg       0.82      0.80      0.80       240\n",
      "\n"
     ]
    }
   ],
   "source": [
    "print (metrics.classification_report (y_test, best_rf.predict(X_test)))"
   ]
  },
  {
   "cell_type": "markdown",
   "metadata": {},
   "source": [
    "### XG Boost"
   ]
  },
  {
   "cell_type": "code",
   "execution_count": 240,
   "metadata": {},
   "outputs": [
    {
     "data": {
      "text/plain": [
       "0.8083333333333333"
      ]
     },
     "execution_count": 240,
     "metadata": {},
     "output_type": "execute_result"
    }
   ],
   "source": [
    "from xgboost import XGBClassifier\n",
    "xg_model = XGBClassifier(scale_pos_weight =3).fit(X_train_scaled, y_train)\n",
    "xg_model.score(X_test_scaled, y_test)"
   ]
  },
  {
   "cell_type": "code",
   "execution_count": 234,
   "metadata": {},
   "outputs": [
    {
     "data": {
      "text/plain": [
       "0.8125"
      ]
     },
     "execution_count": 234,
     "metadata": {},
     "output_type": "execute_result"
    }
   ],
   "source": [
    "from sklearn.ensemble import VotingClassifier\n",
    "vot_model = VotingClassifier(estimators = [('lr', LogisticRegression(class_weight=\"balanced\")), \n",
    "                              ('rf', RandomForestClassifier(class_weight=\"balanced\", \n",
    "                                                            random_state=42, \n",
    "                                                            max_depth=4, \n",
    "                                                            n_jobs=-1)),\n",
    "                              ('ext', ExtraTreesClassifier(class_weight=\"balanced\")),\n",
    "                              ('xg', XGBClassifier(scale_pos_weight =2) )],\n",
    "                            voting = 'soft')\n",
    "vot_model.fit(X_train_scaled, y_train)\n",
    "vot_model.score(X_test_scaled, y_test)"
   ]
  },
  {
   "cell_type": "code",
   "execution_count": 156,
   "metadata": {},
   "outputs": [
    {
     "data": {
      "text/html": [
       "<div>\n",
       "<style scoped>\n",
       "    .dataframe tbody tr th:only-of-type {\n",
       "        vertical-align: middle;\n",
       "    }\n",
       "\n",
       "    .dataframe tbody tr th {\n",
       "        vertical-align: top;\n",
       "    }\n",
       "\n",
       "    .dataframe thead th {\n",
       "        text-align: right;\n",
       "    }\n",
       "</style>\n",
       "<table border=\"1\" class=\"dataframe\">\n",
       "  <thead>\n",
       "    <tr style=\"text-align: right;\">\n",
       "      <th></th>\n",
       "      <th>0</th>\n",
       "      <th>1</th>\n",
       "    </tr>\n",
       "  </thead>\n",
       "  <tbody>\n",
       "    <tr>\n",
       "      <th>0</th>\n",
       "      <td>130</td>\n",
       "      <td>20</td>\n",
       "    </tr>\n",
       "    <tr>\n",
       "      <th>1</th>\n",
       "      <td>24</td>\n",
       "      <td>66</td>\n",
       "    </tr>\n",
       "  </tbody>\n",
       "</table>\n",
       "</div>"
      ],
      "text/plain": [
       "     0   1\n",
       "0  130  20\n",
       "1   24  66"
      ]
     },
     "execution_count": 156,
     "metadata": {},
     "output_type": "execute_result"
    }
   ],
   "source": [
    "y_pred = vot_model.predict(X_test_scaled)\n",
    "pd.DataFrame(metrics.confusion_matrix(y_test, y_pred ))"
   ]
  },
  {
   "cell_type": "code",
   "execution_count": 157,
   "metadata": {
    "scrolled": true
   },
   "outputs": [
    {
     "name": "stdout",
     "output_type": "stream",
     "text": [
      "              precision    recall  f1-score   support\n",
      "\n",
      "           0       0.84      0.87      0.86       150\n",
      "           1       0.77      0.73      0.75        90\n",
      "\n",
      "    accuracy                           0.82       240\n",
      "   macro avg       0.81      0.80      0.80       240\n",
      "weighted avg       0.82      0.82      0.82       240\n",
      "\n"
     ]
    }
   ],
   "source": [
    "print (metrics.classification_report(y_test, y_pred))"
   ]
  },
  {
   "cell_type": "code",
   "execution_count": 278,
   "metadata": {},
   "outputs": [
    {
     "data": {
      "text/plain": [
       "<matplotlib.collections.LineCollection at 0x31d2ce80>"
      ]
     },
     "execution_count": 278,
     "metadata": {},
     "output_type": "execute_result"
    },
    {
     "data": {
      "image/png": "[encoded data removed]",
      "text/plain": [
       "<Figure size 432x288 with 1 Axes>"
      ]
     },
     "metadata": {
      "needs_background": "light"
     },
     "output_type": "display_data"
    }
   ],
   "source": [
    "r = []\n",
    "p = []\n",
    "f = []\n",
    "for i in  range (70, 140):\n",
    "    prob_cutoff = i/recall.shape[0]\n",
    "    y_pred_final = pd.Series(y_pred_prob[:, 1] > prob_cutoff).map( {True: 1, False: 0})\n",
    "    r.append(metrics.recall_score(y_test, y_pred_final, 1))\n",
    "    p.append(metrics.precision_score(y_test, y_pred_final, 1))\n",
    "    f.append(metrics.f1_score(y_test, y_pred_final, 1))\n",
    "plt.plot(r)\n",
    "plt.plot(p)\n",
    "plt.plot(f)\n",
    "plt.vlines(40, ymin=0.55, ymax=0.8, colors='r')"
   ]
  },
  {
   "cell_type": "code",
   "execution_count": 275,
   "metadata": {},
   "outputs": [
    {
     "name": "stdout",
     "output_type": "stream",
     "text": [
      "              precision    recall  f1-score   support\n",
      "\n",
      "           0       0.84      0.85      0.84       150\n",
      "           1       0.74      0.73      0.74        90\n",
      "\n",
      "    accuracy                           0.80       240\n",
      "   macro avg       0.79      0.79      0.79       240\n",
      "weighted avg       0.80      0.80      0.80       240\n",
      "\n"
     ]
    }
   ],
   "source": [
    "y_pred_final = pd.Series(y_pred_prob[:, 1] > 110/recall.shape[0]).map( {True: 1, False: 0})\n",
    "print (metrics.classification_report (y_test, y_pred_final))"
   ]
  },
  {
   "cell_type": "code",
   "execution_count": 268,
   "metadata": {},
   "outputs": [
    {
     "name": "stderr",
     "output_type": "stream",
     "text": [
      "D:\\Anaconda3\\lib\\site-packages\\seaborn\\_decorators.py:43: FutureWarning: Pass the following variable as a keyword arg: x. From version 0.12, the only valid positional argument will be `data`, and passing other arguments without an explicit keyword will result in an error or misinterpretation.\n",
      "  FutureWarning\n",
      "D:\\Anaconda3\\lib\\site-packages\\seaborn\\_decorators.py:43: FutureWarning: Pass the following variable as a keyword arg: x. From version 0.12, the only valid positional argument will be `data`, and passing other arguments without an explicit keyword will result in an error or misinterpretation.\n",
      "  FutureWarning\n"
     ]
    },
    {
     "data": {
      "image/png": "[encoded data removed]",
      "text/plain": [
       "<Figure size 576x288 with 2 Axes>"
      ]
     },
     "metadata": {
      "needs_background": "light"
     },
     "output_type": "display_data"
    }
   ],
   "source": [
    "plt.figure(figsize=(8, 4) )\n",
    "plt.subplot(121); sns.countplot(y_test)\n",
    "plt.subplot(122); sns.countplot(y_pred_final)\n",
    "plt.show()"
   ]
  },
  {
   "cell_type": "code",
   "execution_count": 271,
   "metadata": {
    "scrolled": false
   },
   "outputs": [
    {
     "data": {
      "text/plain": [
       "Text(0, 0.5, 'Feature')"
      ]
     },
     "execution_count": 271,
     "metadata": {},
     "output_type": "execute_result"
    },
    {
     "data": {
      "image/png": "[encoded data removed]",
      "text/plain": [
       "<Figure size 864x360 with 1 Axes>"
      ]
     },
     "metadata": {
      "needs_background": "light"
     },
     "output_type": "display_data"
    }
   ],
   "source": [
    "df_feature_importance = pd.DataFrame(columns=['Feature', 'Importance'])\n",
    "df_feature_importance.Feature = X_train.columns\n",
    "df_feature_importance.Importance = best_rf.feature_importances_\n",
    "df_feature_importance.sort_values(by='Importance', ascending=False, inplace=True)\n",
    "plt.figure(figsize=(12, 5))\n",
    "sns.barplot(x='Importance', y='Feature', data=df_feature_importance, palette='vlag')\n",
    "plt.xlabel('Importance', fontsize=14)\n",
    "plt.ylabel('Feature', fontsize=14)"
   ]
  },
  {
   "cell_type": "markdown",
   "metadata": {},
   "source": [
    "# 3. Conculsion from the model:\n",
    "\n",
    "The metrics that has been used in the model building is **recall**. The problem statment says we need to make the correct prediction in the cases who will be infected from the disease. \n",
    "\n",
    "The forumla for recall is given as $\\frac{True Positive}{True Positive + False Negative}$ and hence having a high recall value ensures that there are lease False Negatives. Hence the model will be able to catch more of the infection possibilities\n",
    "\n",
    "The three risk factors which have the hightest impact are **weight**, **bmi** and the **age**. Hence people who have are older and have a higher weight and bmi should be more cautious in the International Mars Colony as they have the highest chances of zeta infection"
   ]
  },
  {
   "cell_type": "markdown",
   "metadata": {},
   "source": [
    "---\n",
    "# 4. Predicting from the Test data\n",
    "---\n",
    "## 4.1. Doing the same data transformations as done on the Training data set"
   ]
  },
  {
   "cell_type": "code",
   "execution_count": 235,
   "metadata": {},
   "outputs": [
    {
     "data": {
      "text/html": [
       "<div>\n",
       "<style scoped>\n",
       "    .dataframe tbody tr th:only-of-type {\n",
       "        vertical-align: middle;\n",
       "    }\n",
       "\n",
       "    .dataframe tbody tr th {\n",
       "        vertical-align: top;\n",
       "    }\n",
       "\n",
       "    .dataframe thead th {\n",
       "        text-align: right;\n",
       "    }\n",
       "</style>\n",
       "<table border=\"1\" class=\"dataframe\">\n",
       "  <thead>\n",
       "    <tr style=\"text-align: right;\">\n",
       "      <th></th>\n",
       "      <th>age</th>\n",
       "      <th>weight</th>\n",
       "      <th>bmi</th>\n",
       "      <th>blood_pressure</th>\n",
       "      <th>insulin_test</th>\n",
       "      <th>liver_stress_test</th>\n",
       "      <th>cardio_stress_test</th>\n",
       "      <th>years_smoking</th>\n",
       "      <th>zeta_disease</th>\n",
       "    </tr>\n",
       "  </thead>\n",
       "  <tbody>\n",
       "    <tr>\n",
       "      <th>0</th>\n",
       "      <td>24</td>\n",
       "      <td>151</td>\n",
       "      <td>39.5</td>\n",
       "      <td>69</td>\n",
       "      <td>72</td>\n",
       "      <td>1.3968</td>\n",
       "      <td>56</td>\n",
       "      <td>4</td>\n",
       "      <td>NaN</td>\n",
       "    </tr>\n",
       "    <tr>\n",
       "      <th>1</th>\n",
       "      <td>27</td>\n",
       "      <td>179</td>\n",
       "      <td>35.5</td>\n",
       "      <td>89</td>\n",
       "      <td>156</td>\n",
       "      <td>1.6608</td>\n",
       "      <td>43</td>\n",
       "      <td>6</td>\n",
       "      <td>NaN</td>\n",
       "    </tr>\n",
       "    <tr>\n",
       "      <th>2</th>\n",
       "      <td>34</td>\n",
       "      <td>147</td>\n",
       "      <td>26.9</td>\n",
       "      <td>76</td>\n",
       "      <td>74</td>\n",
       "      <td>1.6958</td>\n",
       "      <td>53</td>\n",
       "      <td>2</td>\n",
       "      <td>NaN</td>\n",
       "    </tr>\n",
       "    <tr>\n",
       "      <th>3</th>\n",
       "      <td>35</td>\n",
       "      <td>206</td>\n",
       "      <td>32.4</td>\n",
       "      <td>73</td>\n",
       "      <td>127</td>\n",
       "      <td>1.4608</td>\n",
       "      <td>61</td>\n",
       "      <td>6</td>\n",
       "      <td>NaN</td>\n",
       "    </tr>\n",
       "    <tr>\n",
       "      <th>4</th>\n",
       "      <td>60</td>\n",
       "      <td>193</td>\n",
       "      <td>29.8</td>\n",
       "      <td>62</td>\n",
       "      <td>192</td>\n",
       "      <td>1.7798</td>\n",
       "      <td>65</td>\n",
       "      <td>9</td>\n",
       "      <td>NaN</td>\n",
       "    </tr>\n",
       "  </tbody>\n",
       "</table>\n",
       "</div>"
      ],
      "text/plain": [
       "   age  weight   bmi  blood_pressure  insulin_test  liver_stress_test  \\\n",
       "0   24     151  39.5              69            72             1.3968   \n",
       "1   27     179  35.5              89           156             1.6608   \n",
       "2   34     147  26.9              76            74             1.6958   \n",
       "3   35     206  32.4              73           127             1.4608   \n",
       "4   60     193  29.8              62           192             1.7798   \n",
       "\n",
       "   cardio_stress_test  years_smoking  zeta_disease  \n",
       "0                  56              4           NaN  \n",
       "1                  43              6           NaN  \n",
       "2                  53              2           NaN  \n",
       "3                  61              6           NaN  \n",
       "4                  65              9           NaN  "
      ]
     },
     "execution_count": 235,
     "metadata": {},
     "output_type": "execute_result"
    }
   ],
   "source": [
    "df_test = pd.read_csv('2021-01-21_zeta-disease_prediction-data_dsi-take-home-challenge.csv')\n",
    "df_test.head()"
   ]
  },
  {
   "cell_type": "code",
   "execution_count": 237,
   "metadata": {},
   "outputs": [
    {
     "data": {
      "text/html": [
       "<div>\n",
       "<style scoped>\n",
       "    .dataframe tbody tr th:only-of-type {\n",
       "        vertical-align: middle;\n",
       "    }\n",
       "\n",
       "    .dataframe tbody tr th {\n",
       "        vertical-align: top;\n",
       "    }\n",
       "\n",
       "    .dataframe thead th {\n",
       "        text-align: right;\n",
       "    }\n",
       "</style>\n",
       "<table border=\"1\" class=\"dataframe\">\n",
       "  <thead>\n",
       "    <tr style=\"text-align: right;\">\n",
       "      <th></th>\n",
       "      <th>age</th>\n",
       "      <th>weight</th>\n",
       "      <th>bmi</th>\n",
       "      <th>blood_pressure</th>\n",
       "      <th>insulin_test</th>\n",
       "      <th>liver_stress_test</th>\n",
       "      <th>cardio_stress_test</th>\n",
       "      <th>years_smoking</th>\n",
       "      <th>zeta_disease</th>\n",
       "      <th>age_boxcox</th>\n",
       "      <th>insulin_test_boxcox</th>\n",
       "      <th>blood_pressure_boxcox</th>\n",
       "      <th>liver_stress_test_boxcox</th>\n",
       "      <th>years_smoking_boxcox</th>\n",
       "    </tr>\n",
       "  </thead>\n",
       "  <tbody>\n",
       "    <tr>\n",
       "      <th>0</th>\n",
       "      <td>24</td>\n",
       "      <td>151</td>\n",
       "      <td>39.5</td>\n",
       "      <td>69</td>\n",
       "      <td>72</td>\n",
       "      <td>1.3968</td>\n",
       "      <td>56</td>\n",
       "      <td>4</td>\n",
       "      <td>NaN</td>\n",
       "      <td>3.470650</td>\n",
       "      <td>4.195325</td>\n",
       "      <td>0.940059</td>\n",
       "      <td>0.345031</td>\n",
       "      <td>1.380107</td>\n",
       "    </tr>\n",
       "    <tr>\n",
       "      <th>1</th>\n",
       "      <td>27</td>\n",
       "      <td>179</td>\n",
       "      <td>35.5</td>\n",
       "      <td>89</td>\n",
       "      <td>156</td>\n",
       "      <td>1.6608</td>\n",
       "      <td>43</td>\n",
       "      <td>6</td>\n",
       "      <td>NaN</td>\n",
       "      <td>3.602503</td>\n",
       "      <td>4.924471</td>\n",
       "      <td>0.942594</td>\n",
       "      <td>0.354462</td>\n",
       "      <td>1.617554</td>\n",
       "    </tr>\n",
       "    <tr>\n",
       "      <th>2</th>\n",
       "      <td>34</td>\n",
       "      <td>147</td>\n",
       "      <td>26.9</td>\n",
       "      <td>76</td>\n",
       "      <td>74</td>\n",
       "      <td>1.6958</td>\n",
       "      <td>53</td>\n",
       "      <td>2</td>\n",
       "      <td>NaN</td>\n",
       "      <td>3.864148</td>\n",
       "      <td>4.221161</td>\n",
       "      <td>0.941100</td>\n",
       "      <td>0.355471</td>\n",
       "      <td>0.988286</td>\n",
       "    </tr>\n",
       "    <tr>\n",
       "      <th>3</th>\n",
       "      <td>35</td>\n",
       "      <td>206</td>\n",
       "      <td>32.4</td>\n",
       "      <td>73</td>\n",
       "      <td>127</td>\n",
       "      <td>1.4608</td>\n",
       "      <td>61</td>\n",
       "      <td>6</td>\n",
       "      <td>NaN</td>\n",
       "      <td>3.897372</td>\n",
       "      <td>4.730599</td>\n",
       "      <td>0.940679</td>\n",
       "      <td>0.347656</td>\n",
       "      <td>1.617554</td>\n",
       "    </tr>\n",
       "    <tr>\n",
       "      <th>4</th>\n",
       "      <td>60</td>\n",
       "      <td>193</td>\n",
       "      <td>29.8</td>\n",
       "      <td>62</td>\n",
       "      <td>192</td>\n",
       "      <td>1.7798</td>\n",
       "      <td>65</td>\n",
       "      <td>9</td>\n",
       "      <td>NaN</td>\n",
       "      <td>4.527369</td>\n",
       "      <td>5.120038</td>\n",
       "      <td>0.938781</td>\n",
       "      <td>0.357711</td>\n",
       "      <td>1.852717</td>\n",
       "    </tr>\n",
       "  </tbody>\n",
       "</table>\n",
       "</div>"
      ],
      "text/plain": [
       "   age  weight   bmi  blood_pressure  insulin_test  liver_stress_test  \\\n",
       "0   24     151  39.5              69            72             1.3968   \n",
       "1   27     179  35.5              89           156             1.6608   \n",
       "2   34     147  26.9              76            74             1.6958   \n",
       "3   35     206  32.4              73           127             1.4608   \n",
       "4   60     193  29.8              62           192             1.7798   \n",
       "\n",
       "   cardio_stress_test  years_smoking  zeta_disease  age_boxcox  \\\n",
       "0                  56              4           NaN    3.470650   \n",
       "1                  43              6           NaN    3.602503   \n",
       "2                  53              2           NaN    3.864148   \n",
       "3                  61              6           NaN    3.897372   \n",
       "4                  65              9           NaN    4.527369   \n",
       "\n",
       "   insulin_test_boxcox  blood_pressure_boxcox  liver_stress_test_boxcox  \\\n",
       "0             4.195325               0.940059                  0.345031   \n",
       "1             4.924471               0.942594                  0.354462   \n",
       "2             4.221161               0.941100                  0.355471   \n",
       "3             4.730599               0.940679                  0.347656   \n",
       "4             5.120038               0.938781                  0.357711   \n",
       "\n",
       "   years_smoking_boxcox  \n",
       "0              1.380107  \n",
       "1              1.617554  \n",
       "2              0.988286  \n",
       "3              1.617554  \n",
       "4              1.852717  "
      ]
     },
     "execution_count": 237,
     "metadata": {},
     "output_type": "execute_result"
    }
   ],
   "source": [
    "# Applying boxcox on the skewed data \n",
    "for col in cols_skewed:\n",
    "    new_col = col+'_boxcox'\n",
    "    df_test[new_col] = stats.boxcox(df_test[col]+1)[0] #adding 1 for a workaround for zero.\n",
    "df_test.head()"
   ]
  },
  {
   "cell_type": "code",
   "execution_count": 238,
   "metadata": {},
   "outputs": [],
   "source": [
    "df_test.drop(cols_skewed, axis=1, inplace=True)"
   ]
  },
  {
   "cell_type": "code",
   "execution_count": 239,
   "metadata": {},
   "outputs": [
    {
     "data": {
      "text/html": [
       "<div>\n",
       "<style scoped>\n",
       "    .dataframe tbody tr th:only-of-type {\n",
       "        vertical-align: middle;\n",
       "    }\n",
       "\n",
       "    .dataframe tbody tr th {\n",
       "        vertical-align: top;\n",
       "    }\n",
       "\n",
       "    .dataframe thead th {\n",
       "        text-align: right;\n",
       "    }\n",
       "</style>\n",
       "<table border=\"1\" class=\"dataframe\">\n",
       "  <thead>\n",
       "    <tr style=\"text-align: right;\">\n",
       "      <th></th>\n",
       "      <th>weight</th>\n",
       "      <th>bmi</th>\n",
       "      <th>cardio_stress_test</th>\n",
       "      <th>zeta_disease</th>\n",
       "      <th>age_boxcox</th>\n",
       "      <th>insulin_test_boxcox</th>\n",
       "      <th>blood_pressure_boxcox</th>\n",
       "      <th>liver_stress_test_boxcox</th>\n",
       "      <th>years_smoking_boxcox</th>\n",
       "    </tr>\n",
       "  </thead>\n",
       "  <tbody>\n",
       "    <tr>\n",
       "      <th>0</th>\n",
       "      <td>151</td>\n",
       "      <td>39.5</td>\n",
       "      <td>56</td>\n",
       "      <td>NaN</td>\n",
       "      <td>3.470650</td>\n",
       "      <td>4.195325</td>\n",
       "      <td>0.940059</td>\n",
       "      <td>0.345031</td>\n",
       "      <td>1.380107</td>\n",
       "    </tr>\n",
       "    <tr>\n",
       "      <th>1</th>\n",
       "      <td>179</td>\n",
       "      <td>35.5</td>\n",
       "      <td>43</td>\n",
       "      <td>NaN</td>\n",
       "      <td>3.602503</td>\n",
       "      <td>4.924471</td>\n",
       "      <td>0.942594</td>\n",
       "      <td>0.354462</td>\n",
       "      <td>1.617554</td>\n",
       "    </tr>\n",
       "    <tr>\n",
       "      <th>2</th>\n",
       "      <td>147</td>\n",
       "      <td>26.9</td>\n",
       "      <td>53</td>\n",
       "      <td>NaN</td>\n",
       "      <td>3.864148</td>\n",
       "      <td>4.221161</td>\n",
       "      <td>0.941100</td>\n",
       "      <td>0.355471</td>\n",
       "      <td>0.988286</td>\n",
       "    </tr>\n",
       "    <tr>\n",
       "      <th>3</th>\n",
       "      <td>206</td>\n",
       "      <td>32.4</td>\n",
       "      <td>61</td>\n",
       "      <td>NaN</td>\n",
       "      <td>3.897372</td>\n",
       "      <td>4.730599</td>\n",
       "      <td>0.940679</td>\n",
       "      <td>0.347656</td>\n",
       "      <td>1.617554</td>\n",
       "    </tr>\n",
       "    <tr>\n",
       "      <th>4</th>\n",
       "      <td>193</td>\n",
       "      <td>29.8</td>\n",
       "      <td>65</td>\n",
       "      <td>NaN</td>\n",
       "      <td>4.527369</td>\n",
       "      <td>5.120038</td>\n",
       "      <td>0.938781</td>\n",
       "      <td>0.357711</td>\n",
       "      <td>1.852717</td>\n",
       "    </tr>\n",
       "  </tbody>\n",
       "</table>\n",
       "</div>"
      ],
      "text/plain": [
       "   weight   bmi  cardio_stress_test  zeta_disease  age_boxcox  \\\n",
       "0     151  39.5                  56           NaN    3.470650   \n",
       "1     179  35.5                  43           NaN    3.602503   \n",
       "2     147  26.9                  53           NaN    3.864148   \n",
       "3     206  32.4                  61           NaN    3.897372   \n",
       "4     193  29.8                  65           NaN    4.527369   \n",
       "\n",
       "   insulin_test_boxcox  blood_pressure_boxcox  liver_stress_test_boxcox  \\\n",
       "0             4.195325               0.940059                  0.345031   \n",
       "1             4.924471               0.942594                  0.354462   \n",
       "2             4.221161               0.941100                  0.355471   \n",
       "3             4.730599               0.940679                  0.347656   \n",
       "4             5.120038               0.938781                  0.357711   \n",
       "\n",
       "   years_smoking_boxcox  \n",
       "0              1.380107  \n",
       "1              1.617554  \n",
       "2              0.988286  \n",
       "3              1.617554  \n",
       "4              1.852717  "
      ]
     },
     "execution_count": 239,
     "metadata": {},
     "output_type": "execute_result"
    }
   ],
   "source": [
    "df_test.head()"
   ]
  },
  {
   "cell_type": "code",
   "execution_count": 240,
   "metadata": {},
   "outputs": [
    {
     "data": {
      "text/html": [
       "<div>\n",
       "<style scoped>\n",
       "    .dataframe tbody tr th:only-of-type {\n",
       "        vertical-align: middle;\n",
       "    }\n",
       "\n",
       "    .dataframe tbody tr th {\n",
       "        vertical-align: top;\n",
       "    }\n",
       "\n",
       "    .dataframe thead th {\n",
       "        text-align: right;\n",
       "    }\n",
       "</style>\n",
       "<table border=\"1\" class=\"dataframe\">\n",
       "  <thead>\n",
       "    <tr style=\"text-align: right;\">\n",
       "      <th></th>\n",
       "      <th>weight</th>\n",
       "      <th>bmi</th>\n",
       "      <th>cardio_stress_test</th>\n",
       "      <th>age_boxcox</th>\n",
       "      <th>insulin_test_boxcox</th>\n",
       "      <th>blood_pressure_boxcox</th>\n",
       "      <th>liver_stress_test_boxcox</th>\n",
       "      <th>years_smoking_boxcox</th>\n",
       "    </tr>\n",
       "  </thead>\n",
       "  <tbody>\n",
       "    <tr>\n",
       "      <th>0</th>\n",
       "      <td>151</td>\n",
       "      <td>39.5</td>\n",
       "      <td>56</td>\n",
       "      <td>3.470650</td>\n",
       "      <td>4.195325</td>\n",
       "      <td>0.940059</td>\n",
       "      <td>0.345031</td>\n",
       "      <td>1.380107</td>\n",
       "    </tr>\n",
       "    <tr>\n",
       "      <th>1</th>\n",
       "      <td>179</td>\n",
       "      <td>35.5</td>\n",
       "      <td>43</td>\n",
       "      <td>3.602503</td>\n",
       "      <td>4.924471</td>\n",
       "      <td>0.942594</td>\n",
       "      <td>0.354462</td>\n",
       "      <td>1.617554</td>\n",
       "    </tr>\n",
       "    <tr>\n",
       "      <th>2</th>\n",
       "      <td>147</td>\n",
       "      <td>26.9</td>\n",
       "      <td>53</td>\n",
       "      <td>3.864148</td>\n",
       "      <td>4.221161</td>\n",
       "      <td>0.941100</td>\n",
       "      <td>0.355471</td>\n",
       "      <td>0.988286</td>\n",
       "    </tr>\n",
       "    <tr>\n",
       "      <th>3</th>\n",
       "      <td>206</td>\n",
       "      <td>32.4</td>\n",
       "      <td>61</td>\n",
       "      <td>3.897372</td>\n",
       "      <td>4.730599</td>\n",
       "      <td>0.940679</td>\n",
       "      <td>0.347656</td>\n",
       "      <td>1.617554</td>\n",
       "    </tr>\n",
       "    <tr>\n",
       "      <th>4</th>\n",
       "      <td>193</td>\n",
       "      <td>29.8</td>\n",
       "      <td>65</td>\n",
       "      <td>4.527369</td>\n",
       "      <td>5.120038</td>\n",
       "      <td>0.938781</td>\n",
       "      <td>0.357711</td>\n",
       "      <td>1.852717</td>\n",
       "    </tr>\n",
       "  </tbody>\n",
       "</table>\n",
       "</div>"
      ],
      "text/plain": [
       "   weight   bmi  cardio_stress_test  age_boxcox  insulin_test_boxcox  \\\n",
       "0     151  39.5                  56    3.470650             4.195325   \n",
       "1     179  35.5                  43    3.602503             4.924471   \n",
       "2     147  26.9                  53    3.864148             4.221161   \n",
       "3     206  32.4                  61    3.897372             4.730599   \n",
       "4     193  29.8                  65    4.527369             5.120038   \n",
       "\n",
       "   blood_pressure_boxcox  liver_stress_test_boxcox  years_smoking_boxcox  \n",
       "0               0.940059                  0.345031              1.380107  \n",
       "1               0.942594                  0.354462              1.617554  \n",
       "2               0.941100                  0.355471              0.988286  \n",
       "3               0.940679                  0.347656              1.617554  \n",
       "4               0.938781                  0.357711              1.852717  "
      ]
     },
     "execution_count": 240,
     "metadata": {},
     "output_type": "execute_result"
    }
   ],
   "source": [
    "X_asked = df_test.drop('zeta_disease', axis=1)\n",
    "X_asked.head()"
   ]
  },
  {
   "cell_type": "code",
   "execution_count": 242,
   "metadata": {},
   "outputs": [
    {
     "data": {
      "text/html": [
       "<div>\n",
       "<style scoped>\n",
       "    .dataframe tbody tr th:only-of-type {\n",
       "        vertical-align: middle;\n",
       "    }\n",
       "\n",
       "    .dataframe tbody tr th {\n",
       "        vertical-align: top;\n",
       "    }\n",
       "\n",
       "    .dataframe thead th {\n",
       "        text-align: right;\n",
       "    }\n",
       "</style>\n",
       "<table border=\"1\" class=\"dataframe\">\n",
       "  <thead>\n",
       "    <tr style=\"text-align: right;\">\n",
       "      <th></th>\n",
       "      <th>weight</th>\n",
       "      <th>bmi</th>\n",
       "      <th>cardio_stress_test</th>\n",
       "      <th>age_boxcox</th>\n",
       "      <th>insulin_test_boxcox</th>\n",
       "      <th>blood_pressure_boxcox</th>\n",
       "      <th>liver_stress_test_boxcox</th>\n",
       "      <th>years_smoking_boxcox</th>\n",
       "    </tr>\n",
       "  </thead>\n",
       "  <tbody>\n",
       "    <tr>\n",
       "      <th>0</th>\n",
       "      <td>-0.670609</td>\n",
       "      <td>0.854230</td>\n",
       "      <td>0.423769</td>\n",
       "      <td>274.508809</td>\n",
       "      <td>0.606986</td>\n",
       "      <td>-2.914722</td>\n",
       "      <td>1.420138</td>\n",
       "      <td>-0.041663</td>\n",
       "    </tr>\n",
       "    <tr>\n",
       "      <th>1</th>\n",
       "      <td>0.206516</td>\n",
       "      <td>0.386054</td>\n",
       "      <td>-0.003990</td>\n",
       "      <td>288.671656</td>\n",
       "      <td>0.895515</td>\n",
       "      <td>-2.914695</td>\n",
       "      <td>1.562466</td>\n",
       "      <td>0.232610</td>\n",
       "    </tr>\n",
       "    <tr>\n",
       "      <th>2</th>\n",
       "      <td>-0.795913</td>\n",
       "      <td>-0.620522</td>\n",
       "      <td>0.325056</td>\n",
       "      <td>316.775999</td>\n",
       "      <td>0.617209</td>\n",
       "      <td>-2.914711</td>\n",
       "      <td>1.577697</td>\n",
       "      <td>-0.494253</td>\n",
       "    </tr>\n",
       "    <tr>\n",
       "      <th>3</th>\n",
       "      <td>1.052315</td>\n",
       "      <td>0.023219</td>\n",
       "      <td>0.588292</td>\n",
       "      <td>320.344698</td>\n",
       "      <td>0.818798</td>\n",
       "      <td>-2.914715</td>\n",
       "      <td>1.459755</td>\n",
       "      <td>0.232610</td>\n",
       "    </tr>\n",
       "    <tr>\n",
       "      <th>4</th>\n",
       "      <td>0.645079</td>\n",
       "      <td>-0.281095</td>\n",
       "      <td>0.719910</td>\n",
       "      <td>388.015103</td>\n",
       "      <td>0.972902</td>\n",
       "      <td>-2.914735</td>\n",
       "      <td>1.611491</td>\n",
       "      <td>0.504246</td>\n",
       "    </tr>\n",
       "  </tbody>\n",
       "</table>\n",
       "</div>"
      ],
      "text/plain": [
       "     weight       bmi  cardio_stress_test  age_boxcox  insulin_test_boxcox  \\\n",
       "0 -0.670609  0.854230            0.423769  274.508809             0.606986   \n",
       "1  0.206516  0.386054           -0.003990  288.671656             0.895515   \n",
       "2 -0.795913 -0.620522            0.325056  316.775999             0.617209   \n",
       "3  1.052315  0.023219            0.588292  320.344698             0.818798   \n",
       "4  0.645079 -0.281095            0.719910  388.015103             0.972902   \n",
       "\n",
       "   blood_pressure_boxcox  liver_stress_test_boxcox  years_smoking_boxcox  \n",
       "0              -2.914722                  1.420138             -0.041663  \n",
       "1              -2.914695                  1.562466              0.232610  \n",
       "2              -2.914711                  1.577697             -0.494253  \n",
       "3              -2.914715                  1.459755              0.232610  \n",
       "4              -2.914735                  1.611491              0.504246  "
      ]
     },
     "execution_count": 242,
     "metadata": {},
     "output_type": "execute_result"
    }
   ],
   "source": [
    "X_asked_scaled = pd.DataFrame(scaler.transform(X_asked))\n",
    "X_asked_scaled.columns = cols_X\n",
    "X_asked_scaled.head()"
   ]
  },
  {
   "cell_type": "code",
   "execution_count": 294,
   "metadata": {},
   "outputs": [],
   "source": [
    "df_test.zeta_disease = best_model.predict(X_asked_scaled)"
   ]
  },
  {
   "cell_type": "markdown",
   "metadata": {},
   "source": [
    "# 4.2. The final test data sets, along with the predictions"
   ]
  },
  {
   "cell_type": "code",
   "execution_count": 295,
   "metadata": {},
   "outputs": [
    {
     "data": {
      "text/html": [
       "<div>\n",
       "<style scoped>\n",
       "    .dataframe tbody tr th:only-of-type {\n",
       "        vertical-align: middle;\n",
       "    }\n",
       "\n",
       "    .dataframe tbody tr th {\n",
       "        vertical-align: top;\n",
       "    }\n",
       "\n",
       "    .dataframe thead th {\n",
       "        text-align: right;\n",
       "    }\n",
       "</style>\n",
       "<table border=\"1\" class=\"dataframe\">\n",
       "  <thead>\n",
       "    <tr style=\"text-align: right;\">\n",
       "      <th></th>\n",
       "      <th>weight</th>\n",
       "      <th>bmi</th>\n",
       "      <th>cardio_stress_test</th>\n",
       "      <th>zeta_disease</th>\n",
       "      <th>age_boxcox</th>\n",
       "      <th>insulin_test_boxcox</th>\n",
       "      <th>blood_pressure_boxcox</th>\n",
       "      <th>liver_stress_test_boxcox</th>\n",
       "      <th>years_smoking_boxcox</th>\n",
       "    </tr>\n",
       "  </thead>\n",
       "  <tbody>\n",
       "    <tr>\n",
       "      <th>0</th>\n",
       "      <td>151</td>\n",
       "      <td>39.5</td>\n",
       "      <td>56</td>\n",
       "      <td>0</td>\n",
       "      <td>3.470650</td>\n",
       "      <td>4.195325</td>\n",
       "      <td>0.940059</td>\n",
       "      <td>0.345031</td>\n",
       "      <td>1.380107</td>\n",
       "    </tr>\n",
       "    <tr>\n",
       "      <th>1</th>\n",
       "      <td>179</td>\n",
       "      <td>35.5</td>\n",
       "      <td>43</td>\n",
       "      <td>1</td>\n",
       "      <td>3.602503</td>\n",
       "      <td>4.924471</td>\n",
       "      <td>0.942594</td>\n",
       "      <td>0.354462</td>\n",
       "      <td>1.617554</td>\n",
       "    </tr>\n",
       "    <tr>\n",
       "      <th>2</th>\n",
       "      <td>147</td>\n",
       "      <td>26.9</td>\n",
       "      <td>53</td>\n",
       "      <td>0</td>\n",
       "      <td>3.864148</td>\n",
       "      <td>4.221161</td>\n",
       "      <td>0.941100</td>\n",
       "      <td>0.355471</td>\n",
       "      <td>0.988286</td>\n",
       "    </tr>\n",
       "    <tr>\n",
       "      <th>3</th>\n",
       "      <td>206</td>\n",
       "      <td>32.4</td>\n",
       "      <td>61</td>\n",
       "      <td>1</td>\n",
       "      <td>3.897372</td>\n",
       "      <td>4.730599</td>\n",
       "      <td>0.940679</td>\n",
       "      <td>0.347656</td>\n",
       "      <td>1.617554</td>\n",
       "    </tr>\n",
       "    <tr>\n",
       "      <th>4</th>\n",
       "      <td>193</td>\n",
       "      <td>29.8</td>\n",
       "      <td>65</td>\n",
       "      <td>1</td>\n",
       "      <td>4.527369</td>\n",
       "      <td>5.120038</td>\n",
       "      <td>0.938781</td>\n",
       "      <td>0.357711</td>\n",
       "      <td>1.852717</td>\n",
       "    </tr>\n",
       "    <tr>\n",
       "      <th>5</th>\n",
       "      <td>120</td>\n",
       "      <td>36.5</td>\n",
       "      <td>54</td>\n",
       "      <td>0</td>\n",
       "      <td>4.188295</td>\n",
       "      <td>3.851832</td>\n",
       "      <td>0.944122</td>\n",
       "      <td>0.340436</td>\n",
       "      <td>2.015493</td>\n",
       "    </tr>\n",
       "    <tr>\n",
       "      <th>6</th>\n",
       "      <td>139</td>\n",
       "      <td>38.2</td>\n",
       "      <td>68</td>\n",
       "      <td>0</td>\n",
       "      <td>3.269141</td>\n",
       "      <td>4.258637</td>\n",
       "      <td>0.938574</td>\n",
       "      <td>0.351999</td>\n",
       "      <td>1.213767</td>\n",
       "    </tr>\n",
       "    <tr>\n",
       "      <th>7</th>\n",
       "      <td>137</td>\n",
       "      <td>31.2</td>\n",
       "      <td>59</td>\n",
       "      <td>0</td>\n",
       "      <td>3.423324</td>\n",
       "      <td>4.208331</td>\n",
       "      <td>0.940221</td>\n",
       "      <td>0.345878</td>\n",
       "      <td>1.707526</td>\n",
       "    </tr>\n",
       "    <tr>\n",
       "      <th>8</th>\n",
       "      <td>195</td>\n",
       "      <td>30.5</td>\n",
       "      <td>59</td>\n",
       "      <td>1</td>\n",
       "      <td>3.929727</td>\n",
       "      <td>4.829191</td>\n",
       "      <td>0.938139</td>\n",
       "      <td>0.347223</td>\n",
       "      <td>1.617554</td>\n",
       "    </tr>\n",
       "    <tr>\n",
       "      <th>9</th>\n",
       "      <td>193</td>\n",
       "      <td>25.8</td>\n",
       "      <td>50</td>\n",
       "      <td>0</td>\n",
       "      <td>3.213042</td>\n",
       "      <td>4.113297</td>\n",
       "      <td>0.942075</td>\n",
       "      <td>0.358061</td>\n",
       "      <td>1.213767</td>\n",
       "    </tr>\n",
       "    <tr>\n",
       "      <th>10</th>\n",
       "      <td>216</td>\n",
       "      <td>34.7</td>\n",
       "      <td>58</td>\n",
       "      <td>1</td>\n",
       "      <td>4.239143</td>\n",
       "      <td>5.005440</td>\n",
       "      <td>0.940221</td>\n",
       "      <td>0.356245</td>\n",
       "      <td>1.707526</td>\n",
       "    </tr>\n",
       "    <tr>\n",
       "      <th>11</th>\n",
       "      <td>200</td>\n",
       "      <td>30.4</td>\n",
       "      <td>60</td>\n",
       "      <td>1</td>\n",
       "      <td>4.051315</td>\n",
       "      <td>4.737995</td>\n",
       "      <td>0.940059</td>\n",
       "      <td>0.341129</td>\n",
       "      <td>1.213767</td>\n",
       "    </tr>\n",
       "    <tr>\n",
       "      <th>12</th>\n",
       "      <td>154</td>\n",
       "      <td>46.5</td>\n",
       "      <td>68</td>\n",
       "      <td>0</td>\n",
       "      <td>3.322748</td>\n",
       "      <td>4.684961</td>\n",
       "      <td>0.942495</td>\n",
       "      <td>0.337940</td>\n",
       "      <td>1.380107</td>\n",
       "    </tr>\n",
       "    <tr>\n",
       "      <th>13</th>\n",
       "      <td>196</td>\n",
       "      <td>31.3</td>\n",
       "      <td>66</td>\n",
       "      <td>1</td>\n",
       "      <td>4.357921</td>\n",
       "      <td>4.988668</td>\n",
       "      <td>0.942691</td>\n",
       "      <td>0.361029</td>\n",
       "      <td>1.912821</td>\n",
       "    </tr>\n",
       "    <tr>\n",
       "      <th>14</th>\n",
       "      <td>181</td>\n",
       "      <td>37.4</td>\n",
       "      <td>80</td>\n",
       "      <td>1</td>\n",
       "      <td>3.721513</td>\n",
       "      <td>4.930492</td>\n",
       "      <td>0.942968</td>\n",
       "      <td>0.363504</td>\n",
       "      <td>1.510714</td>\n",
       "    </tr>\n",
       "    <tr>\n",
       "      <th>15</th>\n",
       "      <td>213</td>\n",
       "      <td>26.5</td>\n",
       "      <td>55</td>\n",
       "      <td>1</td>\n",
       "      <td>4.213977</td>\n",
       "      <td>4.774125</td>\n",
       "      <td>0.940221</td>\n",
       "      <td>0.348351</td>\n",
       "      <td>2.015493</td>\n",
       "    </tr>\n",
       "    <tr>\n",
       "      <th>16</th>\n",
       "      <td>173</td>\n",
       "      <td>50.7</td>\n",
       "      <td>83</td>\n",
       "      <td>1</td>\n",
       "      <td>3.683112</td>\n",
       "      <td>5.252408</td>\n",
       "      <td>0.942785</td>\n",
       "      <td>0.348692</td>\n",
       "      <td>1.213767</td>\n",
       "    </tr>\n",
       "    <tr>\n",
       "      <th>17</th>\n",
       "      <td>202</td>\n",
       "      <td>42.8</td>\n",
       "      <td>72</td>\n",
       "      <td>1</td>\n",
       "      <td>3.929727</td>\n",
       "      <td>5.451042</td>\n",
       "      <td>0.940531</td>\n",
       "      <td>0.359966</td>\n",
       "      <td>2.059974</td>\n",
       "    </tr>\n",
       "    <tr>\n",
       "      <th>18</th>\n",
       "      <td>197</td>\n",
       "      <td>29.1</td>\n",
       "      <td>69</td>\n",
       "      <td>1</td>\n",
       "      <td>3.602503</td>\n",
       "      <td>5.715839</td>\n",
       "      <td>0.940531</td>\n",
       "      <td>0.346416</td>\n",
       "      <td>1.380107</td>\n",
       "    </tr>\n",
       "    <tr>\n",
       "      <th>19</th>\n",
       "      <td>184</td>\n",
       "      <td>33.9</td>\n",
       "      <td>60</td>\n",
       "      <td>1</td>\n",
       "      <td>4.162074</td>\n",
       "      <td>4.829191</td>\n",
       "      <td>0.943848</td>\n",
       "      <td>0.341855</td>\n",
       "      <td>0.988286</td>\n",
       "    </tr>\n",
       "  </tbody>\n",
       "</table>\n",
       "</div>"
      ],
      "text/plain": [
       "    weight   bmi  cardio_stress_test  zeta_disease  age_boxcox  \\\n",
       "0      151  39.5                  56             0    3.470650   \n",
       "1      179  35.5                  43             1    3.602503   \n",
       "2      147  26.9                  53             0    3.864148   \n",
       "3      206  32.4                  61             1    3.897372   \n",
       "4      193  29.8                  65             1    4.527369   \n",
       "5      120  36.5                  54             0    4.188295   \n",
       "6      139  38.2                  68             0    3.269141   \n",
       "7      137  31.2                  59             0    3.423324   \n",
       "8      195  30.5                  59             1    3.929727   \n",
       "9      193  25.8                  50             0    3.213042   \n",
       "10     216  34.7                  58             1    4.239143   \n",
       "11     200  30.4                  60             1    4.051315   \n",
       "12     154  46.5                  68             0    3.322748   \n",
       "13     196  31.3                  66             1    4.357921   \n",
       "14     181  37.4                  80             1    3.721513   \n",
       "15     213  26.5                  55             1    4.213977   \n",
       "16     173  50.7                  83             1    3.683112   \n",
       "17     202  42.8                  72             1    3.929727   \n",
       "18     197  29.1                  69             1    3.602503   \n",
       "19     184  33.9                  60             1    4.162074   \n",
       "\n",
       "    insulin_test_boxcox  blood_pressure_boxcox  liver_stress_test_boxcox  \\\n",
       "0              4.195325               0.940059                  0.345031   \n",
       "1              4.924471               0.942594                  0.354462   \n",
       "2              4.221161               0.941100                  0.355471   \n",
       "3              4.730599               0.940679                  0.347656   \n",
       "4              5.120038               0.938781                  0.357711   \n",
       "5              3.851832               0.944122                  0.340436   \n",
       "6              4.258637               0.938574                  0.351999   \n",
       "7              4.208331               0.940221                  0.345878   \n",
       "8              4.829191               0.938139                  0.347223   \n",
       "9              4.113297               0.942075                  0.358061   \n",
       "10             5.005440               0.940221                  0.356245   \n",
       "11             4.737995               0.940059                  0.341129   \n",
       "12             4.684961               0.942495                  0.337940   \n",
       "13             4.988668               0.942691                  0.361029   \n",
       "14             4.930492               0.942968                  0.363504   \n",
       "15             4.774125               0.940221                  0.348351   \n",
       "16             5.252408               0.942785                  0.348692   \n",
       "17             5.451042               0.940531                  0.359966   \n",
       "18             5.715839               0.940531                  0.346416   \n",
       "19             4.829191               0.943848                  0.341855   \n",
       "\n",
       "    years_smoking_boxcox  \n",
       "0               1.380107  \n",
       "1               1.617554  \n",
       "2               0.988286  \n",
       "3               1.617554  \n",
       "4               1.852717  \n",
       "5               2.015493  \n",
       "6               1.213767  \n",
       "7               1.707526  \n",
       "8               1.617554  \n",
       "9               1.213767  \n",
       "10              1.707526  \n",
       "11              1.213767  \n",
       "12              1.380107  \n",
       "13              1.912821  \n",
       "14              1.510714  \n",
       "15              2.015493  \n",
       "16              1.213767  \n",
       "17              2.059974  \n",
       "18              1.380107  \n",
       "19              0.988286  "
      ]
     },
     "execution_count": 295,
     "metadata": {},
     "output_type": "execute_result"
    }
   ],
   "source": [
    "df_test"
   ]
  },
  {
   "cell_type": "code",
   "execution_count": null,
   "metadata": {},
   "outputs": [],
   "source": []
  }
 ],
 "metadata": {
  "kernelspec": {
   "display_name": "Python 3",
   "language": "python",
   "name": "python3"
  },
  "language_info": {
   "codemirror_mode": {
    "name": "ipython",
    "version": 3
   },
   "file_extension": ".py",
   "mimetype": "text/x-python",
   "name": "python",
   "nbconvert_exporter": "python",
   "pygments_lexer": "ipython3",
   "version": "3.6.7"
  }
 },
 "nbformat": 4,
 "nbformat_minor": 4
}
