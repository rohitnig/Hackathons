{
 "cells": [
  {
   "cell_type": "code",
   "execution_count": 1,
   "metadata": {},
   "outputs": [],
   "source": [
    "import pandas as pd\n",
    "import numpy as np\n",
    "import matplotlib.pyplot as plt\n",
    "import seaborn as sns"
   ]
  },
  {
   "cell_type": "code",
   "execution_count": 2,
   "metadata": {},
   "outputs": [],
   "source": [
    "pd.options.display.max_columns = 100"
   ]
  },
  {
   "cell_type": "code",
   "execution_count": 3,
   "metadata": {},
   "outputs": [],
   "source": [
    "train = pd.read_csv('Train.csv')"
   ]
  },
  {
   "cell_type": "code",
   "execution_count": 4,
   "metadata": {},
   "outputs": [],
   "source": [
    "cancel_rules = train['Cancellation Rules'].unique().tolist()\n",
    "cancel_map = { s: chr(ord('a')+i)  for (i, s) in enumerate(cancel_rules) }\n",
    "train['cancel_rule_id'] = train['Cancellation Rules'].map(cancel_map)"
   ]
  },
  {
   "cell_type": "code",
   "execution_count": 5,
   "metadata": {},
   "outputs": [],
   "source": [
    "def get_stay_length(rec):\n",
    "    place_list = rec.split(' . ')\n",
    "    stay_length = sum([int(n[0]) for n in place_list])\n",
    "    return stay_length\n",
    "train['stay_length'] = train.Itinerary.apply(get_stay_length)"
   ]
  },
  {
   "cell_type": "code",
   "execution_count": 6,
   "metadata": {},
   "outputs": [],
   "source": [
    "train['count_sightseeing'] = train['Sightseeing Places Covered'].apply(lambda x: len(x.split('|')))"
   ]
  },
  {
   "cell_type": "code",
   "execution_count": 7,
   "metadata": {},
   "outputs": [],
   "source": [
    "train['count_places'] = train['Places Covered'].apply(lambda x: len(x.split('|')))"
   ]
  },
  {
   "cell_type": "code",
   "execution_count": 8,
   "metadata": {},
   "outputs": [],
   "source": [
    "train['travel_month'] = pd.to_datetime(train['Travel Date'], format='%d-%m-%Y').dt.month\n",
    "train['travel_year'] = pd.to_datetime(train['Travel Date'], format='%d-%m-%Y').dt.year"
   ]
  },
  {
   "cell_type": "code",
   "execution_count": 9,
   "metadata": {},
   "outputs": [],
   "source": [
    "train['count_airtravel'] = train.Airline.apply(lambda x: len(x.split('|')))"
   ]
  },
  {
   "cell_type": "code",
   "execution_count": 10,
   "metadata": {
    "scrolled": true
   },
   "outputs": [],
   "source": [
    "train['dummy'] = 1\n",
    "airline_list = list(train.groupby('dummy')['Airline'].apply(set).values[0])\n",
    "\n",
    "airlines = set()\n",
    "for a in airline_list:\n",
    "    a1 = set(a.split('|'))\n",
    "    airlines = airlines.union(a1)"
   ]
  },
  {
   "cell_type": "code",
   "execution_count": 11,
   "metadata": {},
   "outputs": [],
   "source": [
    "for airline_col in list(airlines):\n",
    "    train[airline_col] = 0\n",
    "for i in range(train.shape[0]):\n",
    "    rec = train.at[i, 'Airline']\n",
    "    travel_airlines = list(set(rec.split('|')))\n",
    "    for ta in travel_airlines:\n",
    "        train.at[i, ta] = 1"
   ]
  },
  {
   "cell_type": "code",
   "execution_count": 12,
   "metadata": {},
   "outputs": [],
   "source": [
    "X = train.drop(['Uniq Id', 'Package Name', 'Places Covered'], axis=1)"
   ]
  },
  {
   "cell_type": "code",
   "execution_count": 13,
   "metadata": {},
   "outputs": [],
   "source": [
    "n_map = { '': 0, 'Not Available':9, 'One': 1, 'Two': 2, 'Three': 3, 'Four':4, 'Five':5}"
   ]
  },
  {
   "cell_type": "code",
   "execution_count": 14,
   "metadata": {},
   "outputs": [],
   "source": [
    "def fix(n):\n",
    "    n_map = { 'Not Available':0, '': 0, 'One': 1, 'Two': 2, 'Three': 3, 'Four':4, 'Five':5}\n",
    "    ret_value = n_map.get(n)\n",
    "    if ret_value is None:\n",
    "        return float(n)\n",
    "    else:\n",
    "        return ret_value\n",
    "\n",
    "def mean(l):\n",
    "    nozero = [i for i in l if i!=0 ]\n",
    "    if len(nozero) == 0:\n",
    "        return 0\n",
    "    nozero_mean = sum(nozero)/len(nozero)\n",
    "    nozero_l = [i if i!= 0 else nozero_mean for i in l ]\n",
    "\n",
    "    return np.round(sum(nozero_l)/len(nozero_l), 2)"
   ]
  },
  {
   "cell_type": "code",
   "execution_count": 15,
   "metadata": {},
   "outputs": [],
   "source": [
    "X['mean_hotel_rating'] = X['Hotel Details'].apply(lambda x: x.split('|')).\\\n",
    "                   apply(lambda x: [p.split(':')[-1] for p in x] ).\\\n",
    "                   apply(lambda x: mean([fix(i) for i in x]) )"
   ]
  },
  {
   "cell_type": "code",
   "execution_count": 16,
   "metadata": {},
   "outputs": [],
   "source": [
    "X['count_hotel'] = X['Hotel Details'].apply(lambda x: len(x.split('|')))"
   ]
  },
  {
   "cell_type": "code",
   "execution_count": 17,
   "metadata": {},
   "outputs": [],
   "source": [
    "X['destination_first'] = X.Destination.apply(lambda x: x.split('|')[0])\n",
    "X['destination_last'] = X.Destination.apply(lambda x: x.split('|')[-1])"
   ]
  },
  {
   "cell_type": "code",
   "execution_count": 18,
   "metadata": {},
   "outputs": [],
   "source": [
    "X_final = X.drop(['Travel Date', 'Destination', 'Itinerary', 'Airline', \n",
    "                  'Sightseeing Places Covered', 'Cancellation Rules', 'Hotel Details'], axis=1)"
   ]
  },
  {
   "cell_type": "code",
   "execution_count": 19,
   "metadata": {},
   "outputs": [],
   "source": [
    "cat_cols = ['Package Type', 'cancel_rule_id', 'destination_first', 'destination_last', 'Start City']\n",
    "num_cols = set(X_final.columns) - set(cat_cols) - {'Per Person Price', 'logPrice', 'dummy'}"
   ]
  },
  {
   "cell_type": "code",
   "execution_count": 20,
   "metadata": {},
   "outputs": [],
   "source": [
    "X_final['logPrice'] = np.log(X_final['Per Person Price'])\n",
    "upPrice = np.quantile(X_final.logPrice, 0.98)\n",
    "downPrice = np.quantile(X_final.logPrice, 0.02)\n",
    "X_final.loc[X_final.logPrice>upPrice, 'logPrice'] = upPrice\n",
    "X_final.loc[X_final.logPrice<downPrice, 'logPrice'] = downPrice"
   ]
  },
  {
   "cell_type": "code",
   "execution_count": 21,
   "metadata": {},
   "outputs": [],
   "source": [
    "import category_encoders as ce"
   ]
  },
  {
   "cell_type": "code",
   "execution_count": 22,
   "metadata": {},
   "outputs": [],
   "source": [
    "df = pd.concat([X_final[num_cols], ce.CountEncoder().fit_transform(X_final[cat_cols])], axis=1)\n",
    "y = X_final.logPrice"
   ]
  },
  {
   "cell_type": "code",
   "execution_count": 23,
   "metadata": {},
   "outputs": [],
   "source": [
    "from sklearn.model_selection import train_test_split\n",
    "from sklearn.ensemble import ExtraTreesRegressor, RandomForestRegressor, AdaBoostRegressor, GradientBoostingRegressor\n",
    "from catboost import CatBoostRegressor\n",
    "\n",
    "X_train, X_test, y_train, y_test = train_test_split(df, y, test_size=0.2, stratify = df.cancel_rule_id)"
   ]
  },
  {
   "cell_type": "code",
   "execution_count": 24,
   "metadata": {},
   "outputs": [
    {
     "name": "stdout",
     "output_type": "stream",
     "text": [
      "0.8655945174680734\n",
      "0.87983726985872\n",
      "0.6253964800579538\n",
      "0.8040618264257801\n",
      "0.8785263785591156\n"
     ]
    }
   ],
   "source": [
    "for algo in (ExtraTreesRegressor(), RandomForestRegressor(), \n",
    "             AdaBoostRegressor(), GradientBoostingRegressor(), CatBoostRegressor(verbose=0)):\n",
    "    algo.fit(X_train, y_train)\n",
    "    print (algo.score(X_test, y_test))"
   ]
  },
  {
   "cell_type": "code",
   "execution_count": 25,
   "metadata": {},
   "outputs": [],
   "source": [
    "rf_model = RandomForestRegressor().fit(X_train, y_train)"
   ]
  },
  {
   "cell_type": "code",
   "execution_count": 26,
   "metadata": {},
   "outputs": [
    {
     "data": {
      "text/plain": [
       "<AxesSubplot:xlabel='Importance', ylabel='Feature'>"
      ]
     },
     "execution_count": 26,
     "metadata": {},
     "output_type": "execute_result"
    },
    {
     "data": {
      "image/png": "[encoded data removed]",
      "text/plain": [
       "<Figure size 432x288 with 1 Axes>"
      ]
     },
     "metadata": {
      "needs_background": "light"
     },
     "output_type": "display_data"
    }
   ],
   "source": [
    "df_importance = pd.DataFrame( rf_model.feature_importances_, columns=['Importance'] )\n",
    "df_importance['Feature'] = X_train.columns.tolist()\n",
    "df_importance.sort_values(by='Importance', ascending=False, inplace=True)\n",
    "sns.barplot(x='Importance', y='Feature', data=df_importance.head(10))"
   ]
  },
  {
   "cell_type": "code",
   "execution_count": 27,
   "metadata": {},
   "outputs": [
    {
     "data": {
      "text/plain": [
       "0.17980628756859776"
      ]
     },
     "execution_count": 27,
     "metadata": {},
     "output_type": "execute_result"
    }
   ],
   "source": [
    "from sklearn.metrics import mean_squared_log_error\n",
    "np.sqrt(mean_squared_log_error(\n",
    "        np.exp(y_test), \n",
    "        np.exp(rf_model.predict(X_test))))"
   ]
  },
  {
   "cell_type": "markdown",
   "metadata": {},
   "source": [
    "---"
   ]
  },
  {
   "cell_type": "code",
   "execution_count": 28,
   "metadata": {},
   "outputs": [],
   "source": [
    "df['day_per_location'] = df.count_places / df.stay_length\n",
    "\n",
    "#df['total_meals'] = df.Meals * df.stay_length\n",
    "\n",
    "df['houseboat'] = 0\n",
    "df['by_bus'] = 0\n",
    "df['self_drive'] = 0\n",
    "df['drive'] = 0\n",
    "df['international'] = 0\n",
    "\n",
    "df.loc[train['Package Name'].str.contains('Houseboat'), 'houseboat'] = 1\n",
    "df.loc[train['Package Name'].str.contains(' Bus'), 'by_bus'] = 1\n",
    "df.loc[train['Package Name'].str.contains('Self Drive'), 'self_drive'] = 1\n",
    "df.loc[train['Package Name'].str.contains('Drive'), 'drive'] = 1\n",
    "\n",
    "df.loc[train['Package Name'].\\\n",
    "           str.contains('New Zeland|Sri Lanka|Abu Dhabi|Dubai|Copenhagen|Moscow|Singapore|Malaysia|Thailand|Bangkok|Phuket|Bali|Kuala Lumpur'), \n",
    "       'international'] = 1\n"
   ]
  },
  {
   "cell_type": "code",
   "execution_count": 29,
   "metadata": {},
   "outputs": [
    {
     "name": "stdout",
     "output_type": "stream",
     "text": [
      "0.86 0.19\n",
      "0.88 0.18\n",
      "0.8 0.23\n",
      "0.87 0.18\n"
     ]
    }
   ],
   "source": [
    "X_train, X_test, y_train, y_test = train_test_split(df, y, test_size=0.2, stratify = df.cancel_rule_id)\n",
    "for algo in (ExtraTreesRegressor(), RandomForestRegressor(), \n",
    "             GradientBoostingRegressor(), CatBoostRegressor(verbose=0)):\n",
    "    algo.fit(X_train, y_train)\n",
    "    print (np.round(algo.score(X_test, y_test), 2), \n",
    "           np.round(np.sqrt(mean_squared_log_error(np.exp(y_test), np.exp(algo.predict(X_test)))), 2))"
   ]
  },
  {
   "cell_type": "code",
   "execution_count": 30,
   "metadata": {},
   "outputs": [],
   "source": [
    "from sklearn.ensemble import VotingRegressor\n",
    "\n",
    "models = [ ('ext', ExtraTreesRegressor()), ('rf', RandomForestRegressor()), ('grd', GradientBoostingRegressor()),\n",
    "           ('cat', CatBoostRegressor(verbose=0))]\n",
    "\n",
    "vot_model = VotingRegressor(models).fit(X_train, y_train)"
   ]
  },
  {
   "cell_type": "code",
   "execution_count": 31,
   "metadata": {},
   "outputs": [
    {
     "name": "stdout",
     "output_type": "stream",
     "text": [
      "0.87 0.18\n"
     ]
    }
   ],
   "source": [
    "print (np.round(vot_model.score(X_test, y_test), 2), \n",
    "           np.round(np.sqrt(mean_squared_log_error(np.exp(y_test), np.exp(vot_model.predict(X_test)))), 2))"
   ]
  },
  {
   "cell_type": "code",
   "execution_count": 48,
   "metadata": {},
   "outputs": [],
   "source": [
    "extra_info = train['Package Name'] + '. ' + train['Sightseeing Places Covered']"
   ]
  },
  {
   "cell_type": "code",
   "execution_count": 49,
   "metadata": {},
   "outputs": [],
   "source": [
    "from sklearn.feature_extraction.text import CountVectorizer\n",
    "vect = CountVectorizer()\n",
    "vect_info = vect.fit_transform(extra_info)"
   ]
  },
  {
   "cell_type": "code",
   "execution_count": 51,
   "metadata": {},
   "outputs": [],
   "source": [
    "df_info = pd.DataFrame(vect_info.todense(), columns = ['info_' + s for s in vect.get_feature_names()])"
   ]
  },
  {
   "cell_type": "code",
   "execution_count": 54,
   "metadata": {},
   "outputs": [],
   "source": [
    "df_big = pd.concat([df, df_info], axis=1)"
   ]
  },
  {
   "cell_type": "code",
   "execution_count": 55,
   "metadata": {},
   "outputs": [
    {
     "name": "stdout",
     "output_type": "stream",
     "text": [
      "0.87 0.19\n",
      "0.89 0.17\n",
      "0.83 0.22\n",
      "0.89 0.17\n"
     ]
    }
   ],
   "source": [
    "X_train, X_test, y_train, y_test = train_test_split(df_big, y, test_size=0.2, stratify = df.cancel_rule_id)\n",
    "for algo in (ExtraTreesRegressor(), RandomForestRegressor(), \n",
    "             GradientBoostingRegressor(), CatBoostRegressor(verbose=0)):\n",
    "    algo.fit(X_train, y_train)\n",
    "    print (np.round(algo.score(X_test, y_test), 2), \n",
    "           np.round(np.sqrt(mean_squared_log_error(np.exp(y_test), np.exp(algo.predict(X_test)))), 2))"
   ]
  },
  {
   "cell_type": "code",
   "execution_count": null,
   "metadata": {},
   "outputs": [],
   "source": []
  }
 ],
 "metadata": {
  "kernelspec": {
   "display_name": "Python 3",
   "language": "python",
   "name": "python3"
  },
  "language_info": {
   "codemirror_mode": {
    "name": "ipython",
    "version": 3
   },
   "file_extension": ".py",
   "mimetype": "text/x-python",
   "name": "python",
   "nbconvert_exporter": "python",
   "pygments_lexer": "ipython3",
   "version": "3.6.7"
  }
 },
 "nbformat": 4,
 "nbformat_minor": 4
}
