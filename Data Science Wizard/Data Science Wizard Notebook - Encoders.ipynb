{
 "cells": [
  {
   "cell_type": "code",
   "execution_count": 4,
   "metadata": {},
   "outputs": [],
   "source": [
    "import pandas as pd\n",
    "import numpy as np\n",
    "import seaborn as sns\n",
    "import matplotlib.pyplot as plt"
   ]
  },
  {
   "cell_type": "code",
   "execution_count": 5,
   "metadata": {},
   "outputs": [],
   "source": [
    "import warnings\n",
    "warnings.filterwarnings(\"ignore\")"
   ]
  },
  {
   "cell_type": "code",
   "execution_count": 6,
   "metadata": {},
   "outputs": [],
   "source": [
    "from sklearn.ensemble import RandomForestClassifier, ExtraTreesClassifier"
   ]
  },
  {
   "cell_type": "code",
   "execution_count": 7,
   "metadata": {},
   "outputs": [],
   "source": [
    "from sklearn.preprocessing import StandardScaler\n",
    "from sklearn.model_selection import train_test_split"
   ]
  },
  {
   "cell_type": "code",
   "execution_count": 8,
   "metadata": {},
   "outputs": [],
   "source": [
    "from sklearn.metrics import classification_report, confusion_matrix"
   ]
  },
  {
   "cell_type": "code",
   "execution_count": 77,
   "metadata": {},
   "outputs": [],
   "source": [
    "from category_encoders import CountEncoder as ce, TargetEncoder as te, OneHotEncoder as oe\n",
    "from category_encoders.cat_boost import CatBoostEncoder as cate\n",
    "from category_encoders.james_stein import JamesSteinEncoder as je\n",
    "from category_encoders.woe import WOEEncoder as we\n",
    "from category_encoders.polynomial import PolynomialEncoder as pe"
   ]
  },
  {
   "cell_type": "code",
   "execution_count": 10,
   "metadata": {},
   "outputs": [
    {
     "name": "stdout",
     "output_type": "stream",
     "text": [
      "<class 'pandas.core.frame.DataFrame'>\n",
      "RangeIndex: 8000 entries, 0 to 7999\n",
      "Data columns (total 6 columns):\n",
      " #   Column             Non-Null Count  Dtype  \n",
      "---  ------             --------------  -----  \n",
      " 0   item_no            8000 non-null   int64  \n",
      " 1   category           8000 non-null   object \n",
      " 2   main_promotion     8000 non-null   object \n",
      " 3   color              8000 non-null   object \n",
      " 4   stars              8000 non-null   float64\n",
      " 5   success_indicator  8000 non-null   object \n",
      "dtypes: float64(1), int64(1), object(4)\n",
      "memory usage: 375.1+ KB\n"
     ]
    }
   ],
   "source": [
    "train = pd.read_csv('historic.csv')\n",
    "train.info()"
   ]
  },
  {
   "cell_type": "code",
   "execution_count": 11,
   "metadata": {},
   "outputs": [
    {
     "name": "stdout",
     "output_type": "stream",
     "text": [
      "------------------------------ category ------------------------------\n",
      "Tunic         1650\n",
      "Polo-Shirt    1546\n",
      "T-Shirt       1459\n",
      "Sweatshirt    1360\n",
      "Blouse        1246\n",
      "Hoodie         739\n",
      "Name: category, dtype: int64\n",
      "------------------------------ main_promotion ------------------------------\n",
      "Category_Highlight     2432\n",
      "Catalog                2246\n",
      "Frontpage_Header       2013\n",
      "Display_Ad_Campaign    1309\n",
      "Name: main_promotion, dtype: int64\n",
      "------------------------------ color ------------------------------\n",
      "Multi-Color    1443\n",
      "Blue           1244\n",
      "Yellow         1056\n",
      "Black           812\n",
      "Red             776\n",
      "Green           728\n",
      "Orange          592\n",
      "Brown           585\n",
      "Pink            412\n",
      "White           352\n",
      "Name: color, dtype: int64\n"
     ]
    }
   ],
   "source": [
    "for col in ['category', 'main_promotion', 'color']:\n",
    "    print ('-' * 30, col, '-'*30)\n",
    "    print (train[col].value_counts())\n",
    "    "
   ]
  },
  {
   "cell_type": "code",
   "execution_count": 12,
   "metadata": {},
   "outputs": [
    {
     "data": {
      "text/plain": [
       "<AxesSubplot:xlabel='success_indicator', ylabel='count'>"
      ]
     },
     "execution_count": 12,
     "metadata": {},
     "output_type": "execute_result"
    },
    {
     "data": {
      "image/png": "[encoded data removed]",
      "text/plain": [
       "<Figure size 432x288 with 1 Axes>"
      ]
     },
     "metadata": {
      "needs_background": "light"
     },
     "output_type": "display_data"
    }
   ],
   "source": [
    "sns.countplot(train.success_indicator)"
   ]
  },
  {
   "cell_type": "code",
   "execution_count": 14,
   "metadata": {},
   "outputs": [],
   "source": [
    "train['Unisex'] = 1\n",
    "train.loc[train.category.isin(['Blouse', 'Tunic']), 'Unisex'] = 0\n",
    "\n",
    "train['Formal'] = 0\n",
    "train.loc[train.color.isin(['Black', 'Blue', 'Brown', 'White']), 'Formal'] = 1\n"
   ]
  },
  {
   "cell_type": "code",
   "execution_count": 15,
   "metadata": {},
   "outputs": [
    {
     "data": {
      "text/html": [
       "<div>\n",
       "<style scoped>\n",
       "    .dataframe tbody tr th:only-of-type {\n",
       "        vertical-align: middle;\n",
       "    }\n",
       "\n",
       "    .dataframe tbody tr th {\n",
       "        vertical-align: top;\n",
       "    }\n",
       "\n",
       "    .dataframe thead th {\n",
       "        text-align: right;\n",
       "    }\n",
       "</style>\n",
       "<table border=\"1\" class=\"dataframe\">\n",
       "  <thead>\n",
       "    <tr style=\"text-align: right;\">\n",
       "      <th></th>\n",
       "      <th>item_no</th>\n",
       "      <th>category</th>\n",
       "      <th>main_promotion</th>\n",
       "      <th>color</th>\n",
       "      <th>stars</th>\n",
       "      <th>success_indicator</th>\n",
       "      <th>Unisex</th>\n",
       "      <th>Formal</th>\n",
       "    </tr>\n",
       "  </thead>\n",
       "  <tbody>\n",
       "    <tr>\n",
       "      <th>1403</th>\n",
       "      <td>324665</td>\n",
       "      <td>Sweatshirt</td>\n",
       "      <td>Catalog</td>\n",
       "      <td>Red</td>\n",
       "      <td>0.9</td>\n",
       "      <td>flop</td>\n",
       "      <td>1</td>\n",
       "      <td>0</td>\n",
       "    </tr>\n",
       "    <tr>\n",
       "      <th>3840</th>\n",
       "      <td>921604</td>\n",
       "      <td>Polo-Shirt</td>\n",
       "      <td>Display_Ad_Campaign</td>\n",
       "      <td>Yellow</td>\n",
       "      <td>5.3</td>\n",
       "      <td>flop</td>\n",
       "      <td>1</td>\n",
       "      <td>0</td>\n",
       "    </tr>\n",
       "    <tr>\n",
       "      <th>4403</th>\n",
       "      <td>280790</td>\n",
       "      <td>Hoodie</td>\n",
       "      <td>Catalog</td>\n",
       "      <td>Green</td>\n",
       "      <td>3.9</td>\n",
       "      <td>flop</td>\n",
       "      <td>1</td>\n",
       "      <td>0</td>\n",
       "    </tr>\n",
       "  </tbody>\n",
       "</table>\n",
       "</div>"
      ],
      "text/plain": [
       "      item_no    category       main_promotion   color  stars  \\\n",
       "1403   324665  Sweatshirt              Catalog     Red    0.9   \n",
       "3840   921604  Polo-Shirt  Display_Ad_Campaign  Yellow    5.3   \n",
       "4403   280790      Hoodie              Catalog   Green    3.9   \n",
       "\n",
       "     success_indicator  Unisex  Formal  \n",
       "1403              flop       1       0  \n",
       "3840              flop       1       0  \n",
       "4403              flop       1       0  "
      ]
     },
     "execution_count": 15,
     "metadata": {},
     "output_type": "execute_result"
    }
   ],
   "source": [
    "train.sample(3)"
   ]
  },
  {
   "cell_type": "code",
   "execution_count": 16,
   "metadata": {},
   "outputs": [],
   "source": [
    "y = train.success_indicator.apply(lambda x: 1 if x=='top' else 0)"
   ]
  },
  {
   "cell_type": "code",
   "execution_count": 78,
   "metadata": {},
   "outputs": [
    {
     "name": "stdout",
     "output_type": "stream",
     "text": [
      "0.8045 0.7865\n"
     ]
    }
   ],
   "source": [
    "encoded = pe().fit_transform(train[['category', 'main_promotion', 'color']], y)\n",
    "X = pd.concat([encoded, train.stars, train.Unisex, train.Formal], axis=1)\n",
    "X_train, X_test, y_train, y_test = train_test_split(X, y, stratify = y, random_state=42)\n",
    "\n",
    "rf_model = RandomForestClassifier(class_weight='balanced', oob_score=True, random_state=42)\n",
    "ex_model = ExtraTreesClassifier(class_weight='balanced', random_state=42)\n",
    "\n",
    "rf_model.fit(X_train, y_train)\n",
    "ex_model.fit(X_train, y_train)\n",
    "\n",
    "print (rf_model.score(X_test, y_test), ex_model.score(X_test, y_test))"
   ]
  },
  {
   "cell_type": "code",
   "execution_count": 79,
   "metadata": {},
   "outputs": [
    {
     "name": "stdout",
     "output_type": "stream",
     "text": [
      "0.8475\n"
     ]
    }
   ],
   "source": [
    "from catboost import CatBoostClassifier\n",
    "cb_model = CatBoostClassifier(verbose=0, auto_class_weights='SqrtBalanced')\n",
    "\n",
    "cb_model.fit(X_train, y_train)\n",
    "print (cb_model.score(X_test, y_test))"
   ]
  },
  {
   "cell_type": "code",
   "execution_count": 76,
   "metadata": {},
   "outputs": [
    {
     "name": "stdout",
     "output_type": "stream",
     "text": [
      "0.819 0.8335\n"
     ]
    }
   ],
   "source": [
    "from sklearn.ensemble import AdaBoostClassifier, GradientBoostingClassifier\n",
    "ada_model = AdaBoostClassifier()\n",
    "grd_model = GradientBoostingClassifier()\n",
    "\n",
    "ada_model.fit(X_train, y_train)\n",
    "grd_model.fit(X_train, y_train)\n",
    "\n",
    "print (ada_model.score(X_test, y_test), grd_model.score(X_test, y_test))"
   ]
  },
  {
   "cell_type": "code",
   "execution_count": null,
   "metadata": {},
   "outputs": [],
   "source": []
  }
 ],
 "metadata": {
  "kernelspec": {
   "display_name": "Python 3",
   "language": "python",
   "name": "python3"
  },
  "language_info": {
   "codemirror_mode": {
    "name": "ipython",
    "version": 3
   },
   "file_extension": ".py",
   "mimetype": "text/x-python",
   "name": "python",
   "nbconvert_exporter": "python",
   "pygments_lexer": "ipython3",
   "version": "3.6.7"
  }
 },
 "nbformat": 4,
 "nbformat_minor": 4
}
