{
 "cells": [
  {
   "cell_type": "code",
   "execution_count": 1,
   "metadata": {},
   "outputs": [],
   "source": [
    "import pandas as pd\n",
    "import numpy as np\n",
    "import seaborn as sns\n",
    "import matplotlib.pyplot as plt"
   ]
  },
  {
   "cell_type": "code",
   "execution_count": 2,
   "metadata": {},
   "outputs": [],
   "source": [
    "import warnings\n",
    "warnings.filterwarnings(\"ignore\")"
   ]
  },
  {
   "cell_type": "code",
   "execution_count": 19,
   "metadata": {},
   "outputs": [],
   "source": [
    "from sklearn.ensemble import RandomForestClassifier, ExtraTreesClassifier"
   ]
  },
  {
   "cell_type": "code",
   "execution_count": 9,
   "metadata": {},
   "outputs": [],
   "source": [
    "from sklearn.preprocessing import StandardScaler\n",
    "from sklearn.model_selection import train_test_split"
   ]
  },
  {
   "cell_type": "code",
   "execution_count": 25,
   "metadata": {},
   "outputs": [],
   "source": [
    "from sklearn.metrics import classification_report, confusion_matrix"
   ]
  },
  {
   "cell_type": "code",
   "execution_count": 4,
   "metadata": {},
   "outputs": [
    {
     "name": "stdout",
     "output_type": "stream",
     "text": [
      "<class 'pandas.core.frame.DataFrame'>\n",
      "RangeIndex: 8000 entries, 0 to 7999\n",
      "Data columns (total 6 columns):\n",
      " #   Column             Non-Null Count  Dtype  \n",
      "---  ------             --------------  -----  \n",
      " 0   item_no            8000 non-null   int64  \n",
      " 1   category           8000 non-null   object \n",
      " 2   main_promotion     8000 non-null   object \n",
      " 3   color              8000 non-null   object \n",
      " 4   stars              8000 non-null   float64\n",
      " 5   success_indicator  8000 non-null   object \n",
      "dtypes: float64(1), int64(1), object(4)\n",
      "memory usage: 375.1+ KB\n"
     ]
    }
   ],
   "source": [
    "train = pd.read_csv('historic.csv')\n",
    "train.info()"
   ]
  },
  {
   "cell_type": "code",
   "execution_count": 41,
   "metadata": {},
   "outputs": [
    {
     "name": "stdout",
     "output_type": "stream",
     "text": [
      "------------------------------ category ------------------------------\n",
      "Tunic         1650\n",
      "Polo-Shirt    1546\n",
      "T-Shirt       1459\n",
      "Sweatshirt    1360\n",
      "Blouse        1246\n",
      "Hoodie         739\n",
      "Name: category, dtype: int64\n",
      "------------------------------ main_promotion ------------------------------\n",
      "Category_Highlight     2432\n",
      "Catalog                2246\n",
      "Frontpage_Header       2013\n",
      "Display_Ad_Campaign    1309\n",
      "Name: main_promotion, dtype: int64\n",
      "------------------------------ color ------------------------------\n",
      "Multi-Color    1443\n",
      "Blue           1244\n",
      "Yellow         1056\n",
      "Black           812\n",
      "Red             776\n",
      "Green           728\n",
      "Orange          592\n",
      "Brown           585\n",
      "Pink            412\n",
      "White           352\n",
      "Name: color, dtype: int64\n"
     ]
    }
   ],
   "source": [
    "for col in ['category', 'main_promotion', 'color']:\n",
    "    print ('-' * 30, col, '-'*30)\n",
    "    print (train[col].value_counts())\n",
    "    "
   ]
  },
  {
   "cell_type": "code",
   "execution_count": 7,
   "metadata": {},
   "outputs": [
    {
     "data": {
      "text/plain": [
       "<AxesSubplot:xlabel='success_indicator', ylabel='count'>"
      ]
     },
     "execution_count": 7,
     "metadata": {},
     "output_type": "execute_result"
    },
    {
     "data": {
      "image/png": "[encoded data removed]",
      "text/plain": [
       "<Figure size 432x288 with 1 Axes>"
      ]
     },
     "metadata": {
      "needs_background": "light"
     },
     "output_type": "display_data"
    }
   ],
   "source": [
    "sns.countplot(train.success_indicator)"
   ]
  },
  {
   "cell_type": "code",
   "execution_count": 28,
   "metadata": {},
   "outputs": [
    {
     "data": {
      "text/html": [
       "<div>\n",
       "<style scoped>\n",
       "    .dataframe tbody tr th:only-of-type {\n",
       "        vertical-align: middle;\n",
       "    }\n",
       "\n",
       "    .dataframe tbody tr th {\n",
       "        vertical-align: top;\n",
       "    }\n",
       "\n",
       "    .dataframe thead th {\n",
       "        text-align: right;\n",
       "    }\n",
       "</style>\n",
       "<table border=\"1\" class=\"dataframe\">\n",
       "  <thead>\n",
       "    <tr style=\"text-align: right;\">\n",
       "      <th></th>\n",
       "      <th>item_no</th>\n",
       "      <th>category</th>\n",
       "      <th>main_promotion</th>\n",
       "      <th>color</th>\n",
       "      <th>stars</th>\n",
       "      <th>success_indicator</th>\n",
       "    </tr>\n",
       "  </thead>\n",
       "  <tbody>\n",
       "    <tr>\n",
       "      <th>687</th>\n",
       "      <td>698244</td>\n",
       "      <td>T-Shirt</td>\n",
       "      <td>Frontpage_Header</td>\n",
       "      <td>Pink</td>\n",
       "      <td>3.8</td>\n",
       "      <td>top</td>\n",
       "    </tr>\n",
       "    <tr>\n",
       "      <th>1262</th>\n",
       "      <td>478671</td>\n",
       "      <td>Hoodie</td>\n",
       "      <td>Catalog</td>\n",
       "      <td>Yellow</td>\n",
       "      <td>3.7</td>\n",
       "      <td>top</td>\n",
       "    </tr>\n",
       "    <tr>\n",
       "      <th>2493</th>\n",
       "      <td>480065</td>\n",
       "      <td>Hoodie</td>\n",
       "      <td>Category_Highlight</td>\n",
       "      <td>Blue</td>\n",
       "      <td>2.8</td>\n",
       "      <td>top</td>\n",
       "    </tr>\n",
       "    <tr>\n",
       "      <th>4081</th>\n",
       "      <td>665085</td>\n",
       "      <td>Polo-Shirt</td>\n",
       "      <td>Catalog</td>\n",
       "      <td>Yellow</td>\n",
       "      <td>5.3</td>\n",
       "      <td>top</td>\n",
       "    </tr>\n",
       "    <tr>\n",
       "      <th>3550</th>\n",
       "      <td>233489</td>\n",
       "      <td>Tunic</td>\n",
       "      <td>Category_Highlight</td>\n",
       "      <td>Brown</td>\n",
       "      <td>3.6</td>\n",
       "      <td>top</td>\n",
       "    </tr>\n",
       "    <tr>\n",
       "      <th>7993</th>\n",
       "      <td>632652</td>\n",
       "      <td>T-Shirt</td>\n",
       "      <td>Catalog</td>\n",
       "      <td>Blue</td>\n",
       "      <td>3.2</td>\n",
       "      <td>top</td>\n",
       "    </tr>\n",
       "    <tr>\n",
       "      <th>3477</th>\n",
       "      <td>851256</td>\n",
       "      <td>Polo-Shirt</td>\n",
       "      <td>Frontpage_Header</td>\n",
       "      <td>Yellow</td>\n",
       "      <td>2.1</td>\n",
       "      <td>flop</td>\n",
       "    </tr>\n",
       "    <tr>\n",
       "      <th>4857</th>\n",
       "      <td>239333</td>\n",
       "      <td>Tunic</td>\n",
       "      <td>Category_Highlight</td>\n",
       "      <td>Multi-Color</td>\n",
       "      <td>4.0</td>\n",
       "      <td>top</td>\n",
       "    </tr>\n",
       "    <tr>\n",
       "      <th>4082</th>\n",
       "      <td>801786</td>\n",
       "      <td>Polo-Shirt</td>\n",
       "      <td>Frontpage_Header</td>\n",
       "      <td>Yellow</td>\n",
       "      <td>2.5</td>\n",
       "      <td>flop</td>\n",
       "    </tr>\n",
       "    <tr>\n",
       "      <th>6003</th>\n",
       "      <td>176775</td>\n",
       "      <td>Sweatshirt</td>\n",
       "      <td>Frontpage_Header</td>\n",
       "      <td>Black</td>\n",
       "      <td>5.9</td>\n",
       "      <td>top</td>\n",
       "    </tr>\n",
       "  </tbody>\n",
       "</table>\n",
       "</div>"
      ],
      "text/plain": [
       "      item_no    category      main_promotion        color  stars  \\\n",
       "687    698244     T-Shirt    Frontpage_Header         Pink    3.8   \n",
       "1262   478671      Hoodie             Catalog       Yellow    3.7   \n",
       "2493   480065      Hoodie  Category_Highlight         Blue    2.8   \n",
       "4081   665085  Polo-Shirt             Catalog       Yellow    5.3   \n",
       "3550   233489       Tunic  Category_Highlight        Brown    3.6   \n",
       "7993   632652     T-Shirt             Catalog         Blue    3.2   \n",
       "3477   851256  Polo-Shirt    Frontpage_Header       Yellow    2.1   \n",
       "4857   239333       Tunic  Category_Highlight  Multi-Color    4.0   \n",
       "4082   801786  Polo-Shirt    Frontpage_Header       Yellow    2.5   \n",
       "6003   176775  Sweatshirt    Frontpage_Header        Black    5.9   \n",
       "\n",
       "     success_indicator  \n",
       "687                top  \n",
       "1262               top  \n",
       "2493               top  \n",
       "4081               top  \n",
       "3550               top  \n",
       "7993               top  \n",
       "3477              flop  \n",
       "4857               top  \n",
       "4082              flop  \n",
       "6003               top  "
      ]
     },
     "execution_count": 28,
     "metadata": {},
     "output_type": "execute_result"
    }
   ],
   "source": [
    "train.sample(10)"
   ]
  },
  {
   "cell_type": "code",
   "execution_count": 36,
   "metadata": {},
   "outputs": [],
   "source": [
    "train['Unisex'] = 1\n",
    "train.loc[train.category.isin(['Blouse', 'Tunic']), 'Unisex'] = 0\n",
    "\n",
    "train['Formal'] = 0\n",
    "train.loc[train.color.isin(['Black', 'Blue', 'Brown', 'White']), 'Formal'] = 1\n"
   ]
  },
  {
   "cell_type": "code",
   "execution_count": 37,
   "metadata": {},
   "outputs": [
    {
     "data": {
      "text/html": [
       "<div>\n",
       "<style scoped>\n",
       "    .dataframe tbody tr th:only-of-type {\n",
       "        vertical-align: middle;\n",
       "    }\n",
       "\n",
       "    .dataframe tbody tr th {\n",
       "        vertical-align: top;\n",
       "    }\n",
       "\n",
       "    .dataframe thead th {\n",
       "        text-align: right;\n",
       "    }\n",
       "</style>\n",
       "<table border=\"1\" class=\"dataframe\">\n",
       "  <thead>\n",
       "    <tr style=\"text-align: right;\">\n",
       "      <th></th>\n",
       "      <th>item_no</th>\n",
       "      <th>category</th>\n",
       "      <th>main_promotion</th>\n",
       "      <th>color</th>\n",
       "      <th>stars</th>\n",
       "      <th>success_indicator</th>\n",
       "      <th>Unisex</th>\n",
       "      <th>Formal</th>\n",
       "    </tr>\n",
       "  </thead>\n",
       "  <tbody>\n",
       "    <tr>\n",
       "      <th>3377</th>\n",
       "      <td>374235</td>\n",
       "      <td>Polo-Shirt</td>\n",
       "      <td>Catalog</td>\n",
       "      <td>Green</td>\n",
       "      <td>4.4</td>\n",
       "      <td>top</td>\n",
       "      <td>1</td>\n",
       "      <td>0</td>\n",
       "    </tr>\n",
       "    <tr>\n",
       "      <th>7371</th>\n",
       "      <td>858330</td>\n",
       "      <td>T-Shirt</td>\n",
       "      <td>Category_Highlight</td>\n",
       "      <td>Multi-Color</td>\n",
       "      <td>2.9</td>\n",
       "      <td>top</td>\n",
       "      <td>1</td>\n",
       "      <td>0</td>\n",
       "    </tr>\n",
       "    <tr>\n",
       "      <th>2504</th>\n",
       "      <td>511969</td>\n",
       "      <td>Tunic</td>\n",
       "      <td>Display_Ad_Campaign</td>\n",
       "      <td>Black</td>\n",
       "      <td>2.3</td>\n",
       "      <td>flop</td>\n",
       "      <td>0</td>\n",
       "      <td>1</td>\n",
       "    </tr>\n",
       "  </tbody>\n",
       "</table>\n",
       "</div>"
      ],
      "text/plain": [
       "      item_no    category       main_promotion        color  stars  \\\n",
       "3377   374235  Polo-Shirt              Catalog        Green    4.4   \n",
       "7371   858330     T-Shirt   Category_Highlight  Multi-Color    2.9   \n",
       "2504   511969       Tunic  Display_Ad_Campaign        Black    2.3   \n",
       "\n",
       "     success_indicator  Unisex  Formal  \n",
       "3377               top       1       0  \n",
       "7371               top       1       0  \n",
       "2504              flop       0       1  "
      ]
     },
     "execution_count": 37,
     "metadata": {},
     "output_type": "execute_result"
    }
   ],
   "source": [
    "train.sample(3)"
   ]
  },
  {
   "cell_type": "code",
   "execution_count": 13,
   "metadata": {},
   "outputs": [],
   "source": [
    "y = train.success_indicator.apply(lambda x: 1 if x=='top' else 0)"
   ]
  },
  {
   "cell_type": "code",
   "execution_count": 8,
   "metadata": {},
   "outputs": [
    {
     "data": {
      "text/plain": [
       "<AxesSubplot:xlabel='stars'>"
      ]
     },
     "execution_count": 8,
     "metadata": {},
     "output_type": "execute_result"
    },
    {
     "data": {
      "image/png": "[encoded data removed]",
      "text/plain": [
       "<Figure size 432x288 with 1 Axes>"
      ]
     },
     "metadata": {
      "needs_background": "light"
     },
     "output_type": "display_data"
    }
   ],
   "source": [
    "sns.boxplot(train.stars)"
   ]
  },
  {
   "cell_type": "code",
   "execution_count": 47,
   "metadata": {},
   "outputs": [
    {
     "name": "stdout",
     "output_type": "stream",
     "text": [
      "0.804 0.7875\n"
     ]
    }
   ],
   "source": [
    "X = pd.concat([pd.get_dummies(train[['category', 'main_promotion', 'color']]), \n",
    "               train.stars, train.Unisex, train.Formal\n",
    "              ], axis=1)\n",
    "X_train, X_test, y_train, y_test = train_test_split(X, y, stratify = y, random_state=42)\n",
    "\n",
    "rf_model = RandomForestClassifier(class_weight='balanced', oob_score=True, random_state=42)\n",
    "ex_model = ExtraTreesClassifier(class_weight='balanced', random_state=42)\n",
    "\n",
    "rf_model.fit(X_train, y_train)\n",
    "ex_model.fit(X_train, y_train)\n",
    "\n",
    "print (rf_model.score(X_test, y_test), ex_model.score(X_test, y_test))"
   ]
  },
  {
   "cell_type": "code",
   "execution_count": 48,
   "metadata": {},
   "outputs": [
    {
     "name": "stdout",
     "output_type": "stream",
     "text": [
      "              precision    recall  f1-score   support\n",
      "\n",
      "           0       0.72      0.73      0.72       704\n",
      "           1       0.85      0.85      0.85      1296\n",
      "\n",
      "    accuracy                           0.80      2000\n",
      "   macro avg       0.79      0.79      0.79      2000\n",
      "weighted avg       0.80      0.80      0.80      2000\n",
      "\n"
     ]
    }
   ],
   "source": [
    "print (classification_report (y_test, rf_model.predict(X_test)))"
   ]
  },
  {
   "cell_type": "code",
   "execution_count": null,
   "metadata": {},
   "outputs": [],
   "source": []
  }
 ],
 "metadata": {
  "kernelspec": {
   "display_name": "Python 3",
   "language": "python",
   "name": "python3"
  },
  "language_info": {
   "codemirror_mode": {
    "name": "ipython",
    "version": 3
   },
   "file_extension": ".py",
   "mimetype": "text/x-python",
   "name": "python",
   "nbconvert_exporter": "python",
   "pygments_lexer": "ipython3",
   "version": "3.6.7"
  }
 },
 "nbformat": 4,
 "nbformat_minor": 4
}
